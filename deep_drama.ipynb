{
 "cells": [
  {
   "cell_type": "markdown",
   "metadata": {},
   "source": [
    "# Deep drama\n",
    "\n",
    "Here, we write 21. century classical Greek drama based on the works of Sophocles, Euripides, Aristophanes and Aischylos. \n",
    "\n",
    "For this we regress a single character on a vector of previous characters using a sequence model (a long short-term memory model). \n",
    "The trained network is then used to predict a new sequence of characters, i.e. to hopefully write classical Greek drama for us."
   ]
  },
  {
   "cell_type": "code",
   "execution_count": 1,
   "metadata": {},
   "outputs": [],
   "source": [
    "library(keras)\n",
    "library(readr)\n",
    "library(stringr)\n",
    "library(purrr)\n",
    "library(tokenizers)\n",
    "library(gutenbergr)\n",
    "suppressMessages(library(dplyr))"
   ]
  },
  {
   "cell_type": "markdown",
   "metadata": {},
   "source": [
    "The dramas are downloaded from the Gutenberg project for which we can use the `gutenbergr` package."
   ]
  },
  {
   "cell_type": "code",
   "execution_count": 2,
   "metadata": {},
   "outputs": [
    {
     "data": {
      "text/html": [
       "<table>\n",
       "<thead><tr><th scope=col>gutenberg_id</th><th scope=col>title</th><th scope=col>author</th><th scope=col>gutenberg_author_id</th><th scope=col>language</th><th scope=col>gutenberg_bookshelf</th><th scope=col>rights</th><th scope=col>has_text</th></tr></thead>\n",
       "<tbody>\n",
       "\t<tr><td>   31                                                                                     </td><td>Plays of Sophocles: Oedipus the King; Oedipus at Colonus; Antigone                        </td><td>Sophocles                                                                                 </td><td>  26                                                                                      </td><td>en                                                                                        </td><td>Harvard Classics/Best Books Ever Listings/Plays                                           </td><td>Public domain in the USA.                                                                 </td><td>TRUE                                                                                      </td></tr>\n",
       "\t<tr><td> 2562                                                                                     </td><td>The Clouds                                                                                </td><td>Aristophanes                                                                              </td><td> 965                                                                                      </td><td>en                                                                                        </td><td>Classical Antiquity/Banned Books from Anne Haight's list                                  </td><td>Public domain in the USA.                                                                 </td><td>TRUE                                                                                      </td></tr>\n",
       "\t<tr><td> 2571                                                                                     </td><td>Peace                                                                                     </td><td>Aristophanes                                                                              </td><td> 965                                                                                      </td><td>en                                                                                        </td><td>Classical Antiquity/One Act Plays                                                         </td><td>Public domain in the USA.                                                                 </td><td>TRUE                                                                                      </td></tr>\n",
       "\t<tr><td> 3012                                                                                     </td><td>The Acharnians                                                                            </td><td>Aristophanes                                                                              </td><td> 965                                                                                      </td><td>en                                                                                        </td><td>Classical Antiquity                                                                       </td><td>Public domain in the USA.                                                                 </td><td>TRUE                                                                                      </td></tr>\n",
       "\t<tr><td> 3013                                                                                     </td><td>The Birds                                                                                 </td><td>Aristophanes                                                                              </td><td> 965                                                                                      </td><td>en                                                                                        </td><td>One Act Plays/Banned Books from Anne Haight's list/Classical Antiquity                    </td><td>Public domain in the USA.                                                                 </td><td>TRUE                                                                                      </td></tr>\n",
       "\t<tr><td> 5063                                                                                     </td><td>The Iphigenia in Tauris of Euripides                                                      </td><td>Euripides                                                                                 </td><td>1680                                                                                      </td><td>en                                                                                        </td><td>Opera/Classical Antiquity                                                                 </td><td>Public domain in the USA.                                                                 </td><td>TRUE                                                                                      </td></tr>\n",
       "\t<tr><td> 7700                                                                                     </td><td>Lysistrata                                                                                </td><td>Aristophanes                                                                              </td><td> 965                                                                                      </td><td>en                                                                                        </td><td>Classical Antiquity/Banned Books from Anne Haight's list                                  </td><td>Public domain in the USA.                                                                 </td><td>TRUE                                                                                      </td></tr>\n",
       "\t<tr><td> 7998                                                                                     </td><td>The Frogs                                                                                 </td><td>Aristophanes                                                                              </td><td> 965                                                                                      </td><td>en                                                                                        </td><td>Classical Antiquity/Harvard Classics                                                      </td><td>Public domain in the USA.                                                                 </td><td>TRUE                                                                                      </td></tr>\n",
       "\t<tr><td> 8418                                                                                     </td><td>Hippolytus; The Bacchae                                                                   </td><td>Euripides                                                                                 </td><td>1680                                                                                      </td><td>en                                                                                        </td><td>Classical Antiquity/Harvard Classics                                                      </td><td>Public domain in the USA.                                                                 </td><td>TRUE                                                                                      </td></tr>\n",
       "\t<tr><td> 8604                                                                                     </td><td>The House of Atreus; Being the Agamemnon, the Libation bearers, and the Furies            </td><td>Aeschylus                                                                                 </td><td>2825                                                                                      </td><td>en                                                                                        </td><td>Harvard Classics/Classical Antiquity                                                      </td><td>Public domain in the USA.                                                                 </td><td>TRUE                                                                                      </td></tr>\n",
       "\t<tr><td> 8688                                                                                     </td><td>The Eleven Comedies, Volume 1                                                             </td><td>Aristophanes                                                                              </td><td> 965                                                                                      </td><td>en                                                                                        </td><td>Classical Antiquity                                                                       </td><td>Public domain in the USA.                                                                 </td><td>TRUE                                                                                      </td></tr>\n",
       "\t<tr><td> 8689                                                                                     </td><td>The Eleven Comedies, Volume 2                                                             </td><td>Aristophanes                                                                              </td><td> 965                                                                                      </td><td>en                                                                                        </td><td>Classical Antiquity                                                                       </td><td>Public domain in the USA.                                                                 </td><td>TRUE                                                                                      </td></tr>\n",
       "\t<tr><td> 8714                                                                                     </td><td>Four Plays of Aeschylus                                                                   </td><td>Aeschylus                                                                                 </td><td>2825                                                                                      </td><td>en                                                                                        </td><td>Classical Antiquity                                                                       </td><td>Public domain in the USA.                                                                 </td><td>TRUE                                                                                      </td></tr>\n",
       "\t<tr><td>10096                                                                                     </td><td>The Trojan women of Euripides                                                             </td><td>Euripides                                                                                 </td><td>1680                                                                                      </td><td>en                                                                                        </td><td>Classical Antiquity                                                                       </td><td>Public domain in the USA.                                                                 </td><td>TRUE                                                                                      </td></tr>\n",
       "\t<tr><td>10523                                                                                     </td><td>Alcestis                                                                                  </td><td>Euripides                                                                                 </td><td>1680                                                                                      </td><td>en                                                                                        </td><td>Classical Antiquity/Opera                                                                 </td><td>Public domain in the USA.                                                                 </td><td>TRUE                                                                                      </td></tr>\n",
       "\t<tr><td>14322                                                                                     </td><td>The Electra of Euripides\r\n",
       "Translated into English rhyming verse                         </td><td>Euripides                                                                                 </td><td>1680                                                                                      </td><td>en                                                                                        </td><td>Classical Antiquity                                                                       </td><td>Public domain in the USA.                                                                 </td><td>TRUE                                                                                      </td></tr>\n",
       "\t<tr><td>14417                                                                                     </td><td>The Agamemnon of Aeschylus\r\n",
       "Translated into English Rhyming Verse with Explanatory Notes</td><td>Aeschylus                                                                                 </td><td>2825                                                                                      </td><td>en                                                                                        </td><td>Classical Antiquity/Harvard Classics                                                      </td><td>Public domain in the USA.                                                                 </td><td>TRUE                                                                                      </td></tr>\n",
       "\t<tr><td>14484                                                                                     </td><td>The Seven Plays in English Verse                                                          </td><td>Sophocles                                                                                 </td><td>  26                                                                                      </td><td>en                                                                                        </td><td>NA                                                                                        </td><td>Public domain in the USA.                                                                 </td><td>TRUE                                                                                      </td></tr>\n",
       "\t<tr><td>15081                                                                                     </td><td>The Tragedies of Euripides, Volume I.                                                     </td><td>Euripides                                                                                 </td><td>1680                                                                                      </td><td>en                                                                                        </td><td>Best Books Ever Listings                                                                  </td><td>Public domain in the USA.                                                                 </td><td>TRUE                                                                                      </td></tr>\n",
       "\t<tr><td>27458                                                                                     </td><td>Aeschylus' Prometheus Bound and the Seven Against Thebes                                  </td><td>Aeschylus                                                                                 </td><td>2825                                                                                      </td><td>en                                                                                        </td><td>NA                                                                                        </td><td>Public domain in the USA.                                                                 </td><td>TRUE                                                                                      </td></tr>\n",
       "</tbody>\n",
       "</table>\n"
      ],
      "text/latex": [
       "\\begin{tabular}{r|llllllll}\n",
       " gutenberg\\_id & title & author & gutenberg\\_author\\_id & language & gutenberg\\_bookshelf & rights & has\\_text\\\\\n",
       "\\hline\n",
       "\t    31                                                                                      & Plays of Sophocles: Oedipus the King; Oedipus at Colonus; Antigone                         & Sophocles                                                                                  &   26                                                                                       & en                                                                                         & Harvard Classics/Best Books Ever Listings/Plays                                            & Public domain in the USA.                                                                  & TRUE                                                                                      \\\\\n",
       "\t  2562                                                                                      & The Clouds                                                                                 & Aristophanes                                                                               &  965                                                                                       & en                                                                                         & Classical Antiquity/Banned Books from Anne Haight's list                                   & Public domain in the USA.                                                                  & TRUE                                                                                      \\\\\n",
       "\t  2571                                                                                      & Peace                                                                                      & Aristophanes                                                                               &  965                                                                                       & en                                                                                         & Classical Antiquity/One Act Plays                                                          & Public domain in the USA.                                                                  & TRUE                                                                                      \\\\\n",
       "\t  3012                                                                                      & The Acharnians                                                                             & Aristophanes                                                                               &  965                                                                                       & en                                                                                         & Classical Antiquity                                                                        & Public domain in the USA.                                                                  & TRUE                                                                                      \\\\\n",
       "\t  3013                                                                                      & The Birds                                                                                  & Aristophanes                                                                               &  965                                                                                       & en                                                                                         & One Act Plays/Banned Books from Anne Haight's list/Classical Antiquity                     & Public domain in the USA.                                                                  & TRUE                                                                                      \\\\\n",
       "\t  5063                                                                                      & The Iphigenia in Tauris of Euripides                                                       & Euripides                                                                                  & 1680                                                                                       & en                                                                                         & Opera/Classical Antiquity                                                                  & Public domain in the USA.                                                                  & TRUE                                                                                      \\\\\n",
       "\t  7700                                                                                      & Lysistrata                                                                                 & Aristophanes                                                                               &  965                                                                                       & en                                                                                         & Classical Antiquity/Banned Books from Anne Haight's list                                   & Public domain in the USA.                                                                  & TRUE                                                                                      \\\\\n",
       "\t  7998                                                                                      & The Frogs                                                                                  & Aristophanes                                                                               &  965                                                                                       & en                                                                                         & Classical Antiquity/Harvard Classics                                                       & Public domain in the USA.                                                                  & TRUE                                                                                      \\\\\n",
       "\t  8418                                                                                      & Hippolytus; The Bacchae                                                                    & Euripides                                                                                  & 1680                                                                                       & en                                                                                         & Classical Antiquity/Harvard Classics                                                       & Public domain in the USA.                                                                  & TRUE                                                                                      \\\\\n",
       "\t  8604                                                                                      & The House of Atreus; Being the Agamemnon, the Libation bearers, and the Furies             & Aeschylus                                                                                  & 2825                                                                                       & en                                                                                         & Harvard Classics/Classical Antiquity                                                       & Public domain in the USA.                                                                  & TRUE                                                                                      \\\\\n",
       "\t  8688                                                                                      & The Eleven Comedies, Volume 1                                                              & Aristophanes                                                                               &  965                                                                                       & en                                                                                         & Classical Antiquity                                                                        & Public domain in the USA.                                                                  & TRUE                                                                                      \\\\\n",
       "\t  8689                                                                                      & The Eleven Comedies, Volume 2                                                              & Aristophanes                                                                               &  965                                                                                       & en                                                                                         & Classical Antiquity                                                                        & Public domain in the USA.                                                                  & TRUE                                                                                      \\\\\n",
       "\t  8714                                                                                      & Four Plays of Aeschylus                                                                    & Aeschylus                                                                                  & 2825                                                                                       & en                                                                                         & Classical Antiquity                                                                        & Public domain in the USA.                                                                  & TRUE                                                                                      \\\\\n",
       "\t 10096                                                                                      & The Trojan women of Euripides                                                              & Euripides                                                                                  & 1680                                                                                       & en                                                                                         & Classical Antiquity                                                                        & Public domain in the USA.                                                                  & TRUE                                                                                      \\\\\n",
       "\t 10523                                                                                      & Alcestis                                                                                   & Euripides                                                                                  & 1680                                                                                       & en                                                                                         & Classical Antiquity/Opera                                                                  & Public domain in the USA.                                                                  & TRUE                                                                                      \\\\\n",
       "\t 14322                                                                                      & The Electra of Euripides\r\n",
       "Translated into English rhyming verse                          & Euripides                                                                                  & 1680                                                                                       & en                                                                                         & Classical Antiquity                                                                        & Public domain in the USA.                                                                  & TRUE                                                                                      \\\\\n",
       "\t 14417                                                                                      & The Agamemnon of Aeschylus\r\n",
       "Translated into English Rhyming Verse with Explanatory Notes & Aeschylus                                                                                  & 2825                                                                                       & en                                                                                         & Classical Antiquity/Harvard Classics                                                       & Public domain in the USA.                                                                  & TRUE                                                                                      \\\\\n",
       "\t 14484                                                                                      & The Seven Plays in English Verse                                                           & Sophocles                                                                                  &   26                                                                                       & en                                                                                         & NA                                                                                         & Public domain in the USA.                                                                  & TRUE                                                                                      \\\\\n",
       "\t 15081                                                                                      & The Tragedies of Euripides, Volume I.                                                      & Euripides                                                                                  & 1680                                                                                       & en                                                                                         & Best Books Ever Listings                                                                   & Public domain in the USA.                                                                  & TRUE                                                                                      \\\\\n",
       "\t 27458                                                                                      & Aeschylus' Prometheus Bound and the Seven Against Thebes                                   & Aeschylus                                                                                  & 2825                                                                                       & en                                                                                         & NA                                                                                         & Public domain in the USA.                                                                  & TRUE                                                                                      \\\\\n",
       "\\end{tabular}\n"
      ],
      "text/markdown": [
       "\n",
       "gutenberg_id | title | author | gutenberg_author_id | language | gutenberg_bookshelf | rights | has_text | \n",
       "|---|---|---|---|---|---|---|---|---|---|---|---|---|---|---|---|---|---|---|---|\n",
       "|    31                                                                                      | Plays of Sophocles: Oedipus the King; Oedipus at Colonus; Antigone                         | Sophocles                                                                                  |   26                                                                                       | en                                                                                         | Harvard Classics/Best Books Ever Listings/Plays                                            | Public domain in the USA.                                                                  | TRUE                                                                                       | \n",
       "|  2562                                                                                      | The Clouds                                                                                 | Aristophanes                                                                               |  965                                                                                       | en                                                                                         | Classical Antiquity/Banned Books from Anne Haight's list                                   | Public domain in the USA.                                                                  | TRUE                                                                                       | \n",
       "|  2571                                                                                      | Peace                                                                                      | Aristophanes                                                                               |  965                                                                                       | en                                                                                         | Classical Antiquity/One Act Plays                                                          | Public domain in the USA.                                                                  | TRUE                                                                                       | \n",
       "|  3012                                                                                      | The Acharnians                                                                             | Aristophanes                                                                               |  965                                                                                       | en                                                                                         | Classical Antiquity                                                                        | Public domain in the USA.                                                                  | TRUE                                                                                       | \n",
       "|  3013                                                                                      | The Birds                                                                                  | Aristophanes                                                                               |  965                                                                                       | en                                                                                         | One Act Plays/Banned Books from Anne Haight's list/Classical Antiquity                     | Public domain in the USA.                                                                  | TRUE                                                                                       | \n",
       "|  5063                                                                                      | The Iphigenia in Tauris of Euripides                                                       | Euripides                                                                                  | 1680                                                                                       | en                                                                                         | Opera/Classical Antiquity                                                                  | Public domain in the USA.                                                                  | TRUE                                                                                       | \n",
       "|  7700                                                                                      | Lysistrata                                                                                 | Aristophanes                                                                               |  965                                                                                       | en                                                                                         | Classical Antiquity/Banned Books from Anne Haight's list                                   | Public domain in the USA.                                                                  | TRUE                                                                                       | \n",
       "|  7998                                                                                      | The Frogs                                                                                  | Aristophanes                                                                               |  965                                                                                       | en                                                                                         | Classical Antiquity/Harvard Classics                                                       | Public domain in the USA.                                                                  | TRUE                                                                                       | \n",
       "|  8418                                                                                      | Hippolytus; The Bacchae                                                                    | Euripides                                                                                  | 1680                                                                                       | en                                                                                         | Classical Antiquity/Harvard Classics                                                       | Public domain in the USA.                                                                  | TRUE                                                                                       | \n",
       "|  8604                                                                                      | The House of Atreus; Being the Agamemnon, the Libation bearers, and the Furies             | Aeschylus                                                                                  | 2825                                                                                       | en                                                                                         | Harvard Classics/Classical Antiquity                                                       | Public domain in the USA.                                                                  | TRUE                                                                                       | \n",
       "|  8688                                                                                      | The Eleven Comedies, Volume 1                                                              | Aristophanes                                                                               |  965                                                                                       | en                                                                                         | Classical Antiquity                                                                        | Public domain in the USA.                                                                  | TRUE                                                                                       | \n",
       "|  8689                                                                                      | The Eleven Comedies, Volume 2                                                              | Aristophanes                                                                               |  965                                                                                       | en                                                                                         | Classical Antiquity                                                                        | Public domain in the USA.                                                                  | TRUE                                                                                       | \n",
       "|  8714                                                                                      | Four Plays of Aeschylus                                                                    | Aeschylus                                                                                  | 2825                                                                                       | en                                                                                         | Classical Antiquity                                                                        | Public domain in the USA.                                                                  | TRUE                                                                                       | \n",
       "| 10096                                                                                      | The Trojan women of Euripides                                                              | Euripides                                                                                  | 1680                                                                                       | en                                                                                         | Classical Antiquity                                                                        | Public domain in the USA.                                                                  | TRUE                                                                                       | \n",
       "| 10523                                                                                      | Alcestis                                                                                   | Euripides                                                                                  | 1680                                                                                       | en                                                                                         | Classical Antiquity/Opera                                                                  | Public domain in the USA.                                                                  | TRUE                                                                                       | \n",
       "| 14322                                                                                      | The Electra of Euripides\r\n",
       "Translated into English rhyming verse                          | Euripides                                                                                  | 1680                                                                                       | en                                                                                         | Classical Antiquity                                                                        | Public domain in the USA.                                                                  | TRUE                                                                                       | \n",
       "| 14417                                                                                      | The Agamemnon of Aeschylus\r\n",
       "Translated into English Rhyming Verse with Explanatory Notes | Aeschylus                                                                                  | 2825                                                                                       | en                                                                                         | Classical Antiquity/Harvard Classics                                                       | Public domain in the USA.                                                                  | TRUE                                                                                       | \n",
       "| 14484                                                                                      | The Seven Plays in English Verse                                                           | Sophocles                                                                                  |   26                                                                                       | en                                                                                         | NA                                                                                         | Public domain in the USA.                                                                  | TRUE                                                                                       | \n",
       "| 15081                                                                                      | The Tragedies of Euripides, Volume I.                                                      | Euripides                                                                                  | 1680                                                                                       | en                                                                                         | Best Books Ever Listings                                                                   | Public domain in the USA.                                                                  | TRUE                                                                                       | \n",
       "| 27458                                                                                      | Aeschylus' Prometheus Bound and the Seven Against Thebes                                   | Aeschylus                                                                                  | 2825                                                                                       | en                                                                                         | NA                                                                                         | Public domain in the USA.                                                                  | TRUE                                                                                       | \n",
       "\n",
       "\n"
      ],
      "text/plain": [
       "   gutenberg_id\n",
       "1     31       \n",
       "2   2562       \n",
       "3   2571       \n",
       "4   3012       \n",
       "5   3013       \n",
       "6   5063       \n",
       "7   7700       \n",
       "8   7998       \n",
       "9   8418       \n",
       "10  8604       \n",
       "11  8688       \n",
       "12  8689       \n",
       "13  8714       \n",
       "14 10096       \n",
       "15 10523       \n",
       "16 14322       \n",
       "17 14417       \n",
       "18 14484       \n",
       "19 15081       \n",
       "20 27458       \n",
       "   title                                                                                     \n",
       "1  Plays of Sophocles: Oedipus the King; Oedipus at Colonus; Antigone                        \n",
       "2  The Clouds                                                                                \n",
       "3  Peace                                                                                     \n",
       "4  The Acharnians                                                                            \n",
       "5  The Birds                                                                                 \n",
       "6  The Iphigenia in Tauris of Euripides                                                      \n",
       "7  Lysistrata                                                                                \n",
       "8  The Frogs                                                                                 \n",
       "9  Hippolytus; The Bacchae                                                                   \n",
       "10 The House of Atreus; Being the Agamemnon, the Libation bearers, and the Furies            \n",
       "11 The Eleven Comedies, Volume 1                                                             \n",
       "12 The Eleven Comedies, Volume 2                                                             \n",
       "13 Four Plays of Aeschylus                                                                   \n",
       "14 The Trojan women of Euripides                                                             \n",
       "15 Alcestis                                                                                  \n",
       "16 The Electra of Euripides\\r\\nTranslated into English rhyming verse                         \n",
       "17 The Agamemnon of Aeschylus\\r\\nTranslated into English Rhyming Verse with Explanatory Notes\n",
       "18 The Seven Plays in English Verse                                                          \n",
       "19 The Tragedies of Euripides, Volume I.                                                     \n",
       "20 Aeschylus' Prometheus Bound and the Seven Against Thebes                                  \n",
       "   author       gutenberg_author_id language\n",
       "1  Sophocles      26                en      \n",
       "2  Aristophanes  965                en      \n",
       "3  Aristophanes  965                en      \n",
       "4  Aristophanes  965                en      \n",
       "5  Aristophanes  965                en      \n",
       "6  Euripides    1680                en      \n",
       "7  Aristophanes  965                en      \n",
       "8  Aristophanes  965                en      \n",
       "9  Euripides    1680                en      \n",
       "10 Aeschylus    2825                en      \n",
       "11 Aristophanes  965                en      \n",
       "12 Aristophanes  965                en      \n",
       "13 Aeschylus    2825                en      \n",
       "14 Euripides    1680                en      \n",
       "15 Euripides    1680                en      \n",
       "16 Euripides    1680                en      \n",
       "17 Aeschylus    2825                en      \n",
       "18 Sophocles      26                en      \n",
       "19 Euripides    1680                en      \n",
       "20 Aeschylus    2825                en      \n",
       "   gutenberg_bookshelf                                                   \n",
       "1  Harvard Classics/Best Books Ever Listings/Plays                       \n",
       "2  Classical Antiquity/Banned Books from Anne Haight's list              \n",
       "3  Classical Antiquity/One Act Plays                                     \n",
       "4  Classical Antiquity                                                   \n",
       "5  One Act Plays/Banned Books from Anne Haight's list/Classical Antiquity\n",
       "6  Opera/Classical Antiquity                                             \n",
       "7  Classical Antiquity/Banned Books from Anne Haight's list              \n",
       "8  Classical Antiquity/Harvard Classics                                  \n",
       "9  Classical Antiquity/Harvard Classics                                  \n",
       "10 Harvard Classics/Classical Antiquity                                  \n",
       "11 Classical Antiquity                                                   \n",
       "12 Classical Antiquity                                                   \n",
       "13 Classical Antiquity                                                   \n",
       "14 Classical Antiquity                                                   \n",
       "15 Classical Antiquity/Opera                                             \n",
       "16 Classical Antiquity                                                   \n",
       "17 Classical Antiquity/Harvard Classics                                  \n",
       "18 NA                                                                    \n",
       "19 Best Books Ever Listings                                              \n",
       "20 NA                                                                    \n",
       "   rights                    has_text\n",
       "1  Public domain in the USA. TRUE    \n",
       "2  Public domain in the USA. TRUE    \n",
       "3  Public domain in the USA. TRUE    \n",
       "4  Public domain in the USA. TRUE    \n",
       "5  Public domain in the USA. TRUE    \n",
       "6  Public domain in the USA. TRUE    \n",
       "7  Public domain in the USA. TRUE    \n",
       "8  Public domain in the USA. TRUE    \n",
       "9  Public domain in the USA. TRUE    \n",
       "10 Public domain in the USA. TRUE    \n",
       "11 Public domain in the USA. TRUE    \n",
       "12 Public domain in the USA. TRUE    \n",
       "13 Public domain in the USA. TRUE    \n",
       "14 Public domain in the USA. TRUE    \n",
       "15 Public domain in the USA. TRUE    \n",
       "16 Public domain in the USA. TRUE    \n",
       "17 Public domain in the USA. TRUE    \n",
       "18 Public domain in the USA. TRUE    \n",
       "19 Public domain in the USA. TRUE    \n",
       "20 Public domain in the USA. TRUE    "
      ]
     },
     "metadata": {},
     "output_type": "display_data"
    }
   ],
   "source": [
    "gutenberg_works(str_detect(author, \"Sophocles|Euripides|Aeschylus|Aristophanes\")) %>% .[1:20,]"
   ]
  },
  {
   "cell_type": "code",
   "execution_count": 3,
   "metadata": {},
   "outputs": [
    {
     "name": "stderr",
     "output_type": "stream",
     "text": [
      "Determining mirror for Project Gutenberg from http://www.gutenberg.org/robot/harvest\n",
      "Using mirror http://aleph.gutenberg.org\n"
     ]
    }
   ],
   "source": [
    "books <- gutenberg_works(str_detect(author, \"Sophocles|Euripides|Aeschylus\")) %>% \n",
    "    pull(gutenberg_id) %>%\n",
    "    gutenberg_download %>%\n",
    "    pull(text)"
   ]
  },
  {
   "cell_type": "markdown",
   "metadata": {},
   "source": [
    "Do some preprocessing."
   ]
  },
  {
   "cell_type": "code",
   "execution_count": 8,
   "metadata": {},
   "outputs": [
    {
     "name": "stdout",
     "output_type": "stream",
     "text": [
      "[1] 3477455\n"
     ]
    }
   ],
   "source": [
    "text <- books %>%\n",
    "  str_to_lower() %>%\n",
    "  str_c(collapse = \"\\n\") %>%\n",
    "  tokenize_characters(strip_non_alphanum = FALSE, simplify = TRUE)\n",
    "\n",
    "chars <- text %>%\n",
    "  unique() %>%\n",
    "  sort()\n",
    "\n",
    "print(length(text))"
   ]
  },
  {
   "cell_type": "markdown",
   "metadata": {},
   "source": [
    "Feature dimensionality."
   ]
  },
  {
   "cell_type": "code",
   "execution_count": 9,
   "metadata": {},
   "outputs": [],
   "source": [
    "maxlen <- 40"
   ]
  },
  {
   "cell_type": "markdown",
   "metadata": {},
   "source": [
    "Parse the data to a list first. This is empirically just faster."
   ]
  },
  {
   "cell_type": "code",
   "execution_count": 10,
   "metadata": {},
   "outputs": [],
   "source": [
    "dataset <- map(\n",
    "  seq(1, length(text) - maxlen - 1, by = 3), \n",
    "  ~list(sent = text[.x:(.x + maxlen - 1)], \n",
    "        nextc = text[.x + maxlen])) %>%\n",
    "    transpose"
   ]
  },
  {
   "cell_type": "markdown",
   "metadata": {},
   "source": [
    "Compute feature and response matrices."
   ]
  },
  {
   "cell_type": "code",
   "execution_count": 11,
   "metadata": {},
   "outputs": [],
   "source": [
    "x <- array(0, dim = c(length(dataset$sent), maxlen, length(chars)))\n",
    "y <- array(0, dim = c(length(dataset$sent), length(chars)))\n",
    "for(i in seq(length(dataset$sent)))\n",
    "{\n",
    "    x[i,,] <- sapply(chars, function(x) as.integer(x == dataset$sent[[i]]))\n",
    "    y[i,]  <- as.integer(chars == dataset$nextc[[i]])\n",
    "}"
   ]
  },
  {
   "cell_type": "markdown",
   "metadata": {},
   "source": [
    "Setup the model, compile it and train it. This might take a while (i.e. 30 minutes or so depending whether you use AVX or not)."
   ]
  },
  {
   "cell_type": "code",
   "execution_count": 12,
   "metadata": {},
   "outputs": [],
   "source": [
    "file.m0 <-\"deep_drama-full_data.h5\""
   ]
  },
  {
   "cell_type": "code",
   "execution_count": 24,
   "metadata": {},
   "outputs": [
    {
     "name": "stdout",
     "output_type": "stream",
     "text": [
      "Epoch: 00 ... I haven't died yet.\n",
      "Epoch: 01 ... I haven't died yet.\n",
      "Epoch: 02 ... I haven't died yet.\n",
      "Epoch: 03 ... I haven't died yet.\n",
      "Epoch: 04 ... I haven't died yet.\n",
      "Epoch: 05 ... I haven't died yet.\n",
      "Epoch: 06 ... I haven't died yet.\n",
      "Epoch: 07 ... I haven't died yet.\n",
      "Epoch: 08 ... I haven't died yet.\n",
      "Epoch: 09 ... I haven't died yet.\n"
     ]
    }
   ],
   "source": [
    "if (file.exists(file.m0))\n",
    "{\n",
    "    model <- keras_model_sequential()\n",
    "    model %>%\n",
    "        layer_lstm(128, input_shape = c(maxlen, length(chars))) %>%\n",
    "        layer_activation(\"relu\") %>%\n",
    "        layer_dense(length(chars)) %>%\n",
    "        layer_activation(\"softmax\") %>%\n",
    "        compile(loss = \"categorical_crossentropy\", \n",
    "                optimizer = optimizer_adam(lr = 0.01)) %>%\n",
    "        fit(x, y, batch_size = 128, epochs = 10,\n",
    "           callbacks =  callback_lambda(on_epoch_end = function(epoch, logs) {\n",
    "               cat(sprintf(\"Epoch: %02d ... I haven't died yet.\\n\", epoch))\n",
    "           }))\n",
    "    \n",
    "    save_model_hdf5(model, file.m0)\n",
    "}\n",
    "\n",
    "model <- load_model_hdf5(file.m0)"
   ]
  },
  {
   "cell_type": "markdown",
   "metadata": {},
   "source": [
    "Having trained the model, we randomly select a position in the text and get a string from it. Then we make a prediction for 400 characters. Here is the masterpiece:"
   ]
  },
  {
   "cell_type": "code",
   "execution_count": 26,
   "metadata": {},
   "outputs": [
    {
     "name": "stdout",
     "output_type": "stream",
     "text": [
      "wretched siien colimily, that for them\n",
      "iolate\n",
      "  friends how they\n",
      "will are;\n",
      "    us to man.\n",
      "\n",
      "                    poled me,\n",
      "a brooted contapes, and the dear dear than the muster his usans\n",
      "indeed\n",
      "chatal stand, and tire the might that pombanted all only was there; no breath, sanned sophaps. and yet, day\n",
      "marrecchypetager of odemess stall flocklow-children fatates, ontae, the light, theesf to goreit]\n",
      "who\n"
     ]
    }
   ],
   "source": [
    "idx <- sample(seq(length(text) - maxlen - 1), 1)\n",
    "string <- text[idx:(idx + maxlen - 1)]\n",
    "generated <- \"\"\n",
    "for(i in seq(400))\n",
    "{\n",
    "    # Convert the string to a feature matrix\n",
    "    z <- sapply(chars, function(e) { as.integer(e == string) })\n",
    "    z <- array_reshape(z, c(1, dim(z)))\n",
    "    ni <- predict(model, z) %>% rmultinom(1, 1, prob = .) %>% which.max()\n",
    "    # save the predicted character\n",
    "    generated <- str_c(generated, chars[ni], collapse = \"\")\n",
    "    # append the predicted char to the string and remove its first char\n",
    "    string  <- c(string[-1], chars[ni])\n",
    "}    \n",
    "\n",
    "cat(str_split(generated, '\\n')[[1]], sep=\"\\n\")"
   ]
  },
  {
   "cell_type": "markdown",
   "metadata": {},
   "source": [
    "This is beautiful! Does not look like Greek drama, but like Finnegan's wake though."
   ]
  }
 ],
 "metadata": {
  "kernelspec": {
   "display_name": "R",
   "language": "R",
   "name": "ir"
  },
  "language_info": {
   "codemirror_mode": "r",
   "file_extension": ".r",
   "mimetype": "text/x-r-source",
   "name": "R",
   "pygments_lexer": "r",
   "version": "3.5.0"
  }
 },
 "nbformat": 4,
 "nbformat_minor": 2
}
