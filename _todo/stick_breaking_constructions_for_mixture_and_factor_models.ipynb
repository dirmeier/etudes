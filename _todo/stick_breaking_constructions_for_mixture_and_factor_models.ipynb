{
 "cells": [
  {
   "cell_type": "code",
   "execution_count": 1,
   "id": "c6722fde",
   "metadata": {},
   "outputs": [
    {
     "name": "stderr",
     "output_type": "stream",
     "text": [
      "/home/simon/miniconda3/envs/etudes-dev/lib/python3.8/site-packages/jax/experimental/optimizers.py:28: FutureWarning: jax.experimental.optimizers is deprecated, import jax.example_libraries.optimizers instead\n",
      "  warnings.warn('jax.experimental.optimizers is deprecated, '\n",
      "/home/simon/miniconda3/envs/etudes-dev/lib/python3.8/site-packages/jax/experimental/stax.py:28: FutureWarning: jax.experimental.stax is deprecated, import jax.example_libraries.stax instead\n",
      "  warnings.warn('jax.experimental.stax is deprecated, '\n"
     ]
    }
   ],
   "source": [
    "import logging\n",
    "import functools\n",
    "import numpy as onp\n",
    "import pandas as pd\n",
    "\n",
    "import jax\n",
    "import jax.numpy as np\n",
    "import jax.scipy as sp\n",
    "import jax.random as random\n",
    "\n",
    "import numpyro\n",
    "import numpyro.distributions as dist\n",
    "from numpyro.infer import MCMC, NUTS, init_to_sample\n",
    "from numpyro.infer import SVI, Trace_ELBO, TraceGraph_ELBO\n",
    "import numpyro.optim as optim\n",
    "from numpyro.distributions.transforms import OrderedTransform\n",
    "import numpyro.distributions.constraints as constraints\n",
    "\n",
    "%matplotlib inline\n",
    "import matplotlib.pyplot as plt\n",
    "import seaborn as sns\n",
    "import arviz as az\n",
    "import palettes\n",
    "\n",
    "sns.set_style(\"ticks\", {'font.family':'serif', 'font.serif':'Times New Roman'})\n",
    "palettes.set_theme()\n",
    "numpyro.set_host_device_count(4)"
   ]
  },
  {
   "cell_type": "code",
   "execution_count": 2,
   "id": "6c66ed5c",
   "metadata": {},
   "outputs": [
    {
     "data": {
      "text/plain": [
       "4"
      ]
     },
     "execution_count": 2,
     "metadata": {},
     "output_type": "execute_result"
    }
   ],
   "source": [
    "jax.local_device_count()"
   ]
  },
  {
   "cell_type": "code",
   "execution_count": 3,
   "id": "99024908",
   "metadata": {},
   "outputs": [],
   "source": [
    "n_samples = 1000\n",
    "K = 3"
   ]
  },
  {
   "cell_type": "code",
   "execution_count": 4,
   "id": "35f22d59",
   "metadata": {},
   "outputs": [
    {
     "data": {
      "text/plain": [
       "DeviceArray([-2.,  0.,  2.], dtype=float32)"
      ]
     },
     "execution_count": 4,
     "metadata": {},
     "output_type": "execute_result"
    }
   ],
   "source": [
    "means = np.linspace(-2.0, 2.0, K)\n",
    "means"
   ]
  },
  {
   "cell_type": "code",
   "execution_count": 5,
   "id": "a31f6c91",
   "metadata": {},
   "outputs": [],
   "source": [
    "K = means.shape[0]"
   ]
  },
  {
   "cell_type": "code",
   "execution_count": 6,
   "id": "0e28bb6f",
   "metadata": {},
   "outputs": [],
   "source": [
    "Z = random.randint(\n",
    "    key=random.PRNGKey(23),\n",
    "    minval=0,\n",
    "    maxval=K, \n",
    "    shape=(n_samples,)\n",
    ")"
   ]
  },
  {
   "cell_type": "code",
   "execution_count": 7,
   "id": "ce4fa1c7",
   "metadata": {},
   "outputs": [],
   "source": [
    "sds = np.sqrt(np.array([0.25, 0.2, 0.3]))"
   ]
  },
  {
   "cell_type": "code",
   "execution_count": 8,
   "id": "5488f1df",
   "metadata": {},
   "outputs": [],
   "source": [
    "eps = dist.Normal(0.0, 1.0).sample(random.PRNGKey(23), sample_shape=(n_samples,))\n",
    "D = means[Z] + eps * sds[Z]"
   ]
  },
  {
   "cell_type": "code",
   "execution_count": 9,
   "id": "d349dedb",
   "metadata": {},
   "outputs": [
    {
     "data": {
      "image/png": "[encoded data removed]",
      "text/plain": [
       "<Figure size 432x288 with 1 Axes>"
      ]
     },
     "metadata": {},
     "output_type": "display_data"
    }
   ],
   "source": [
    "df = pd.DataFrame(np.vstack([D, Z]).T, columns=[\"y\", \"z\"])\n",
    "sns.histplot(\n",
    "    x=\"y\",\n",
    "    hue=\"z\",\n",
    "    data=df,\n",
    "    palette=palettes.discrete_sequential_colors(),\n",
    "    legend=False,\n",
    "    bins=50\n",
    ")\n",
    "plt.show()"
   ]
  },
  {
   "cell_type": "markdown",
   "id": "d66a21c4",
   "metadata": {},
   "source": [
    "## A finite mixture"
   ]
  },
  {
   "cell_type": "code",
   "execution_count": 10,
   "id": "804d8aa5",
   "metadata": {},
   "outputs": [],
   "source": [
    "def prior():           \n",
    "    pi = numpyro.sample(\n",
    "        \"pi\",\n",
    "        dist.Dirichlet(concentration=np.ones(K)),        \n",
    "    )\n",
    "  \n",
    "    mu = numpyro.sample(\n",
    "        \"mu\", \n",
    "        dist.TransformedDistribution(\n",
    "            dist.Normal(loc=np.zeros(K)), \n",
    "            OrderedTransform()\n",
    "        )\n",
    "    )\n",
    "        \n",
    "    sigma = numpyro.sample(\n",
    "        \"sigma\",        \n",
    "        dist.HalfNormal(scale=np.ones(K))        \n",
    "    )\n",
    "    \n",
    "    return pi, mu, sigma"
   ]
  },
  {
   "cell_type": "code",
   "execution_count": 11,
   "id": "c96b6071",
   "metadata": {},
   "outputs": [],
   "source": [
    "def log_likelihood(D, pi, mu, sigma):\n",
    "    lpdf_weights = np.log(pi)\n",
    "    lpdf_components = dist.Normal(loc=mu, scale=sigma).log_prob(D[:, np.newaxis])\n",
    "    \n",
    "    lpdf = lpdf_weights + lpdf_components        \n",
    "    lpdf = sp.special.logsumexp(lpdf, axis=-1)\n",
    "    return np.sum(lpdf)"
   ]
  },
  {
   "cell_type": "code",
   "execution_count": 12,
   "id": "85c2739f",
   "metadata": {},
   "outputs": [],
   "source": [
    "def model():\n",
    "    pi, mu, sigma = prior()\n",
    "    numpyro.factor(\"likelihood\", log_likelihood(D, pi, mu, sigma))    "
   ]
  },
  {
   "cell_type": "code",
   "execution_count": 14,
   "id": "8a5fcb4c",
   "metadata": {},
   "outputs": [],
   "source": [
    "def guide():\n",
    "    q_pi_concentration = numpyro.param(\n",
    "        \"pi_concentration\",\n",
    "        init_value=np.ones(K), \n",
    "        constraint=constraints.positive\n",
    "    )\n",
    "    q_pi = numpyro.sample(\n",
    "        \"pi\",\n",
    "        dist.Dirichlet(concentration=q_pi_concentration),        \n",
    "    )\n",
    "    \n",
    "    q_mu_mu = numpyro.param(\n",
    "        \"q_mu_mu\",\n",
    "        init_value=np.array([-2.0, 0.0, 2.0])\n",
    "    )\n",
    "    q_mu_sd = numpyro.param(\n",
    "        \"q_mu_sd\",\n",
    "        init_value=np.ones(K),\n",
    "        constraint=constraints.positive\n",
    "    )\n",
    "    q_mu = numpyro.sample(\n",
    "        \"mu\", \n",
    "        dist.TransformedDistribution(\n",
    "            dist.Normal(loc=q_mu_mu, scale=q_mu_sd), \n",
    "            OrderedTransform()\n",
    "        )\n",
    "    )\n",
    "    \n",
    "    q_sigma_scale = numpyro.param(\n",
    "        \"q_sigma_scale\",\n",
    "        init_value=np.ones(K),\n",
    "        constrain=constraints.positive\n",
    "    )\n",
    "    q_sigma = numpyro.sample(\n",
    "        \"sigma\", \n",
    "        dist.HalfNormal(scale=q_sigma_scale), \n",
    "    )"
   ]
  },
  {
   "cell_type": "code",
   "execution_count": 15,
   "id": "319754ac",
   "metadata": {},
   "outputs": [
    {
     "name": "stderr",
     "output_type": "stream",
     "text": [
      "100%|█████████████████████████████████████████████████████████████████████████████████████████████████████████████████████████████████████████| 10000/10000 [00:25<00:00, 387.62it/s, init loss: 6027.7476, avg. loss [9501-10000]: 2248.0190]\n"
     ]
    }
   ],
   "source": [
    "adam = optim.Adam(0.001)\n",
    "svi = SVI(model, guide, adam, loss=TraceGraph_ELBO(100))\n",
    "res = svi.run(random.PRNGKey(23), num_steps=10000)"
   ]
  },
  {
   "cell_type": "code",
   "execution_count": 16,
   "id": "dcb0e4ed",
   "metadata": {},
   "outputs": [],
   "source": [
    "def plot_losses(res):\n",
    "    fig, _ = plt.subplots(1, 1)\n",
    "    ax = sns.lineplot(\n",
    "      data=pd.DataFrame({\"y\": res.losses, \"x\": range(len(res.losses))}),\n",
    "      y=\"y\", x=\"x\",\n",
    "      color='black'\n",
    "    );\n",
    "    ax.set(xlabel=\"\", ylabel=\"NLL\");\n",
    "    plt.show()"
   ]
  },
  {
   "cell_type": "code",
   "execution_count": 36,
   "id": "23203eaa",
   "metadata": {},
   "outputs": [],
   "source": [
    "def plot_means(res):\n",
    "    var_posterior_mean = dist.TransformedDistribution(\n",
    "        dist.Normal(loc=res.params[\"q_mu_mu\"], scale=res.params[\"q_mu_sd\"]), \n",
    "        OrderedTransform()\n",
    "    )\n",
    "    var_posterior_mean_samples = var_posterior_mean.sample(\n",
    "        random.PRNGKey(0), sample_shape=(1000,)\n",
    "    )\n",
    "    K = var_posterior_mean_samples.shape[1]\n",
    "    df = pd.DataFrame(var_posterior_mean_samples, columns=[f\"mu{i}\" for i in range(K)])\n",
    "    df = df.melt(var_name=\"Mu\", value_name=\"Value\")\n",
    "\n",
    "    plt.figure(figsize=(10, 4))\n",
    "    g = sns.FacetGrid(\n",
    "        df,     \n",
    "        col=\"Mu\",    \n",
    "        col_wrap=5,\n",
    "        sharex=False, \n",
    "        sharey=False\n",
    "    )\n",
    "    _ = g.map_dataframe(\n",
    "        sns.histplot, x=\"Value\", color=\"darkgrey\"\n",
    "    )\n",
    "\n",
    "    plt.show()"
   ]
  },
  {
   "cell_type": "code",
   "execution_count": 20,
   "id": "a32f2a30",
   "metadata": {},
   "outputs": [
    {
     "data": {
      "image/png": "[encoded data removed]",
      "text/plain": [
       "<Figure size 432x288 with 1 Axes>"
      ]
     },
     "metadata": {},
     "output_type": "display_data"
    }
   ],
   "source": [
    "plot_losses(res)"
   ]
  },
  {
   "cell_type": "code",
   "execution_count": 21,
   "id": "8651ff24",
   "metadata": {},
   "outputs": [
    {
     "data": {
      "image/png": "[encoded data removed]",
      "text/plain": [
       "<Figure size 720x288 with 1 Axes>"
      ]
     },
     "metadata": {},
     "output_type": "display_data"
    }
   ],
   "source": [
    "plot_means(res)"
   ]
  },
  {
   "cell_type": "markdown",
   "id": "6ec20d5b",
   "metadata": {},
   "source": [
    "## An infinite mixture"
   ]
  },
  {
   "cell_type": "code",
   "execution_count": 201,
   "id": "0b43b161",
   "metadata": {},
   "outputs": [],
   "source": [
    "K_stick = 10"
   ]
  },
  {
   "cell_type": "code",
   "execution_count": 202,
   "id": "94ff87dd",
   "metadata": {},
   "outputs": [],
   "source": [
    "def sample_stick(nu):    \n",
    "    ones = np.ones((*nu.shape[:-1], 1))\n",
    "    rem = np.concatenate([ones, np.cumprod(1 - nu, axis=-1)[:-1]], axis=-1)    \n",
    "    mix_probs = nu * rem\n",
    "    return mix_probs"
   ]
  },
  {
   "cell_type": "code",
   "execution_count": 204,
   "id": "16d82d76",
   "metadata": {},
   "outputs": [],
   "source": [
    "def infinite_prior():\n",
    "    beta = numpyro.sample(\n",
    "        \"beta\",\n",
    "        dist.Gamma(1.0, 10.0)\n",
    "    )\n",
    "        \n",
    "    nu = numpyro.sample(\n",
    "        \"nu\",\n",
    "        dist.Beta(\n",
    "            concentration1=np.ones(K_stick),\n",
    "            concentration0=beta \n",
    "        )\n",
    "    )\n",
    "        \n",
    "    pi = numpyro.deterministic(\"pi\", sample_stick(nu))\n",
    "    \n",
    "    mu = numpyro.sample(\n",
    "        \"mu\", \n",
    "        dist.TransformedDistribution(\n",
    "            dist.Normal(loc=np.zeros(K_stick)), \n",
    "            OrderedTransform()\n",
    "        )\n",
    "    )\n",
    "        \n",
    "    sigma = numpyro.sample(\n",
    "        \"sigma\",        \n",
    "        dist.HalfNormal(scale=np.ones(K_stick))                    \n",
    "    )\n",
    "    \n",
    "    return pi, mu, sigma"
   ]
  },
  {
   "cell_type": "code",
   "execution_count": 205,
   "id": "8abc3a86",
   "metadata": {},
   "outputs": [],
   "source": [
    "with numpyro.handlers.seed(rng_seed=23):\n",
    "    pi, mu, sigma = infinite_prior()"
   ]
  },
  {
   "cell_type": "code",
   "execution_count": 206,
   "id": "a43efee8",
   "metadata": {},
   "outputs": [],
   "source": [
    "def model():\n",
    "    pi, mu, sigma = infinite_prior()\n",
    "    numpyro.factor(\"likelihood\", log_likelihood(D, pi, mu, sigma))    "
   ]
  },
  {
   "cell_type": "code",
   "execution_count": 207,
   "id": "87f49d0a",
   "metadata": {},
   "outputs": [],
   "source": [
    "def guide():\n",
    "    q_beta_concentration = numpyro.param(\n",
    "        \"beta_concentration\",\n",
    "        init_value=1.0, \n",
    "        constraint=constraints.positive\n",
    "    )\n",
    "    q_beta_rate = numpyro.param(\n",
    "        \"beta_rate\",\n",
    "        init_value=1.0, \n",
    "        constraint=constraints.positive\n",
    "    )\n",
    "    q_beta = numpyro.sample(\n",
    "        \"beta\",\n",
    "        dist.Gamma(q_beta_concentration, q_beta_rate)\n",
    "    )\n",
    "\n",
    "    q_nu_concentration0 = numpyro.param(\n",
    "        \"nu_concentration0\",\n",
    "        init_value=np.ones(K_stick), \n",
    "        constraint=constraints.positive\n",
    "    )\n",
    "    q_nu = numpyro.sample(\n",
    "        \"nu\",\n",
    "        dist.Beta(\n",
    "            concentration1=1.0,\n",
    "            concentration0=q_nu_concentration0\n",
    "        ),        \n",
    "    )\n",
    "    \n",
    "    q_mu_mu = numpyro.param(\n",
    "        \"q_mu_mu\",\n",
    "        init_value=np.linspace(-2.0, 0.0, K_stick)\n",
    "    )\n",
    "    q_mu_sd = numpyro.param(\n",
    "        \"q_mu_sd\",\n",
    "        init_value=np.ones(K_stick),\n",
    "        constraint=constraints.positive\n",
    "    )\n",
    "    q_mu = numpyro.sample(\n",
    "        \"mu\", \n",
    "        dist.TransformedDistribution(\n",
    "            dist.Normal(loc=q_mu_mu, scale=q_mu_sd), \n",
    "            OrderedTransform()\n",
    "        )\n",
    "    )\n",
    "    \n",
    "    q_sigma_scale = numpyro.param(\n",
    "        \"q_sigma_scale\",\n",
    "        init_value=np.ones(K_stick),\n",
    "        constrain=constraints.positive\n",
    "    )\n",
    "    q_sigma = numpyro.sample(\n",
    "        \"sigma\", \n",
    "        dist.HalfNormal(scale=q_sigma_scale)\n",
    "    )"
   ]
  },
  {
   "cell_type": "code",
   "execution_count": 208,
   "id": "803eedf1",
   "metadata": {},
   "outputs": [
    {
     "name": "stderr",
     "output_type": "stream",
     "text": [
      "100%|██████████████████████████████████████████████████████████████████████████████████████████████████████████████████████████████████████████████| 1000/1000 [00:15<00:00, 64.84it/s, init loss: 4376.7134, avg. loss [951-1000]: 2506.7280]\n"
     ]
    }
   ],
   "source": [
    "adam = optim.Adam(0.001)\n",
    "svi = SVI(model, guide, adam, loss=TraceGraph_ELBO(20))\n",
    "res = svi.run(random.PRNGKey(23), num_steps=1000)"
   ]
  },
  {
   "cell_type": "code",
   "execution_count": 209,
   "id": "aa3a7d2c",
   "metadata": {},
   "outputs": [
    {
     "data": {
      "text/plain": [
       "DeviceArray([0.34394267, 0.22398739, 0.15211962, 0.10186891, 0.06769356,\n",
       "             0.04509464, 0.0305864 , 0.01907767, 0.00992556, 0.00352958],            dtype=float32)"
      ]
     },
     "execution_count": 209,
     "metadata": {},
     "output_type": "execute_result"
    }
   ],
   "source": [
    "nu = dist.Beta(\n",
    "    concentration1=1.0,\n",
    "    concentration0=res.params[\"nu_concentration0\"]\n",
    ")\n",
    "sample_stick(nu.mean)"
   ]
  },
  {
   "cell_type": "code",
   "execution_count": 211,
   "id": "398e834b",
   "metadata": {},
   "outputs": [
    {
     "data": {
      "text/plain": [
       "<Figure size 720x288 with 0 Axes>"
      ]
     },
     "metadata": {},
     "output_type": "display_data"
    },
    {
     "data": {
      "image/png": "[encoded data removed]",
      "text/plain": [
       "<Figure size 1080x432 with 10 Axes>"
      ]
     },
     "metadata": {},
     "output_type": "display_data"
    }
   ],
   "source": [
    "plot_means(res)"
   ]
  }
 ],
 "metadata": {
  "kernelspec": {
   "display_name": "etudes-dev",
   "language": "python",
   "name": "etudes-dev"
  },
  "language_info": {
   "codemirror_mode": {
    "name": "ipython",
    "version": 3
   },
   "file_extension": ".py",
   "mimetype": "text/x-python",
   "name": "python",
   "nbconvert_exporter": "python",
   "pygments_lexer": "ipython3",
   "version": "3.8.12"
  }
 },
 "nbformat": 4,
 "nbformat_minor": 5
}
