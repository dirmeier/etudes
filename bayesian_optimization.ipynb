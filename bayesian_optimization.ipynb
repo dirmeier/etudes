{
 "cells": [
  {
   "cell_type": "markdown",
   "id": "operational-federation",
   "metadata": {},
   "source": [
    "# The basics of Bayesian optimization\n",
    "\n",
    "Many real-world problems involve optimization of functions which are difficult, or costly, to evaluate. For instance, in deep learning, finding the optimal hyperparameters and architecture of a neural network is a cumbersome process that should ideally be automated with as little fuction evaluations (i.e. training the networks) as possible. For problems like these, Bayesian optimization (BO) offers a unifying framework where the function to evaluate is approximated using a surrogate model. \n",
    "\n",
    "In this notebook, we introduce the basics of BO. More specifically, we are interested in optimizing some function $f: \\mathcal{X} \\rightarrow \\mathbb{R}$ on some set $ \\mathcal{X} \\subset \\mathbb{R}^p$, i.e., to find\n",
    "\n",
    "\\begin{equation}\n",
    "\\mathbf{x}_{\\min} =  \\arg \\max_{x \\in \\mathcal{X}} f(\\mathbf{x})\n",
    "\\end{equation}\n",
    "\n",
    "We assume that we are allowed to query $f$ at $\\mathbf{x}_i$ which will yield us a noisy observation $y_i$ for every query $i$. We will approximate $f$ using a probabilistic model, a Gaussian process. To optimize $f$, we will fit a GP to the currently available data $\\mathcal{D} = \\{\\mathbf{x}_i, y_i\\}_{i=1}^n$, then find the next point $\\mathbf{x}_{n + 1}$ with some appropriate *acqusition function*, query it to receive $y_n$ and then repeat the procedure for a certain number of iterations $N$.\n",
    "\n",
    "Throughout this notebook, we will use [*Stan*](https://mc-stan.org/) to fit the surrogate model. Some introductory  references on Bayesian optimization include: [Snoek *et al.* (2012)](https://arxiv.org/abs/1206.2944), [Shahriari *et al.* (2015)](https://ieeexplore.ieee.org/document/7352306) and [Frazier (2018)](https://arxiv.org/abs/1807.02811). Feedback and comments are welcome!"
   ]
  },
  {
   "cell_type": "code",
   "execution_count": 1,
   "id": "future-nelson",
   "metadata": {},
   "outputs": [],
   "source": [
    "suppressMessages({    \n",
    "    library(pracma)\n",
    "    library(rdist)\n",
    "    library(tidyverse)\n",
    "    library(colorspace)    \n",
    "    library(rstan)\n",
    "    library(bayesplot)\n",
    "})\n",
    "\n",
    "set.seed(23)"
   ]
  },
  {
   "cell_type": "markdown",
   "id": "sufficient-metro",
   "metadata": {},
   "source": [
    "For convenience, we define a method to plot the GP fit and data."
   ]
  },
  {
   "cell_type": "code",
   "execution_count": 2,
   "id": "every-french",
   "metadata": {},
   "outputs": [],
   "source": [
    "scatterplot <- function(x.true, y.true, f_star = NULL, f_star_var = NULL, data = NULL) {  \n",
    "  df <- data.frame(x = x.true, y = y.true)\n",
    "\n",
    "  g <- ggplot() +\n",
    "    theme(\n",
    "      axis.line.x = element_line(color = \"black\", size = .25),\n",
    "      axis.line.y = element_line(color = \"black\", size = .25)\n",
    "    )\n",
    "\n",
    "  if (!is.null(f_star) && !is.null(f_star_var)) {\n",
    "    df_star <- data.frame(\n",
    "      x = x.true,\n",
    "      y = f_star,\n",
    "      lower = f_star - sqrt(f_star_var),\n",
    "      upper = f_star + sqrt(f_star_var)\n",
    "    )\n",
    "    g <- g +\n",
    "      geom_ribbon(\n",
    "        data = df_star,\n",
    "        aes(x, ymin = lower, ymax = upper, fill = \"#DCBCBC\")\n",
    "      ) +\n",
    "      geom_line(data = df_star, aes(x, y, color = \"darkred\"))\n",
    "  }\n",
    "  if (!is.null(data)) {\n",
    "    g <- g + geom_point(data = data, aes(x, y, color = \"darkred\"))\n",
    "  }\n",
    "\n",
    "  g +\n",
    "    geom_line(data = df, aes(x, y, color = \"darkgrey\")) +\n",
    "    scale_color_manual(\n",
    "      breaks = c(\"darkgrey\", \"darkred\", \"black\"),\n",
    "      labels = c(\"Function to optimize\", \"Posterior\", \"Acquisition function\"),\n",
    "      values = c(\"darkgrey\", \"darkred\", \"black\")\n",
    "    ) +\n",
    "    scale_fill_manual(\n",
    "      breaks = c(\"lightgrey\", \"darkred\", \"#DCBCBC\"),\n",
    "      values = c(\"lightgrey\", \"darkred\", \"#DCBCBC\")\n",
    "    ) +\n",
    "    labs(color = \"Legend\") +\n",
    "    guides(fill = FALSE)\n",
    "}"
   ]
  },
  {
   "cell_type": "markdown",
   "id": "tight-physics",
   "metadata": {},
   "source": [
    "Usually the function to maximize is difficult/infeasible to query and the number of functions evaluations and we want to minimize the number as much as possible. In this example, we demonstrate Bayesian optimization on the function below."
   ]
  },
  {
   "cell_type": "code",
   "execution_count": 3,
   "id": "waiting-growth",
   "metadata": {},
   "outputs": [],
   "source": [
    "f <- function(x) cos(4 * x) + exp(-(x ** 2) / 2)"
   ]
  },
  {
   "cell_type": "markdown",
   "id": "opponent-market",
   "metadata": {},
   "source": [
    "Without loss of generality, we constrain the optimization on a set of $m$ points in the interval $x \\in [-5, 5]$, such that we don't need to write to much boilerplate code, i.e., we just evaluate the points and take maxima or minima instead of optiming the function itself."
   ]
  },
  {
   "cell_type": "code",
   "execution_count": 4,
   "id": "actual-omega",
   "metadata": {},
   "outputs": [],
   "source": [
    "m <- 1000\n",
    "\n",
    "x.init = seq(-5, 5, length.out = m)\n",
    "y.init = f(x.init)"
   ]
  },
  {
   "cell_type": "markdown",
   "id": "extended-brazilian",
   "metadata": {},
   "source": [
    "The function to optimize is shown below:"
   ]
  },
  {
   "cell_type": "code",
   "execution_count": 5,
   "id": "motivated-congo",
   "metadata": {},
   "outputs": [
    {
     "data": {
      "image/png": "[encoded data removed]",
      "text/plain": [
       "plot without title"
      ]
     },
     "metadata": {
      "image/png": {
       "height": 420,
       "width": 420
      }
     },
     "output_type": "display_data"
    }
   ],
   "source": [
    "scatterplot(x.init, y.init)"
   ]
  },
  {
   "cell_type": "markdown",
   "id": "intimate-pakistan",
   "metadata": {},
   "source": [
    "To optimize this function, we define functions to fit a surrogate model and make a predict using the model fit. As mentioned above, we use Stan to implement the GP. The Stan code is fairly short. It takes the data, a set of points for which predictions should be made and kernel hyperparameters. The model and parameters blocks are actually empty, since here we confine ourselves to not fitting posterior of the kernel parameters. "
   ]
  },
  {
   "cell_type": "code",
   "execution_count": 6,
   "id": "beginning-priority",
   "metadata": {},
   "outputs": [
    {
     "name": "stdout",
     "output_type": "stream",
     "text": [
      "data {\n",
      "  int<lower=1> N;\n",
      "  real x[N];\n",
      "  vector[N] y;\n",
      "\n",
      "  int<lower=1> N_star;\n",
      "  real x_star[N_star];\n",
      "\n",
      "  real<lower=0> rho;\n",
      "  real<lower=0> alpha;\n",
      "  real<lower=0> sigma;\n",
      "}\n",
      "\n",
      "parameters {}\n",
      "\n",
      "model {}\n",
      "\n",
      "generated quantities {\n",
      "  vector[N_star] f_star;\n",
      "  vector[N_star] f_star_cov;\n",
      "\n",
      "  {\n",
      "    matrix[N, N] K =  cov_exp_quad(x, alpha, rho)\n",
      "       + diag_matrix(rep_vector(square(sigma), N));\n",
      "    matrix[N, N] L_K = cholesky_decompose(K);\n",
      "\n",
      "    vector[N] L_K_div_y = mdivide_left_tri_low(L_K, y);\n",
      "    vector[N] K_div_y = mdivide_right_tri_low(L_K_div_y', L_K)';\n",
      "\n",
      "    matrix[N, N_star] k_x_x_star = cov_exp_quad(x, x_star, alpha, rho);\n",
      "\n",
      "\n",
      "    matrix[N, N_star] v_pred = mdivide_left_tri_low(L_K, k_x_x_star);\n",
      "    matrix[N_star, N_star] cov_f2 = cov_exp_quad(x_star, alpha, rho) -\n",
      "        v_pred' * v_pred\n",
      "        + diag_matrix(rep_vector(1e-10, N_star));\n",
      "\n",
      "    f_star = (k_x_x_star' * K_div_y);\n",
      "    f_star_cov = diagonal(cov_f2);\n",
      "  }\n",
      "}\n"
     ]
    }
   ],
   "source": [
    "surrogate.model.file <- \"_models/bo-surrogate.stan\"\n",
    "cat(readLines(surrogate.model.file), sep=\"\\n\")"
   ]
  },
  {
   "cell_type": "markdown",
   "id": "colored-baseline",
   "metadata": {},
   "source": [
    "Stan requires us to compile the model once such that we can use it. We do that like this:"
   ]
  },
  {
   "cell_type": "code",
   "execution_count": 7,
   "id": "framed-opposition",
   "metadata": {},
   "outputs": [],
   "source": [
    "gp <- stan_model(file = surrogate.model.file)"
   ]
  },
  {
   "cell_type": "markdown",
   "id": "overall-twelve",
   "metadata": {},
   "source": [
    "The predict function takes the data, the points to prediction, and the compiled Stan model."
   ]
  },
  {
   "cell_type": "code",
   "execution_count": 8,
   "id": "white-friendship",
   "metadata": {},
   "outputs": [],
   "source": [
    "predict.gp <- function(gp, x.d, y.d, x.star) {\n",
    "    dat <- list(\n",
    "        N=length(x.d),\n",
    "        x=array(x.d),\n",
    "        y=array(y.d),\n",
    "        N_star=length(x.star),\n",
    "        x_star=array(x.star),\n",
    "        rho=1,\n",
    "        alpha=1,\n",
    "        sigma=1\n",
    "    )\n",
    "    \n",
    "    pred <- rstan::sampling(\n",
    "        gp, dat, chains=1, algorithm=\"Fixed_param\", iter=1,\n",
    "    )\n",
    "\n",
    "    ext <- rstan::extract(pred)\n",
    "    f.star <- as.vector(ext$f_star)\n",
    "    f.star.var <- as.vector(ext$f_star_cov)\n",
    "    \n",
    "    \n",
    "    list(f.star, f.star.var)\n",
    "}"
   ]
  },
  {
   "cell_type": "code",
   "execution_count": 9,
   "id": "three-vision",
   "metadata": {},
   "outputs": [
    {
     "name": "stdout",
     "output_type": "stream",
     "text": [
      "\n",
      "SAMPLING FOR MODEL 'bo-surrogate' NOW (CHAIN 1).\n",
      "Chain 1: Iteration: 1 / 1 [100%]  (Sampling)\n",
      "Chain 1: \n",
      "Chain 1:  Elapsed Time: 0 seconds (Warm-up)\n",
      "Chain 1:                0.0222 seconds (Sampling)\n",
      "Chain 1:                0.0222 seconds (Total)\n",
      "Chain 1: \n"
     ]
    }
   ],
   "source": [
    ". <- predict.gp(gp, x.init[1], y.init[1], x.init)"
   ]
  },
  {
   "cell_type": "markdown",
   "id": "common-morgan",
   "metadata": {},
   "source": [
    "As acquisition function we use the upper confidence bound (see [Snoek *et al*](https://arxiv.org/abs/1206.2944)) which is computed from the predictive posterior mean $\\mu(\\mathbf{x})$ and variance $\\sigma^2(\\mathbf{x})$ of the surrogate model:\n",
    "\n",
    "\\begin{equation}\n",
    "a(\\mathbf{x}) = \\mu(\\mathbf{x}) + \\kappa \\sigma(\\mathbf{x})\n",
    "\\end{equation}\n",
    "\n",
    "where $\\kappa$ can be tuned to balance betwen exploitation and exploration,"
   ]
  },
  {
   "cell_type": "code",
   "execution_count": 10,
   "id": "entertaining-violence",
   "metadata": {},
   "outputs": [],
   "source": [
    "acquisition.function <- function(gp, x.d, y.d, x.init, conf) {\n",
    "    preds <- predict.gp(gp, x.d, y.d, x.init)\n",
    "    f.star <- preds[[1]]\n",
    "    f.star.var <- preds[[2]]\n",
    "    ucb <- f.star + conf * sqrt(f.star.var)\n",
    "    ucb\n",
    "}"
   ]
  },
  {
   "cell_type": "markdown",
   "id": "comparative-campaign",
   "metadata": {},
   "source": [
    "Finally, we define a function that proposes the next point to evaluate."
   ]
  },
  {
   "cell_type": "code",
   "execution_count": 11,
   "id": "unlike-drill",
   "metadata": {},
   "outputs": [],
   "source": [
    "acquire <- function(x.d, y.d, x.init, conf=2.0) {\n",
    "    preds  <- predict.gp(gp, x.d, y.d, x.init)\n",
    "    f.star <- preds[[1]]\n",
    "    f.star.var <- preds[[2]]\n",
    "    ucb <- acquisition.function(gp, x.d, y.d, x.init, conf)\n",
    "    x.next <- x.init[which.max(ucb)]\n",
    "    \n",
    "    list(\n",
    "        x.next=x.next,\n",
    "        ucb=ucb,\n",
    "        f.star=f.star,\n",
    "        f.star.var=f.star.var\n",
    "    )\n",
    "}    "
   ]
  },
  {
   "cell_type": "markdown",
   "id": "copyrighted-blanket",
   "metadata": {},
   "source": [
    "We start with a random point on the interval defined above and query it against the function that we want to optimize."
   ]
  },
  {
   "cell_type": "code",
   "execution_count": 12,
   "id": "accredited-theorem",
   "metadata": {},
   "outputs": [],
   "source": [
    "set.seed(23)\n",
    "\n",
    "x.d <- runif(1, -5, 5)\n",
    "y.d <- f(x.d)"
   ]
  },
  {
   "cell_type": "markdown",
   "id": "eligible-butler",
   "metadata": {},
   "source": [
    "Then we train the surrogate model, and use the aquisition function to propose a new point."
   ]
  },
  {
   "cell_type": "code",
   "execution_count": 13,
   "id": "color-presentation",
   "metadata": {},
   "outputs": [
    {
     "name": "stdout",
     "output_type": "stream",
     "text": [
      "\n",
      "SAMPLING FOR MODEL 'bo-surrogate' NOW (CHAIN 1).\n",
      "Chain 1: Iteration: 1 / 1 [100%]  (Sampling)\n",
      "Chain 1: \n",
      "Chain 1:  Elapsed Time: 0 seconds (Warm-up)\n",
      "Chain 1:                0.022712 seconds (Sampling)\n",
      "Chain 1:                0.022712 seconds (Total)\n",
      "Chain 1: \n",
      "\n",
      "SAMPLING FOR MODEL 'bo-surrogate' NOW (CHAIN 1).\n",
      "Chain 1: Iteration: 1 / 1 [100%]  (Sampling)\n",
      "Chain 1: \n",
      "Chain 1:  Elapsed Time: 0 seconds (Warm-up)\n",
      "Chain 1:                0.022786 seconds (Sampling)\n",
      "Chain 1:                0.022786 seconds (Total)\n",
      "Chain 1: \n"
     ]
    }
   ],
   "source": [
    "iter <- acquire(x.d, y.d, x.init)\n",
    "x.n  <- iter$x.next\n",
    "ucb  <- iter$ucb\n",
    "f.star <- iter$f.star\n",
    "f.star.var <- iter$f.star.var"
   ]
  },
  {
   "cell_type": "markdown",
   "id": "surprised-meditation",
   "metadata": {},
   "source": [
    "For the acquisition of the first point, we first fit the data (consisting of one observation) to the GP. The posterior mean is shown in red, and the posterior variance in lightred. We then compute the acquisition function on a set of $m$ points in the interval $x \\in [-5, 5]$ and take its maximizer. The entire acquisition function is shown as black line. Its maximizer is the black point.\n",
    "\n",
    "Note how the acquisition has a dent around the data $(x_1, y_1)$, since the variance (but also the mean in this case) at this point is reducing the function value."
   ]
  },
  {
   "cell_type": "code",
   "execution_count": 14,
   "id": "assured-carter",
   "metadata": {},
   "outputs": [
    {
     "data": {
      "image/png": "[encoded data removed]",
      "text/plain": [
       "plot without title"
      ]
     },
     "metadata": {
      "image/png": {
       "height": 420,
       "width": 420
      }
     },
     "output_type": "display_data"
    }
   ],
   "source": [
    "scatterplot(\n",
    "    x.init, y.init, f.star, f.star.var,\n",
    "    data = data.frame(x = x.d, y = y.d)\n",
    "  ) +\n",
    "  geom_line(\n",
    "    data = data.frame(x = x.init, y = ucb),\n",
    "    aes(x, y, color = \"black\")\n",
    "  ) +\n",
    "  geom_point(\n",
    "    data = data.frame(x = x.n, y = max(ucb)),\n",
    "    aes(x, y)\n",
    "  )"
   ]
  },
  {
   "cell_type": "markdown",
   "id": "formed-silly",
   "metadata": {},
   "source": [
    "We then evaluate the point and add it to the data."
   ]
  },
  {
   "cell_type": "code",
   "execution_count": 15,
   "id": "meaningful-phone",
   "metadata": {},
   "outputs": [],
   "source": [
    "y.n <- f(x.n)\n",
    "x.d <- c(x.d, x.n)\n",
    "y.d <- c(y.d, y.n)"
   ]
  },
  {
   "cell_type": "markdown",
   "id": "spread-marking",
   "metadata": {},
   "source": [
    "We can repeat this process of querying points and then acquiring new points as often as we want, until we think we have a good estimate of the maximum of $f$, since we don't have its functional form."
   ]
  },
  {
   "cell_type": "code",
   "execution_count": 16,
   "id": "original-intro",
   "metadata": {},
   "outputs": [
    {
     "name": "stdout",
     "output_type": "stream",
     "text": [
      "\n",
      "SAMPLING FOR MODEL 'bo-surrogate' NOW (CHAIN 1).\n",
      "Chain 1: Iteration: 1 / 1 [100%]  (Sampling)\n",
      "Chain 1: \n",
      "Chain 1:  Elapsed Time: 0 seconds (Warm-up)\n",
      "Chain 1:                0.022381 seconds (Sampling)\n",
      "Chain 1:                0.022381 seconds (Total)\n",
      "Chain 1: \n",
      "\n",
      "SAMPLING FOR MODEL 'bo-surrogate' NOW (CHAIN 1).\n",
      "Chain 1: Iteration: 1 / 1 [100%]  (Sampling)\n",
      "Chain 1: \n",
      "Chain 1:  Elapsed Time: 0 seconds (Warm-up)\n",
      "Chain 1:                0.022171 seconds (Sampling)\n",
      "Chain 1:                0.022171 seconds (Total)\n",
      "Chain 1: \n"
     ]
    }
   ],
   "source": [
    "iter <- acquire(x.d, y.d, x.init)"
   ]
  },
  {
   "cell_type": "code",
   "execution_count": 17,
   "id": "viral-japanese",
   "metadata": {},
   "outputs": [],
   "source": [
    "x.n <- iter$x.next\n",
    "ucb <- iter$ucb\n",
    "f.star <- iter$f.star\n",
    "f.star.var <- iter$f.star.v"
   ]
  },
  {
   "cell_type": "markdown",
   "id": "incoming-indianapolis",
   "metadata": {},
   "source": [
    "The data now consists of two observations, hence the acqusition functions has to dents here."
   ]
  },
  {
   "cell_type": "code",
   "execution_count": 18,
   "id": "indirect-research",
   "metadata": {},
   "outputs": [
    {
     "data": {
      "image/png": "[encoded data removed]",
      "text/plain": [
       "plot without title"
      ]
     },
     "metadata": {
      "image/png": {
       "height": 420,
       "width": 420
      }
     },
     "output_type": "display_data"
    }
   ],
   "source": [
    "scatterplot(\n",
    "    x.init, y.init, f.star, f.star.var,\n",
    "    data = data.frame(x = x.d, y = y.d)\n",
    "  ) +\n",
    "  geom_line(\n",
    "    data = data.frame(x = x.init, y = ucb),\n",
    "    aes(x, y, color = \"black\")\n",
    "  ) +\n",
    "  geom_point(\n",
    "    data = data.frame(x = x.n, y = max(ucb)),\n",
    "    aes(x, y)\n",
    "  )"
   ]
  },
  {
   "cell_type": "markdown",
   "id": "metallic-calendar",
   "metadata": {},
   "source": [
    "Let's repeat this procedure for a couple of times, i.e., propose a point, evaluate it, and repeat."
   ]
  },
  {
   "cell_type": "code",
   "execution_count": 19,
   "id": "incorrect-shark",
   "metadata": {},
   "outputs": [
    {
     "name": "stdout",
     "output_type": "stream",
     "text": [
      "\n",
      "SAMPLING FOR MODEL 'bo-surrogate' NOW (CHAIN 1).\n",
      "Chain 1: Iteration: 1 / 1 [100%]  (Sampling)\n",
      "Chain 1: \n",
      "Chain 1:  Elapsed Time: 0 seconds (Warm-up)\n",
      "Chain 1:                0.024413 seconds (Sampling)\n",
      "Chain 1:                0.024413 seconds (Total)\n",
      "Chain 1: \n",
      "\n",
      "SAMPLING FOR MODEL 'bo-surrogate' NOW (CHAIN 1).\n",
      "Chain 1: Iteration: 1 / 1 [100%]  (Sampling)\n",
      "Chain 1: \n",
      "Chain 1:  Elapsed Time: 0 seconds (Warm-up)\n",
      "Chain 1:                0.023373 seconds (Sampling)\n",
      "Chain 1:                0.023373 seconds (Total)\n",
      "Chain 1: \n",
      "\n",
      "SAMPLING FOR MODEL 'bo-surrogate' NOW (CHAIN 1).\n",
      "Chain 1: Iteration: 1 / 1 [100%]  (Sampling)\n",
      "Chain 1: \n",
      "Chain 1:  Elapsed Time: 0 seconds (Warm-up)\n",
      "Chain 1:                0.02375 seconds (Sampling)\n",
      "Chain 1:                0.02375 seconds (Total)\n",
      "Chain 1: \n",
      "\n",
      "SAMPLING FOR MODEL 'bo-surrogate' NOW (CHAIN 1).\n",
      "Chain 1: Iteration: 1 / 1 [100%]  (Sampling)\n",
      "Chain 1: \n",
      "Chain 1:  Elapsed Time: 0 seconds (Warm-up)\n",
      "Chain 1:                0.022651 seconds (Sampling)\n",
      "Chain 1:                0.022651 seconds (Total)\n",
      "Chain 1: \n",
      "\n",
      "SAMPLING FOR MODEL 'bo-surrogate' NOW (CHAIN 1).\n",
      "Chain 1: Iteration: 1 / 1 [100%]  (Sampling)\n",
      "Chain 1: \n",
      "Chain 1:  Elapsed Time: 0 seconds (Warm-up)\n",
      "Chain 1:                0.023144 seconds (Sampling)\n",
      "Chain 1:                0.023144 seconds (Total)\n",
      "Chain 1: \n",
      "\n",
      "SAMPLING FOR MODEL 'bo-surrogate' NOW (CHAIN 1).\n",
      "Chain 1: Iteration: 1 / 1 [100%]  (Sampling)\n",
      "Chain 1: \n",
      "Chain 1:  Elapsed Time: 0 seconds (Warm-up)\n",
      "Chain 1:                0.025268 seconds (Sampling)\n",
      "Chain 1:                0.025268 seconds (Total)\n",
      "Chain 1: \n",
      "\n",
      "SAMPLING FOR MODEL 'bo-surrogate' NOW (CHAIN 1).\n",
      "Chain 1: Iteration: 1 / 1 [100%]  (Sampling)\n",
      "Chain 1: \n",
      "Chain 1:  Elapsed Time: 0 seconds (Warm-up)\n",
      "Chain 1:                0.023545 seconds (Sampling)\n",
      "Chain 1:                0.023545 seconds (Total)\n",
      "Chain 1: \n",
      "\n",
      "SAMPLING FOR MODEL 'bo-surrogate' NOW (CHAIN 1).\n",
      "Chain 1: Iteration: 1 / 1 [100%]  (Sampling)\n",
      "Chain 1: \n",
      "Chain 1:  Elapsed Time: 0 seconds (Warm-up)\n",
      "Chain 1:                0.022721 seconds (Sampling)\n",
      "Chain 1:                0.022721 seconds (Total)\n",
      "Chain 1: \n",
      "\n",
      "SAMPLING FOR MODEL 'bo-surrogate' NOW (CHAIN 1).\n",
      "Chain 1: Iteration: 1 / 1 [100%]  (Sampling)\n",
      "Chain 1: \n",
      "Chain 1:  Elapsed Time: 0 seconds (Warm-up)\n",
      "Chain 1:                0.024789 seconds (Sampling)\n",
      "Chain 1:                0.024789 seconds (Total)\n",
      "Chain 1: \n",
      "\n",
      "SAMPLING FOR MODEL 'bo-surrogate' NOW (CHAIN 1).\n",
      "Chain 1: Iteration: 1 / 1 [100%]  (Sampling)\n",
      "Chain 1: \n",
      "Chain 1:  Elapsed Time: 0 seconds (Warm-up)\n",
      "Chain 1:                0.023593 seconds (Sampling)\n",
      "Chain 1:                0.023593 seconds (Total)\n",
      "Chain 1: \n",
      "\n",
      "SAMPLING FOR MODEL 'bo-surrogate' NOW (CHAIN 1).\n",
      "Chain 1: Iteration: 1 / 1 [100%]  (Sampling)\n",
      "Chain 1: \n",
      "Chain 1:  Elapsed Time: 0 seconds (Warm-up)\n",
      "Chain 1:                0.023539 seconds (Sampling)\n",
      "Chain 1:                0.023539 seconds (Total)\n",
      "Chain 1: \n",
      "\n",
      "SAMPLING FOR MODEL 'bo-surrogate' NOW (CHAIN 1).\n",
      "Chain 1: Iteration: 1 / 1 [100%]  (Sampling)\n",
      "Chain 1: \n",
      "Chain 1:  Elapsed Time: 0 seconds (Warm-up)\n",
      "Chain 1:                0.024346 seconds (Sampling)\n",
      "Chain 1:                0.024346 seconds (Total)\n",
      "Chain 1: \n",
      "\n",
      "SAMPLING FOR MODEL 'bo-surrogate' NOW (CHAIN 1).\n",
      "Chain 1: Iteration: 1 / 1 [100%]  (Sampling)\n",
      "Chain 1: \n",
      "Chain 1:  Elapsed Time: 0 seconds (Warm-up)\n",
      "Chain 1:                0.023432 seconds (Sampling)\n",
      "Chain 1:                0.023432 seconds (Total)\n",
      "Chain 1: \n",
      "\n",
      "SAMPLING FOR MODEL 'bo-surrogate' NOW (CHAIN 1).\n",
      "Chain 1: Iteration: 1 / 1 [100%]  (Sampling)\n",
      "Chain 1: \n",
      "Chain 1:  Elapsed Time: 0 seconds (Warm-up)\n",
      "Chain 1:                0.023934 seconds (Sampling)\n",
      "Chain 1:                0.023934 seconds (Total)\n",
      "Chain 1: \n",
      "\n",
      "SAMPLING FOR MODEL 'bo-surrogate' NOW (CHAIN 1).\n",
      "Chain 1: Iteration: 1 / 1 [100%]  (Sampling)\n",
      "Chain 1: \n",
      "Chain 1:  Elapsed Time: 0 seconds (Warm-up)\n",
      "Chain 1:                0.029211 seconds (Sampling)\n",
      "Chain 1:                0.029211 seconds (Total)\n",
      "Chain 1: \n",
      "\n",
      "SAMPLING FOR MODEL 'bo-surrogate' NOW (CHAIN 1).\n",
      "Chain 1: Iteration: 1 / 1 [100%]  (Sampling)\n",
      "Chain 1: \n",
      "Chain 1:  Elapsed Time: 0 seconds (Warm-up)\n",
      "Chain 1:                0.02647 seconds (Sampling)\n",
      "Chain 1:                0.02647 seconds (Total)\n",
      "Chain 1: \n",
      "\n",
      "SAMPLING FOR MODEL 'bo-surrogate' NOW (CHAIN 1).\n",
      "Chain 1: Iteration: 1 / 1 [100%]  (Sampling)\n",
      "Chain 1: \n",
      "Chain 1:  Elapsed Time: 0 seconds (Warm-up)\n",
      "Chain 1:                0.026826 seconds (Sampling)\n",
      "Chain 1:                0.026826 seconds (Total)\n",
      "Chain 1: \n",
      "\n",
      "SAMPLING FOR MODEL 'bo-surrogate' NOW (CHAIN 1).\n",
      "Chain 1: Iteration: 1 / 1 [100%]  (Sampling)\n",
      "Chain 1: \n",
      "Chain 1:  Elapsed Time: 0 seconds (Warm-up)\n",
      "Chain 1:                0.026699 seconds (Sampling)\n",
      "Chain 1:                0.026699 seconds (Total)\n",
      "Chain 1: \n",
      "\n",
      "SAMPLING FOR MODEL 'bo-surrogate' NOW (CHAIN 1).\n",
      "Chain 1: Iteration: 1 / 1 [100%]  (Sampling)\n",
      "Chain 1: \n",
      "Chain 1:  Elapsed Time: 0 seconds (Warm-up)\n",
      "Chain 1:                0.028219 seconds (Sampling)\n",
      "Chain 1:                0.028219 seconds (Total)\n",
      "Chain 1: \n",
      "\n",
      "SAMPLING FOR MODEL 'bo-surrogate' NOW (CHAIN 1).\n",
      "Chain 1: Iteration: 1 / 1 [100%]  (Sampling)\n",
      "Chain 1: \n",
      "Chain 1:  Elapsed Time: 0 seconds (Warm-up)\n",
      "Chain 1:                0.02675 seconds (Sampling)\n",
      "Chain 1:                0.02675 seconds (Total)\n",
      "Chain 1: \n",
      "\n",
      "SAMPLING FOR MODEL 'bo-surrogate' NOW (CHAIN 1).\n",
      "Chain 1: Iteration: 1 / 1 [100%]  (Sampling)\n",
      "Chain 1: \n",
      "Chain 1:  Elapsed Time: 0 seconds (Warm-up)\n",
      "Chain 1:                0.025786 seconds (Sampling)\n",
      "Chain 1:                0.025786 seconds (Total)\n",
      "Chain 1: \n",
      "\n",
      "SAMPLING FOR MODEL 'bo-surrogate' NOW (CHAIN 1).\n",
      "Chain 1: Iteration: 1 / 1 [100%]  (Sampling)\n",
      "Chain 1: \n",
      "Chain 1:  Elapsed Time: 0 seconds (Warm-up)\n",
      "Chain 1:                0.02583 seconds (Sampling)\n",
      "Chain 1:                0.02583 seconds (Total)\n",
      "Chain 1: \n",
      "\n",
      "SAMPLING FOR MODEL 'bo-surrogate' NOW (CHAIN 1).\n",
      "Chain 1: Iteration: 1 / 1 [100%]  (Sampling)\n",
      "Chain 1: \n",
      "Chain 1:  Elapsed Time: 0 seconds (Warm-up)\n",
      "Chain 1:                0.024741 seconds (Sampling)\n",
      "Chain 1:                0.024741 seconds (Total)\n",
      "Chain 1: \n",
      "\n",
      "SAMPLING FOR MODEL 'bo-surrogate' NOW (CHAIN 1).\n",
      "Chain 1: Iteration: 1 / 1 [100%]  (Sampling)\n",
      "Chain 1: \n",
      "Chain 1:  Elapsed Time: 0 seconds (Warm-up)\n",
      "Chain 1:                0.025022 seconds (Sampling)\n",
      "Chain 1:                0.025022 seconds (Total)\n",
      "Chain 1: \n",
      "\n",
      "SAMPLING FOR MODEL 'bo-surrogate' NOW (CHAIN 1).\n",
      "Chain 1: Iteration: 1 / 1 [100%]  (Sampling)\n",
      "Chain 1: \n",
      "Chain 1:  Elapsed Time: 0 seconds (Warm-up)\n",
      "Chain 1:                0.024761 seconds (Sampling)\n",
      "Chain 1:                0.024761 seconds (Total)\n",
      "Chain 1: \n",
      "\n",
      "SAMPLING FOR MODEL 'bo-surrogate' NOW (CHAIN 1).\n",
      "Chain 1: Iteration: 1 / 1 [100%]  (Sampling)\n",
      "Chain 1: \n",
      "Chain 1:  Elapsed Time: 0 seconds (Warm-up)\n",
      "Chain 1:                0.025855 seconds (Sampling)\n",
      "Chain 1:                0.025855 seconds (Total)\n",
      "Chain 1: \n",
      "\n",
      "SAMPLING FOR MODEL 'bo-surrogate' NOW (CHAIN 1).\n",
      "Chain 1: Iteration: 1 / 1 [100%]  (Sampling)\n",
      "Chain 1: \n",
      "Chain 1:  Elapsed Time: 0 seconds (Warm-up)\n",
      "Chain 1:                0.026555 seconds (Sampling)\n",
      "Chain 1:                0.026555 seconds (Total)\n",
      "Chain 1: \n",
      "\n",
      "SAMPLING FOR MODEL 'bo-surrogate' NOW (CHAIN 1).\n",
      "Chain 1: Iteration: 1 / 1 [100%]  (Sampling)\n",
      "Chain 1: \n",
      "Chain 1:  Elapsed Time: 0 seconds (Warm-up)\n",
      "Chain 1:                0.025737 seconds (Sampling)\n",
      "Chain 1:                0.025737 seconds (Total)\n",
      "Chain 1: \n",
      "\n",
      "SAMPLING FOR MODEL 'bo-surrogate' NOW (CHAIN 1).\n",
      "Chain 1: Iteration: 1 / 1 [100%]  (Sampling)\n",
      "Chain 1: \n",
      "Chain 1:  Elapsed Time: 0 seconds (Warm-up)\n",
      "Chain 1:                0.025977 seconds (Sampling)\n",
      "Chain 1:                0.025977 seconds (Total)\n",
      "Chain 1: \n",
      "\n",
      "SAMPLING FOR MODEL 'bo-surrogate' NOW (CHAIN 1).\n",
      "Chain 1: Iteration: 1 / 1 [100%]  (Sampling)\n",
      "Chain 1: \n",
      "Chain 1:  Elapsed Time: 0 seconds (Warm-up)\n",
      "Chain 1:                0.028488 seconds (Sampling)\n",
      "Chain 1:                0.028488 seconds (Total)\n",
      "Chain 1: \n",
      "\n",
      "SAMPLING FOR MODEL 'bo-surrogate' NOW (CHAIN 1).\n",
      "Chain 1: Iteration: 1 / 1 [100%]  (Sampling)\n",
      "Chain 1: \n",
      "Chain 1:  Elapsed Time: 0 seconds (Warm-up)\n",
      "Chain 1:                0.025991 seconds (Sampling)\n",
      "Chain 1:                0.025991 seconds (Total)\n",
      "Chain 1: \n",
      "\n",
      "SAMPLING FOR MODEL 'bo-surrogate' NOW (CHAIN 1).\n",
      "Chain 1: Iteration: 1 / 1 [100%]  (Sampling)\n",
      "Chain 1: \n",
      "Chain 1:  Elapsed Time: 0 seconds (Warm-up)\n",
      "Chain 1:                0.025225 seconds (Sampling)\n",
      "Chain 1:                0.025225 seconds (Total)\n",
      "Chain 1: \n",
      "\n",
      "SAMPLING FOR MODEL 'bo-surrogate' NOW (CHAIN 1).\n",
      "Chain 1: Iteration: 1 / 1 [100%]  (Sampling)\n",
      "Chain 1: \n",
      "Chain 1:  Elapsed Time: 0 seconds (Warm-up)\n",
      "Chain 1:                0.025468 seconds (Sampling)\n",
      "Chain 1:                0.025468 seconds (Total)\n",
      "Chain 1: \n",
      "\n",
      "SAMPLING FOR MODEL 'bo-surrogate' NOW (CHAIN 1).\n",
      "Chain 1: Iteration: 1 / 1 [100%]  (Sampling)\n",
      "Chain 1: \n",
      "Chain 1:  Elapsed Time: 0 seconds (Warm-up)\n",
      "Chain 1:                0.02532 seconds (Sampling)\n",
      "Chain 1:                0.02532 seconds (Total)\n",
      "Chain 1: \n",
      "\n",
      "SAMPLING FOR MODEL 'bo-surrogate' NOW (CHAIN 1).\n",
      "Chain 1: Iteration: 1 / 1 [100%]  (Sampling)\n",
      "Chain 1: \n",
      "Chain 1:  Elapsed Time: 0 seconds (Warm-up)\n",
      "Chain 1:                0.024788 seconds (Sampling)\n",
      "Chain 1:                0.024788 seconds (Total)\n",
      "Chain 1: \n",
      "\n",
      "SAMPLING FOR MODEL 'bo-surrogate' NOW (CHAIN 1).\n",
      "Chain 1: Iteration: 1 / 1 [100%]  (Sampling)\n",
      "Chain 1: \n",
      "Chain 1:  Elapsed Time: 0 seconds (Warm-up)\n",
      "Chain 1:                0.025271 seconds (Sampling)\n",
      "Chain 1:                0.025271 seconds (Total)\n",
      "Chain 1: \n",
      "\n",
      "SAMPLING FOR MODEL 'bo-surrogate' NOW (CHAIN 1).\n",
      "Chain 1: Iteration: 1 / 1 [100%]  (Sampling)\n",
      "Chain 1: \n",
      "Chain 1:  Elapsed Time: 0 seconds (Warm-up)\n",
      "Chain 1:                0.026622 seconds (Sampling)\n",
      "Chain 1:                0.026622 seconds (Total)\n",
      "Chain 1: \n",
      "\n",
      "SAMPLING FOR MODEL 'bo-surrogate' NOW (CHAIN 1).\n",
      "Chain 1: Iteration: 1 / 1 [100%]  (Sampling)\n",
      "Chain 1: \n",
      "Chain 1:  Elapsed Time: 0 seconds (Warm-up)\n",
      "Chain 1:                0.026481 seconds (Sampling)\n",
      "Chain 1:                0.026481 seconds (Total)\n",
      "Chain 1: \n",
      "\n",
      "SAMPLING FOR MODEL 'bo-surrogate' NOW (CHAIN 1).\n",
      "Chain 1: Iteration: 1 / 1 [100%]  (Sampling)\n",
      "Chain 1: \n",
      "Chain 1:  Elapsed Time: 0 seconds (Warm-up)\n",
      "Chain 1:                0.025894 seconds (Sampling)\n",
      "Chain 1:                0.025894 seconds (Total)\n",
      "Chain 1: \n",
      "\n",
      "SAMPLING FOR MODEL 'bo-surrogate' NOW (CHAIN 1).\n",
      "Chain 1: Iteration: 1 / 1 [100%]  (Sampling)\n",
      "Chain 1: \n",
      "Chain 1:  Elapsed Time: 0 seconds (Warm-up)\n",
      "Chain 1:                0.025495 seconds (Sampling)\n",
      "Chain 1:                0.025495 seconds (Total)\n",
      "Chain 1: \n"
     ]
    }
   ],
   "source": [
    "for (i in seq(20)) {\n",
    "    y.n <- f(x.n)\n",
    "    x.d <- c(x.d, x.n)\n",
    "    y.d <- c(y.d, y.n)\n",
    "    iter <- acquire(x.d, y.d, x.init)\n",
    "    x.n <- iter$x.next\n",
    "}"
   ]
  },
  {
   "cell_type": "markdown",
   "id": "brazilian-episode",
   "metadata": {},
   "source": [
    "For the last iteration, we extract the acquisition function, and posterior mean and variance, and plot all iterations."
   ]
  },
  {
   "cell_type": "code",
   "execution_count": 20,
   "id": "liquid-hobby",
   "metadata": {},
   "outputs": [],
   "source": [
    "ucb    <- iter$ucb\n",
    "f.star <- iter$f.star\n",
    "f.star.var <- iter$f.star.v"
   ]
  },
  {
   "cell_type": "code",
   "execution_count": 21,
   "id": "equipped-needle",
   "metadata": {},
   "outputs": [
    {
     "data": {
      "image/png": "[encoded data removed]",
      "text/plain": [
       "plot without title"
      ]
     },
     "metadata": {
      "image/png": {
       "height": 420,
       "width": 420
      }
     },
     "output_type": "display_data"
    }
   ],
   "source": [
    "scatterplot(\n",
    "    x.init, y.init, f.star, f.star.var,\n",
    "    data = data.frame(x = x.d, y = y.d)\n",
    "  ) +\n",
    "  geom_line(\n",
    "    data = data.frame(x = x.init, y = ucb),\n",
    "    aes(x, y, color = \"black\")\n",
    "  ) +\n",
    "  geom_point(\n",
    "    data = data.frame(x = x.n, y = max(ucb)),\n",
    "    aes(x, y)\n",
    "  )"
   ]
  },
  {
   "cell_type": "markdown",
   "id": "executed-clone",
   "metadata": {},
   "source": [
    "This worked nicely. While some of the points are spread around the entire domain of $\\mathcal{X}$, an increasing number centers around the function's maximum."
   ]
  },
  {
   "cell_type": "markdown",
   "id": "champion-encounter",
   "metadata": {},
   "source": [
    "## License\n",
    "\n",
    "<a rel=\"license\" href=\"http://creativecommons.org/licenses/by-nc/4.0/\"><img align=\"left\" alt=\"Creative Commons License\" style=\"border-width:0\" src=\"https://i.creativecommons.org/l/by-nc/4.0/88x31.png\" /></a> <br>\n",
    "\n",
    "The notebook is licensed under a <a rel=\"license\" href=\"http://creativecommons.org/licenses/by-nc/4.0/\">Creative Commons Attribution-NonCommercial 4.0 International License</a>."
   ]
  }
 ],
 "metadata": {
  "kernelspec": {
   "display_name": "R",
   "language": "R",
   "name": "ir"
  },
  "language_info": {
   "codemirror_mode": "r",
   "file_extension": ".r",
   "mimetype": "text/x-r-source",
   "name": "R",
   "pygments_lexer": "r",
   "version": "4.0.2"
  }
 },
 "nbformat": 4,
 "nbformat_minor": 5
}
