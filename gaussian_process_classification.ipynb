{
 "cells": [
  {
   "cell_type": "markdown",
   "metadata": {},
   "source": [
    "# Gaussian process classification\n",
    "\n",
    "[Gaussian process regression](gaussian_process_regression.ipynb) introduced how we can use Gaussian processes for regression when we assumed normally distributed data. In that scenario derivation of the posterior GP was especially easy, because it has a closed form solution.\n",
    "\n",
    "In this section we will extend the GP framework with classification of data consisting of two groups, where we use most material from [Rasmussen and Williams (2006)](http://www.gaussianprocess.org/gpml/). I also recommend Michael Betancourt's [Robust Gaussian Processes in Stan](https://betanalpha.github.io/assets/case_studies/gp_part1/part1.html) as a resource, for instance to learn more about hyperparameter inference which won't be covered here.\n",
    "\n",
    "We will again use `GPy` and `scipy` for demonstration."
   ]
  },
  {
   "cell_type": "code",
   "execution_count": 1,
   "metadata": {},
   "outputs": [],
   "source": [
    "import GPy\n",
    "import scipy\n",
    "from sklearn.metrics.pairwise import rbf_kernel\n",
    "from scipy.special import expit\n",
    "from scipy.stats import bernoulli \n",
    "\n",
    "%matplotlib inline\n",
    "import matplotlib.pyplot as plt\n",
    "plt.rcParams['figure.figsize'] = [15, 6]\n",
    "\n",
    "N = 5\n",
    "base = plt.cm.get_cmap(\"viridis\")\n",
    "color_list = base(scipy.linspace(0, 1, N))"
   ]
  },
  {
   "cell_type": "code",
   "execution_count": 2,
   "metadata": {},
   "outputs": [],
   "source": [
    "rnorm = scipy.stats.norm.rvs\n",
    "mvrnorm = scipy.stats.multivariate_normal.rvs"
   ]
  },
  {
   "cell_type": "markdown",
   "metadata": {},
   "source": [
    "###  GP prior\n",
    "\n",
    "For classification we will still use a Gaussian process prior, even though our data is not Gaussian:\n",
    "\n",
    "\\begin{align*}\n",
    "f(\\mathbf{x}) & \\sim \\mathcal{GP}(m(\\mathbf{x}), k(\\mathbf{x}, \\mathbf{x}')) ,\\\\\n",
    "p(f \\mid \\mathbf{x}) & = \\mathcal{N}(m(\\mathbf{x}), k(\\mathbf{x}, \\mathbf{x}')),\n",
    "\\end{align*}\n",
    "\n",
    "where $m$ is again the mean function and $k$ is a *kernel function* $k$ is a psd kernel with respective hyperparameters.\n",
    "\n",
    "For classification we will a data set $\\mathcal{D} = \\{(\\mathbf{x}_i, y_i)\\}_{i=1}^n$ with $y_i \\in \\{0, 1\\}$.\n",
    "\n",
    "Consequently, we need to *squash* a **latent** sample of the GP prior through a logistic function to receive a prior on the probabilities $\\pi(\\mathbf{x})$, i.e. the expeted values of $y_i$;\n",
    "\n",
    "\\begin{equation}\n",
    "\\pi(x) = \\frac{1}{1+\\exp(-x)}\n",
    "\\end{equation}"
   ]
  },
  {
   "cell_type": "markdown",
   "metadata": {},
   "source": [
    "Let's visualize some prior samples $\\pi(\\cdot)$. First we generate some data:"
   ]
  },
  {
   "cell_type": "code",
   "execution_count": 3,
   "metadata": {},
   "outputs": [],
   "source": [
    "scipy.random.seed(23)\n",
    "\n",
    "n = 50\n",
    "x = scipy.linspace(0, 1, n).reshape((n, 1))\n",
    "beta = 2\n",
    "z = expit(scipy.sin(x) * beta)\n",
    "y = scipy.zeros(n)\n",
    "y[int(n/2):] = 1"
   ]
  },
  {
   "cell_type": "code",
   "execution_count": 4,
   "metadata": {},
   "outputs": [
    {
     "data": {
      "image/png": "[encoded data removed]",
      "text/plain": [
       "<matplotlib.figure.Figure at 0x1196425c0>"
      ]
     },
     "metadata": {},
     "output_type": "display_data"
    }
   ],
   "source": [
    "_, ax = plt.subplots()\n",
    "ax.scatter(scipy.sin(x), y, color=\"blue\")\n",
    "plt.xlabel(\"$x$\", fontsize=25)\n",
    "plt.ylabel(\"$y$\", fontsize=25)\n",
    "ax.tick_params(axis='both', which='major', labelsize=20)\n",
    "ax.tick_params(length=0, color=\"black\")\n",
    "ax.spines[\"top\"].set_visible(False)\n",
    "ax.spines[\"right\"].set_visible(False)\n",
    "plt.show()"
   ]
  },
  {
   "cell_type": "markdown",
   "metadata": {},
   "source": [
    "Then we define the kernel and likelihood:"
   ]
  },
  {
   "cell_type": "code",
   "execution_count": 5,
   "metadata": {},
   "outputs": [],
   "source": [
    "m = scipy.zeros(n)\n",
    "kernel = GPy.kern.RBF(input_dim=1)\n",
    "\n",
    "k = kernel.K(x, x)\n",
    "lik = GPy.likelihoods.Bernoulli()"
   ]
  },
  {
   "cell_type": "markdown",
   "metadata": {},
   "source": [
    "Finally, we sample some prior values. First we generate a sample from the latent GP. Then we transform these values using the sigmoid function. In the end we binarize the outcome of the last step."
   ]
  },
  {
   "cell_type": "code",
   "execution_count": 6,
   "metadata": {},
   "outputs": [],
   "source": [
    "f_prior = mvrnorm(mean=m, cov=k)\n",
    "p_prior = lik.gp_link.transf(f_prior)\n",
    "y_prior = lik.samples(f_prior).reshape(-1,1) "
   ]
  },
  {
   "cell_type": "code",
   "execution_count": 7,
   "metadata": {},
   "outputs": [
    {
     "data": {
      "image/png": "[encoded data removed]",
      "text/plain": [
       "<matplotlib.figure.Figure at 0x11b692748>"
      ]
     },
     "metadata": {},
     "output_type": "display_data"
    }
   ],
   "source": [
    "_, ax = plt.subplots()\n",
    "ax.scatter(x, p_prior, color=\"k\", marker=\"o\", alpha=0.75, label=\"P prior\")\n",
    "ax.scatter(x, y_prior, color=\"blue\", marker=\"x\", alpha=0.75, label=\"Y prior\")\n",
    "ax.spines['top'].set_visible(False)\n",
    "ax.spines['right'].set_visible(False)\n",
    "ax.tick_params(axis='both', which='major', labelsize=20)\n",
    "ax.tick_params(length=0, color=\"black\")\n",
    "plt.legend()\n",
    "plt.show()"
   ]
  },
  {
   "cell_type": "markdown",
   "metadata": {},
   "source": [
    "This is of course fairly random, so our prior guess is pretty off charts."
   ]
  },
  {
   "cell_type": "markdown",
   "metadata": {},
   "source": [
    "### GP posterior\n",
    "\n",
    "We will use a binomial likelihood for constructing the posterior:\n",
    "\n",
    "\\begin{align*}\n",
    "p(\\mathbf{y} \\mid f, \\mathbf{x}) = \\prod_i^n \\mathcal{Bernoulli}\\left(\\text{logit}^{-1} \\left(f \\right) \\right),\n",
    "\\end{align*}\n",
    "\n",
    "where we used a *logit link function*. The inverse of the $\\text{logit}$ is the well-known $\\text{logistic}$ function which we already defined above. We will call the inverse of the link function the *mean function*. The necessity of a mean function is the same as in GLMs: relating the expected value of the response to the predictor.\n",
    "\n",
    "The posterior Gaussian process is then given by:\n",
    "\n",
    "\\begin{align*}\n",
    "\\text{posterior} & \\propto \\text{likelihood} \\times \\text{prior},\\\\\n",
    "p(f \\mid \\mathbf{y}, \\mathbf{x}) & \\propto p(\\mathbf{y} \\mid f, \\mathbf{x}) \\ p(f \\mid \\mathbf{x}).\n",
    "\\end{align*}\n",
    "\n",
    "Since the prior is not conjugate to the likelihood, the posterior does not have an analytical form and thus needs to bei either approximated deterministically, e.g using Laplace's approximation, expectation propagation or variationally, or stochastically using sampling. I'll go over two different approaches:\n",
    "\n",
    "- the Laplace approximation (which is one of the typical textbook examples),\n",
    "- a Markov Chain Monte Carlo sampler."
   ]
  },
  {
   "cell_type": "markdown",
   "metadata": {},
   "source": [
    "#### Laplace approximation to the posterior\n",
    "\n",
    "Since the Gaussian process prior distribution is multivariate Gaussian, the posterior is often also fairly close to a multivariate Gaussian, unimodal and roughly symmetric. Note that this implies that for more complex likelihoods the normal approximation should be a fairly bad choice.\n",
    "\n",
    "We shall use a Taylor expansion around the mode $\\bar{f} $ of the log-posterior $\\log p(f \\mid \\mathbf{y}, \\mathbf{x})$, i.e.\n",
    "\n",
    "\\begin{align*}\n",
    "\\log p(f \\mid \\mathbf{y}, \\mathbf{x}) = & \\ \\underbrace{\\log p(\\bar{f} \\mid \\mathbf{y}, \\mathbf{x})}_{\\text{constant}} \\\\ \n",
    "& + \\underbrace{(f - \\bar{f}) \\left[ \\frac{\\partial  }{\\partial f} \\log p({f} \\mid \\mathbf{y}, \\mathbf{x})  \\right]_{\\mid \\;f = \\bar{f}}}_{0} \\\\\n",
    "& + \\frac{1}{2}(f - \\bar{f})^T \\left[ \\frac{\\partial^2 }{\\partial f^2} \\log p({f} \\mid \\mathbf{y}, \\mathbf{x})  \\right]_{\\mid \\;f = \\bar{f}}(f - \\bar{f}) \\\\\n",
    "& + \\dots\n",
    "\\end{align*}\n",
    "\n",
    "The first line is a constant in the mode $\\bar{f}$. The first partial derivative evaluated at $f = \\bar{f}$ is zero, because it is the mode of the function, so we can safely omit it. The other higher order derivatives can also be omitted due to the fact that they have less relative importance for large $n$. So let's take a closer look at the second partial derivative. We observe that\n",
    "\n",
    "\\begin{align*}\n",
    "\\frac{1}{2}(f - \\bar{f})^T \\left[ \\frac{\\partial^2 }{\\partial f^2} \\log p({f} \\mid \\mathbf{y}, \\mathbf{x})  \\right]_{\\mid \\;f = \\bar{f}}(f - \\bar{f})\n",
    "\\end{align*}\n",
    "\n",
    "is proportional to the exponent of a multivariate normal distribution with mean $\\boldsymbol \\mu = \\bar{f}$ and variance $\\boldsymbol  \\Sigma = \\left( - \\frac{\\partial^2 }{\\partial f^2} \\log p({f} \\mid \\mathbf{y}, \\mathbf{x})\\right)^{-1} $. So we use this to approximate the posterior as:\n",
    "\n",
    "\\begin{align*}\n",
    "p(f \\mid \\mathbf{y}, \\mathbf{x}) & \\approx q(f \\mid \\mathbf{x}, \\mathbf{y}) \\\\\n",
    "& = \\mathcal{N}\\left(\\bar{f} , \\left( - \\frac{\\partial^2 }{\\partial f^2} \\log p({f} \\mid \\mathbf{y}, \\mathbf{x})  \\right)^{-1}\\right).\n",
    "\\end{align*}"
   ]
  },
  {
   "cell_type": "markdown",
   "metadata": {},
   "source": [
    "In order to find the mode $\\bar{f}$ of the posterior $p(f \\mid \\mathbf{y}, \\mathbf{x})$, we need to maximize it (or its logarithm):\n",
    "\n",
    "\\begin{align*}\n",
    "\\log p(f \\mid \\mathbf{y}, \\mathbf{x}) = \\log p(\\mathbf{y} \\mid f, \\mathbf{x}) + \\log p(f \\mid \\mathbf{x}) - \\log(\\mathbf{y} \\mid \\mathbf{x}).\n",
    "\\end{align*}\n",
    "\n",
    "Maximizing the posterior w.r.t. $f$ is independent of the marginal likelihood, so it suffices to maximize\n",
    "\n",
    "\\begin{align*}\n",
    "\\Psi(f) = \\log p(\\mathbf{y} \\mid f, \\mathbf{x}) + \\log p(f \\mid \\mathbf{x}).\n",
    "\\end{align*}\n",
    "\n",
    "We can optimze this using a standard gradient based solver, but since we need the Hessian matrix anyways for the variance of the normal approximation, it makes sense to use Newton's method.\n",
    "\n",
    "The Jacobian and Hessian of $\\Psi(f)$ are given by:\n",
    "\n",
    "\\begin{align*}\n",
    "\\frac{\\partial }{\\partial f} \\Psi &= \\frac{\\partial}{\\partial f} \\log p(\\mathbf{y} \\mid f, \\mathbf{x}) - k(\\mathbf{x}, \\mathbf{x}')^{-1}f,\\\\\n",
    "\\frac{\\partial^2 }{\\partial f^2}\\Psi & = \\frac{\\partial^2}{\\partial f^2}  \\log p(\\mathbf{y}\\mid f, \\mathbf{x}) -k(\\mathbf{x}, \\mathbf{x}')^{-1},\n",
    "\\end{align*}\n",
    "\n",
    "where the Hessian of the likelihood depends on the choice of the mean function. As above we will usea logistic mean function, and define a matrix $\\mathbf{W}$ as the negative Hessian:\n",
    "\n",
    "\\begin{align*}\n",
    "\\mathbf{W} & = - \\frac{\\partial^2}{\\partial f^2}  \\log p(\\mathbf{y}\\mid f, \\mathbf{x}) \\\\ & =  \\operatorname{diag}(\\sigma_1(1 - \\sigma_1), \\dots,  \\sigma_n(1 - \\sigma_n))\n",
    "\\end{align*}\n",
    "\n",
    "Having laid the ground-work, we update $\\bar{f}$ in every iteration of Newton's method as:\n",
    "\n",
    "\\begin{align*}\n",
    "\\bar{f}_{t + 1} & = \\bar{f}_{t} - (\\nabla \\nabla \\Psi)^{-1} \\nabla \\Psi\\\\\n",
    "& = (k(\\mathbf{x}, \\mathbf{x}')^{-1} + \\mathbf{W})^{-1}\\left(\\mathbf{W}f + \\nabla \\log p(\\mathbf{y} \\mid f, \\mathbf{x})\\right)\n",
    "\\end{align*}"
   ]
  },
  {
   "cell_type": "markdown",
   "metadata": {},
   "source": [
    "Having solved this for $\\bar{f}$, the approximate posterior is given as:\n",
    "\n",
    "\\begin{align*}\n",
    "q(f \\mid \\mathbf{y}, \\mathbf{x}) = \\mathcal{N}(\\bar{f}, \\frac{\\partial^2}{\\partial f^2}  \\log p(\\mathbf{y}\\mid f, \\mathbf{x}) -k(\\mathbf{x}, \\mathbf{x}')^{-1} ),\n",
    "\\end{align*}\n",
    "\n",
    "The implementation is fairly straight-forward, so we won't do that here. If you want to see a solution in R, you can for instance look at some [of my code](https://github.com/dirmeier/GPy)."
   ]
  },
  {
   "cell_type": "markdown",
   "metadata": {},
   "source": [
    "Let's again demostrate this using `GPy`. First we set the model and the inference method of our choice: the Laplace approximation as explained above. For convenience we redefine the kernel and likelihood from above."
   ]
  },
  {
   "cell_type": "code",
   "execution_count": 8,
   "metadata": {},
   "outputs": [
    {
     "data": {
      "text/plain": [
       "<paramz.optimization.optimization.opt_lbfgsb at 0x119607fd0>"
      ]
     },
     "execution_count": 8,
     "metadata": {},
     "output_type": "execute_result"
    }
   ],
   "source": [
    "m = GPy.core.GP(X = x.reshape((n, 1)),\n",
    "                Y = y.reshape((n, 1)), \n",
    "                kernel = GPy.kern.RBF(input_dim=1), \n",
    "                inference_method = GPy.inference.latent_function_inference.Laplace(),\n",
    "                likelihood = GPy.likelihoods.Bernoulli())\n",
    "m.optimize()"
   ]
  },
  {
   "cell_type": "markdown",
   "metadata": {},
   "source": [
    "Then we plot the data and the mean posterior process."
   ]
  },
  {
   "cell_type": "code",
   "execution_count": 9,
   "metadata": {},
   "outputs": [
    {
     "name": "stderr",
     "output_type": "stream",
     "text": [
      " /Users/simondi/anaconda3/envs/py36/lib/python3.6/site-packages/matplotlib/figure.py:2022: UserWarning:This figure includes Axes that are not compatible with tight_layout, so results might be incorrect.\n"
     ]
    },
    {
     "data": {
      "image/png": "[encoded data removed]",
      "text/plain": [
       "<matplotlib.figure.Figure at 0x119607e48>"
      ]
     },
     "metadata": {},
     "output_type": "display_data"
    }
   ],
   "source": [
    "m.plot()\n",
    "plt.tick_params(axis='both', which='major', labelsize=20)\n",
    "plt.tick_params(length=0, color=\"black\")\n",
    "plt.legend(fontsize=25)\n",
    "plt.show()"
   ]
  },
  {
   "cell_type": "markdown",
   "metadata": {},
   "source": [
    "#### Laplace approximation of the posterior predictive"
   ]
  },
  {
   "cell_type": "markdown",
   "metadata": {},
   "source": [
    "Using the approximation of the posterior, we can calculate the predictive distribution of the latent variable $f^*$ for new data ${x}^*$:\n",
    "\n",
    "\\begin{align}\n",
    "q(f^* \\mid x^*, \\mathbf{x}, \\mathbf{y}) & = \\int p(f^* \\mid {x}^*, \\mathbf{x}, {f}) q({f} \\mid \\mathbf{x}, \\mathbf{y})d{f} \\\\\n",
    "\\mathbb{E}[f^* \\mid x^*, \\mathbf{x}, \\mathbf{y}] & =  \\kappa({x}^*, \\mathbf{x} )(\\mathbf{y} -  \\sigma(\\bar{{f}})) \\\\\n",
    "\\mathbb{V}[f^* \\mid x^*, \\mathbf{x}, \\mathbf{y}] & =  \\kappa({x}^*, {x}^*) - \\kappa({x}^*, \\mathbf{x} ) (\\mathbf{K} + \\mathbf{W}^{-1} )^{-1}  \\kappa(\\mathbf{x}, {x}^*)\n",
    "\\end{align}\n",
    "\n",
    "The class of a novel data-point $y^*$ is then calculated as:\n",
    "\n",
    "\\begin{align}\n",
    "P(y^* = 1 \\mid x^*, \\mathbf{x}, \\mathbf{y}) & = \\int \\sigma(y^*) q(f^* \\mid x^*, \\mathbf{x}, \\mathbf{y}) d f^* \\\\\n",
    "& =   \\int \\sigma(y^*) \\mathcal{N}(\\mathbb{E}[f^*], \\mathbb{V}[f^*]  ) d f^*,\n",
    "\\end{align}\n",
    "\n",
    "which can be calculated using the Gaussian error function."
   ]
  },
  {
   "cell_type": "markdown",
   "metadata": {},
   "source": [
    "Prediction is fairly simple using `GPy`. We just plugin some new data into the `predict` function of the GP."
   ]
  },
  {
   "cell_type": "code",
   "execution_count": 10,
   "metadata": {},
   "outputs": [],
   "source": [
    "x_new = rnorm(size=(100, 1))\n",
    "y_hat = m.predict(x_new)[0].reshape((100, 1))"
   ]
  },
  {
   "cell_type": "code",
   "execution_count": 11,
   "metadata": {
    "scrolled": true
   },
   "outputs": [
    {
     "data": {
      "image/png": "[encoded data removed]",
      "text/plain": [
       "<matplotlib.figure.Figure at 0x11c4b5d68>"
      ]
     },
     "metadata": {},
     "output_type": "display_data"
    }
   ],
   "source": [
    "_, ax = plt.subplots()\n",
    "ax.scatter(x_new, y_hat, color=\"blue\", alpha=0.75, label=\"Prediction\")\n",
    "ax.spines['top'].set_visible(False)\n",
    "ax.spines['right'].set_visible(False)\n",
    "ax.tick_params(axis='both', which='major', labelsize=20)\n",
    "ax.tick_params(length=0, color=\"black\")\n",
    "plt.legend(fontsize=20)\n",
    "plt.show()"
   ]
  },
  {
   "cell_type": "markdown",
   "metadata": {},
   "source": [
    "## License\n",
    "\n",
    "<a rel=\"license\" href=\"http://creativecommons.org/licenses/by-nc/4.0/\"><img align=\"left\" alt=\"Creative Commons License\" style=\"border-width:0\" src=\"https://i.creativecommons.org/l/by-nc/4.0/88x31.png\" /></a> <br>\n",
    "\n",
    "The case study is licensed under a <a rel=\"license\" href=\"http://creativecommons.org/licenses/by-nc/4.0/\">Creative Commons Attribution-NonCommercial 4.0 International License</a>."
   ]
  }
 ],
 "metadata": {
  "kernelspec": {
   "display_name": "Python 3",
   "language": "python",
   "name": "python3"
  },
  "language_info": {
   "codemirror_mode": {
    "name": "ipython",
    "version": 3
   },
   "file_extension": ".py",
   "mimetype": "text/x-python",
   "name": "python",
   "nbconvert_exporter": "python",
   "pygments_lexer": "ipython3",
   "version": "3.8.6"
  }
 },
 "nbformat": 4,
 "nbformat_minor": 2
}
