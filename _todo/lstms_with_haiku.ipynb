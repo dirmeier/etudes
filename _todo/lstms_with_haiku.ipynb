{
 "cells": [
  {
   "cell_type": "code",
   "execution_count": 4,
   "id": "c86d4aed",
   "metadata": {},
   "outputs": [],
   "source": [
    "from typing import Any, Callable, Sequence, Optional"
   ]
  },
  {
   "cell_type": "code",
   "execution_count": 116,
   "id": "21ab936b",
   "metadata": {},
   "outputs": [],
   "source": [
    "import jax\n",
    "import jax.numpy as np\n",
    "import optax\n",
    "from flax import linen as nn"
   ]
  },
  {
   "cell_type": "code",
   "execution_count": 117,
   "id": "aae5c306",
   "metadata": {},
   "outputs": [],
   "source": [
    "import jax\n",
    "import jax.numpy as np\n",
    "import optax\n",
    "import haiku as hk"
   ]
  },
  {
   "cell_type": "code",
   "execution_count": 208,
   "id": "5c514831",
   "metadata": {},
   "outputs": [],
   "source": [
    "class LSTM(hk.Module):\n",
    "    def __init__(self, name='lstm'):\n",
    "        super().__init__(name=name)\n",
    "        self._w = hk.Linear(4, True, name=\"w\")\n",
    "        self._u = hk.Linear(4, False, name=\"u\")\n",
    "\n",
    "\n",
    "    def __call__(self, x):        \n",
    "        h, c = np.zeros((x.shape[0], 1)), np.zeros((x.shape[0], 1))\n",
    "        for i in range(x.shape[-1]):\n",
    "             o, h, c = self._call(x[:, i, None], h, c)\n",
    "        return o\n",
    "        \n",
    "    def _call(self, x_t, h_t, c_t):                        \n",
    "        iw, gw, fw, ow = np.split(self._w(x_t), indices_or_sections=4, axis=-1)        \n",
    "        iu, gu, fu, ou = np.split(self._u(h_t), indices_or_sections=4, axis=-1)        \n",
    "        i = jax.nn.sigmoid(iw + iu)\n",
    "        f = jax.nn.sigmoid(fw + fu + 1.0)\n",
    "        g = np.tanh(gw + gu)\n",
    "        o = jax.nn.sigmoid(ow + ou)\n",
    "        c = f * c_t + i * g\n",
    "        h =  o * jnp.tanh(c)\n",
    "        return o, h, c\n",
    "    \n",
    "\n",
    "def _lstm(x):\n",
    "    module = LSTM()\n",
    "    return module(x)"
   ]
  },
  {
   "cell_type": "code",
   "execution_count": 209,
   "id": "f1528840",
   "metadata": {},
   "outputs": [],
   "source": [
    "model = hk.transform(_lstm)\n",
    "model = hk.without_apply_rng(model)\n",
    "\n",
    "x_ = np.array([[1., 2., 3.]])\n",
    "key = jax.random.PRNGKey(42)\n",
    "\n",
    "params = model.init(key, x_)"
   ]
  },
  {
   "cell_type": "code",
   "execution_count": 210,
   "id": "b2c185bc",
   "metadata": {},
   "outputs": [
    {
     "data": {
      "text/plain": [
       "DeviceArray([[0.51601326],\n",
       "             [0.6739608 ],\n",
       "             [0.5244281 ],\n",
       "             [0.7774125 ],\n",
       "             [0.75583863],\n",
       "             [0.51171345],\n",
       "             [0.5947514 ],\n",
       "             [0.59904695],\n",
       "             [0.7415096 ],\n",
       "             [0.74563086]], dtype=float32)"
      ]
     },
     "execution_count": 210,
     "metadata": {},
     "output_type": "execute_result"
    }
   ],
   "source": [
    "x = jax.random.uniform(key, (10, 3))\n",
    "model.apply(x=x, params=params)"
   ]
  },
  {
   "cell_type": "code",
   "execution_count": null,
   "id": "9eef83c5",
   "metadata": {},
   "outputs": [],
   "source": []
  },
  {
   "cell_type": "code",
   "execution_count": null,
   "id": "08f0801a",
   "metadata": {},
   "outputs": [],
   "source": [
    "\n"
   ]
  }
 ],
 "metadata": {
  "kernelspec": {
   "display_name": "Etudes-dev",
   "language": "python",
   "name": "etudes-dev"
  },
  "language_info": {
   "codemirror_mode": {
    "name": "ipython",
    "version": 3
   },
   "file_extension": ".py",
   "mimetype": "text/x-python",
   "name": "python",
   "nbconvert_exporter": "python",
   "pygments_lexer": "ipython3",
   "version": "3.8.6"
  }
 },
 "nbformat": 4,
 "nbformat_minor": 5
}
