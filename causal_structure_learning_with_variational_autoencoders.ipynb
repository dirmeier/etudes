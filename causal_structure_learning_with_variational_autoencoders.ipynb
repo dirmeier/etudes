{
 "cells": [
  {
   "cell_type": "markdown",
   "metadata": {},
   "source": [
    "# Causal structure learning with variational autoencoders\n",
    "\n",
    "*Simon Dirmeier* <*simon.dirmeier @ web.de*> <br> *June 2020*\n",
    "\n",
    "Learning cause-effect mechanisms among a set of random variables is not only of great epistemological interest, but also a fascinating statistical problem. In this notebook we implement a graph variational autoencoder, called DAG-GNN and published by [Yu *et al.*](https://arxiv.org/abs/1904.10098), to learn the DAG of a structural equations model and compare it to [greedy equivalent search (GES)](http://www.jmlr.org/papers/v3/chickering02b.html) which is one of the state-of-the-art methods for causal discovery.\n",
    "\n",
    "Feedback and comments are welcome!"
   ]
  },
  {
   "cell_type": "code",
   "execution_count": 1,
   "metadata": {},
   "outputs": [],
   "source": [
    "suppressMessages({\n",
    "  library(tensorflow)\n",
    "  library(tfprobability)\n",
    "  library(keras)\n",
    "  library(igraph)\n",
    "  library(ggraph)\n",
    "  library(tidyverse)  \n",
    "  library(cowplot)\n",
    "\n",
    "  library(pcalg)\n",
    "})"
   ]
  },
  {
   "cell_type": "markdown",
   "metadata": {},
   "source": [
    "The goal of causal structure learning is to find the causal ordering of $p$ random variables ${X} = (X_1, \\dots, X_p)^T$. For instance, for a pair of random variables $X_1$ and $X_2$, if $X_1$ causes $X_2$, the causal ordering is $X_1 < X_2$. For a set of $p$ random variables the ordering induces a *directed acyclic graph* $\\mathcal{G}$ over ${X}$ (in general, if no topological ordering exists, the underlying graph can be cyclic, too, but we limit ourselves to the acyclic case here). Causal structure learning faces some major difficulties though. Some of these are:\n",
    "\n",
    "- the number of DAGs grows super-exponentially in $p$,\n",
    "- there may be latent confounding,\n",
    "- there may be selection bias,\n",
    "- there may be feedback,\n",
    "- ...\n",
    "\n",
    "\n",
    "Score-based methods, such as DAG-GNN or GES, approach the structure learning problem by optimization of a defined score relative to a data set. A drawback of score-based methods is that they often need to assume causal sufficiency (i.e., no latent confounding), that they get stuck in local optimina, and that they need to make several parametric assumptions. \n",
    "\n",
    "To learn the causal structure we will need some definitions and assumptions first. A *Bayesian network* represents a joint probability distribution ${P}$ over random variables ${X}$ that factorizes over a DAG $\\mathcal{G}$ as\n",
    "\n",
    "$$\\begin{align}\n",
    "P(X) = \\prod_i^p P(X_i \\mid \\text{pa}_{X_i})\n",
    "\\end{align}$$\n",
    "\n",
    "The set of conditional independence relations imposed by $\\mathcal{G}$ via the above factorization is also called *Markov factorization property*. It also entails that if $X$ and $Y$ are d-separated by $Z$ then $X$ is statistically independent of $Y$ given $Z$. This means that for each of the paths between a variable in ${X}$ and a variable in ${Y}$, there is either a chain $\\cdot \\rightarrow Z_i \\rightarrow \\cdot$ or a fork $\\cdot \\leftarrow Z_i \\rightarrow \\cdot$ such that $Z_i$ is in ${Z}$, or there is a collider $\\cdot \\rightarrow W \\leftarrow \\cdot$ such that neither $W$ nor any of its descendents are in ${Z}$. In general, there can be multiple DAGs that encode the same conditional independence relations which means multiple DAGs can have the same score if the scores are (locally) consistent. As a consequence, one can identify the correct DAG only up to its equivalence class (the completed partially directed acyclic graph).\n",
    "\n",
    "In order to learn the graph, we will assume having i.i.d. data and a causally sufficient system that does not have cycles. However, even with the two latter assumptions, the problem is still NP-hard."
   ]
  },
  {
   "cell_type": "markdown",
   "metadata": {},
   "source": [
    "In the linear Gaussian case, the data generating process of the random variables $X$ reads as\n",
    "\n",
    "$$\\begin{align}\n",
    "\\mathbf{x} & \\leftarrow  \\mathbf{A}^T \\mathbf{x} + \\mathbf{z} \\\\\n",
    "\\end{align}$$\n",
    "\n",
    "where $\\mathbf{A}$ is a $p \\times p$-dimensional adjacency matrix that defines the strength of the associations between the variables, and implicitely the causal ordering of the random variables, and $\\mathbf{z}$ is a vector of independent error terms. For a data set $\\mathbf{X} = \\{ \\mathbf{x}_i\\}_{i=1}^n$ of $n$ realizations of $X$, the linear structural equation model is analogously:\n",
    "\n",
    "$$\\begin{align}\n",
    "\\mathbf{X} & \\leftarrow \\mathbf{X} \\mathbf{A} + \\mathbf{Z}\n",
    "\\end{align}$$\n",
    "\n",
    "which we can rearrange to\n",
    "\n",
    "$$\\begin{align}\n",
    "\\mathbf{X} & \\leftarrow \\mathbf{Z} \\left(\\mathbf{I} - \\mathbf{A} \\right)^{-1}\\\\\n",
    "\\mathbf{Z} & \\leftarrow \\mathbf{X} \\left(\\mathbf{I} - \\mathbf{A} \\right)\n",
    "\\end{align}$$\n",
    "\n",
    "where $\\mathbf{I}$ is the identity matrix of appropriate dimensions. To learn $\\mathbf{A}$ we will use two different approaches:\n",
    "\n",
    "- a score-based method, DAG-GNN, which is based on graph variational autoencoders and has been introduced by [Yu *et al.*](https://arxiv.org/abs/1904.10098), \n",
    "- another score-based method, the GES-algorithm which has been introduced by [Chickering *et al.*](http://www.jmlr.org/papers/v3/chickering02b.html) and which is one of most frequently used method to learn causal DAGs in statistics.\n",
    "\n",
    "I'll introduce each briefly below and then apply both to data."
   ]
  },
  {
   "cell_type": "markdown",
   "metadata": {},
   "source": [
    "## DAG-GNN\n",
    "\n",
    "Yu *et al.* make use of variational autoencoders for learning the causal structure, i.e., the weighted adjacency matrix $\\mathbf{A}$, and for that introduce a new network architecture based on graph neural networks:\n",
    "\n",
    "$$\\begin{align}\n",
    "\\mathbf{X} & \\leftarrow f_1 \\left( f_2 \\left( \\mathbf{Z}\\right) \\left(\\mathbf{I} - \\mathbf{A} \\right)^{-1} \\right) \\\\\n",
    "\\mathbf{Z} & \\leftarrow g_1 \\left( g_2 \\left( \\mathbf{X}\\right) \\left(\\mathbf{I} - \\mathbf{A} \\right) \\right)\n",
    "\\end{align}$$\n",
    "\n",
    "where $f_i$ and $g_j$ are multilayer perceptrons (MLPs). Note that if $f_1$ and $f_2$ were invertible this is just rearranging the formulae as for the linear SEM:\n",
    "\n",
    "$$\\begin{align}\n",
    "\\mathbf{X} & \\leftarrow f_1 \\left( f_2 \\left( \\mathbf{Z}\\right) \\left(\\mathbf{I} - \\mathbf{A} \\right)^{-1} \\right) \\\\\n",
    "f_1^{-1}(\\mathbf{X} ) & \\leftarrow  f_2 \\left( \\mathbf{Z}\\right) \\left(\\mathbf{I} - \\mathbf{A} \\right)^{-1} \\\\\n",
    "f_2 \\left( \\mathbf{Z}\\right) & \\leftarrow f_1^{-1}(\\mathbf{X} ) \\left(\\mathbf{I} - \\mathbf{A} \\right) \\\\\n",
    "\\mathbf{Z} & \\leftarrow f_2^{-1} \\left( f_1^{-1}(\\mathbf{X} ) \\left(\\mathbf{I} - \\mathbf{A} \\right) \\right)\n",
    "\\end{align}$$\n",
    "\n",
    "For their model Yu *et al.* set both $f_2$ and $g_1$ to be identity mappings and $f_1$ and $g_2$ to be MLPs. Hence, the encoder of the VAE which computes the variational posterior $q(Z \\mid X)$ has the following form:\n",
    "\n",
    "$$\\begin{align}\n",
    "q(Z \\mid X) &= \\mathcal{MN}(\\mu_Z, \\sigma^2_Z) \\\\\n",
    "\\left[\\mu_Z, \\sigma^2_Z\\right] & = g_2 \\left( \\mathbf{X}\\right) \\left(\\mathbf{I} - \\mathbf{A} \\right)\\\\\n",
    "&= \\text{MLP}\\left(\\mathbf{X}, \\mathbf{W}_1, \\mathbf{W}_2 \\right) \\left(\\mathbf{I} - \\mathbf{A} \\right)\n",
    "\\end{align}$$\n",
    "\n",
    "where $\\mathcal{MN}$ is the matrix normal, $\\text{MLP}\\left(\\mathbf{X}, \\mathbf{W}_1, \\mathbf{W}_2 \\right) = \\text{ReLU}\\left(\\mathbf{X}\\mathbf{W}_1 \\right)\\mathbf{W}_2$ and $\\mathbf{W}_i$ are parameter matrices of appropriate sizes. The decoder which computes the parameters of the hidden likelihood $P(X \\mid Z)$ looks like this:\n",
    "\n",
    "$$\\begin{align}\n",
    "p(X \\mid Z) &= \\mathcal{MN}(\\mu_X, \\sigma^2_X) \\\\\n",
    "\\left[\\mu_X, \\sigma^2_X\\right] & =  f_1  \\left( \\mathbf{Z} \\left(\\mathbf{I} - \\mathbf{A} \\right)^{-1} \\right)  \\\\\n",
    "& =  \\text{MLP}\\left(\\mathbf{Z}\\left(\\mathbf{I} - \\mathbf{A} \\right)^{-1}, \\mathbf{W}_3, \\mathbf{W}_4 \\right)\n",
    "\\end{align}$$"
   ]
  },
  {
   "cell_type": "markdown",
   "metadata": {},
   "source": [
    "The model is straightforward to implement in `R`. For convenience, we specify a helper function to construct a dense layer first:"
   ]
  },
  {
   "cell_type": "code",
   "execution_count": 2,
   "metadata": {},
   "outputs": [],
   "source": [
    "dense <- function(name, p, activation = \"linear\") {\n",
    "  keras::layer_dense(\n",
    "    name = name,\n",
    "    units = p,\n",
    "    activation = activation,\n",
    "    use_bias = TRUE,\n",
    "    kernel_regularizer = keras::regularizer_l2(l = 1),\n",
    "    kernel_initializer = tf$random_normal_initializer(mean = 0, stddev = 0.1),\n",
    "    dtype = \"float32\"\n",
    "  )\n",
    "}"
   ]
  },
  {
   "cell_type": "markdown",
   "metadata": {},
   "source": [
    "The model itself uses `keras_model_custom`:"
   ]
  },
  {
   "cell_type": "code",
   "execution_count": 3,
   "metadata": {},
   "outputs": [],
   "source": [
    "model <- function(n, p, n_hidden = p) {\n",
    "  keras_model_custom(function(self) {      \n",
    "    # init adjacency matrix\n",
    "    A <- matrix(0, p, p)\n",
    "    A[upper.tri(A)] <- rnorm(p * (p - 1L) / 2L, 0, 0.1)\n",
    "    self$A <- tf$Variable(A, name = \"A\", trainable = TRUE, dtype = \"float32\")\n",
    "    self$I <- tf$eye(p, dtype = \"float32\") # diag for convencience\n",
    "        \n",
    "    self$dense_g21 <- dense(\"g_21\", n_hidden, \"relu\")\n",
    "    self$dense_g22 <- dense(\"g_22\", p * 2, \"linear\")    \n",
    "    self$dense_f11 <- dense(\"f_11\", n_hidden, \"relu\")\n",
    "    self$dense_f12 <- dense(\"f_12\", p * 2, \"linear\")\n",
    "\n",
    "    # Z = g_2(X) * (I - A)\n",
    "    self$posterior <- function(x) {\n",
    "      tri <- self$I - self$A\n",
    "      z_tilde <- x %>%\n",
    "        self$dense_g21() %>%\n",
    "        self$dense_g22() %>%\n",
    "        tf$split(num_or_size_splits=2L, axis=-1L)\n",
    "      z_mean <- tf$matmul(z_tilde[[1]], tri)\n",
    "      z_var  <- tf$matmul(z_tilde[[2]], tri) %>%\n",
    "        tf$exp()\n",
    "        \n",
    "      tfp$distributions$Independent(\n",
    "        tfp$distributions$Normal(\n",
    "          loc = z_mean, scale = tf$sqrt(z_var)\n",
    "        )\n",
    "      )\n",
    "    }\n",
    "\n",
    "    # X = f_1( Z * solve(I - A) )\n",
    "    self$likelihood <- function(z) {\n",
    "      tri.inv <- tf$linalg$inv(self$I - self$A)\n",
    "      x_tilde <- tf$matmul(z, tri.inv) %>%\n",
    "        self$dense_f11() %>%\n",
    "        self$dense_f12() %>%\n",
    "        tf$split(num_or_size_splits=2L, axis=-1L)\n",
    "      x_mean <- x_tilde[[1]]\n",
    "      x_var <- tf$exp(x_tilde[[2]])\n",
    "\n",
    "      tfp$distributions$Independent(\n",
    "        tfp$distributions$Normal(\n",
    "          loc = x_mean, scale = tf$sqrt(x_var)\n",
    "        )\n",
    "      )\n",
    "    }\n",
    "\n",
    "    function(x, mask = NULL, training = FALSE) {\n",
    "      tf$where(\n",
    "        tf$math$is_nan(self$A), tf$zeros_like(self$A), self$A\n",
    "      )\n",
    "        \n",
    "      enc <- self$posterior(x)\n",
    "      z <- enc$sample()\n",
    "      dec <- self$likelihood(z)\n",
    "      dec\n",
    "    }\n",
    "  })\n",
    "}"
   ]
  },
  {
   "cell_type": "markdown",
   "metadata": {},
   "source": [
    "The last part of the model is equivalent to Python's `__call__` member function, i.e., if we construct a model `m` and call `m(X)` on a data set $\\mathbf{X}$, it computes the variational posterior, samples from it and then computes the distribution of the decoder."
   ]
  },
  {
   "cell_type": "code",
   "execution_count": 4,
   "metadata": {},
   "outputs": [
    {
     "data": {
      "text/plain": [
       "tfp.distributions.Independent(\"IndependentNormal/\", batch_shape=[100], event_shape=[5], dtype=float32)"
      ]
     },
     "metadata": {},
     "output_type": "display_data"
    }
   ],
   "source": [
    "n <- 100L\n",
    "p <- 5L\n",
    "X <- matrix(rnorm(n * p), n)\n",
    "\n",
    "m <- model(n, p)\n",
    "m(X)"
   ]
  },
  {
   "cell_type": "markdown",
   "metadata": {},
   "source": [
    "The weights of the network are trained by maximizing the evidence low bound\n",
    "\n",
    "$$\\begin{align}\n",
    "\\text{ELBO}(\\mathbf{X}) = \\mathbb{E}_{q(Z \\mid X)} \\left[ \\log p(X \\mid Z) \\right] - \\text{D}_{\\text{KL}} \\left( q(Z \\mid X) || p(Z)  \\right)\n",
    "\\end{align}$$\n",
    "\n",
    "where we take $p(Z) = \\mathcal{MN}(\\mathbf{0}, \\mathbf{I})$ as the standard matrix normal. In practice we take the expected value of the likelihood using a Monte carlo sample."
   ]
  },
  {
   "cell_type": "markdown",
   "metadata": {},
   "source": [
    "The ELBO above, however, does not ensure acyclicity of $\\mathbf{A}$, hence the authors introduce an acyclicity constraint to the ELBO:\n",
    "\n",
    "$$\\begin{align}\n",
    "h(\\mathbf{A}) = \\text{tr}\\left[ \\left( \\mathbf{I} + \\alpha \\mathbf{A} \\circ \\mathbf{A} \\right)^p \\right] - p = 0\n",
    "\\end{align}$$\n",
    "\n",
    "for some $\\alpha > 0$. Adding this constraint to the ELBO using an augmented Lagrangian method gives us the objective function for the GVAE. The augmented Lagrangian consists of a Lagrange multiplier $\\lambda h(\\mathbf{A})$ and a quadratic penalty $\\frac{c}{2} |h(\\mathbf{A})|^2$. The objective we want to optimize is then:\n",
    "\n",
    "$$\\begin{align}\n",
    "\\min - \\text{ELBO}(\\mathbf{X}) + \\lambda h(\\mathbf{A}) + \\frac{c}{2} ||h(\\mathbf{A})||^2\n",
    "\\end{align}$$"
   ]
  },
  {
   "cell_type": "markdown",
   "metadata": {},
   "source": [
    "The penality can be coded like this:"
   ]
  },
  {
   "cell_type": "code",
   "execution_count": 5,
   "metadata": {},
   "outputs": [],
   "source": [
    "h <- function(A, alpha) {\n",
    "  p <- A$shape[[1]]\n",
    "  I <- tf$eye(p)\n",
    "    \n",
    "  e <- I + alpha * tf$math$multiply(A, A)\n",
    "  er <- e\n",
    "  for (i in seq(2, p)) {\n",
    "    er <- tf$matmul(er, e) # since TF does not have a matrix exponential :|\n",
    "  }\n",
    "\n",
    "  tf$linalg$trace(er) - p\n",
    "}"
   ]
  },
  {
   "cell_type": "markdown",
   "metadata": {},
   "source": [
    "The `R` code for the entire penalized ELBO looks like that:"
   ]
  },
  {
   "cell_type": "code",
   "execution_count": 6,
   "metadata": {},
   "outputs": [],
   "source": [
    "loss <- function(data, model, alpha, lambda, c) {\n",
    "  lik_fun <- model(data)\n",
    "  posterior  <- model$posterior(data)\n",
    "  prior <- tfp$distributions$Independent(\n",
    "      tfp$distributions$Normal(\n",
    "          loc = tf$zeros(c(n, p)), scale = tf$ones(c(n, p))\n",
    "      )\n",
    "  )\n",
    "  \n",
    "  loglik <- lik_fun$log_prob(data)\n",
    "  divergence <- tfp$distributions$kl_divergence(posterior, prior)\n",
    "    \n",
    "  elbo <- tf$reduce_mean(loglik - divergence)\n",
    "  lang <- h(model$A, alpha)  \n",
    "  loss <- -elbo + lambda * lang +  0.5 * c * lang^2  \n",
    "  loss\n",
    "}"
   ]
  },
  {
   "cell_type": "markdown",
   "metadata": {},
   "source": [
    "This pretty much is it. We now only need to define a method to train the parameters which, with Tensorflow 2, can be done like this:"
   ]
  },
  {
   "cell_type": "code",
   "execution_count": 7,
   "metadata": {},
   "outputs": [],
   "source": [
    "train <- function(data, n_epochs=100, learning_rate=0.1, \n",
    "                  threshold=0.05,\n",
    "                  c=10, lambda=10, alpha=1)\n",
    "{\n",
    "    vae <- model(nrow(data), ncol(data))\n",
    "    data <- tf$cast(data, \"float32\")\n",
    "    optimizer <- keras::optimizer_adam(learning_rate)\n",
    "\n",
    "    for (ep in seq_len(n_epochs)) {\n",
    "      with(tf$GradientTape() %as% t, {\n",
    "        lo <- loss(data, vae, alpha, lambda, c)\n",
    "      })\n",
    "        \n",
    "      gradients <- t$gradient(lo, vae$trainable_variables)\n",
    "      optimizer$apply_gradients(purrr::transpose(list(\n",
    "        gradients, vae$trainable_variables\n",
    "      )))      \n",
    "    }\n",
    "\n",
    "    A <- tf$math$multiply(vae$A, tf$cast(tf$abs(vae$A) > threshold, \"float32\"))\n",
    "    A <- A$numpy()\n",
    "    colnames(A) <- rownames(A) <- paste0(\"X\", seq(ncol(data)))\n",
    "    A\n",
    "}"
   ]
  },
  {
   "cell_type": "markdown",
   "metadata": {},
   "source": [
    "In my opinion the paper would have benefitted from a couple of additions. Firstly, even though concepts like consistency, score equivalence or faithfulness are mentioned in the introduction the paper does not really discuss them w.r.t their method. Secondly, while popular methods like the PC-algorithm or GES are cited, the authors don't include them in their benchmark. This is especially unfortunate, because both are (pointwise/locally) consistent and should serve as great baseline for large sample sizes. Thirdly, it would probably have made sense to discuss identifiability and what assumptions have to be made to achieve it. For instance, in the linear Gaussian case, returning the CPDAG instead of any DAG in the equivalence class is reasonable, since the true DAG cannot be identified. On the other hand, under specific conditions, such as non-linear or non-Gaussian cases, the true DAG can be identified and returning a DAG makes sense. Finally, since the relationship between the data $\\mathbf{X}$ and $\\mathbf{A}$ is nonlinear (and nonparametric) in DAG-GNN, interpretation of the coefficients of the weighted adjacency is difficult."
   ]
  },
  {
   "cell_type": "markdown",
   "metadata": {},
   "source": [
    "## Greedy equivalence search\n",
    "\n",
    "Greedy equivalence search (GES,  [Chickering *et al.*](http://www.jmlr.org/papers/v3/chickering02b.html)) is a score-based method working in two phases. The algorithm starts with an empty CPDAG and greedily adds dependencies by considering all possible edges that can be made to the current equivalence class. The first phase stops at a local maximum. In the second phase the algorithm considers all edges that can be removed in the current equivalence class in every step and again stops when a maximum is reached. In the limit (of same size $n$) the algorithm idenfifies the optimal equivalence class, i.e., the optimal CPDAG.\n",
    "\n",
    "Chickering *et al.* showed that if $P$ is faithful and Markov w.r.t. a DAG $\\mathcal{G}$ and the defined score is locally consistent, i.e., the score maxima converge to  an optimal model, then GES outputs the CPDAG of the true causal DAG. That result is insofar remarkable as GES is a *greedy* algorithm. GES assumes causal sufficiency which means that it is in the same *category* of methods as DAG-GNN which is also not able to deal with latent confounding."
   ]
  },
  {
   "cell_type": "markdown",
   "metadata": {},
   "source": [
    "The `pcalg` package already implements GES, so we can make use of that"
   ]
  },
  {
   "cell_type": "markdown",
   "metadata": {},
   "source": [
    "## Use case\n",
    "\n",
    "We simulate data from a SEM with $p=7$ variables. We can use `pcalg` to first create a DAG and then sample data from it."
   ]
  },
  {
   "cell_type": "code",
   "execution_count": 8,
   "metadata": {},
   "outputs": [],
   "source": [
    "n <- 1000L\n",
    "p <- 7L\n",
    "\n",
    "set.seed(123)\n",
    "dag <- pcalg::randomDAG(p, prob = 0.2)"
   ]
  },
  {
   "cell_type": "markdown",
   "metadata": {},
   "source": [
    "The `dag` object is a `graphNEL`, so we convert it to a matrix first."
   ]
  },
  {
   "cell_type": "code",
   "execution_count": 9,
   "metadata": {},
   "outputs": [],
   "source": [
    "A <- dag %>%\n",
    "    igraph::graph_from_graphnel() %>%\n",
    "    igraph::as_adj() %>%\n",
    "    as.matrix()\n",
    "\n",
    "ordering <- sample(1:p)\n",
    "A <- A[ordering ,ordering]\n",
    "colnames(A) <- rownames(A) <- paste0(\"X\", seq(p))"
   ]
  },
  {
   "cell_type": "markdown",
   "metadata": {},
   "source": [
    "Since the methods above assume acyclicity, we check for it using `igraph`."
   ]
  },
  {
   "cell_type": "code",
   "execution_count": 10,
   "metadata": {},
   "outputs": [
    {
     "data": {
      "text/html": [
       "TRUE"
      ],
      "text/latex": [
       "TRUE"
      ],
      "text/markdown": [
       "TRUE"
      ],
      "text/plain": [
       "[1] TRUE"
      ]
     },
     "metadata": {},
     "output_type": "display_data"
    }
   ],
   "source": [
    "igraph::graph_from_adjacency_matrix(A, weighted=TRUE) %>%\n",
    "  is.dag()"
   ]
  },
  {
   "cell_type": "markdown",
   "metadata": {},
   "source": [
    "We can also check this via the acyclicity constraint, which should be zero if $\\mathbf{A}$ has no cycles."
   ]
  },
  {
   "cell_type": "code",
   "execution_count": 11,
   "metadata": {},
   "outputs": [
    {
     "data": {
      "text/plain": [
       "tf.Tensor(0.0, shape=(), dtype=float32)"
      ]
     },
     "metadata": {},
     "output_type": "display_data"
    }
   ],
   "source": [
    "h(tf$convert_to_tensor(A, dtype=\"float32\"), 1)"
   ]
  },
  {
   "cell_type": "markdown",
   "metadata": {},
   "source": [
    "As a helper we also define a method to plot a matrix as graph. I personally like `ggraph` for plotting graphs the best"
   ]
  },
  {
   "cell_type": "code",
   "execution_count": 12,
   "metadata": {},
   "outputs": [],
   "source": [
    "plot.adj <- function(adj) {\n",
    "  igraph::graph_from_adjacency_matrix(adj, weighted = TRUE) %>%\n",
    "    ggraph::ggraph(layout = \"sugiyama\") +\n",
    "    ggraph::geom_edge_link(\n",
    "      ggplot2::aes(\n",
    "        start_cap = label_rect(node1.name),\n",
    "        end_cap = label_rect(node2.name)\n",
    "      ),\n",
    "      arrow = arrow(length = unit(4, \"mm\"))\n",
    "    ) +\n",
    "    ggraph::geom_node_text(ggplot2::aes(label = name), size = 5) +\n",
    "    ggraph::theme_graph()\n",
    "}"
   ]
  },
  {
   "cell_type": "markdown",
   "metadata": {},
   "source": [
    "The graph below is the causal structure that we want to learn, i.e., an edge $X_i \\rightarrow X_j$ encodes a cause-effect relationship."
   ]
  },
  {
   "cell_type": "code",
   "execution_count": 13,
   "metadata": {},
   "outputs": [
    {
     "data": {
      "image/png": "[encoded data removed]",
      "text/plain": [
       "plot without title"
      ]
     },
     "metadata": {
      "image/png": {
       "height": 300,
       "width": 300
      },
      "text/plain": {
       "height": 300,
       "width": 300
      }
     },
     "output_type": "display_data"
    }
   ],
   "source": [
    "true.dag <- plot.adj(A)\n",
    "\n",
    "options(repr.plot.width=5, repr.plot.height=5)\n",
    "true.dag + ggtitle(\"True DAG\")"
   ]
  },
  {
   "cell_type": "markdown",
   "metadata": {},
   "source": [
    "We simulate data using the equation of the SEM above as:"
   ]
  },
  {
   "cell_type": "code",
   "execution_count": 14,
   "metadata": {},
   "outputs": [
    {
     "data": {
      "text/html": [
       "<table>\n",
       "<caption>A matrix: 6 × 7 of type dbl</caption>\n",
       "<thead>\n",
       "\t<tr><th scope=col>X1</th><th scope=col>X2</th><th scope=col>X3</th><th scope=col>X4</th><th scope=col>X5</th><th scope=col>X6</th><th scope=col>X7</th></tr>\n",
       "</thead>\n",
       "<tbody>\n",
       "\t<tr><td> 0.01106827</td><td> 0.04690320</td><td> 0.1728460</td><td> 0.08985497</td><td> 0.06879523</td><td> 0.1197701</td><td> 0.05077993</td></tr>\n",
       "\t<tr><td>-0.05558411</td><td>-0.02112469</td><td>-0.0027891</td><td>-0.02377340</td><td> 0.00699006</td><td>-0.1163466</td><td> 0.04613310</td></tr>\n",
       "\t<tr><td> 0.17869131</td><td> 0.01870511</td><td> 0.2489155</td><td> 0.14634076</td><td> 0.31859957</td><td> 0.6472214</td><td> 0.11794496</td></tr>\n",
       "\t<tr><td> 0.04978505</td><td> 0.02275427</td><td>-0.1624462</td><td> 0.01243783</td><td>-0.21683510</td><td>-0.3356445</td><td>-0.06793963</td></tr>\n",
       "\t<tr><td>-0.19666172</td><td>-0.12619005</td><td>-0.1629389</td><td> 0.14537408</td><td>-0.24879381</td><td>-0.5624779</td><td>-0.03186116</td></tr>\n",
       "\t<tr><td> 0.07013559</td><td> 0.02855896</td><td>-0.1076570</td><td> 0.03502270</td><td>-0.08467841</td><td> 0.1235339</td><td>-0.06580193</td></tr>\n",
       "</tbody>\n",
       "</table>\n"
      ],
      "text/latex": [
       "A matrix: 6 × 7 of type dbl\n",
       "\\begin{tabular}{lllllll}\n",
       " X1 & X2 & X3 & X4 & X5 & X6 & X7\\\\\n",
       "\\hline\n",
       "\t  0.01106827 &  0.04690320 &  0.1728460 &  0.08985497 &  0.06879523 &  0.1197701 &  0.05077993\\\\\n",
       "\t -0.05558411 & -0.02112469 & -0.0027891 & -0.02377340 &  0.00699006 & -0.1163466 &  0.04613310\\\\\n",
       "\t  0.17869131 &  0.01870511 &  0.2489155 &  0.14634076 &  0.31859957 &  0.6472214 &  0.11794496\\\\\n",
       "\t  0.04978505 &  0.02275427 & -0.1624462 &  0.01243783 & -0.21683510 & -0.3356445 & -0.06793963\\\\\n",
       "\t -0.19666172 & -0.12619005 & -0.1629389 &  0.14537408 & -0.24879381 & -0.5624779 & -0.03186116\\\\\n",
       "\t  0.07013559 &  0.02855896 & -0.1076570 &  0.03502270 & -0.08467841 &  0.1235339 & -0.06580193\\\\\n",
       "\\end{tabular}\n"
      ],
      "text/markdown": [
       "\n",
       "A matrix: 6 × 7 of type dbl\n",
       "\n",
       "| X1 | X2 | X3 | X4 | X5 | X6 | X7 |\n",
       "|---|---|---|---|---|---|---|\n",
       "|  0.01106827 |  0.04690320 |  0.1728460 |  0.08985497 |  0.06879523 |  0.1197701 |  0.05077993 |\n",
       "| -0.05558411 | -0.02112469 | -0.0027891 | -0.02377340 |  0.00699006 | -0.1163466 |  0.04613310 |\n",
       "|  0.17869131 |  0.01870511 |  0.2489155 |  0.14634076 |  0.31859957 |  0.6472214 |  0.11794496 |\n",
       "|  0.04978505 |  0.02275427 | -0.1624462 |  0.01243783 | -0.21683510 | -0.3356445 | -0.06793963 |\n",
       "| -0.19666172 | -0.12619005 | -0.1629389 |  0.14537408 | -0.24879381 | -0.5624779 | -0.03186116 |\n",
       "|  0.07013559 |  0.02855896 | -0.1076570 |  0.03502270 | -0.08467841 |  0.1235339 | -0.06580193 |\n",
       "\n"
      ],
      "text/plain": [
       "     X1          X2          X3         X4          X5          X6        \n",
       "[1,]  0.01106827  0.04690320  0.1728460  0.08985497  0.06879523  0.1197701\n",
       "[2,] -0.05558411 -0.02112469 -0.0027891 -0.02377340  0.00699006 -0.1163466\n",
       "[3,]  0.17869131  0.01870511  0.2489155  0.14634076  0.31859957  0.6472214\n",
       "[4,]  0.04978505  0.02275427 -0.1624462  0.01243783 -0.21683510 -0.3356445\n",
       "[5,] -0.19666172 -0.12619005 -0.1629389  0.14537408 -0.24879381 -0.5624779\n",
       "[6,]  0.07013559  0.02855896 -0.1076570  0.03502270 -0.08467841  0.1235339\n",
       "     X7         \n",
       "[1,]  0.05077993\n",
       "[2,]  0.04613310\n",
       "[3,]  0.11794496\n",
       "[4,] -0.06793963\n",
       "[5,] -0.03186116\n",
       "[6,] -0.06580193"
      ]
     },
     "metadata": {},
     "output_type": "display_data"
    }
   ],
   "source": [
    "Z <- matrix(rnorm(n * p, 0, 0.1), n)\n",
    "X <- Z %*% solve(diag(p) - A)\n",
    "\n",
    "head(X)"
   ]
  },
  {
   "cell_type": "markdown",
   "metadata": {},
   "source": [
    "To use GES, we first need to define a score object and provide the data as argument. In order to get the original GES algorithm by Chickering, we need to pass the phases as well (forward and backward), because the current implementation of the `pcalg` package uses an additional third phase."
   ]
  },
  {
   "cell_type": "code",
   "execution_count": 15,
   "metadata": {},
   "outputs": [],
   "source": [
    "score <- new(\"GaussL0penObsScore\", X)\n",
    "bn.ges <- pcalg::ges(score, phase = c(\"forward\", \"backward\"))"
   ]
  },
  {
   "cell_type": "markdown",
   "metadata": {},
   "source": [
    "From the fitted object we extract the graph first, turn it into a CPDAG and plot it. GES already computes a CPDAG, but it's just good practice to call the function regardless of the method we are using, since many methods merely return an element of the equivalence class and not the equivalence class itself. If one isn't aware of this and expects a CPDAG, it is easy to make incorrect causal claims (recall that we generally cannot distinguish the direction of edges in the linear Gaussian case unless a triple is a v-structure or would become one, if we reversed an edge)."
   ]
  },
  {
   "cell_type": "code",
   "execution_count": 16,
   "metadata": {},
   "outputs": [
    {
     "data": {
      "image/png": "[encoded data removed]",
      "text/plain": [
       "plot without title"
      ]
     },
     "metadata": {
      "image/png": {
       "height": 300,
       "width": 600
      },
      "text/plain": {
       "height": 300,
       "width": 600
      }
     },
     "output_type": "display_data"
    }
   ],
   "source": [
    "bn.ges.cpdag <- pcalg::getGraph(bn.ges$essgraph) %>%\n",
    "    dag2cpdag() %>%\n",
    "    igraph::graph_from_graphnel() %>%\n",
    "    igraph::as_adj() %>%\n",
    "    as.matrix() %>% \n",
    "    plot.adj()\n",
    "\n",
    "options(repr.plot.width=10, repr.plot.height=5)\n",
    "cowplot::plot_grid(true.dag, bn.ges.cpdag, ncol = 2, labels = c(\"True DAG\", \"GES CPDAG\"))"
   ]
  },
  {
   "cell_type": "markdown",
   "metadata": {},
   "source": [
    "That looks good. GES managed to correctly infer all the edges of the true DAG (including v-structures). This was expected, since the sample size is fairly high. Next we fit the autoencoder. DAG-GNN has several tuning paramameters. When testing the method, Lagrange multipliers $c$ and $\\lambda$ with high values yielded the best results. Choices of $\\alpha$ did not significantly change the output of the method. "
   ]
  },
  {
   "cell_type": "code",
   "execution_count": 17,
   "metadata": {},
   "outputs": [],
   "source": [
    "bn.gnn <- train(X, n_epochs = 1000, c=1000000, lambda=1000000, learning_rate=0.1)"
   ]
  },
  {
   "cell_type": "markdown",
   "metadata": {},
   "source": [
    "Let's check if this is really a DAG first."
   ]
  },
  {
   "cell_type": "code",
   "execution_count": 18,
   "metadata": {},
   "outputs": [
    {
     "data": {
      "text/html": [
       "TRUE"
      ],
      "text/latex": [
       "TRUE"
      ],
      "text/markdown": [
       "TRUE"
      ],
      "text/plain": [
       "[1] TRUE"
      ]
     },
     "metadata": {},
     "output_type": "display_data"
    }
   ],
   "source": [
    "igraph::graph_from_adjacency_matrix(bn.gnn, weighted=TRUE) %>%\n",
    "  is.dag()"
   ]
  },
  {
   "cell_type": "markdown",
   "metadata": {},
   "source": [
    "As before we compute the CPDAG from the DAG and plot that. The result of the training is a weighted adjacency matrix which we first convert to a `graphNEL`, then to the CPDAG and then back to an adjacency matrix."
   ]
  },
  {
   "cell_type": "code",
   "execution_count": 19,
   "metadata": {},
   "outputs": [
    {
     "data": {
      "image/png": "[encoded data removed]",
      "text/plain": [
       "plot without title"
      ]
     },
     "metadata": {
      "image/png": {
       "height": 300,
       "width": 900
      },
      "text/plain": {
       "height": 300,
       "width": 900
      }
     },
     "output_type": "display_data"
    }
   ],
   "source": [
    "bn.daggnn.cpdag <- igraph::graph_from_adjacency_matrix(bn.gnn, weighted = TRUE) %>% \n",
    "  igraph::as_graphnel() %>%\n",
    "  pcalg::dag2cpdag() %>%   \n",
    "  igraph::graph_from_graphnel() %>%\n",
    "  igraph::as_adj() %>%\n",
    "  as.matrix() %>% \n",
    "  plot.adj()     \n",
    "\n",
    "options(repr.plot.width=15, repr.plot.height=5)\n",
    "cowplot::plot_grid(true.dag, bn.ges.cpdag, bn.daggnn.cpdag, ncol = 3,\n",
    "                   labels = c(\"True DAG\", \"GES CPDAG\", \"DAG-GNN CPDAG\"))"
   ]
  },
  {
   "cell_type": "markdown",
   "metadata": {},
   "source": [
    "DAG-GNN, in this example, unfortunately wasn't able to recover the true DAG from the data and was easily outperformed by GES. I am not sure if this is due to a bug in the implementation, the data, the parameterization, or whatever (feedback on bugs would be welcome to simon.dirmeier@web.de).\n",
    "\n",
    "Regardless, it impressively shows that classics with theoretical/asymptotic guarantees, like GES, still have their place in modern machine learning and should be considered in applications and benchmarks."
   ]
  },
  {
   "cell_type": "markdown",
   "metadata": {},
   "source": [
    "## License\n",
    "\n",
    "<a rel=\"license\" href=\"http://creativecommons.org/licenses/by-nc/4.0/\"><img alt=\"Creative Commons License\" style=\"border-width:0\" align=\"left\" src=\"https://i.creativecommons.org/l/by-nc/4.0/88x31.png\" /></a><br>\n",
    "\n",
    "The notebook is licensed under a <a rel=\"license\" href=\"http://creativecommons.org/licenses/by-nc/4.0/\">Creative Commons Attribution-NonCommercial 4.0 International License</a>."
   ]
  },
  {
   "cell_type": "markdown",
   "metadata": {},
   "source": [
    "## Session info"
   ]
  },
  {
   "cell_type": "code",
   "execution_count": 20,
   "metadata": {},
   "outputs": [
    {
     "data": {
      "text/plain": [
       "R version 4.0.0 (2020-04-24)\n",
       "Platform: x86_64-pc-linux-gnu (64-bit)\n",
       "Running under: Ubuntu 19.10\n",
       "\n",
       "Matrix products: default\n",
       "BLAS/LAPACK: /usr/lib/x86_64-linux-gnu/libopenblasp-r0.3.7.so\n",
       "\n",
       "locale:\n",
       " [1] LC_CTYPE=en_US.UTF-8       LC_NUMERIC=C              \n",
       " [3] LC_TIME=en_US.UTF-8        LC_COLLATE=en_US.UTF-8    \n",
       " [5] LC_MONETARY=en_US.UTF-8    LC_MESSAGES=en_US.UTF-8   \n",
       " [7] LC_PAPER=en_US.UTF-8       LC_NAME=C                 \n",
       " [9] LC_ADDRESS=C               LC_TELEPHONE=C            \n",
       "[11] LC_MEASUREMENT=en_US.UTF-8 LC_IDENTIFICATION=C       \n",
       "\n",
       "attached base packages:\n",
       "[1] stats     graphics  grDevices utils     datasets  methods   base     \n",
       "\n",
       "other attached packages:\n",
       " [1] pcalg_2.6-10           cowplot_1.0.0          forcats_0.5.0         \n",
       " [4] stringr_1.4.0          dplyr_0.8.5            purrr_0.3.4           \n",
       " [7] readr_1.3.1            tidyr_1.0.2            tibble_3.0.1          \n",
       "[10] tidyverse_1.3.0        ggraph_2.0.2           ggplot2_3.3.0         \n",
       "[13] igraph_1.2.5           keras_2.2.5.0          tfprobability_0.10.0.0\n",
       "[16] tensorflow_2.2.0      \n",
       "\n",
       "loaded via a namespace (and not attached):\n",
       " [1] nlme_3.1-147        fs_1.4.1            lubridate_1.7.8    \n",
       " [4] httr_1.4.1          repr_1.1.0          tools_4.0.0        \n",
       " [7] backports_1.1.6     R6_2.4.1            DBI_1.1.0          \n",
       "[10] BiocGenerics_0.34.0 colorspace_1.4-1    withr_2.2.0        \n",
       "[13] tidyselect_1.0.0    gridExtra_2.3       compiler_4.0.0     \n",
       "[16] graph_1.66.0        cli_2.0.2           rvest_0.3.5        \n",
       "[19] xml2_1.3.2          labeling_0.3        sfsmisc_1.1-7      \n",
       "[22] scales_1.1.0        DEoptimR_1.0-8      robustbase_0.93-6  \n",
       "[25] RBGL_1.64.0         rappdirs_0.3.1      tfruns_1.4         \n",
       "[28] pbdZMQ_0.3-3        digest_0.6.25       base64enc_0.1-3    \n",
       "[31] pkgconfig_2.0.3     htmltools_0.4.0     dbplyr_1.4.3       \n",
       "[34] rlang_0.4.5         readxl_1.3.1        rstudioapi_0.11    \n",
       "[37] farver_2.0.3        generics_0.0.2      jsonlite_1.6.1     \n",
       "[40] magrittr_1.5        Matrix_1.2-18       Rcpp_1.0.4.6       \n",
       "[43] IRkernel_1.1        munsell_0.5.0       fansi_0.4.1        \n",
       "[46] abind_1.4-5         reticulate_1.15     viridis_0.5.1      \n",
       "[49] lifecycle_0.2.0     stringi_1.4.6       whisker_0.4        \n",
       "[52] MASS_7.3-51.5       grid_4.0.0          parallel_4.0.0     \n",
       "[55] ggrepel_0.8.2       bdsmatrix_1.3-4     crayon_1.3.4       \n",
       "[58] lattice_0.20-41     IRdisplay_0.7.0     graphlayouts_0.7.0 \n",
       "[61] haven_2.2.0         hms_0.5.3           zeallot_0.1.0      \n",
       "[64] pillar_1.4.3        uuid_0.1-4          corpcor_1.6.9      \n",
       "[67] stats4_4.0.0        reprex_0.3.0        glue_1.4.0         \n",
       "[70] evaluate_0.14       modelr_0.1.6        vctrs_0.2.4        \n",
       "[73] tweenr_1.0.1        cellranger_1.1.0    gtable_0.3.0       \n",
       "[76] polyclip_1.10-0     clue_0.3-57         assertthat_0.2.1   \n",
       "[79] ggforce_0.3.1       broom_0.5.6         tidygraph_1.2.0    \n",
       "[82] viridisLite_0.3.0   ggm_2.5             cluster_2.1.0      \n",
       "[85] fastICA_1.2-2       ellipsis_0.3.0     "
      ]
     },
     "metadata": {},
     "output_type": "display_data"
    }
   ],
   "source": [
    "sessionInfo()"
   ]
  }
 ],
 "metadata": {
  "kernelspec": {
   "display_name": "R",
   "language": "R",
   "name": "ir"
  },
  "language_info": {
   "codemirror_mode": "r",
   "file_extension": ".r",
   "mimetype": "text/x-r-source",
   "name": "R",
   "pygments_lexer": "r",
   "version": "4.0.0"
  }
 },
 "nbformat": 4,
 "nbformat_minor": 4
}
