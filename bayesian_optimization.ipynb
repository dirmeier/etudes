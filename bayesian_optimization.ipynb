{
 "cells": [
  {
   "cell_type": "markdown",
   "id": "operational-federation",
   "metadata": {},
   "source": [
    "# The basics of Bayesian optimization\n",
    "\n",
    "Many real-world problems involve optimization of functions which are difficult, or costly, to evaluate. For instance, in deep learning, finding the optimal hyperparameters and architecture of a neural network is a cumbersome process that should ideally be automated with as little fuction evaluations (i.e. training the networks) as possible.\n",
    "\n",
    "For problems like these, Bayesian optimization (BO) offers a unifying framework where the function to evaluate is approximated using a surrogate model, for instance a Gaussian process. In this notebook, we introduce the basics of BO."
   ]
  },
  {
   "cell_type": "markdown",
   "id": "musical-brooklyn",
   "metadata": {},
   "source": [
    "We load some libraries first."
   ]
  },
  {
   "cell_type": "code",
   "execution_count": 1,
   "id": "future-nelson",
   "metadata": {},
   "outputs": [],
   "source": [
    "suppressMessages({    \n",
    "    library(pracma)\n",
    "    library(rdist)\n",
    "    library(tidyverse)    \n",
    "    library(colorspace)    \n",
    "    library(rstan)\n",
    "    library(bayesplot)\n",
    "})\n",
    "\n",
    "set.seed(23)"
   ]
  },
  {
   "cell_type": "code",
   "execution_count": 2,
   "id": "every-french",
   "metadata": {},
   "outputs": [],
   "source": [
    "scatterplot <- function(\n",
    "    x.true, y.true, f_star=NULL, f_star_var=NULL, data=NULL) {\n",
    "    df <- data.frame(x=x.true, y=y.true)\n",
    "   \n",
    "    g <- ggplot() +       \n",
    "        theme(axis.line.x = element_line(color=\"black\", size = .25),\n",
    "              axis.line.y = element_line(color=\"black\", size = .25))\n",
    "\n",
    "    if (!is.null(f_star) && !is.null(f_star_var)) {\n",
    "        df_star <- data.frame(\n",
    "            x=x.true,\n",
    "            y=f_star, \n",
    "            lower=f_star - sqrt(f_star_var), \n",
    "            upper=f_star + sqrt(f_star_var))\n",
    "        g <- g + \n",
    "            geom_ribbon(data=df_star, aes(x, ymin = lower, ymax = upper, fill=\"#DCBCBC\")) +             \n",
    "            geom_line(data=df_star, aes(x, y, color=\"darkred\"))\n",
    "    }\n",
    "    if (!is.null(data)) {\n",
    "        g <- g + geom_point(data=data, aes(x, y, color=\"darkred\")) \n",
    "    }\n",
    "    \n",
    "    g + \n",
    "     geom_line(data=df, aes(x, y, color=\"darkgrey\")) +\n",
    "     scale_color_manual(\n",
    "            breaks = c(\"darkgrey\", \"darkred\", \"black\"), \n",
    "            labels = c(\"Function to optimize\", \"Posterior\", \"Acquisition function\"),\n",
    "            values = c(\"darkgrey\", \"darkred\", \"black\")\n",
    "        ) +\n",
    "        scale_fill_manual(\n",
    "            breaks = c(\"lightgrey\", \"darkred\", \"#DCBCBC\"),\n",
    "            values = c(\"lightgrey\", \"darkred\", \"#DCBCBC\")\n",
    "        ) +\n",
    "    labs(color = \"Legend\") +\n",
    "    guides(fill=FALSE)\n",
    "}"
   ]
  },
  {
   "cell_type": "markdown",
   "id": "tight-physics",
   "metadata": {},
   "source": [
    "Usually the function to maximize is difficult/infeasible to query and the number of functions evaluations and we want to minimize the number as much as possible. In this example, we demonstration BO on the example function below."
   ]
  },
  {
   "cell_type": "code",
   "execution_count": 3,
   "id": "waiting-growth",
   "metadata": {},
   "outputs": [],
   "source": [
    "f <- function(x) cos(4 * x) + exp(-(x ** 2) / 2)"
   ]
  },
  {
   "cell_type": "markdown",
   "id": "opponent-market",
   "metadata": {},
   "source": [
    "Without loss of generality, we constrain the optimization on a set of $n$ points in the interval $x \\in [-5, 5]$, such that we don't need to write to much boilerplate code."
   ]
  },
  {
   "cell_type": "code",
   "execution_count": 4,
   "id": "actual-omega",
   "metadata": {},
   "outputs": [],
   "source": [
    "n <- 1000\n",
    "\n",
    "x.init = seq(-5, 5, length.out = n)\n",
    "y.init = f(x.init)"
   ]
  },
  {
   "cell_type": "markdown",
   "id": "extended-brazilian",
   "metadata": {},
   "source": [
    "Below is the function to optimize:"
   ]
  },
  {
   "cell_type": "code",
   "execution_count": 5,
   "id": "motivated-congo",
   "metadata": {},
   "outputs": [
    {
     "data": {
      "image/png": "[encoded data removed]",
      "text/plain": [
       "plot without title"
      ]
     },
     "metadata": {
      "image/png": {
       "height": 420,
       "width": 420
      }
     },
     "output_type": "display_data"
    }
   ],
   "source": [
    "scatterplot(x.init, y.init)"
   ]
  },
  {
   "cell_type": "markdown",
   "id": "intimate-pakistan",
   "metadata": {},
   "source": [
    "To optimize this function, we define functions to fit a surrogate model and make a predict using the model fit. We use Stan to implement the surrogate model for which we use a Gaussian process."
   ]
  },
  {
   "cell_type": "code",
   "execution_count": 6,
   "id": "beginning-priority",
   "metadata": {},
   "outputs": [
    {
     "name": "stdout",
     "output_type": "stream",
     "text": [
      "data {\n",
      "\tint<lower=1> N;\n",
      "\treal x[N];\n",
      "\tvector[N] y;\n",
      "\n",
      "\tint<lower=1> N_star;\n",
      "\treal x_star[N_star];\n",
      "\n",
      "\treal<lower=0> rho;\n",
      "\treal<lower=0> alpha;\n",
      "\treal<lower=0> sigma;\n",
      "}\n",
      "\n",
      "parameters {}\n",
      "\n",
      "model {}\n",
      "\n",
      "generated quantities {\n",
      "\tvector[N_star] f_star;\n",
      "\tvector[N_star] f_star_cov;\n",
      "\n",
      "    {\n",
      "      matrix[N, N] K =  cov_exp_quad(x, alpha, rho)\n",
      "                         + diag_matrix(rep_vector(square(sigma), N));\n",
      "      matrix[N, N] L_K = cholesky_decompose(K);\n",
      "\n",
      "      vector[N] L_K_div_y = mdivide_left_tri_low(L_K, y);\n",
      "      vector[N] K_div_y = mdivide_right_tri_low(L_K_div_y', L_K)';\n",
      "      \n",
      "      matrix[N, N_star] k_x_x_star = cov_exp_quad(x, x_star, alpha, rho);\n",
      "      \n",
      "     \n",
      "      matrix[N, N_star] v_pred = mdivide_left_tri_low(L_K, k_x_x_star);\n",
      "      matrix[N_star, N_star] cov_f2 = cov_exp_quad(x_star, alpha, rho) - v_pred' * v_pred\n",
      "\t\t+ diag_matrix(rep_vector(1e-10, N_star));\n",
      "\n",
      "\t\tf_star = (k_x_x_star' * K_div_y);\n",
      "\t\tf_star_cov = diagonal(cov_f2);\n",
      "\t}\n",
      "\n",
      "}\n"
     ]
    }
   ],
   "source": [
    "surrogate.model.file <- \"_models/bo-surrogate.stan\"\n",
    "cat(readLines(surrogate.model.file), sep=\"\\n\")"
   ]
  },
  {
   "cell_type": "code",
   "execution_count": 7,
   "id": "framed-opposition",
   "metadata": {},
   "outputs": [],
   "source": [
    "gp <- stan_model(file = surrogate.model.file)"
   ]
  },
  {
   "cell_type": "code",
   "execution_count": 67,
   "id": "white-friendship",
   "metadata": {},
   "outputs": [],
   "source": [
    "predict.gp <- function(gp, x, y, x.star) {\n",
    "    dat <- list(\n",
    "        N=length(x),\n",
    "        x=array(x),\n",
    "        y=array(y),\n",
    "        N_star=length(x.star),\n",
    "        x_star=array(x.star),\n",
    "        rho=1,\n",
    "        alpha=1,\n",
    "        sigma=1\n",
    "    )\n",
    "    \n",
    "    pred <- rstan::sampling(gp, dat, chains=1, algorithm=\"Fixed_param\", iter=1, refresh=-1)\n",
    "\n",
    "    ext <- rstan::extract(pred)\n",
    "    f.star <- as.vector(ext$f_star)\n",
    "    f.star.var <- as.vector(ext$f_star_cov)\n",
    "    \n",
    "    \n",
    "    list(f.star, f.star.var)\n",
    "}"
   ]
  },
  {
   "cell_type": "code",
   "execution_count": 14,
   "id": "three-vision",
   "metadata": {},
   "outputs": [
    {
     "name": "stdout",
     "output_type": "stream",
     "text": [
      "\n",
      "SAMPLING FOR MODEL 'bo-surrogate' NOW (CHAIN 1).\n",
      "Chain 1: Iteration: 1 / 1 [100%]  (Sampling)\n",
      "Chain 1: \n",
      "Chain 1:  Elapsed Time: 0 seconds (Warm-up)\n",
      "Chain 1:                0.022224 seconds (Sampling)\n",
      "Chain 1:                0.022224 seconds (Total)\n",
      "Chain 1: \n"
     ]
    }
   ],
   "source": [
    ". <- predict.gp(gp, x.init[1], y.init[1], x.init)"
   ]
  },
  {
   "cell_type": "markdown",
   "id": "common-morgan",
   "metadata": {},
   "source": [
    "As acquisition function we use the upper confidence bound."
   ]
  },
  {
   "cell_type": "code",
   "execution_count": 17,
   "id": "entertaining-violence",
   "metadata": {},
   "outputs": [],
   "source": [
    "acquisition.function <- function(gp, x.d, y.d, x.init, conf) {\n",
    "    preds <- predict.gp(gp, x.d, y.d, x.init)\n",
    "    f.star <- preds[[1]]\n",
    "    f.star.var <- preds[[2]]\n",
    "    ucb <- f.star + conf * sqrt(f.star.var)\n",
    "    ucb\n",
    "}"
   ]
  },
  {
   "cell_type": "markdown",
   "id": "comparative-campaign",
   "metadata": {},
   "source": [
    "Finally, we define a function that proposes the next point to evaluate."
   ]
  },
  {
   "cell_type": "code",
   "execution_count": 43,
   "id": "unlike-drill",
   "metadata": {},
   "outputs": [],
   "source": [
    "acquire <- function(x.d, y.d, x.init, conf=2.0) {\n",
    "    preds <- predict.gp(gp, x.d, y.d, x.init)\n",
    "    f.star <- preds[[1]]\n",
    "    f.star.var <- preds[[2]]\n",
    "\n",
    "    ucb <- acquisition.function(gp, x.d, y.d, x.init, conf)\n",
    "    x.next <- x.init[which.max(ucb)]\n",
    "    list(x.next=x.next, ucb=ucb, f.star=f.star, f.star.var=f.star.var)\n",
    "}    "
   ]
  },
  {
   "cell_type": "markdown",
   "id": "copyrighted-blanket",
   "metadata": {},
   "source": [
    "We start with a random point on the interval defined above and query it against the function that we want to evaluate"
   ]
  },
  {
   "cell_type": "code",
   "execution_count": 44,
   "id": "accredited-theorem",
   "metadata": {},
   "outputs": [],
   "source": [
    "set.seed(23)\n",
    "\n",
    "x.d <- runif(1, -5, 5)\n",
    "y.d <- f(x.d)"
   ]
  },
  {
   "cell_type": "markdown",
   "id": "eligible-butler",
   "metadata": {},
   "source": [
    "Then we train the surrogate model, and use the aquisition function to propose a new point."
   ]
  },
  {
   "cell_type": "code",
   "execution_count": 45,
   "id": "color-presentation",
   "metadata": {},
   "outputs": [
    {
     "name": "stdout",
     "output_type": "stream",
     "text": [
      "\n",
      "SAMPLING FOR MODEL 'bo-surrogate' NOW (CHAIN 1).\n",
      "Chain 1: Iteration: 1 / 1 [100%]  (Sampling)\n",
      "Chain 1: \n",
      "Chain 1:  Elapsed Time: 0 seconds (Warm-up)\n",
      "Chain 1:                0.024961 seconds (Sampling)\n",
      "Chain 1:                0.024961 seconds (Total)\n",
      "Chain 1: \n",
      "\n",
      "SAMPLING FOR MODEL 'bo-surrogate' NOW (CHAIN 1).\n",
      "Chain 1: Iteration: 1 / 1 [100%]  (Sampling)\n",
      "Chain 1: \n",
      "Chain 1:  Elapsed Time: 0 seconds (Warm-up)\n",
      "Chain 1:                0.022347 seconds (Sampling)\n",
      "Chain 1:                0.022347 seconds (Total)\n",
      "Chain 1: \n"
     ]
    }
   ],
   "source": [
    "iter <- acquire(x.d, y.d, x.init)\n",
    "x.n <- iter$x.next\n",
    "ucb <- iter$ucb\n",
    "f.star <- iter$f.star\n",
    "f.star.var <- iter$f.star.var"
   ]
  },
  {
   "cell_type": "code",
   "execution_count": 47,
   "id": "assured-carter",
   "metadata": {},
   "outputs": [
    {
     "data": {
      "image/png": "[encoded data removed]",
      "text/plain": [
       "plot without title"
      ]
     },
     "metadata": {
      "image/png": {
       "height": 420,
       "width": 420
      }
     },
     "output_type": "display_data"
    }
   ],
   "source": [
    "g <- scatterplot(x.init, y.init, f.star, f.star.var, data=data.frame(x=x.d, y=y.d))\n",
    "g + geom_line(data=data.frame(x=x.init, y=ucb), aes(x, y, color=\"black\")) +\n",
    "    geom_point(data=data.frame(x=x.n, y=max(ucb)), aes(x, y))"
   ]
  },
  {
   "cell_type": "code",
   "execution_count": 48,
   "id": "meaningful-phone",
   "metadata": {},
   "outputs": [],
   "source": [
    "y.n <- f(x.n)\n",
    "x.d <- c(x.d, x.n)\n",
    "y.d <- c(y.d, y.n)"
   ]
  },
  {
   "cell_type": "code",
   "execution_count": 49,
   "id": "original-intro",
   "metadata": {},
   "outputs": [
    {
     "name": "stdout",
     "output_type": "stream",
     "text": [
      "\n",
      "SAMPLING FOR MODEL 'bo-surrogate' NOW (CHAIN 1).\n",
      "Chain 1: Iteration: 1 / 1 [100%]  (Sampling)\n",
      "Chain 1: \n",
      "Chain 1:  Elapsed Time: 0 seconds (Warm-up)\n",
      "Chain 1:                0.023048 seconds (Sampling)\n",
      "Chain 1:                0.023048 seconds (Total)\n",
      "Chain 1: \n",
      "\n",
      "SAMPLING FOR MODEL 'bo-surrogate' NOW (CHAIN 1).\n",
      "Chain 1: Iteration: 1 / 1 [100%]  (Sampling)\n",
      "Chain 1: \n",
      "Chain 1:  Elapsed Time: 0 seconds (Warm-up)\n",
      "Chain 1:                0.021074 seconds (Sampling)\n",
      "Chain 1:                0.021074 seconds (Total)\n",
      "Chain 1: \n"
     ]
    }
   ],
   "source": [
    "iter <- acquire(x.d, y.d, x.init)"
   ]
  },
  {
   "cell_type": "code",
   "execution_count": 50,
   "id": "viral-japanese",
   "metadata": {},
   "outputs": [],
   "source": [
    "x.n <- iter$x.next\n",
    "ucb <- iter$ucb\n",
    "f.star <- iter$f.star\n",
    "f.star.var <- iter$f.star.v"
   ]
  },
  {
   "cell_type": "code",
   "execution_count": 26,
   "id": "indirect-research",
   "metadata": {},
   "outputs": [
    {
     "data": {
      "image/png": "[encoded data removed]",
      "text/plain": [
       "plot without title"
      ]
     },
     "metadata": {
      "image/png": {
       "height": 420,
       "width": 420
      }
     },
     "output_type": "display_data"
    }
   ],
   "source": [
    "g <- scatterplot(x.init, y.init, f.star, f.star.var, data=data.frame(x=x.d, y=y.d))\n",
    "g + geom_line(data=data.frame(x=x.init, y=ucb), aes(x, y, color=\"black\")) +\n",
    "    geom_point(data=data.frame(x=x.n, y=max(ucb)), aes(x, y))"
   ]
  },
  {
   "cell_type": "code",
   "execution_count": 51,
   "id": "spiritual-joyce",
   "metadata": {},
   "outputs": [],
   "source": [
    "y.n <- f(x.n)\n",
    "x.d <- c(x.d, x.n)\n",
    "y.d <- c(y.d, y.n)"
   ]
  },
  {
   "cell_type": "code",
   "execution_count": 52,
   "id": "complicated-swedish",
   "metadata": {},
   "outputs": [
    {
     "name": "stdout",
     "output_type": "stream",
     "text": [
      "\n",
      "SAMPLING FOR MODEL 'bo-surrogate' NOW (CHAIN 1).\n",
      "Chain 1: Iteration: 1 / 1 [100%]  (Sampling)\n",
      "Chain 1: \n",
      "Chain 1:  Elapsed Time: 0 seconds (Warm-up)\n",
      "Chain 1:                0.023934 seconds (Sampling)\n",
      "Chain 1:                0.023934 seconds (Total)\n",
      "Chain 1: \n",
      "\n",
      "SAMPLING FOR MODEL 'bo-surrogate' NOW (CHAIN 1).\n",
      "Chain 1: Iteration: 1 / 1 [100%]  (Sampling)\n",
      "Chain 1: \n",
      "Chain 1:  Elapsed Time: 0 seconds (Warm-up)\n",
      "Chain 1:                0.021513 seconds (Sampling)\n",
      "Chain 1:                0.021513 seconds (Total)\n",
      "Chain 1: \n"
     ]
    }
   ],
   "source": [
    "iter <- acquire(x.d, y.d, x.init)\n",
    "x.n <- iter$x.next\n",
    "ucb <- iter$ucb\n",
    "f.star <- iter$f.star\n",
    "f.star.var <- iter$f.star.v"
   ]
  },
  {
   "cell_type": "code",
   "execution_count": 53,
   "id": "outside-street",
   "metadata": {},
   "outputs": [
    {
     "data": {
      "image/png": "[encoded data removed]",
      "text/plain": [
       "plot without title"
      ]
     },
     "metadata": {
      "image/png": {
       "height": 420,
       "width": 420
      }
     },
     "output_type": "display_data"
    }
   ],
   "source": [
    "g <- scatterplot(x.init, y.init, f.star, f.star.var, data=data.frame(x=x.d, y=y.d))\n",
    "g + geom_line(data=data.frame(x=x.init, y=ucb), aes(x, y, color=\"black\")) +\n",
    "    geom_point(data=data.frame(x=x.n, y=max(ucb)), aes(x, y))"
   ]
  },
  {
   "cell_type": "code",
   "execution_count": 54,
   "id": "incorrect-shark",
   "metadata": {},
   "outputs": [
    {
     "name": "stdout",
     "output_type": "stream",
     "text": [
      "\n",
      "SAMPLING FOR MODEL 'bo-surrogate' NOW (CHAIN 1).\n",
      "Chain 1: Iteration: 1 / 1 [100%]  (Sampling)\n",
      "Chain 1: \n",
      "Chain 1:  Elapsed Time: 0 seconds (Warm-up)\n",
      "Chain 1:                0.02088 seconds (Sampling)\n",
      "Chain 1:                0.02088 seconds (Total)\n",
      "Chain 1: \n",
      "\n",
      "SAMPLING FOR MODEL 'bo-surrogate' NOW (CHAIN 1).\n",
      "Chain 1: Iteration: 1 / 1 [100%]  (Sampling)\n",
      "Chain 1: \n",
      "Chain 1:  Elapsed Time: 0 seconds (Warm-up)\n",
      "Chain 1:                0.022172 seconds (Sampling)\n",
      "Chain 1:                0.022172 seconds (Total)\n",
      "Chain 1: \n",
      "\n",
      "SAMPLING FOR MODEL 'bo-surrogate' NOW (CHAIN 1).\n",
      "Chain 1: Iteration: 1 / 1 [100%]  (Sampling)\n",
      "Chain 1: \n",
      "Chain 1:  Elapsed Time: 0 seconds (Warm-up)\n",
      "Chain 1:                0.021816 seconds (Sampling)\n",
      "Chain 1:                0.021816 seconds (Total)\n",
      "Chain 1: \n",
      "\n",
      "SAMPLING FOR MODEL 'bo-surrogate' NOW (CHAIN 1).\n",
      "Chain 1: Iteration: 1 / 1 [100%]  (Sampling)\n",
      "Chain 1: \n",
      "Chain 1:  Elapsed Time: 0 seconds (Warm-up)\n",
      "Chain 1:                0.021971 seconds (Sampling)\n",
      "Chain 1:                0.021971 seconds (Total)\n",
      "Chain 1: \n",
      "\n",
      "SAMPLING FOR MODEL 'bo-surrogate' NOW (CHAIN 1).\n",
      "Chain 1: Iteration: 1 / 1 [100%]  (Sampling)\n",
      "Chain 1: \n",
      "Chain 1:  Elapsed Time: 0 seconds (Warm-up)\n",
      "Chain 1:                0.021645 seconds (Sampling)\n",
      "Chain 1:                0.021645 seconds (Total)\n",
      "Chain 1: \n",
      "\n",
      "SAMPLING FOR MODEL 'bo-surrogate' NOW (CHAIN 1).\n",
      "Chain 1: Iteration: 1 / 1 [100%]  (Sampling)\n",
      "Chain 1: \n",
      "Chain 1:  Elapsed Time: 0 seconds (Warm-up)\n",
      "Chain 1:                0.022998 seconds (Sampling)\n",
      "Chain 1:                0.022998 seconds (Total)\n",
      "Chain 1: \n",
      "\n",
      "SAMPLING FOR MODEL 'bo-surrogate' NOW (CHAIN 1).\n",
      "Chain 1: Iteration: 1 / 1 [100%]  (Sampling)\n",
      "Chain 1: \n",
      "Chain 1:  Elapsed Time: 0 seconds (Warm-up)\n",
      "Chain 1:                0.022343 seconds (Sampling)\n",
      "Chain 1:                0.022343 seconds (Total)\n",
      "Chain 1: \n",
      "\n",
      "SAMPLING FOR MODEL 'bo-surrogate' NOW (CHAIN 1).\n",
      "Chain 1: Iteration: 1 / 1 [100%]  (Sampling)\n",
      "Chain 1: \n",
      "Chain 1:  Elapsed Time: 0 seconds (Warm-up)\n",
      "Chain 1:                0.022124 seconds (Sampling)\n",
      "Chain 1:                0.022124 seconds (Total)\n",
      "Chain 1: \n",
      "\n",
      "SAMPLING FOR MODEL 'bo-surrogate' NOW (CHAIN 1).\n",
      "Chain 1: Iteration: 1 / 1 [100%]  (Sampling)\n",
      "Chain 1: \n",
      "Chain 1:  Elapsed Time: 0 seconds (Warm-up)\n",
      "Chain 1:                0.02304 seconds (Sampling)\n",
      "Chain 1:                0.02304 seconds (Total)\n",
      "Chain 1: \n",
      "\n",
      "SAMPLING FOR MODEL 'bo-surrogate' NOW (CHAIN 1).\n",
      "Chain 1: Iteration: 1 / 1 [100%]  (Sampling)\n",
      "Chain 1: \n",
      "Chain 1:  Elapsed Time: 0 seconds (Warm-up)\n",
      "Chain 1:                0.022416 seconds (Sampling)\n",
      "Chain 1:                0.022416 seconds (Total)\n",
      "Chain 1: \n",
      "\n",
      "SAMPLING FOR MODEL 'bo-surrogate' NOW (CHAIN 1).\n",
      "Chain 1: Iteration: 1 / 1 [100%]  (Sampling)\n",
      "Chain 1: \n",
      "Chain 1:  Elapsed Time: 0 seconds (Warm-up)\n",
      "Chain 1:                0.023039 seconds (Sampling)\n",
      "Chain 1:                0.023039 seconds (Total)\n",
      "Chain 1: \n",
      "\n",
      "SAMPLING FOR MODEL 'bo-surrogate' NOW (CHAIN 1).\n",
      "Chain 1: Iteration: 1 / 1 [100%]  (Sampling)\n",
      "Chain 1: \n",
      "Chain 1:  Elapsed Time: 0 seconds (Warm-up)\n",
      "Chain 1:                0.022384 seconds (Sampling)\n",
      "Chain 1:                0.022384 seconds (Total)\n",
      "Chain 1: \n",
      "\n",
      "SAMPLING FOR MODEL 'bo-surrogate' NOW (CHAIN 1).\n",
      "Chain 1: Iteration: 1 / 1 [100%]  (Sampling)\n",
      "Chain 1: \n",
      "Chain 1:  Elapsed Time: 0 seconds (Warm-up)\n",
      "Chain 1:                0.023176 seconds (Sampling)\n",
      "Chain 1:                0.023176 seconds (Total)\n",
      "Chain 1: \n",
      "\n",
      "SAMPLING FOR MODEL 'bo-surrogate' NOW (CHAIN 1).\n",
      "Chain 1: Iteration: 1 / 1 [100%]  (Sampling)\n",
      "Chain 1: \n",
      "Chain 1:  Elapsed Time: 0 seconds (Warm-up)\n",
      "Chain 1:                0.022959 seconds (Sampling)\n",
      "Chain 1:                0.022959 seconds (Total)\n",
      "Chain 1: \n",
      "\n",
      "SAMPLING FOR MODEL 'bo-surrogate' NOW (CHAIN 1).\n",
      "Chain 1: Iteration: 1 / 1 [100%]  (Sampling)\n",
      "Chain 1: \n",
      "Chain 1:  Elapsed Time: 0 seconds (Warm-up)\n",
      "Chain 1:                0.023101 seconds (Sampling)\n",
      "Chain 1:                0.023101 seconds (Total)\n",
      "Chain 1: \n",
      "\n",
      "SAMPLING FOR MODEL 'bo-surrogate' NOW (CHAIN 1).\n",
      "Chain 1: Iteration: 1 / 1 [100%]  (Sampling)\n",
      "Chain 1: \n",
      "Chain 1:  Elapsed Time: 0 seconds (Warm-up)\n",
      "Chain 1:                0.024422 seconds (Sampling)\n",
      "Chain 1:                0.024422 seconds (Total)\n",
      "Chain 1: \n",
      "\n",
      "SAMPLING FOR MODEL 'bo-surrogate' NOW (CHAIN 1).\n",
      "Chain 1: Iteration: 1 / 1 [100%]  (Sampling)\n",
      "Chain 1: \n",
      "Chain 1:  Elapsed Time: 0 seconds (Warm-up)\n",
      "Chain 1:                0.023987 seconds (Sampling)\n",
      "Chain 1:                0.023987 seconds (Total)\n",
      "Chain 1: \n",
      "\n",
      "SAMPLING FOR MODEL 'bo-surrogate' NOW (CHAIN 1).\n",
      "Chain 1: Iteration: 1 / 1 [100%]  (Sampling)\n",
      "Chain 1: \n",
      "Chain 1:  Elapsed Time: 0 seconds (Warm-up)\n",
      "Chain 1:                0.023845 seconds (Sampling)\n",
      "Chain 1:                0.023845 seconds (Total)\n",
      "Chain 1: \n",
      "\n",
      "SAMPLING FOR MODEL 'bo-surrogate' NOW (CHAIN 1).\n",
      "Chain 1: Iteration: 1 / 1 [100%]  (Sampling)\n",
      "Chain 1: \n",
      "Chain 1:  Elapsed Time: 0 seconds (Warm-up)\n",
      "Chain 1:                0.023146 seconds (Sampling)\n",
      "Chain 1:                0.023146 seconds (Total)\n",
      "Chain 1: \n",
      "\n",
      "SAMPLING FOR MODEL 'bo-surrogate' NOW (CHAIN 1).\n",
      "Chain 1: Iteration: 1 / 1 [100%]  (Sampling)\n",
      "Chain 1: \n",
      "Chain 1:  Elapsed Time: 0 seconds (Warm-up)\n",
      "Chain 1:                0.025462 seconds (Sampling)\n",
      "Chain 1:                0.025462 seconds (Total)\n",
      "Chain 1: \n",
      "\n",
      "SAMPLING FOR MODEL 'bo-surrogate' NOW (CHAIN 1).\n",
      "Chain 1: Iteration: 1 / 1 [100%]  (Sampling)\n",
      "Chain 1: \n",
      "Chain 1:  Elapsed Time: 0 seconds (Warm-up)\n",
      "Chain 1:                0.023185 seconds (Sampling)\n",
      "Chain 1:                0.023185 seconds (Total)\n",
      "Chain 1: \n",
      "\n",
      "SAMPLING FOR MODEL 'bo-surrogate' NOW (CHAIN 1).\n",
      "Chain 1: Iteration: 1 / 1 [100%]  (Sampling)\n",
      "Chain 1: \n",
      "Chain 1:  Elapsed Time: 0 seconds (Warm-up)\n",
      "Chain 1:                0.023897 seconds (Sampling)\n",
      "Chain 1:                0.023897 seconds (Total)\n",
      "Chain 1: \n",
      "\n",
      "SAMPLING FOR MODEL 'bo-surrogate' NOW (CHAIN 1).\n",
      "Chain 1: Iteration: 1 / 1 [100%]  (Sampling)\n",
      "Chain 1: \n",
      "Chain 1:  Elapsed Time: 0 seconds (Warm-up)\n",
      "Chain 1:                0.025938 seconds (Sampling)\n",
      "Chain 1:                0.025938 seconds (Total)\n",
      "Chain 1: \n",
      "\n",
      "SAMPLING FOR MODEL 'bo-surrogate' NOW (CHAIN 1).\n",
      "Chain 1: Iteration: 1 / 1 [100%]  (Sampling)\n",
      "Chain 1: \n",
      "Chain 1:  Elapsed Time: 0 seconds (Warm-up)\n",
      "Chain 1:                0.022936 seconds (Sampling)\n",
      "Chain 1:                0.022936 seconds (Total)\n",
      "Chain 1: \n",
      "\n",
      "SAMPLING FOR MODEL 'bo-surrogate' NOW (CHAIN 1).\n",
      "Chain 1: Iteration: 1 / 1 [100%]  (Sampling)\n",
      "Chain 1: \n",
      "Chain 1:  Elapsed Time: 0 seconds (Warm-up)\n",
      "Chain 1:                0.023923 seconds (Sampling)\n",
      "Chain 1:                0.023923 seconds (Total)\n",
      "Chain 1: \n",
      "\n",
      "SAMPLING FOR MODEL 'bo-surrogate' NOW (CHAIN 1).\n",
      "Chain 1: Iteration: 1 / 1 [100%]  (Sampling)\n",
      "Chain 1: \n",
      "Chain 1:  Elapsed Time: 0 seconds (Warm-up)\n",
      "Chain 1:                0.023465 seconds (Sampling)\n",
      "Chain 1:                0.023465 seconds (Total)\n",
      "Chain 1: \n",
      "\n",
      "SAMPLING FOR MODEL 'bo-surrogate' NOW (CHAIN 1).\n",
      "Chain 1: Iteration: 1 / 1 [100%]  (Sampling)\n",
      "Chain 1: \n",
      "Chain 1:  Elapsed Time: 0 seconds (Warm-up)\n",
      "Chain 1:                0.025012 seconds (Sampling)\n",
      "Chain 1:                0.025012 seconds (Total)\n",
      "Chain 1: \n",
      "\n",
      "SAMPLING FOR MODEL 'bo-surrogate' NOW (CHAIN 1).\n",
      "Chain 1: Iteration: 1 / 1 [100%]  (Sampling)\n",
      "Chain 1: \n",
      "Chain 1:  Elapsed Time: 0 seconds (Warm-up)\n",
      "Chain 1:                0.023644 seconds (Sampling)\n",
      "Chain 1:                0.023644 seconds (Total)\n",
      "Chain 1: \n",
      "\n",
      "SAMPLING FOR MODEL 'bo-surrogate' NOW (CHAIN 1).\n",
      "Chain 1: Iteration: 1 / 1 [100%]  (Sampling)\n",
      "Chain 1: \n",
      "Chain 1:  Elapsed Time: 0 seconds (Warm-up)\n",
      "Chain 1:                0.024242 seconds (Sampling)\n",
      "Chain 1:                0.024242 seconds (Total)\n",
      "Chain 1: \n",
      "\n",
      "SAMPLING FOR MODEL 'bo-surrogate' NOW (CHAIN 1).\n",
      "Chain 1: Iteration: 1 / 1 [100%]  (Sampling)\n",
      "Chain 1: \n",
      "Chain 1:  Elapsed Time: 0 seconds (Warm-up)\n",
      "Chain 1:                0.023428 seconds (Sampling)\n",
      "Chain 1:                0.023428 seconds (Total)\n",
      "Chain 1: \n",
      "\n",
      "SAMPLING FOR MODEL 'bo-surrogate' NOW (CHAIN 1).\n",
      "Chain 1: Iteration: 1 / 1 [100%]  (Sampling)\n",
      "Chain 1: \n",
      "Chain 1:  Elapsed Time: 0 seconds (Warm-up)\n",
      "Chain 1:                0.024534 seconds (Sampling)\n",
      "Chain 1:                0.024534 seconds (Total)\n",
      "Chain 1: \n",
      "\n",
      "SAMPLING FOR MODEL 'bo-surrogate' NOW (CHAIN 1).\n",
      "Chain 1: Iteration: 1 / 1 [100%]  (Sampling)\n",
      "Chain 1: \n",
      "Chain 1:  Elapsed Time: 0 seconds (Warm-up)\n",
      "Chain 1:                0.025413 seconds (Sampling)\n",
      "Chain 1:                0.025413 seconds (Total)\n",
      "Chain 1: \n",
      "\n",
      "SAMPLING FOR MODEL 'bo-surrogate' NOW (CHAIN 1).\n",
      "Chain 1: Iteration: 1 / 1 [100%]  (Sampling)\n",
      "Chain 1: \n",
      "Chain 1:  Elapsed Time: 0 seconds (Warm-up)\n",
      "Chain 1:                0.023602 seconds (Sampling)\n",
      "Chain 1:                0.023602 seconds (Total)\n",
      "Chain 1: \n",
      "\n",
      "SAMPLING FOR MODEL 'bo-surrogate' NOW (CHAIN 1).\n",
      "Chain 1: Iteration: 1 / 1 [100%]  (Sampling)\n",
      "Chain 1: \n",
      "Chain 1:  Elapsed Time: 0 seconds (Warm-up)\n",
      "Chain 1:                0.024196 seconds (Sampling)\n",
      "Chain 1:                0.024196 seconds (Total)\n",
      "Chain 1: \n",
      "\n",
      "SAMPLING FOR MODEL 'bo-surrogate' NOW (CHAIN 1).\n",
      "Chain 1: Iteration: 1 / 1 [100%]  (Sampling)\n",
      "Chain 1: \n",
      "Chain 1:  Elapsed Time: 0 seconds (Warm-up)\n",
      "Chain 1:                0.023782 seconds (Sampling)\n",
      "Chain 1:                0.023782 seconds (Total)\n",
      "Chain 1: \n",
      "\n",
      "SAMPLING FOR MODEL 'bo-surrogate' NOW (CHAIN 1).\n",
      "Chain 1: Iteration: 1 / 1 [100%]  (Sampling)\n",
      "Chain 1: \n",
      "Chain 1:  Elapsed Time: 0 seconds (Warm-up)\n",
      "Chain 1:                0.023884 seconds (Sampling)\n",
      "Chain 1:                0.023884 seconds (Total)\n",
      "Chain 1: \n",
      "\n",
      "SAMPLING FOR MODEL 'bo-surrogate' NOW (CHAIN 1).\n",
      "Chain 1: Iteration: 1 / 1 [100%]  (Sampling)\n",
      "Chain 1: \n",
      "Chain 1:  Elapsed Time: 0 seconds (Warm-up)\n",
      "Chain 1:                0.024812 seconds (Sampling)\n",
      "Chain 1:                0.024812 seconds (Total)\n",
      "Chain 1: \n",
      "\n",
      "SAMPLING FOR MODEL 'bo-surrogate' NOW (CHAIN 1).\n",
      "Chain 1: Iteration: 1 / 1 [100%]  (Sampling)\n",
      "Chain 1: \n",
      "Chain 1:  Elapsed Time: 0 seconds (Warm-up)\n",
      "Chain 1:                0.024371 seconds (Sampling)\n",
      "Chain 1:                0.024371 seconds (Total)\n",
      "Chain 1: \n",
      "\n",
      "SAMPLING FOR MODEL 'bo-surrogate' NOW (CHAIN 1).\n",
      "Chain 1: Iteration: 1 / 1 [100%]  (Sampling)\n",
      "Chain 1: \n",
      "Chain 1:  Elapsed Time: 0 seconds (Warm-up)\n",
      "Chain 1:                0.024049 seconds (Sampling)\n",
      "Chain 1:                0.024049 seconds (Total)\n",
      "Chain 1: \n",
      "\n",
      "SAMPLING FOR MODEL 'bo-surrogate' NOW (CHAIN 1).\n",
      "Chain 1: Iteration: 1 / 1 [100%]  (Sampling)\n",
      "Chain 1: \n",
      "Chain 1:  Elapsed Time: 0 seconds (Warm-up)\n",
      "Chain 1:                0.024975 seconds (Sampling)\n",
      "Chain 1:                0.024975 seconds (Total)\n",
      "Chain 1: \n"
     ]
    }
   ],
   "source": [
    "for (i in seq(20)) {\n",
    "    y.n <- f(x.n)\n",
    "    x.d <- c(x.d, x.n)\n",
    "    y.d <- c(y.d, y.n)\n",
    "    iter <- acquire(x.d, y.d, x.init)\n",
    "    x.n <- iter$x.next\n",
    "}"
   ]
  },
  {
   "cell_type": "code",
   "execution_count": 55,
   "id": "liquid-hobby",
   "metadata": {},
   "outputs": [],
   "source": [
    "ucb <- iter$ucb\n",
    "f.star <- iter$f.star\n",
    "f.star.var <- iter$f.star.v"
   ]
  },
  {
   "cell_type": "code",
   "execution_count": 56,
   "id": "equipped-needle",
   "metadata": {},
   "outputs": [
    {
     "data": {
      "image/png": "[encoded data removed]",
      "text/plain": [
       "plot without title"
      ]
     },
     "metadata": {
      "image/png": {
       "height": 420,
       "width": 420
      }
     },
     "output_type": "display_data"
    }
   ],
   "source": [
    "g <- scatterplot(x.init, y.init, f.star, f.star.var, data=data.frame(x=x.d, y=y.d))\n",
    "g + geom_line(data=data.frame(x=x.init, y=ucb), aes(x, y, color=\"black\")) +\n",
    "    geom_point(data=data.frame(x=x.n, y=max(ucb)), aes(x, y))"
   ]
  },
  {
   "cell_type": "markdown",
   "id": "initial-princeton",
   "metadata": {},
   "source": [
    "## Batch Bayesian optimization\n",
    "\n",
    "In cases where we want to query multiple points at once, we need to come up with another strategy. One way to do that is, to propose a new point, then penalize the acquisition function around the region of the proposed point, and then propose another point by using the penalized acquisition function.\n",
    "\n",
    "Below we demonstrate the proposed method by [Gonzales *et al.*](http://proceedings.mlr.press/v51/gonzalez16a.pdf)."
   ]
  },
  {
   "cell_type": "markdown",
   "id": "sweet-serial",
   "metadata": {},
   "source": [
    "First we define some required functions."
   ]
  },
  {
   "cell_type": "code",
   "execution_count": 68,
   "id": "dressed-botswana",
   "metadata": {},
   "outputs": [],
   "source": [
    "m <- function(gp, x.d, y.d, x.init) {\n",
    "    pred <- predict.gp(gp, x.d, y.d, x.init)\n",
    "    f.star <- pred[[1]]\n",
    "    max(f.star)\n",
    "}"
   ]
  },
  {
   "cell_type": "markdown",
   "id": "compressed-measurement",
   "metadata": {},
   "source": [
    "We approximate the gradient of the posterior predictive mean using finite differences."
   ]
  },
  {
   "cell_type": "code",
   "execution_count": 73,
   "id": "organic-conference",
   "metadata": {},
   "outputs": [],
   "source": [
    "posterior.gradient <- function(gp, x.d, y.d, x.init) {\n",
    "    h <- 0.00000000001\n",
    "    f.star <- predict.gp(gp, x.d, y.d, x.init)[[1]]\n",
    "    f.h.star <- predict.gp(gp, x.d, y.d, x.init + h)[[1]]\n",
    "    f.star.grad <- (f.h.star - f.star) / h\n",
    "    \n",
    "    list(f.star=f.star, f.star.grad=f.star.grad)\n",
    "}"
   ]
  },
  {
   "cell_type": "code",
   "execution_count": 75,
   "id": "peripheral-heaven",
   "metadata": {},
   "outputs": [],
   "source": [
    "lipschitz <- function(gp, x.d, y.d, x.init) {\n",
    "    f.star.grad <- posterior.gradient(gp, x.d, y.d, x.init)[[2]]\n",
    "    max(sqrt(f.star.grad ** 2))\n",
    "}"
   ]
  },
  {
   "cell_type": "markdown",
   "id": "multiple-combat",
   "metadata": {},
   "source": [
    "The function $\\phi$ penalizes the acquisiation function around a point $\\mathbf{x}_j$."
   ]
  },
  {
   "cell_type": "code",
   "execution_count": 76,
   "id": "exposed-gilbert",
   "metadata": {},
   "outputs": [],
   "source": [
    "phi <- function(gp, x.d, y.d, x, x.j, L, M) {\n",
    "    pred <- predict.gp(gp, x.d, y.d, x.j)\n",
    "    f.star <- pred[[1]]\n",
    "    f.star.var <- pred[[2]]\n",
    "    dist <- rdist::cdist(x, x.j)\n",
    "\n",
    "    z = (L * dist - M + f.star) / (sqrt(2 * f.star.var))\n",
    "    z = 0.5 * pracma::erfc(-z)\n",
    "    z\n",
    "}"
   ]
  },
  {
   "cell_type": "markdown",
   "id": "ahead-allen",
   "metadata": {},
   "source": [
    "The penalized acquisition function first squashes the value of the original acqusition function and then penalizes this function around the previously proposed points where the width of the penalized region is goverened by $L$ and $M$."
   ]
  },
  {
   "cell_type": "code",
   "execution_count": 100,
   "id": "considered-liquid",
   "metadata": {},
   "outputs": [],
   "source": [
    "penalized.acquisition <- function(gp, x.d, y.d, x.init, x.t, M, L, conf=2.0) {\n",
    "    .g <- function(x) {        \n",
    "        x[x <= 0] <- log(1 + exp(x[x <= 0]))\n",
    "        x\n",
    "    }\n",
    "        \n",
    "    trans.ucb <- .g(acquisition.function(gp, x.d, y.d, x.init, conf))\n",
    "    \n",
    "     penalty <- if (length(x.t) != 0) {\n",
    "    sapply(x.t, function(x.tj) phi(gp, x.d, y.d, x.init, x.tj, L, M)) %>%\n",
    "                     apply(., 1, prod)\n",
    "                     }\n",
    "                      else {\n",
    "                          1\n",
    "                      }\n",
    "    trans.ucb * penalty\n",
    "}       "
   ]
  },
  {
   "cell_type": "markdown",
   "id": "alike-handle",
   "metadata": {},
   "source": [
    "Let's simulate one iteration  $j$ one point at a time. We start again, by simulating an initial data set."
   ]
  },
  {
   "cell_type": "code",
   "execution_count": 133,
   "id": "demonstrated-harbor",
   "metadata": {},
   "outputs": [],
   "source": [
    "set.seed(23)\n",
    "\n",
    "x.d <- -4.34934935\n",
    "y.d <- f(x.d)"
   ]
  },
  {
   "cell_type": "markdown",
   "id": "confident-blair",
   "metadata": {},
   "source": [
    "We update the surrogate model based on the existing data"
   ]
  },
  {
   "cell_type": "markdown",
   "id": "configured-westminster",
   "metadata": {},
   "source": [
    "Using the surrogate model, we estimate $\\hat{L}$ and $\\hat{M}$."
   ]
  },
  {
   "cell_type": "code",
   "execution_count": 134,
   "id": "dramatic-danger",
   "metadata": {},
   "outputs": [
    {
     "name": "stdout",
     "output_type": "stream",
     "text": [
      "Chain 1: \n",
      "Chain 1:  Elapsed Time: 0 seconds (Warm-up)\n",
      "Chain 1:                0.021139 seconds (Sampling)\n",
      "Chain 1:                0.021139 seconds (Total)\n",
      "Chain 1: \n"
     ]
    }
   ],
   "source": [
    "pred <- predict.gp(gp, x.d, y.d, x.init)\n",
    "f.star <- pred[[1]]\n",
    "f.star.var <- pred[[2]]"
   ]
  },
  {
   "cell_type": "code",
   "execution_count": 135,
   "id": "hollow-strap",
   "metadata": {},
   "outputs": [
    {
     "name": "stdout",
     "output_type": "stream",
     "text": [
      "Chain 1: \n",
      "Chain 1:  Elapsed Time: 0 seconds (Warm-up)\n",
      "Chain 1:                0.022309 seconds (Sampling)\n",
      "Chain 1:                0.022309 seconds (Total)\n",
      "Chain 1: \n",
      "Chain 1: \n",
      "Chain 1:  Elapsed Time: 0 seconds (Warm-up)\n",
      "Chain 1:                0.021579 seconds (Sampling)\n",
      "Chain 1:                0.021579 seconds (Total)\n",
      "Chain 1: \n",
      "Chain 1: \n",
      "Chain 1:  Elapsed Time: 0 seconds (Warm-up)\n",
      "Chain 1:                0.020816 seconds (Sampling)\n",
      "Chain 1:                0.020816 seconds (Total)\n",
      "Chain 1: \n"
     ]
    }
   ],
   "source": [
    "M <- m(gp, x.d, y.d, x.init) \n",
    "L <- lipschitz(gp, x.d, y.d, x.init)"
   ]
  },
  {
   "cell_type": "markdown",
   "id": "historical-thirty",
   "metadata": {},
   "source": [
    "We then propose the first point $x_{j1}$:"
   ]
  },
  {
   "cell_type": "code",
   "execution_count": 136,
   "id": "vanilla-effectiveness",
   "metadata": {},
   "outputs": [
    {
     "name": "stdout",
     "output_type": "stream",
     "text": [
      "Chain 1: \n",
      "Chain 1:  Elapsed Time: 0 seconds (Warm-up)\n",
      "Chain 1:                0.022012 seconds (Sampling)\n",
      "Chain 1:                0.022012 seconds (Total)\n",
      "Chain 1: \n"
     ]
    }
   ],
   "source": [
    "acqu <- penalized.acquisition(gp,x.d, y.d, x.init, c(), M, L)"
   ]
  },
  {
   "cell_type": "markdown",
   "id": "complimentary-float",
   "metadata": {},
   "source": [
    "The first point is the same as before (where we didn't use local penalization), since the penalizer is one, i.e., no region of the acquisition function is reduced."
   ]
  },
  {
   "cell_type": "code",
   "execution_count": 137,
   "id": "infrared-piece",
   "metadata": {},
   "outputs": [
    {
     "data": {
      "image/png": "[encoded data removed]",
      "text/plain": [
       "plot without title"
      ]
     },
     "metadata": {
      "image/png": {
       "height": 420,
       "width": 420
      }
     },
     "output_type": "display_data"
    }
   ],
   "source": [
    "g <- scatterplot(x.init, y.init, f.star, f.star.var, data=data.frame(x=x.d, y=y.d))\n",
    "g + geom_line(data=data.frame(x=x.init, y=acqu),\n",
    "              aes(x, y, color=\"black\")) +\n",
    "    geom_point(data=data.frame(x=x.init[which.max(acqu)], y=max(acqu)), aes(x, y))"
   ]
  },
  {
   "cell_type": "code",
   "execution_count": 138,
   "id": "thick-bunch",
   "metadata": {},
   "outputs": [
    {
     "name": "stdout",
     "output_type": "stream",
     "text": [
      "Chain 1: \n",
      "Chain 1:  Elapsed Time: 0 seconds (Warm-up)\n",
      "Chain 1:                0.022027 seconds (Sampling)\n",
      "Chain 1:                0.022027 seconds (Total)\n",
      "Chain 1: \n",
      "Chain 1: \n",
      "Chain 1:  Elapsed Time: 0 seconds (Warm-up)\n",
      "Chain 1:                8e-06 seconds (Sampling)\n",
      "Chain 1:                8e-06 seconds (Total)\n",
      "Chain 1: \n"
     ]
    }
   ],
   "source": [
    "x.t <- x.init[which.max(acqu)]\n",
    "acqu.max.t <- max(acqu)\n",
    "\n",
    "acqu <- penalized.acquisition(gp,x.d, y.d, x.init, x.t, M, L)"
   ]
  },
  {
   "cell_type": "code",
   "execution_count": 139,
   "id": "educated-cartoon",
   "metadata": {},
   "outputs": [
    {
     "data": {
      "image/png": "[encoded data removed]",
      "text/plain": [
       "plot without title"
      ]
     },
     "metadata": {
      "image/png": {
       "height": 420,
       "width": 420
      }
     },
     "output_type": "display_data"
    }
   ],
   "source": [
    "g <- scatterplot(x.init, y.init, \n",
    "                 f.star, f.star.var,\n",
    "                 data=data.frame(x=x.d, y=y.d))\n",
    "g + geom_line(data=data.frame(x=x.init, y=acqu),\n",
    "              aes(x, y, color=\"black\")) +\n",
    "    geom_point(data=data.frame(x=x.t, y=acqu.max.t), \n",
    "               aes(x, y), color=\"darkblue\") +\n",
    "    geom_point(data=data.frame(x=x.init[which.max(acqu)], y=max(acqu)), \n",
    "               aes(x, y))"
   ]
  },
  {
   "cell_type": "markdown",
   "id": "collected-symphony",
   "metadata": {},
   "source": [
    "More concretely, the acquisition function at the previously selected point is its minimum:"
   ]
  },
  {
   "cell_type": "code",
   "execution_count": 140,
   "id": "pleasant-monaco",
   "metadata": {},
   "outputs": [
    {
     "data": {
      "text/html": [
       "-1.96696696696697"
      ],
      "text/latex": [
       "-1.96696696696697"
      ],
      "text/markdown": [
       "-1.96696696696697"
      ],
      "text/plain": [
       "[1] -1.966967"
      ]
     },
     "metadata": {},
     "output_type": "display_data"
    }
   ],
   "source": [
    "x.t"
   ]
  },
  {
   "cell_type": "code",
   "execution_count": 141,
   "id": "governmental-framework",
   "metadata": {},
   "outputs": [
    {
     "data": {
      "text/html": [
       "-4.31931931931932"
      ],
      "text/latex": [
       "-4.31931931931932"
      ],
      "text/markdown": [
       "-4.31931931931932"
      ],
      "text/plain": [
       "[1] -4.319319"
      ]
     },
     "metadata": {},
     "output_type": "display_data"
    }
   ],
   "source": [
    "x.init[which.min(acqu)]"
   ]
  },
  {
   "cell_type": "code",
   "execution_count": 142,
   "id": "comparative-worcester",
   "metadata": {},
   "outputs": [
    {
     "name": "stdout",
     "output_type": "stream",
     "text": [
      "Chain 1: \n",
      "Chain 1:  Elapsed Time: 0 seconds (Warm-up)\n",
      "Chain 1:                0.022573 seconds (Sampling)\n",
      "Chain 1:                0.022573 seconds (Total)\n",
      "Chain 1: \n",
      "Chain 1: \n",
      "Chain 1:  Elapsed Time: 0 seconds (Warm-up)\n",
      "Chain 1:                8e-06 seconds (Sampling)\n",
      "Chain 1:                8e-06 seconds (Total)\n",
      "Chain 1: \n",
      "Chain 1: \n",
      "Chain 1:  Elapsed Time: 0 seconds (Warm-up)\n",
      "Chain 1:                7e-06 seconds (Sampling)\n",
      "Chain 1:                7e-06 seconds (Total)\n",
      "Chain 1: \n"
     ]
    }
   ],
   "source": [
    "x.t <- c(x.t, x.init[which.max(acqu)])\n",
    "acqu.max.t <- c(acqu.max.t, max(acqu))\n",
    "\n",
    "acqu <- penalized.acquisition(gp, x.d, y.d, x.init, x.t, M, L)"
   ]
  },
  {
   "cell_type": "code",
   "execution_count": 143,
   "id": "ambient-overhead",
   "metadata": {},
   "outputs": [
    {
     "data": {
      "image/png": "[encoded data removed]",
      "text/plain": [
       "plot without title"
      ]
     },
     "metadata": {
      "image/png": {
       "height": 420,
       "width": 420
      }
     },
     "output_type": "display_data"
    }
   ],
   "source": [
    "g <- scatterplot(x.init, y.init, \n",
    "                 f.star, f.star.var,\n",
    "                 data=data.frame(x=x.d, y=y.d))\n",
    "g + geom_line(data=data.frame(x=x.init, y=acqu),\n",
    "              aes(x, y, color=\"black\")) +\n",
    "    geom_point(data=data.frame(x=x.t, y=acqu.max.t), \n",
    "               aes(x, y), color=\"darkblue\") +\n",
    "    geom_point(data=data.frame(x=x.init[which.max(acqu)], y=max(acqu)), \n",
    "               aes(x, y))"
   ]
  },
  {
   "cell_type": "code",
   "execution_count": null,
   "id": "included-republic",
   "metadata": {},
   "outputs": [],
   "source": []
  }
 ],
 "metadata": {
  "kernelspec": {
   "display_name": "R",
   "language": "R",
   "name": "ir"
  },
  "language_info": {
   "codemirror_mode": "r",
   "file_extension": ".r",
   "mimetype": "text/x-r-source",
   "name": "R",
   "pygments_lexer": "r",
   "version": "4.0.2"
  }
 },
 "nbformat": 4,
 "nbformat_minor": 5
}
