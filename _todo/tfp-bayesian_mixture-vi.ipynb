{
 "cells": [
  {
   "cell_type": "code",
   "execution_count": 1,
   "id": "c6722fde",
   "metadata": {},
   "outputs": [],
   "source": [
    "%matplotlib inline\n",
    "\n",
    "import functools\n",
    "\n",
    "import matplotlib.pyplot as plt; plt.style.use('ggplot')\n",
    "import numpy as np\n",
    "import seaborn as sns; sns.set_context('notebook')\n",
    "\n",
    "import tensorflow.compat.v2 as tf\n",
    "tf.enable_v2_behavior()\n",
    "import tensorflow_probability as tfp\n",
    "\n",
    "tfd = tfp.distributions\n",
    "tfb = tfp.bijectors"
   ]
  },
  {
   "cell_type": "code",
   "execution_count": 2,
   "id": "99024908",
   "metadata": {},
   "outputs": [],
   "source": [
    "dtype = np.float32\n",
    "K = 3\n",
    "P = 2\n",
    "N = 100\n",
    "true_loc = np.array([[-2., -2],\n",
    "                     [0, 0],\n",
    "                     [2, 2]], dtype)\n",
    "\n",
    "random = np.random.RandomState(seed=43)\n",
    "true_hidden_component = random.randint(0, K, N)\n",
    "D = (\n",
    "    true_loc[true_hidden_component] +\n",
    "    random.randn(N, P).astype(dtype)\n",
    ")"
   ]
  },
  {
   "cell_type": "code",
   "execution_count": 3,
   "id": "870143c0",
   "metadata": {},
   "outputs": [],
   "source": [
    "@tfd.JointDistributionCoroutineAutoBatched\n",
    "def model():    \n",
    "    theta = yield tfd.Dirichlet(concentration=np.ones(K, dtype=dtype))\n",
    "    mu = yield tfd.Independent(\n",
    "        tfd.Normal(loc=tf.zeros((K, P), dtype=dtype),\n",
    "                   scale=tf.ones((K, P), dtype=dtype)),\n",
    "        reinterpreted_batch_ndims=2\n",
    "    )\n",
    "    \n",
    "    omega = yield tfd.Independent(\n",
    "        tfd.WishartTriL(\n",
    "            df=np.float32(5),\n",
    "            scale_tril=tf.stack([tf.eye(P, dtype=dtype)] * K)),\n",
    "        reinterpreted_batch_ndims=1\n",
    "    )\n",
    "\n",
    "    y = yield tfd.MixtureSameFamily(\n",
    "        mixture_distribution=tfd.Categorical(probs=theta),\n",
    "        components_distribution=tfd.MultivariateNormalTriL(\n",
    "            loc=mu,\n",
    "            scale_tril=tf.linalg.cholesky(tf.linalg.inv(omega))\n",
    "        )\n",
    "    )"
   ]
  },
  {
   "cell_type": "code",
   "execution_count": 73,
   "id": "804d8aa5",
   "metadata": {},
   "outputs": [],
   "source": [
    "@tfd.JointDistributionCoroutineAutoBatched\n",
    "def prior():    \n",
    "    theta = yield tfd.Dirichlet(concentration=np.ones(K, dtype=dtype))\n",
    "    mu = yield tfd.Independent(\n",
    "        tfd.Normal(loc=tf.zeros((K, P), dtype=dtype),\n",
    "                   scale=tf.ones((K, P), dtype=dtype)),\n",
    "        reinterpreted_batch_ndims=2\n",
    "    )\n",
    "    \n",
    "    omega = yield tfd.Independent(\n",
    "        tfd.WishartTriL(\n",
    "            df=np.float32(5),\n",
    "            scale_tril=tf.stack([tf.eye(P, dtype=dtype)] * K)),\n",
    "        reinterpreted_batch_ndims=1\n",
    "    )"
   ]
  },
  {
   "cell_type": "code",
   "execution_count": 78,
   "id": "22cc9fd4",
   "metadata": {},
   "outputs": [
    {
     "name": "stdout",
     "output_type": "stream",
     "text": [
      "WARNING:tensorflow:Note that RandomUniformInt inside pfor op may not give same output as inside a sequential loop.\n",
      "WARNING:tensorflow:Using a while_loop for converting StatelessRandomGetKeyCounter\n",
      "WARNING:tensorflow:Using a while_loop for converting StatelessRandomGetAlg\n",
      "WARNING:tensorflow:Using a while_loop for converting StatelessRandomUniformFullIntV2\n",
      "WARNING:tensorflow:Using a while_loop for converting StatelessRandomGetKeyCounter\n",
      "WARNING:tensorflow:Using a while_loop for converting StatelessRandomGetAlg\n",
      "WARNING:tensorflow:Using a while_loop for converting StatelessRandomUniformFullIntV2\n",
      "WARNING:tensorflow:Using a while_loop for converting StatelessRandomGetKeyCounter\n",
      "WARNING:tensorflow:Using a while_loop for converting StatelessRandomGetAlg\n",
      "WARNING:tensorflow:Using a while_loop for converting StatelessRandomUniformFullIntV2\n",
      "WARNING:tensorflow:Using a while_loop for converting StatelessRandomGetKeyCounter\n",
      "WARNING:tensorflow:Using a while_loop for converting StatelessRandomGetAlg\n",
      "WARNING:tensorflow:Using a while_loop for converting StatelessRandomGetKeyCounter\n",
      "WARNING:tensorflow:Using a while_loop for converting StatelessRandomGetAlg\n",
      "WARNING:tensorflow:Using a while_loop for converting StatelessRandomNormalV2\n",
      "WARNING:tensorflow:Using a while_loop for converting StatelessRandomUniformV2\n",
      "WARNING:tensorflow:Using a while_loop for converting StatelessRandomGetKeyCounter\n",
      "WARNING:tensorflow:Using a while_loop for converting StatelessRandomGetAlg\n",
      "WARNING:tensorflow:Using a while_loop for converting StatelessRandomUniformFullIntV2\n",
      "WARNING:tensorflow:Using a while_loop for converting StatelessRandomGetKeyCounter\n",
      "WARNING:tensorflow:Using a while_loop for converting StatelessRandomGetAlg\n",
      "WARNING:tensorflow:Using a while_loop for converting StatelessRandomUniformFullIntV2\n",
      "WARNING:tensorflow:Using a while_loop for converting StatelessRandomGetKeyCounter\n",
      "WARNING:tensorflow:Using a while_loop for converting StatelessRandomGetAlg\n",
      "WARNING:tensorflow:Using a while_loop for converting StatelessRandomGetKeyCounter\n",
      "WARNING:tensorflow:Using a while_loop for converting StatelessRandomGetAlg\n",
      "WARNING:tensorflow:Using a while_loop for converting StatelessRandomNormalV2\n",
      "WARNING:tensorflow:Using a while_loop for converting StatelessRandomUniformV2\n",
      "WARNING:tensorflow:Using a while_loop for converting StatelessRandomGetKeyCounter\n",
      "WARNING:tensorflow:Using a while_loop for converting StatelessRandomGetAlg\n",
      "WARNING:tensorflow:Using a while_loop for converting StatelessRandomUniformV2\n",
      "WARNING:tensorflow:Note that RandomStandardNormal inside pfor op may not give same output as inside a sequential loop.\n",
      "WARNING:tensorflow:Using a while_loop for converting StatelessRandomGetAlg\n",
      "WARNING:tensorflow:Note that RandomUniformInt inside pfor op may not give same output as inside a sequential loop.\n",
      "WARNING:tensorflow:Using a while_loop for converting StatelessRandomGetKeyCounter\n",
      "WARNING:tensorflow:Using a while_loop for converting StatelessRandomUniformFullIntV2\n",
      "WARNING:tensorflow:Using a while_loop for converting StatelessRandomGetKeyCounter\n",
      "WARNING:tensorflow:Using a while_loop for converting StatelessRandomGetAlg\n",
      "WARNING:tensorflow:Using a while_loop for converting StatelessRandomUniformFullIntV2\n",
      "WARNING:tensorflow:Using a while_loop for converting StatelessRandomGetKeyCounter\n",
      "WARNING:tensorflow:Using a while_loop for converting StatelessRandomGetAlg\n",
      "WARNING:tensorflow:Using a while_loop for converting StatelessRandomUniformFullIntV2\n",
      "WARNING:tensorflow:Using a while_loop for converting StatelessRandomGetKeyCounter\n",
      "WARNING:tensorflow:Using a while_loop for converting StatelessRandomGetAlg\n",
      "WARNING:tensorflow:Using a while_loop for converting StatelessRandomUniformFullIntV2\n",
      "WARNING:tensorflow:Using a while_loop for converting StatelessRandomGetKeyCounter\n",
      "WARNING:tensorflow:Using a while_loop for converting StatelessRandomGetAlg\n",
      "WARNING:tensorflow:Using a while_loop for converting StatelessRandomGetKeyCounter\n",
      "WARNING:tensorflow:Using a while_loop for converting StatelessRandomGetAlg\n",
      "WARNING:tensorflow:Using a while_loop for converting StatelessRandomNormalV2\n",
      "WARNING:tensorflow:Using a while_loop for converting StatelessRandomUniformV2\n",
      "WARNING:tensorflow:Using a while_loop for converting StatelessRandomGetKeyCounter\n",
      "WARNING:tensorflow:Using a while_loop for converting StatelessRandomGetAlg\n",
      "WARNING:tensorflow:Using a while_loop for converting StatelessRandomUniformFullIntV2\n",
      "WARNING:tensorflow:Using a while_loop for converting StatelessRandomGetKeyCounter\n",
      "WARNING:tensorflow:Using a while_loop for converting StatelessRandomGetAlg\n",
      "WARNING:tensorflow:Using a while_loop for converting StatelessRandomUniformFullIntV2\n",
      "WARNING:tensorflow:Using a while_loop for converting StatelessRandomGetKeyCounter\n",
      "WARNING:tensorflow:Using a while_loop for converting StatelessRandomGetAlg\n",
      "WARNING:tensorflow:Using a while_loop for converting StatelessRandomGetKeyCounter\n",
      "WARNING:tensorflow:Using a while_loop for converting StatelessRandomGetAlg\n",
      "WARNING:tensorflow:Using a while_loop for converting StatelessRandomNormalV2\n",
      "WARNING:tensorflow:Using a while_loop for converting StatelessRandomUniformV2\n",
      "WARNING:tensorflow:Using a while_loop for converting StatelessRandomGetKeyCounter\n",
      "WARNING:tensorflow:Using a while_loop for converting StatelessRandomGetAlg\n",
      "WARNING:tensorflow:Using a while_loop for converting StatelessRandomUniformV2\n",
      "WARNING:tensorflow:Using a while_loop for converting StatelessRandomGetAlg\n",
      "WARNING:tensorflow:Using a while_loop for converting StatelessRandomGetKeyCounter\n",
      "WARNING:tensorflow:Using a while_loop for converting StatelessRandomNormalV2\n"
     ]
    }
   ],
   "source": [
    "ss = prior.sample(2, seed=2)"
   ]
  },
  {
   "cell_type": "code",
   "execution_count": 6,
   "id": "a4733eb8",
   "metadata": {},
   "outputs": [],
   "source": [
    "teth = xs[0]\n",
    "locs = xs[1]\n",
    "sds = xs[2]"
   ]
  },
  {
   "cell_type": "code",
   "execution_count": 7,
   "id": "28df809e",
   "metadata": {},
   "outputs": [
    {
     "data": {
      "text/plain": [
       "<tf.Tensor: shape=(1, 3, 2), dtype=float32, numpy=\n",
       "array([[[-0.84873825,  0.39724132],\n",
       "        [-0.07350729,  0.46282867],\n",
       "        [ 0.61621374,  0.07817265]]], dtype=float32)>"
      ]
     },
     "execution_count": 7,
     "metadata": {},
     "output_type": "execute_result"
    }
   ],
   "source": [
    "locs"
   ]
  },
  {
   "cell_type": "code",
   "execution_count": 8,
   "id": "162e0091",
   "metadata": {},
   "outputs": [
    {
     "data": {
      "text/plain": [
       "<tf.Tensor: shape=(2,), dtype=float32, numpy=array([-0.07350729,  0.46282867], dtype=float32)>"
      ]
     },
     "execution_count": 8,
     "metadata": {},
     "output_type": "execute_result"
    }
   ],
   "source": [
    "locs[0, 1, :]"
   ]
  },
  {
   "cell_type": "code",
   "execution_count": 9,
   "id": "49d624a3",
   "metadata": {},
   "outputs": [
    {
     "data": {
      "text/plain": [
       "<tf.Tensor: shape=(1, 3, 2, 2), dtype=float32, numpy=\n",
       "array([[[[3.978416 , 2.5113382],\n",
       "         [2.5113382, 6.262958 ]],\n",
       "\n",
       "        [[2.7269495, 0.6776509],\n",
       "         [0.6776509, 3.8900068]],\n",
       "\n",
       "        [[2.319594 , 1.9492456],\n",
       "         [1.9492456, 4.40946  ]]]], dtype=float32)>"
      ]
     },
     "execution_count": 9,
     "metadata": {},
     "output_type": "execute_result"
    }
   ],
   "source": [
    "sds"
   ]
  },
  {
   "cell_type": "code",
   "execution_count": 64,
   "id": "2c54ed96",
   "metadata": {},
   "outputs": [],
   "source": [
    "a=tf.math.log(teth[0, 0]) + tfd.MultivariateNormalTriL(\n",
    "    loc=locs[0, 1, :],\n",
    "    scale_tril=tf.linalg.cholesky(tf.linalg.inv(sds[0, 0, ]))\n",
    ").log_prob(D)"
   ]
  },
  {
   "cell_type": "code",
   "execution_count": 72,
   "id": "0d1e67f0",
   "metadata": {},
   "outputs": [
    {
     "data": {
      "text/plain": [
       "<tf.Tensor: shape=(), dtype=float32, numpy=-2721.1616>"
      ]
     },
     "execution_count": 72,
     "metadata": {},
     "output_type": "execute_result"
    }
   ],
   "source": [
    "tf.math.reduce_sum(tf.math.reduce_logsumexp([a, a, a], axis=0))"
   ]
  },
  {
   "cell_type": "code",
   "execution_count": 56,
   "id": "a327f677",
   "metadata": {},
   "outputs": [
    {
     "data": {
      "text/plain": [
       "<tf.Tensor: shape=(1, 3, 2), dtype=float32, numpy=\n",
       "array([[[-0.84873825,  0.39724132],\n",
       "        [-0.07350729,  0.46282867],\n",
       "        [ 0.61621374,  0.07817265]]], dtype=float32)>"
      ]
     },
     "execution_count": 56,
     "metadata": {},
     "output_type": "execute_result"
    }
   ],
   "source": [
    "locs"
   ]
  },
  {
   "cell_type": "code",
   "execution_count": 30,
   "id": "03232843",
   "metadata": {},
   "outputs": [
    {
     "ename": "SyntaxError",
     "evalue": "unmatched ']' (<ipython-input-30-8cc7d71620d7>, line 1)",
     "output_type": "error",
     "traceback": [
      "\u001b[0;36m  File \u001b[0;32m\"<ipython-input-30-8cc7d71620d7>\"\u001b[0;36m, line \u001b[0;32m1\u001b[0m\n\u001b[0;31m    locs]1\u001b[0m\n\u001b[0m        ^\u001b[0m\n\u001b[0;31mSyntaxError\u001b[0m\u001b[0;31m:\u001b[0m unmatched ']'\n"
     ]
    }
   ],
   "source": [
    "tfd.MultivariateNormalTriL(locs)"
   ]
  },
  {
   "cell_type": "code",
   "execution_count": 83,
   "id": "2c7e5b9d",
   "metadata": {},
   "outputs": [
    {
     "data": {
      "text/plain": [
       "<tf.Tensor: shape=(), dtype=float32, numpy=0.076664634>"
      ]
     },
     "execution_count": 83,
     "metadata": {},
     "output_type": "execute_result"
    }
   ],
   "source": [
    "teth[0, 1]"
   ]
  },
  {
   "cell_type": "code",
   "execution_count": 87,
   "id": "38e7d825",
   "metadata": {},
   "outputs": [
    {
     "data": {
      "text/plain": [
       "<tf.Tensor: shape=(1, 3, 2, 2), dtype=float32, numpy=\n",
       "array([[[[3.978416 , 2.5113382],\n",
       "         [2.5113382, 6.262958 ]],\n",
       "\n",
       "        [[2.7269495, 0.6776509],\n",
       "         [0.6776509, 3.8900068]],\n",
       "\n",
       "        [[2.319594 , 1.9492456],\n",
       "         [1.9492456, 4.40946  ]]]], dtype=float32)>"
      ]
     },
     "execution_count": 87,
     "metadata": {},
     "output_type": "execute_result"
    }
   ],
   "source": [
    "sds"
   ]
  },
  {
   "cell_type": "code",
   "execution_count": 111,
   "id": "57e379dc",
   "metadata": {},
   "outputs": [
    {
     "data": {
      "text/plain": [
       "<tf.Tensor: shape=(1, 3, 2), dtype=float32, numpy=\n",
       "array([[[-0.84873825,  0.39724132],\n",
       "        [-0.07350729,  0.46282867],\n",
       "        [ 0.61621374,  0.07817265]]], dtype=float32)>"
      ]
     },
     "execution_count": 111,
     "metadata": {},
     "output_type": "execute_result"
    }
   ],
   "source": [
    "locs"
   ]
  },
  {
   "cell_type": "code",
   "execution_count": 115,
   "id": "975ee2ad",
   "metadata": {},
   "outputs": [
    {
     "data": {
      "text/plain": [
       "<tf.Tensor: shape=(1, 3, 2, 2), dtype=float32, numpy=\n",
       "array([[[[3.978416 , 2.5113382],\n",
       "         [2.5113382, 6.262958 ]],\n",
       "\n",
       "        [[2.7269495, 0.6776509],\n",
       "         [0.6776509, 3.8900068]],\n",
       "\n",
       "        [[2.319594 , 1.9492456],\n",
       "         [1.9492456, 4.40946  ]]]], dtype=float32)>"
      ]
     },
     "execution_count": 115,
     "metadata": {},
     "output_type": "execute_result"
    }
   ],
   "source": [
    "sds"
   ]
  },
  {
   "cell_type": "code",
   "execution_count": null,
   "id": "78952f8b",
   "metadata": {},
   "outputs": [],
   "source": []
  },
  {
   "cell_type": "code",
   "execution_count": 54,
   "id": "85c2739f",
   "metadata": {},
   "outputs": [],
   "source": [
    "def joint_log_prob(observations, theta, mu, omega):\n",
    "    lpdf_prior =  prior.log_prob(theta, mu, omegas)    \n",
    "    lpdf_likelihood = tfd.MultivariateNormalTriL(\n",
    "        loc=locs, \n",
    "        scale_tril=tf.linalg.cholesky(tf.linalg.inv(sds))\n",
    "    ).log_prob(D[:, tf.newaxis])\n",
    "        \n",
    "    lpdf_lik = tf.math.reduce_logsumexp([a, a, a], axis=0)    "
   ]
  },
  {
   "cell_type": "code",
   "execution_count": null,
   "id": "e8f4ae02",
   "metadata": {},
   "outputs": [],
   "source": []
  }
 ],
 "metadata": {
  "kernelspec": {
   "display_name": "Etudes-dev",
   "language": "python",
   "name": "etudes-dev"
  },
  "language_info": {
   "codemirror_mode": {
    "name": "ipython",
    "version": 3
   },
   "file_extension": ".py",
   "mimetype": "text/x-python",
   "name": "python",
   "nbconvert_exporter": "python",
   "pygments_lexer": "ipython3",
   "version": "3.8.6"
  }
 },
 "nbformat": 4,
 "nbformat_minor": 5
}
