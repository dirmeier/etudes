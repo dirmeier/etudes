{
 "cells": [
  {
   "cell_type": "markdown",
   "metadata": {},
   "source": [
    "# On normalizing flows\n",
    "\n",
    "\n",
    "- density estimation (i.e., moon data) and sampling\n",
    "- (variational) inference and reparameterization for MCMC (see orig flow paper)\n",
    "\n",
    "- autoregressive flows (transformer and conditioner)\n",
    "- coupling flows (realnvp)\n",
    "- masked autoregressive flows\n",
    "- ffored\n",
    "- inverse autoregressive flows\n",
    "-planar and radial\n",
    " => easy to compute jacobian! \n",
    "\n",
    "- cubic spline flows\n",
    "\n",
    "- references:\n",
    "    - the one blog\n",
    "    - review from papa\n",
    "    - orig papers\n",
    "    - eric jang"
   ]
  },
  {
   "cell_type": "code",
   "execution_count": 1,
   "metadata": {},
   "outputs": [],
   "source": [
    "import pymc4"
   ]
  },
  {
   "cell_type": "markdown",
   "metadata": {},
   "source": [
    "## Normalizing flows\n",
    "\n",
    "explain theory here. change of variables, etc.\n",
    "\n",
    "explain that lower jacobian is good\n",
    "\n",
    "explain how multiple jacobians compuite\n",
    "\n",
    "explain how jacobian is computed"
   ]
  },
  {
   "cell_type": "code",
   "execution_count": 1,
   "metadata": {},
   "outputs": [],
   "source": [
    "## Density estimation, a simple example using TFP (data real nvp data)\n"
   ]
  },
  {
   "cell_type": "markdown",
   "metadata": {},
   "source": [
    "## Variational inference\n",
    "## Density estimation\n",
    "\n",
    "make more complex examples with TFP"
   ]
  },
  {
   "cell_type": "code",
   "execution_count": 1,
   "metadata": {},
   "outputs": [],
   "source": [
    "import tensorflow as tf\n",
    "import tensorflow_probability as tfp\n",
    "\n",
    "from sklearn import cluster, datasets, mixture\n",
    "from sklearn.preprocessing import StandardScaler\n",
    "%matplotlib inline\n",
    "import matplotlib.pyplot as plt\n",
    "\n",
    "tfd = tfp.distributions\n",
    "tfb = tfp.bijectors"
   ]
  },
  {
   "cell_type": "code",
   "execution_count": 2,
   "metadata": {},
   "outputs": [
    {
     "data": {
      "text/plain": [
       "[PhysicalDevice(name='/physical_device:GPU:0', device_type='GPU')]"
      ]
     },
     "execution_count": 2,
     "metadata": {},
     "output_type": "execute_result"
    }
   ],
   "source": [
    "tf.config.list_physical_devices('GPU')"
   ]
  },
  {
   "cell_type": "code",
   "execution_count": 4,
   "metadata": {},
   "outputs": [],
   "source": [
    "import numpy as np\n",
    "n = 2000\n",
    "x2 = np.random.randn(n).astype(dtype=np.float32) * 2.\n",
    "x1 = np.random.randn(n).astype(dtype=np.float32) + (x2 * x2 / 4.)\n",
    "data = np.stack([x1, x2], axis=-1)\n"
   ]
  },
  {
   "cell_type": "code",
   "execution_count": null,
   "metadata": {},
   "outputs": [],
   "source": [
    "n = 1000"
   ]
  },
  {
   "cell_type": "code",
   "execution_count": 13,
   "metadata": {},
   "outputs": [
    {
     "data": {
      "text/plain": [
       "(-2.0, 2.0)"
      ]
     },
     "execution_count": 13,
     "metadata": {},
     "output_type": "execute_result"
    },
    {
     "data": {
      "image/png": "[encoded data removed]",
      "text/plain": [
       "<Figure size 432x288 with 1 Axes>"
      ]
     },
     "metadata": {
      "needs_background": "light"
     },
     "output_type": "display_data"
    }
   ],
   "source": [
    "noisy_moons = datasets.make_moons(n_samples=n_samples, noise=.1)\n",
    "X, y = noisy_moons\n",
    "X = StandardScaler().fit_transform(X)\n",
    "\n",
    "\n",
    "xlim, ylim = [-2, 2], [-2, 2]\n",
    "plt.scatter(X[:, 0], X[:, 1], s=10, color='red')\n",
    "plt.xlim(xlim)\n",
    "plt.ylim(ylim)"
   ]
  },
  {
   "cell_type": "code",
   "execution_count": 187,
   "metadata": {},
   "outputs": [],
   "source": [
    "def create_masks(input_dim,\n",
    "                 hidden_dims,\n",
    "                 input_order='left-to-right',\n",
    "                 hidden_order='left-to-right'):\n",
    "  \"\"\"Returns a list of binary mask matrices respecting autoregressive ordering.\n",
    "  Args:\n",
    "    input_dim: Number of inputs.\n",
    "    hidden_dims: list with the number of hidden units per layer. It does not\n",
    "      include the output layer; those number of units will always be set to\n",
    "      input_dim downstream. Each hidden unit size must be at least the size of\n",
    "      length (otherwise autoregressivity is not possible).\n",
    "    input_order: Order of degrees to the input units: 'random', 'left-to-right',\n",
    "      'right-to-left', or an array of an explicit order. For example,\n",
    "      'left-to-right' builds an autoregressive model\n",
    "      p(x) = p(x1) p(x2 | x1) ... p(xD | x<D).\n",
    "    hidden_order: Order of degrees to the hidden units: 'random',\n",
    "      'left-to-right'. If 'left-to-right', hidden units are allocated equally\n",
    "      (up to a remainder term) to each degree.\n",
    "  \"\"\"\n",
    "  degrees = create_degrees(input_dim, hidden_dims, input_order, hidden_order)\n",
    "  masks = []\n",
    "  # Create input-to-hidden and hidden-to-hidden masks.\n",
    "  for input_degrees, output_degrees in zip(degrees[:-1], degrees[1:]):\n",
    "    mask = tf.cast(input_degrees[:, np.newaxis] <= output_degrees, tf.float32)\n",
    "    masks.append(mask)\n",
    "\n",
    "  # Create hidden-to-output mask.\n",
    "  mask = tf.cast(degrees[-1][:, np.newaxis] < degrees[0], tf.float32)\n",
    "  masks.append(mask)\n",
    "  return masks\n"
   ]
  },
  {
   "cell_type": "code",
   "execution_count": 228,
   "metadata": {},
   "outputs": [
    {
     "data": {
      "text/plain": [
       "[<tf.Tensor: shape=(2, 3), dtype=float32, numpy=\n",
       " array([[1., 1., 1.],\n",
       "        [0., 0., 0.]], dtype=float32)>,\n",
       " <tf.Tensor: shape=(3, 3), dtype=float32, numpy=\n",
       " array([[1., 1., 1.],\n",
       "        [1., 1., 1.],\n",
       "        [1., 1., 1.]], dtype=float32)>,\n",
       " <tf.Tensor: shape=(3, 2), dtype=float32, numpy=\n",
       " array([[0., 1.],\n",
       "        [0., 1.],\n",
       "        [0., 1.]], dtype=float32)>]"
      ]
     },
     "execution_count": 228,
     "metadata": {},
     "output_type": "execute_result"
    }
   ],
   "source": [
    "create_masks(2, [3, 3])"
   ]
  },
  {
   "cell_type": "code",
   "execution_count": 236,
   "metadata": {},
   "outputs": [],
   "source": [
    "def make_degrees(p, hidden_dims):\n",
    "    m = [tf.random.shuffle(tf.constant(range(1, p + 1)))]\n",
    "    for dim in hidden_dims:                \n",
    "        n_min = min(np.min(m[-1]), p - 1)\n",
    "        degrees = np.random.randint(low=n_min, high=p, size=dim)\n",
    "        degrees = tf.constant(degrees, dtype=\"int32\")\n",
    "        m.append(degrees)\n",
    "    return m"
   ]
  },
  {
   "cell_type": "code",
   "execution_count": 239,
   "metadata": {},
   "outputs": [
    {
     "data": {
      "text/plain": [
       "[<tf.Tensor: shape=(3,), dtype=int32, numpy=array([3, 1, 2], dtype=int32)>,\n",
       " <tf.Tensor: shape=(5,), dtype=int32, numpy=array([1, 2, 1, 1, 1], dtype=int32)>,\n",
       " <tf.Tensor: shape=(5,), dtype=int32, numpy=array([2, 2, 2, 1, 1], dtype=int32)>]"
      ]
     },
     "execution_count": 239,
     "metadata": {},
     "output_type": "execute_result"
    }
   ],
   "source": [
    "degrees = make_degrees(3, [5, 5])\n",
    "degrees"
   ]
  },
  {
   "cell_type": "code",
   "execution_count": 225,
   "metadata": {},
   "outputs": [],
   "source": [
    "def make_masks(degrees):\n",
    "    masks = [None] * len(degrees)\n",
    "    for i, (ind, outd) in enumerate(zip(degrees[:-1], degrees[1:])):\n",
    "        masks[i] = tf.cast(outd[:, tf.newaxis] >= ind, dtype=\"int32\")        \n",
    "    masks[-1] = tf.cast(degrees[0][:, np.newaxis] > degrees[-1], dtype=\"int32\")\n",
    "    return masks"
   ]
  },
  {
   "cell_type": "code",
   "execution_count": 244,
   "metadata": {},
   "outputs": [
    {
     "data": {
      "text/plain": [
       "[<tf.Tensor: shape=(4, 3), dtype=int32, numpy=\n",
       " array([[1, 0, 1],\n",
       "        [1, 0, 0],\n",
       "        [1, 0, 1],\n",
       "        [1, 0, 0]], dtype=int32)>,\n",
       " <tf.Tensor: shape=(3, 4), dtype=int32, numpy=\n",
       " array([[0, 0, 0, 0],\n",
       "        [1, 1, 1, 1],\n",
       "        [0, 1, 0, 1]], dtype=int32)>]"
      ]
     },
     "execution_count": 244,
     "metadata": {},
     "output_type": "execute_result"
    }
   ],
   "source": [
    "masks = make_masks(make_degrees(3, [4]))\n",
    "masks"
   ]
  },
  {
   "cell_type": "code",
   "execution_count": 14,
   "metadata": {},
   "outputs": [
    {
     "data": {
      "text/plain": [
       "<tf.Tensor: shape=(5, 5), dtype=float32, numpy=\n",
       "array([[0., 0., 0., 0., 0.],\n",
       "       [0., 0., 0., 0., 0.],\n",
       "       [0., 0., 0., 0., 0.],\n",
       "       [0., 0., 0., 0., 0.],\n",
       "       [0., 0., 0., 0., 0.]], dtype=float32)>"
      ]
     },
     "execution_count": 14,
     "metadata": {},
     "output_type": "execute_result"
    }
   ],
   "source": [
    "def make_layers(p, hidden_dims, activat):\n",
    "    masks = make_masks(p, hidden_dims)\n",
    "    "
   ]
  },
  {
   "cell_type": "code",
   "execution_count": null,
   "metadata": {},
   "outputs": [],
   "source": [
    "def made(input_d)"
   ]
  },
  {
   "cell_type": "code",
   "execution_count": null,
   "metadata": {},
   "outputs": [],
   "source": []
  },
  {
   "cell_type": "code",
   "execution_count": null,
   "metadata": {},
   "outputs": [],
   "source": []
  },
  {
   "cell_type": "code",
   "execution_count": 81,
   "metadata": {},
   "outputs": [],
   "source": [
    "def make_maf(p):\n",
    "    net_init, net_apply = stax.serial(\n",
    "        Dense(512), Relu, Dense(512), Relu, Dense(D))\n",
    "    in_shape = (-1, p // 2)\n",
    "    out_shape, net_params = net_init(rng, in_shape)\n",
    "    \n",
    "    def shift_and_log_scale_fn(net_params, x1):\n",
    "        s = net_apply(net_params, x1)\n",
    "        return np.split(s, 2, axis=1)\n",
    "    \n",
    "    return net_params, shift_and_log_scale_fn"
   ]
  },
  {
   "cell_type": "code",
   "execution_count": 7,
   "metadata": {},
   "outputs": [],
   "source": [
    "base_dist = tfd.MultivariateNormalDiag(loc=tf.zeros([2], tf.float32))"
   ]
  },
  {
   "cell_type": "code",
   "execution_count": 48,
   "metadata": {},
   "outputs": [],
   "source": [
    "class LeakyReLU(tfb.Bijector):\n",
    "    def __init__(self, alpha=0.5, validate_args=False, name=\"leaky_relu\"):\n",
    "        super(LeakyReLU, self).__init__(\n",
    "            forward_min_event_ndims=1, validate_args=validate_args, name=name)\n",
    "        self.alpha = alpha\n",
    "\n",
    "    def _forward(self, x):\n",
    "        return tf.where(tf.greater_equal(x, 0), x, self.alpha * x)\n",
    "\n",
    "    def _inverse(self, y):\n",
    "        return tf.where(tf.greater_equal(y, 0), y, 1. / self.alpha * y)\n",
    "\n",
    "    def _inverse_log_det_jacobian(self, y):\n",
    "\n",
    "        I = tf.ones_like(y)\n",
    "        J_inv = tf.where(tf.greater_equal(y, 0), I, 1.0 / self.alpha * I)\n",
    "        # abs is actually redundant here, since this det Jacobian is > 0\n",
    "        log_abs_det_J_inv = tf.math.log(tf.abs(J_inv))\n",
    "        return tf.reduce_sum(log_abs_det_J_inv, axis=event_dims)"
   ]
  },
  {
   "cell_type": "code",
   "execution_count": 76,
   "metadata": {},
   "outputs": [],
   "source": [
    "bi = tfb.Chain([tfb.Affine(shift=0, \n",
    "                           scale_identity_multiplier=1.),\n",
    "           #\n",
    "           tfb.Affine(scale_identity_multiplier=1.)])"
   ]
  },
  {
   "cell_type": "code",
   "execution_count": 77,
   "metadata": {},
   "outputs": [
    {
     "data": {
      "text/plain": [
       "<tf.Tensor: shape=(), dtype=float32, numpy=0.0>"
      ]
     },
     "execution_count": 77,
     "metadata": {},
     "output_type": "execute_result"
    }
   ],
   "source": [
    "bi.forward_log_det_jacobian(x, 1)"
   ]
  },
  {
   "cell_type": "code",
   "execution_count": 3,
   "metadata": {},
   "outputs": [],
   "source": [
    "import jax.numpy as np\n",
    "from jax import random"
   ]
  },
  {
   "cell_type": "code",
   "execution_count": 73,
   "metadata": {},
   "outputs": [],
   "source": [
    "def sample_n01(N, D = 2):    \n",
    "    return random.normal(rng, (N, D))\n",
    "\n",
    "def log_prob_n01(x):\n",
    "    return np.sum(-np.square(x)/2 - np.log(np.sqrt(2*np.pi)),axis=-1)"
   ]
  },
  {
   "cell_type": "code",
   "execution_count": 75,
   "metadata": {},
   "outputs": [
    {
     "data": {
      "image/png": "[encoded data removed]",
      "text/plain": [
       "<Figure size 432x288 with 1 Axes>"
      ]
     },
     "metadata": {
      "needs_background": "light"
     },
     "output_type": "display_data"
    }
   ],
   "source": [
    "plt.hist(log_prob_n01(X));"
   ]
  },
  {
   "cell_type": "code",
   "execution_count": 1,
   "metadata": {},
   "outputs": [],
   "source": [
    "from jax.experimental import stax\n",
    "from jax.experimental.stax import Dense, Relu"
   ]
  },
  {
   "cell_type": "code",
   "execution_count": 4,
   "metadata": {},
   "outputs": [
    {
     "name": "stderr",
     "output_type": "stream",
     "text": [
      "/home/simon/miniconda3/envs/pymc/lib/python3.7/site-packages/jax/lib/xla_bridge.py:125: UserWarning: No GPU/TPU found, falling back to CPU.\n",
      "  warnings.warn('No GPU/TPU found, falling back to CPU.')\n"
     ]
    }
   ],
   "source": [
    "rng = random.PRNGKey(0)"
   ]
  },
  {
   "cell_type": "code",
   "execution_count": 78,
   "metadata": {},
   "outputs": [],
   "source": [
    "def nvp_forward(net_params, shift_and_log_scale_fn, x, flip=False):\n",
    "    d = x.shape[-1]//2\n",
    "    x1, x2 = x[:, :d], x[:, d:]\n",
    "    if flip:\n",
    "        x2, x1 = x1, x2\n",
    "    shift, log_scale = shift_and_log_scale_fn(net_params, x1)\n",
    "    y2 = x2*np.exp(log_scale) + shift\n",
    "    if flip:\n",
    "        x1, y2 = y2, x1\n",
    "    y = np.concatenate([x1, y2], axis=-1)\n",
    "    return y"
   ]
  },
  {
   "cell_type": "code",
   "execution_count": 79,
   "metadata": {},
   "outputs": [],
   "source": [
    "def nvp_inverse(net_params, shift_and_log_scale_fn, y, flip=False):\n",
    "    d = y.shape[-1]//2\n",
    "    y1, y2 = y[:, :d], y[:, d:]\n",
    "    if flip:\n",
    "        y1, y2 = y2, y1\n",
    "    shift, log_scale = shift_and_log_scale_fn(net_params, y1)\n",
    "    x2 = (y2-shift)*np.exp(-log_scale)\n",
    "    if flip:\n",
    "        y1, x2 = x2, y1\n",
    "    x = np.concatenate([y1, x2], axis=-1)\n",
    "    return x, log_scale"
   ]
  },
  {
   "cell_type": "code",
   "execution_count": 247,
   "metadata": {},
   "outputs": [
    {
     "ename": "NameError",
     "evalue": "name 'init_nvp' is not defined",
     "output_type": "error",
     "traceback": [
      "\u001b[0;31m---------------------------------------------------------------------------\u001b[0m",
      "\u001b[0;31mNameError\u001b[0m                                 Traceback (most recent call last)",
      "\u001b[0;32m<ipython-input-247-14d39a00c202>\u001b[0m in \u001b[0;36m<module>\u001b[0;34m\u001b[0m\n\u001b[0;32m----> 1\u001b[0;31m \u001b[0mnvp\u001b[0m \u001b[0;34m=\u001b[0m \u001b[0minit_nvp\u001b[0m\u001b[0;34m(\u001b[0m\u001b[0;34m)\u001b[0m\u001b[0;34m\u001b[0m\u001b[0;34m\u001b[0m\u001b[0m\n\u001b[0m",
      "\u001b[0;31mNameError\u001b[0m: name 'init_nvp' is not defined"
     ]
    }
   ],
   "source": [
    "nvp = init_nvp()"
   ]
  },
  {
   "cell_type": "code",
   "execution_count": 91,
   "metadata": {},
   "outputs": [
    {
     "data": {
      "text/plain": [
       "<function __main__.init_nvp.<locals>.shift_and_log_scale_fn(net_params, x1)>"
      ]
     },
     "execution_count": 91,
     "metadata": {},
     "output_type": "execute_result"
    }
   ],
   "source": [
    "nvp[1]"
   ]
  },
  {
   "cell_type": "code",
   "execution_count": 92,
   "metadata": {},
   "outputs": [],
   "source": [
    "def sample_nvp(net_params, shift_log_scale_fn, base_sample_fn, N, flip=False):\n",
    "    x = base_sample_fn(N)\n",
    "    return nvp_forward(net_params, shift_log_scale_fn, x, flip=flip)\n",
    "\n",
    "def log_prob_nvp(net_params, shift_log_scale_fn, base_log_prob_fn, y, flip=False):\n",
    "    x, log_scale = nvp_inverse(net_params, shift_log_scale_fn, y, flip=flip)\n",
    "    ildj = -np.sum(log_scale, axis=-1)\n",
    "    return base_log_prob_fn(x) + ildj"
   ]
  },
  {
   "cell_type": "code",
   "execution_count": 93,
   "metadata": {},
   "outputs": [],
   "source": [
    "def init_nvp_chain(n=2):\n",
    "    flip = False\n",
    "    ps, configs = [], []\n",
    "    for i in range(n):\n",
    "        p, f = init_nvp()\n",
    "        ps.append(p), configs.append((f, flip))\n",
    "        flip = not flip\n",
    "    return ps, configs"
   ]
  },
  {
   "cell_type": "code",
   "execution_count": 95,
   "metadata": {},
   "outputs": [],
   "source": [
    "def sample_nvp_chain(ps, configs, base_sample_fn, N):\n",
    "    x = base_sample_fn(N)\n",
    "    for p, config in zip(ps, configs):\n",
    "        shift_log_scale_fn, flip = config\n",
    "        x = nvp_forward(p, shift_log_scale_fn, x, flip=flip)\n",
    "    return x\n",
    "\n",
    "def make_log_prob_fn(p, log_prob_fn, config):\n",
    "    shift_log_scale_fn, flip = config\n",
    "    return lambda x: log_prob_nvp(p, shift_log_scale_fn, log_prob_fn, x, flip=flip)\n",
    "\n",
    "def log_prob_nvp_chain(ps, configs, base_log_prob_fn, y):\n",
    "    log_prob_fn = base_log_prob_fn\n",
    "    for p, config in zip(ps, configs):\n",
    "        log_prob_fn = make_log_prob_fn(p, log_prob_fn, config)\n",
    "    return log_prob_fn(y)"
   ]
  },
  {
   "cell_type": "code",
   "execution_count": 96,
   "metadata": {},
   "outputs": [],
   "source": [
    "ps, cs = init_nvp_chain(4)\n",
    "y = sample_nvp_chain(ps, cs, sample_n01, 1000)"
   ]
  },
  {
   "cell_type": "code",
   "execution_count": 97,
   "metadata": {},
   "outputs": [
    {
     "data": {
      "image/png": "[encoded data removed]",
      "text/plain": [
       "<Figure size 432x288 with 1 Axes>"
      ]
     },
     "metadata": {
      "needs_background": "light"
     },
     "output_type": "display_data"
    }
   ],
   "source": [
    "plt.hist(log_prob_nvp_chain(ps, cs, log_prob_n01, X));"
   ]
  },
  {
   "cell_type": "code",
   "execution_count": 98,
   "metadata": {},
   "outputs": [],
   "source": [
    "from jax.experimental import optimizers\n",
    "from jax import jit, grad\n",
    "import numpy as onp\n",
    "ps, cs = init_nvp_chain(4)\n",
    "\n",
    "def loss(params, batch):\n",
    "    return -np.mean(log_prob_nvp_chain(params, cs, log_prob_n01, batch))\n",
    "opt_init, opt_update, get_params = optimizers.adam(step_size=1e-4)\n",
    "\n",
    "@jit\n",
    "def step(i, opt_state, batch):\n",
    "    params = get_params(opt_state)\n",
    "    g = grad(loss)(params, batch)\n",
    "    return opt_update(i, g, opt_state)\n",
    "\n",
    "iters = int(1e4)\n",
    "data_generator = (X[onp.random.choice(X.shape[0], 100)] for _ in range(iters))\n",
    "opt_state = opt_init(ps)\n",
    "for i in range(iters):\n",
    "    opt_state = step(i, opt_state, next(data_generator))\n",
    "ps = get_params(opt_state)"
   ]
  },
  {
   "cell_type": "code",
   "execution_count": 99,
   "metadata": {},
   "outputs": [],
   "source": [
    "y = sample_nvp_chain(ps, cs, sample_n01, 1000)"
   ]
  },
  {
   "cell_type": "code",
   "execution_count": 100,
   "metadata": {},
   "outputs": [
    {
     "data": {
      "image/png": "[encoded data removed]",
      "text/plain": [
       "<Figure size 432x288 with 1 Axes>"
      ]
     },
     "metadata": {
      "needs_background": "light"
     },
     "output_type": "display_data"
    }
   ],
   "source": [
    "plt.scatter(y[:, 0], y[:, 1], s=10, color='red')"
   ]
  }
 ],
 "metadata": {
  "kernelspec": {
   "display_name": "Python (pymc)",
   "language": "python",
   "name": "pymc"
  },
  "language_info": {
   "codemirror_mode": {
    "name": "ipython",
    "version": 3
   },
   "file_extension": ".py",
   "mimetype": "text/x-python",
   "name": "python",
   "nbconvert_exporter": "python",
   "pygments_lexer": "ipython3",
   "version": "3.7.6"
  }
 },
 "nbformat": 4,
 "nbformat_minor": 4
}
