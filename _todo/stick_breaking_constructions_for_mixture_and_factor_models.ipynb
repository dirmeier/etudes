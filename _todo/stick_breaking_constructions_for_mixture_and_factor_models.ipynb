{
 "cells": [
  {
   "cell_type": "code",
   "execution_count": 2,
   "id": "c2e4f341",
   "metadata": {},
   "outputs": [
    {
     "data": {
      "application/javascript": [
       "\n",
       "            setTimeout(function() {\n",
       "                var nbb_cell_id = 2;\n",
       "                var nbb_unformatted_code = \"%load_ext nb_black\";\n",
       "                var nbb_formatted_code = \"%load_ext nb_black\";\n",
       "                var nbb_cells = Jupyter.notebook.get_cells();\n",
       "                for (var i = 0; i < nbb_cells.length; ++i) {\n",
       "                    if (nbb_cells[i].input_prompt_number == nbb_cell_id) {\n",
       "                        if (nbb_cells[i].get_text() == nbb_unformatted_code) {\n",
       "                             nbb_cells[i].set_text(nbb_formatted_code);\n",
       "                        }\n",
       "                        break;\n",
       "                    }\n",
       "                }\n",
       "            }, 500);\n",
       "            "
      ],
      "text/plain": [
       "<IPython.core.display.Javascript object>"
      ]
     },
     "metadata": {},
     "output_type": "display_data"
    }
   ],
   "source": [
    "%load_ext nb_black"
   ]
  },
  {
   "cell_type": "code",
   "execution_count": 17,
   "id": "8a75ebc7",
   "metadata": {},
   "outputs": [
    {
     "data": {
      "application/javascript": [
       "\n",
       "            setTimeout(function() {\n",
       "                var nbb_cell_id = 17;\n",
       "                var nbb_unformatted_code = \"import logging\\nimport functools\\nimport numpy as onp\\nimport pandas as pd\\n\\nimport jax\\nimport jax.numpy as np\\nimport jax.scipy as sp\\nimport jax.random as random\\n\\nimport numpyro\\nimport numpyro.distributions as dist\\nfrom numpyro.infer import MCMC, NUTS, init_to_sample\\nfrom numpyro.infer import SVI, Trace_ELBO, TraceGraph_ELBO\\nimport numpyro.optim as optim\\nfrom numpyro.distributions.transforms import OrderedTransform\\nimport numpyro.distributions.constraints as constraints\\n\\n%matplotlib inline\\nimport matplotlib.pyplot as plt\\nimport seaborn as sns\\nimport arviz as az\\nimport palettes\\n\\nsns.set_style(\\n    \\\"ticks\\\", {\\\"font.family\\\": \\\"serif\\\", \\\"font.serif\\\": \\\"Times New Roman\\\"}\\n)\\npalettes.set_theme()\\nnumpyro.set_host_device_count(4)\";\n",
       "                var nbb_formatted_code = \"import logging\\nimport functools\\nimport numpy as onp\\nimport pandas as pd\\n\\nimport jax\\nimport jax.numpy as np\\nimport jax.scipy as sp\\nimport jax.random as random\\n\\nimport numpyro\\nimport numpyro.distributions as dist\\nfrom numpyro.infer import MCMC, NUTS, init_to_sample\\nfrom numpyro.infer import SVI, Trace_ELBO, TraceGraph_ELBO\\nimport numpyro.optim as optim\\nfrom numpyro.distributions.transforms import OrderedTransform\\nimport numpyro.distributions.constraints as constraints\\n\\n%matplotlib inline\\nimport matplotlib.pyplot as plt\\nimport seaborn as sns\\nimport arviz as az\\nimport palettes\\n\\nsns.set_style(\\\"ticks\\\", {\\\"font.family\\\": \\\"serif\\\", \\\"font.serif\\\": \\\"Times New Roman\\\"})\\npalettes.set_theme()\\nnumpyro.set_host_device_count(4)\";\n",
       "                var nbb_cells = Jupyter.notebook.get_cells();\n",
       "                for (var i = 0; i < nbb_cells.length; ++i) {\n",
       "                    if (nbb_cells[i].input_prompt_number == nbb_cell_id) {\n",
       "                        if (nbb_cells[i].get_text() == nbb_unformatted_code) {\n",
       "                             nbb_cells[i].set_text(nbb_formatted_code);\n",
       "                        }\n",
       "                        break;\n",
       "                    }\n",
       "                }\n",
       "            }, 500);\n",
       "            "
      ],
      "text/plain": [
       "<IPython.core.display.Javascript object>"
      ]
     },
     "metadata": {},
     "output_type": "display_data"
    }
   ],
   "source": [
    "import logging\n",
    "import functools\n",
    "import numpy as onp\n",
    "import pandas as pd\n",
    "\n",
    "import jax\n",
    "import jax.numpy as np\n",
    "import jax.scipy as sp\n",
    "import jax.random as random\n",
    "\n",
    "import numpyro\n",
    "import numpyro.distributions as dist\n",
    "from numpyro.infer import MCMC, NUTS, init_to_sample\n",
    "from numpyro.infer import SVI, Trace_ELBO, TraceGraph_ELBO\n",
    "import numpyro.optim as optim\n",
    "from numpyro.distributions.transforms import OrderedTransform\n",
    "import numpyro.distributions.constraints as constraints\n",
    "\n",
    "%matplotlib inline\n",
    "import matplotlib.pyplot as plt\n",
    "import seaborn as sns\n",
    "import arviz as az\n",
    "import palettes\n",
    "\n",
    "sns.set_style(\"ticks\", {\"font.family\": \"serif\", \"font.serif\": \"Times New Roman\"})\n",
    "palettes.set_theme()\n",
    "numpyro.set_host_device_count(4)"
   ]
  },
  {
   "cell_type": "code",
   "execution_count": 18,
   "id": "6c66ed5c",
   "metadata": {},
   "outputs": [
    {
     "data": {
      "text/plain": [
       "4"
      ]
     },
     "execution_count": 18,
     "metadata": {},
     "output_type": "execute_result"
    },
    {
     "data": {
      "application/javascript": [
       "\n",
       "            setTimeout(function() {\n",
       "                var nbb_cell_id = 18;\n",
       "                var nbb_unformatted_code = \"jax.local_device_count()\";\n",
       "                var nbb_formatted_code = \"jax.local_device_count()\";\n",
       "                var nbb_cells = Jupyter.notebook.get_cells();\n",
       "                for (var i = 0; i < nbb_cells.length; ++i) {\n",
       "                    if (nbb_cells[i].input_prompt_number == nbb_cell_id) {\n",
       "                        if (nbb_cells[i].get_text() == nbb_unformatted_code) {\n",
       "                             nbb_cells[i].set_text(nbb_formatted_code);\n",
       "                        }\n",
       "                        break;\n",
       "                    }\n",
       "                }\n",
       "            }, 500);\n",
       "            "
      ],
      "text/plain": [
       "<IPython.core.display.Javascript object>"
      ]
     },
     "metadata": {},
     "output_type": "display_data"
    }
   ],
   "source": [
    "jax.local_device_count()"
   ]
  },
  {
   "cell_type": "code",
   "execution_count": 19,
   "id": "99024908",
   "metadata": {},
   "outputs": [
    {
     "data": {
      "application/javascript": [
       "\n",
       "            setTimeout(function() {\n",
       "                var nbb_cell_id = 19;\n",
       "                var nbb_unformatted_code = \"n_samples = 1000\\nK = 3\";\n",
       "                var nbb_formatted_code = \"n_samples = 1000\\nK = 3\";\n",
       "                var nbb_cells = Jupyter.notebook.get_cells();\n",
       "                for (var i = 0; i < nbb_cells.length; ++i) {\n",
       "                    if (nbb_cells[i].input_prompt_number == nbb_cell_id) {\n",
       "                        if (nbb_cells[i].get_text() == nbb_unformatted_code) {\n",
       "                             nbb_cells[i].set_text(nbb_formatted_code);\n",
       "                        }\n",
       "                        break;\n",
       "                    }\n",
       "                }\n",
       "            }, 500);\n",
       "            "
      ],
      "text/plain": [
       "<IPython.core.display.Javascript object>"
      ]
     },
     "metadata": {},
     "output_type": "display_data"
    }
   ],
   "source": [
    "n_samples = 1000\n",
    "K = 3"
   ]
  },
  {
   "cell_type": "code",
   "execution_count": 20,
   "id": "35f22d59",
   "metadata": {},
   "outputs": [
    {
     "data": {
      "text/plain": [
       "DeviceArray([-2.,  0.,  2.], dtype=float32)"
      ]
     },
     "execution_count": 20,
     "metadata": {},
     "output_type": "execute_result"
    },
    {
     "data": {
      "application/javascript": [
       "\n",
       "            setTimeout(function() {\n",
       "                var nbb_cell_id = 20;\n",
       "                var nbb_unformatted_code = \"means = np.linspace(-2.0, 2.0, K)\\nmeans\";\n",
       "                var nbb_formatted_code = \"means = np.linspace(-2.0, 2.0, K)\\nmeans\";\n",
       "                var nbb_cells = Jupyter.notebook.get_cells();\n",
       "                for (var i = 0; i < nbb_cells.length; ++i) {\n",
       "                    if (nbb_cells[i].input_prompt_number == nbb_cell_id) {\n",
       "                        if (nbb_cells[i].get_text() == nbb_unformatted_code) {\n",
       "                             nbb_cells[i].set_text(nbb_formatted_code);\n",
       "                        }\n",
       "                        break;\n",
       "                    }\n",
       "                }\n",
       "            }, 500);\n",
       "            "
      ],
      "text/plain": [
       "<IPython.core.display.Javascript object>"
      ]
     },
     "metadata": {},
     "output_type": "display_data"
    }
   ],
   "source": [
    "means = np.linspace(-2.0, 2.0, K)\n",
    "means"
   ]
  },
  {
   "cell_type": "code",
   "execution_count": null,
   "id": "366b25a5",
   "metadata": {},
   "outputs": [],
   "source": [
    "Z = random.randint(\n",
    "    key=random.PRNGKey(23), minval=0, maxval=K, shape=(n_samples,)\n",
    ")"
   ]
  },
  {
   "cell_type": "code",
   "execution_count": 14,
   "id": "ce4fa1c7",
   "metadata": {},
   "outputs": [
    {
     "data": {
      "application/javascript": [
       "\n",
       "            setTimeout(function() {\n",
       "                var nbb_cell_id = 14;\n",
       "                var nbb_unformatted_code = \"sds = np.array([0.25, 0.2, 0.3])\";\n",
       "                var nbb_formatted_code = \"sds = np.array([0.25, 0.2, 0.3])\";\n",
       "                var nbb_cells = Jupyter.notebook.get_cells();\n",
       "                for (var i = 0; i < nbb_cells.length; ++i) {\n",
       "                    if (nbb_cells[i].input_prompt_number == nbb_cell_id) {\n",
       "                        if (nbb_cells[i].get_text() == nbb_unformatted_code) {\n",
       "                             nbb_cells[i].set_text(nbb_formatted_code);\n",
       "                        }\n",
       "                        break;\n",
       "                    }\n",
       "                }\n",
       "            }, 500);\n",
       "            "
      ],
      "text/plain": [
       "<IPython.core.display.Javascript object>"
      ]
     },
     "metadata": {},
     "output_type": "display_data"
    }
   ],
   "source": [
    "sds = np.array([0.25, 0.2, 0.3])"
   ]
  },
  {
   "cell_type": "code",
   "execution_count": null,
   "id": "c7265a23",
   "metadata": {},
   "outputs": [],
   "source": [
    "eps = dist.Normal(0.0, 1.0).sample(\n",
    "    random.PRNGKey(23), sample_shape=(n_samples,)\n",
    ")\n",
    "D = means[Z] + eps * sds[Z]"
   ]
  },
  {
   "cell_type": "code",
   "execution_count": 16,
   "id": "d349dedb",
   "metadata": {},
   "outputs": [
    {
     "data": {
      "image/png": "[encoded data removed]",
      "text/plain": [
       "<Figure size 432x288 with 1 Axes>"
      ]
     },
     "metadata": {},
     "output_type": "display_data"
    },
    {
     "data": {
      "application/javascript": [
       "\n",
       "            setTimeout(function() {\n",
       "                var nbb_cell_id = 16;\n",
       "                var nbb_unformatted_code = \"df = pd.DataFrame(np.vstack([D, Z]).T, columns=[\\\"y\\\", \\\"z\\\"])\\nsns.histplot(\\n    x=\\\"y\\\",\\n    hue=\\\"z\\\",\\n    data=df,\\n    palette=palettes.discrete_sequential_colors(),\\n    legend=False,\\n    bins=50,\\n)\\nplt.show()\";\n",
       "                var nbb_formatted_code = \"df = pd.DataFrame(np.vstack([D, Z]).T, columns=[\\\"y\\\", \\\"z\\\"])\\nsns.histplot(\\n    x=\\\"y\\\",\\n    hue=\\\"z\\\",\\n    data=df,\\n    palette=palettes.discrete_sequential_colors(),\\n    legend=False,\\n    bins=50,\\n)\\nplt.show()\";\n",
       "                var nbb_cells = Jupyter.notebook.get_cells();\n",
       "                for (var i = 0; i < nbb_cells.length; ++i) {\n",
       "                    if (nbb_cells[i].input_prompt_number == nbb_cell_id) {\n",
       "                        if (nbb_cells[i].get_text() == nbb_unformatted_code) {\n",
       "                             nbb_cells[i].set_text(nbb_formatted_code);\n",
       "                        }\n",
       "                        break;\n",
       "                    }\n",
       "                }\n",
       "            }, 500);\n",
       "            "
      ],
      "text/plain": [
       "<IPython.core.display.Javascript object>"
      ]
     },
     "metadata": {},
     "output_type": "display_data"
    }
   ],
   "source": [
    "df = pd.DataFrame(np.vstack([D, Z]).T, columns=[\"y\", \"z\"])\n",
    "sns.histplot(\n",
    "    x=\"y\",\n",
    "    hue=\"z\",\n",
    "    data=df,\n",
    "    palette=palettes.discrete_sequential_colors(),\n",
    "    legend=False,\n",
    "    bins=50,\n",
    ")\n",
    "plt.show()"
   ]
  },
  {
   "cell_type": "markdown",
   "id": "d66a21c4",
   "metadata": {},
   "source": [
    "## A finite mixture"
   ]
  },
  {
   "cell_type": "code",
   "execution_count": null,
   "id": "9933886e",
   "metadata": {},
   "outputs": [],
   "source": [
    "def prior():\n",
    "    pi = numpyro.sample(\n",
    "        \"pi\",\n",
    "        dist.Dirichlet(concentration=np.ones(K)),\n",
    "    )\n",
    "\n",
    "    mu = numpyro.sample(\n",
    "        \"mu\",\n",
    "        dist.TransformedDistribution(\n",
    "            dist.Normal(loc=np.zeros(K)), OrderedTransform()\n",
    "        ),\n",
    "    )\n",
    "\n",
    "    sigma = numpyro.sample(\"sigma\", dist.HalfNormal(scale=np.ones(K)))\n",
    "\n",
    "    return pi, mu, sigma"
   ]
  },
  {
   "cell_type": "code",
   "execution_count": null,
   "id": "3acbea6d",
   "metadata": {},
   "outputs": [],
   "source": [
    "def log_likelihood(D, pi, mu, sigma):\n",
    "    lpdf_weights = np.log(pi)\n",
    "    lpdf_components = dist.Normal(loc=mu, scale=sigma).log_prob(\n",
    "        D[:, np.newaxis]\n",
    "    )\n",
    "\n",
    "    lpdf = lpdf_weights + lpdf_components\n",
    "    lpdf = sp.special.logsumexp(lpdf, axis=-1)\n",
    "    return np.sum(lpdf)"
   ]
  },
  {
   "cell_type": "code",
   "execution_count": null,
   "id": "52d8149d",
   "metadata": {},
   "outputs": [],
   "source": [
    "def model():\n",
    "    pi, mu, sigma = prior()\n",
    "    numpyro.factor(\"likelihood\", log_likelihood(D, pi, mu, sigma))"
   ]
  },
  {
   "cell_type": "code",
   "execution_count": null,
   "id": "db628ebd",
   "metadata": {},
   "outputs": [],
   "source": [
    "def guide():\n",
    "    q_pi_concentration = numpyro.param(\n",
    "        \"pi_concentration\",\n",
    "        init_value=np.ones(K),\n",
    "        constraint=constraints.positive,\n",
    "    )\n",
    "    q_pi = numpyro.sample(\n",
    "        \"pi\",\n",
    "        dist.Dirichlet(concentration=q_pi_concentration),\n",
    "    )\n",
    "\n",
    "    q_mu_mu = numpyro.param(\"q_mu_mu\", init_value=np.array([-2.0, 0.0, 2.0]))\n",
    "    q_mu_sd = numpyro.param(\n",
    "        \"q_mu_sd\", init_value=np.ones(K), constraint=constraints.positive\n",
    "    )\n",
    "    q_mu = numpyro.sample(\n",
    "        \"mu\",\n",
    "        dist.TransformedDistribution(\n",
    "            dist.Normal(loc=q_mu_mu, scale=q_mu_sd), OrderedTransform()\n",
    "        ),\n",
    "    )\n",
    "\n",
    "    q_sigma_scale = numpyro.param(\n",
    "        \"q_sigma_scale\", init_value=np.ones(K), constrain=constraints.positive\n",
    "    )\n",
    "    q_sigma = numpyro.sample(\n",
    "        \"sigma\",\n",
    "        dist.HalfNormal(scale=q_sigma_scale),\n",
    "    )"
   ]
  },
  {
   "cell_type": "code",
   "execution_count": 15,
   "id": "319754ac",
   "metadata": {},
   "outputs": [
    {
     "name": "stderr",
     "output_type": "stream",
     "text": [
      "100%|█████████████████████████████████████████████████████████████████████████████████████████████████████████████████████████████████████████| 10000/10000 [00:25<00:00, 387.62it/s, init loss: 6027.7476, avg. loss [9501-10000]: 2248.0190]\n"
     ]
    }
   ],
   "source": [
    "adam = optim.Adam(0.001)\n",
    "svi = SVI(model, guide, adam, loss=TraceGraph_ELBO(100))\n",
    "res = svi.run(random.PRNGKey(23), num_steps=10000)"
   ]
  },
  {
   "cell_type": "code",
   "execution_count": null,
   "id": "c08e9ffe",
   "metadata": {},
   "outputs": [],
   "source": [
    "def plot_losses(res):\n",
    "    fig, _ = plt.subplots(1, 1)\n",
    "    ax = sns.lineplot(\n",
    "        data=pd.DataFrame({\"y\": res.losses, \"x\": range(len(res.losses))}),\n",
    "        y=\"y\",\n",
    "        x=\"x\",\n",
    "        color=\"black\",\n",
    "    )\n",
    "    ax.set(xlabel=\"\", ylabel=\"NLL\")\n",
    "    plt.show()"
   ]
  },
  {
   "cell_type": "code",
   "execution_count": null,
   "id": "2f8ad8c5",
   "metadata": {},
   "outputs": [],
   "source": [
    "def plot_means(res):\n",
    "    var_posterior_mean = dist.TransformedDistribution(\n",
    "        dist.Normal(loc=res.params[\"q_mu_mu\"], scale=res.params[\"q_mu_sd\"]),\n",
    "        OrderedTransform(),\n",
    "    )\n",
    "    var_posterior_mean_samples = var_posterior_mean.sample(\n",
    "        random.PRNGKey(0), sample_shape=(1000,)\n",
    "    )\n",
    "    K = var_posterior_mean_samples.shape[1]\n",
    "    df = pd.DataFrame(\n",
    "        var_posterior_mean_samples, columns=[f\"mu{i}\" for i in range(K)]\n",
    "    )\n",
    "    df = df.melt(var_name=\"Mu\", value_name=\"Value\")\n",
    "\n",
    "    plt.figure(figsize=(10, 4))\n",
    "    g = sns.FacetGrid(df, col=\"Mu\", col_wrap=5, sharex=False, sharey=False)\n",
    "    _ = g.map_dataframe(sns.histplot, x=\"Value\", color=\"darkgrey\")\n",
    "\n",
    "    plt.show()"
   ]
  },
  {
   "cell_type": "code",
   "execution_count": 20,
   "id": "a32f2a30",
   "metadata": {},
   "outputs": [
    {
     "data": {
      "image/png": "[encoded data removed]",
      "text/plain": [
       "<Figure size 432x288 with 1 Axes>"
      ]
     },
     "metadata": {},
     "output_type": "display_data"
    }
   ],
   "source": [
    "plot_losses(res)"
   ]
  },
  {
   "cell_type": "code",
   "execution_count": 21,
   "id": "8651ff24",
   "metadata": {},
   "outputs": [
    {
     "data": {
      "image/png": "[encoded data removed]",
      "text/plain": [
       "<Figure size 720x288 with 1 Axes>"
      ]
     },
     "metadata": {},
     "output_type": "display_data"
    }
   ],
   "source": [
    "plot_means(res)"
   ]
  },
  {
   "cell_type": "markdown",
   "id": "6ec20d5b",
   "metadata": {},
   "source": [
    "## An infinite mixture"
   ]
  },
  {
   "cell_type": "code",
   "execution_count": 201,
   "id": "0b43b161",
   "metadata": {},
   "outputs": [],
   "source": [
    "K_stick = 10"
   ]
  },
  {
   "cell_type": "code",
   "execution_count": null,
   "id": "48119978",
   "metadata": {},
   "outputs": [],
   "source": [
    "def sample_stick(nu):\n",
    "    ones = np.ones((*nu.shape[:-1], 1))\n",
    "    rem = np.concatenate([ones, np.cumprod(1 - nu, axis=-1)[:-1]], axis=-1)\n",
    "    mix_probs = nu * rem\n",
    "    return mix_probs"
   ]
  },
  {
   "cell_type": "code",
   "execution_count": null,
   "id": "bf168d9e",
   "metadata": {},
   "outputs": [],
   "source": [
    "def infinite_prior():\n",
    "    beta = numpyro.sample(\"beta\", dist.Gamma(1.0, 10.0))\n",
    "\n",
    "    nu = numpyro.sample(\n",
    "        \"nu\", dist.Beta(concentration1=np.ones(K_stick), concentration0=beta)\n",
    "    )\n",
    "\n",
    "    pi = numpyro.deterministic(\"pi\", sample_stick(nu))\n",
    "\n",
    "    mu = numpyro.sample(\n",
    "        \"mu\",\n",
    "        dist.TransformedDistribution(\n",
    "            dist.Normal(loc=np.zeros(K_stick)), OrderedTransform()\n",
    "        ),\n",
    "    )\n",
    "\n",
    "    sigma = numpyro.sample(\"sigma\", dist.HalfNormal(scale=np.ones(K_stick)))\n",
    "\n",
    "    return pi, mu, sigma"
   ]
  },
  {
   "cell_type": "code",
   "execution_count": 205,
   "id": "8abc3a86",
   "metadata": {},
   "outputs": [],
   "source": [
    "with numpyro.handlers.seed(rng_seed=23):\n",
    "    pi, mu, sigma = infinite_prior()"
   ]
  },
  {
   "cell_type": "code",
   "execution_count": null,
   "id": "3396870a",
   "metadata": {},
   "outputs": [],
   "source": [
    "def model():\n",
    "    pi, mu, sigma = infinite_prior()\n",
    "    numpyro.factor(\"likelihood\", log_likelihood(D, pi, mu, sigma))"
   ]
  },
  {
   "cell_type": "code",
   "execution_count": null,
   "id": "69c0e6ba",
   "metadata": {},
   "outputs": [],
   "source": [
    "def guide():\n",
    "    q_beta_concentration = numpyro.param(\n",
    "        \"beta_concentration\", init_value=1.0, constraint=constraints.positive\n",
    "    )\n",
    "    q_beta_rate = numpyro.param(\n",
    "        \"beta_rate\", init_value=1.0, constraint=constraints.positive\n",
    "    )\n",
    "    q_beta = numpyro.sample(\n",
    "        \"beta\", dist.Gamma(q_beta_concentration, q_beta_rate)\n",
    "    )\n",
    "\n",
    "    q_nu_concentration0 = numpyro.param(\n",
    "        \"nu_concentration0\",\n",
    "        init_value=np.ones(K_stick),\n",
    "        constraint=constraints.positive,\n",
    "    )\n",
    "    q_nu = numpyro.sample(\n",
    "        \"nu\",\n",
    "        dist.Beta(concentration1=1.0, concentration0=q_nu_concentration0),\n",
    "    )\n",
    "\n",
    "    q_mu_mu = numpyro.param(\n",
    "        \"q_mu_mu\", init_value=np.linspace(-2.0, 0.0, K_stick)\n",
    "    )\n",
    "    q_mu_sd = numpyro.param(\n",
    "        \"q_mu_sd\", init_value=np.ones(K_stick), constraint=constraints.positive\n",
    "    )\n",
    "    q_mu = numpyro.sample(\n",
    "        \"mu\",\n",
    "        dist.TransformedDistribution(\n",
    "            dist.Normal(loc=q_mu_mu, scale=q_mu_sd), OrderedTransform()\n",
    "        ),\n",
    "    )\n",
    "\n",
    "    q_sigma_scale = numpyro.param(\n",
    "        \"q_sigma_scale\",\n",
    "        init_value=np.ones(K_stick),\n",
    "        constrain=constraints.positive,\n",
    "    )\n",
    "    q_sigma = numpyro.sample(\"sigma\", dist.HalfNormal(scale=q_sigma_scale))"
   ]
  },
  {
   "cell_type": "code",
   "execution_count": 208,
   "id": "803eedf1",
   "metadata": {},
   "outputs": [
    {
     "name": "stderr",
     "output_type": "stream",
     "text": [
      "100%|██████████████████████████████████████████████████████████████████████████████████████████████████████████████████████████████████████████████| 1000/1000 [00:15<00:00, 64.84it/s, init loss: 4376.7134, avg. loss [951-1000]: 2506.7280]\n"
     ]
    }
   ],
   "source": [
    "adam = optim.Adam(0.001)\n",
    "svi = SVI(model, guide, adam, loss=TraceGraph_ELBO(20))\n",
    "res = svi.run(random.PRNGKey(23), num_steps=1000, )"
   ]
  },
  {
   "cell_type": "code",
   "execution_count": null,
   "id": "68af5c8c",
   "metadata": {},
   "outputs": [],
   "source": [
    "nu = dist.Beta(\n",
    "    concentration1=1.0, concentration0=res.params[\"nu_concentration0\"]\n",
    ")\n",
    "sample_stick(nu.mean)"
   ]
  },
  {
   "cell_type": "code",
   "execution_count": 211,
   "id": "398e834b",
   "metadata": {},
   "outputs": [
    {
     "data": {
      "text/plain": [
       "<Figure size 720x288 with 0 Axes>"
      ]
     },
     "metadata": {},
     "output_type": "display_data"
    },
    {
     "data": {
      "image/png": "[encoded data removed]",
      "text/plain": [
       "<Figure size 1080x432 with 10 Axes>"
      ]
     },
     "metadata": {},
     "output_type": "display_data"
    }
   ],
   "source": [
    "plot_means(res)"
   ]
  },
  {
   "cell_type": "code",
   "execution_count": 212,
   "id": "8fe8e8d4",
   "metadata": {},
   "outputs": [],
   "source": [
    "## Factor analysis"
   ]
  },
  {
   "cell_type": "code",
   "execution_count": 21,
   "id": "ed97a98e",
   "metadata": {},
   "outputs": [
    {
     "data": {
      "application/javascript": [
       "\n",
       "            setTimeout(function() {\n",
       "                var nbb_cell_id = 21;\n",
       "                var nbb_unformatted_code = \"n_samples = 100\\nK = 10\";\n",
       "                var nbb_formatted_code = \"n_samples = 100\\nK = 10\";\n",
       "                var nbb_cells = Jupyter.notebook.get_cells();\n",
       "                for (var i = 0; i < nbb_cells.length; ++i) {\n",
       "                    if (nbb_cells[i].input_prompt_number == nbb_cell_id) {\n",
       "                        if (nbb_cells[i].get_text() == nbb_unformatted_code) {\n",
       "                             nbb_cells[i].set_text(nbb_formatted_code);\n",
       "                        }\n",
       "                        break;\n",
       "                    }\n",
       "                }\n",
       "            }, 500);\n",
       "            "
      ],
      "text/plain": [
       "<IPython.core.display.Javascript object>"
      ]
     },
     "metadata": {},
     "output_type": "display_data"
    }
   ],
   "source": [
    "n_samples = 100\n",
    "K = 10"
   ]
  },
  {
   "cell_type": "code",
   "execution_count": 22,
   "id": "36af43cd",
   "metadata": {},
   "outputs": [
    {
     "data": {
      "text/plain": [
       "DeviceArray([0.926722  , 0.7400079 , 0.52786434, 0.33712   , 0.22903277,\n",
       "             0.14449869, 0.12368181, 0.05622254, 0.04721373, 0.04337756],            dtype=float32)"
      ]
     },
     "execution_count": 22,
     "metadata": {},
     "output_type": "execute_result"
    },
    {
     "data": {
      "application/javascript": [
       "\n",
       "            setTimeout(function() {\n",
       "                var nbb_cell_id = 22;\n",
       "                var nbb_unformatted_code = \"nu = dist.Beta(2.0, 1.0).sample(random.PRNGKey(0), sample_shape=(K,))\\npi = np.cumprod(nu)\\npi\";\n",
       "                var nbb_formatted_code = \"nu = dist.Beta(2.0, 1.0).sample(random.PRNGKey(0), sample_shape=(K,))\\npi = np.cumprod(nu)\\npi\";\n",
       "                var nbb_cells = Jupyter.notebook.get_cells();\n",
       "                for (var i = 0; i < nbb_cells.length; ++i) {\n",
       "                    if (nbb_cells[i].input_prompt_number == nbb_cell_id) {\n",
       "                        if (nbb_cells[i].get_text() == nbb_unformatted_code) {\n",
       "                             nbb_cells[i].set_text(nbb_formatted_code);\n",
       "                        }\n",
       "                        break;\n",
       "                    }\n",
       "                }\n",
       "            }, 500);\n",
       "            "
      ],
      "text/plain": [
       "<IPython.core.display.Javascript object>"
      ]
     },
     "metadata": {},
     "output_type": "display_data"
    }
   ],
   "source": [
    "nu = dist.Beta(2.0, 1.0).sample(random.PRNGKey(0), sample_shape=(K,))\n",
    "pi = np.cumprod(nu)\n",
    "pi"
   ]
  },
  {
   "cell_type": "code",
   "execution_count": 23,
   "id": "7b81aeec",
   "metadata": {},
   "outputs": [
    {
     "data": {
      "text/plain": [
       "DeviceArray([0.926722  , 0.7400079 , 0.52786434, 0.33712   , 0.22903277,\n",
       "             0.14449869, 0.12368181, 0.05622254, 0.04721373, 0.04337756],            dtype=float32)"
      ]
     },
     "execution_count": 23,
     "metadata": {},
     "output_type": "execute_result"
    },
    {
     "data": {
      "application/javascript": [
       "\n",
       "            setTimeout(function() {\n",
       "                var nbb_cell_id = 23;\n",
       "                var nbb_unformatted_code = \"pi\";\n",
       "                var nbb_formatted_code = \"pi\";\n",
       "                var nbb_cells = Jupyter.notebook.get_cells();\n",
       "                for (var i = 0; i < nbb_cells.length; ++i) {\n",
       "                    if (nbb_cells[i].input_prompt_number == nbb_cell_id) {\n",
       "                        if (nbb_cells[i].get_text() == nbb_unformatted_code) {\n",
       "                             nbb_cells[i].set_text(nbb_formatted_code);\n",
       "                        }\n",
       "                        break;\n",
       "                    }\n",
       "                }\n",
       "            }, 500);\n",
       "            "
      ],
      "text/plain": [
       "<IPython.core.display.Javascript object>"
      ]
     },
     "metadata": {},
     "output_type": "display_data"
    }
   ],
   "source": [
    "pi"
   ]
  },
  {
   "cell_type": "code",
   "execution_count": 24,
   "id": "6ff64c68",
   "metadata": {},
   "outputs": [
    {
     "data": {
      "application/javascript": [
       "\n",
       "            setTimeout(function() {\n",
       "                var nbb_cell_id = 24;\n",
       "                var nbb_unformatted_code = \"Z = dist.Bernoulli(probs=pi).sample(\\n    random.PRNGKey(1), sample_shape=(n_samples,)\\n)\";\n",
       "                var nbb_formatted_code = \"Z = dist.Bernoulli(probs=pi).sample(random.PRNGKey(1), sample_shape=(n_samples,))\";\n",
       "                var nbb_cells = Jupyter.notebook.get_cells();\n",
       "                for (var i = 0; i < nbb_cells.length; ++i) {\n",
       "                    if (nbb_cells[i].input_prompt_number == nbb_cell_id) {\n",
       "                        if (nbb_cells[i].get_text() == nbb_unformatted_code) {\n",
       "                             nbb_cells[i].set_text(nbb_formatted_code);\n",
       "                        }\n",
       "                        break;\n",
       "                    }\n",
       "                }\n",
       "            }, 500);\n",
       "            "
      ],
      "text/plain": [
       "<IPython.core.display.Javascript object>"
      ]
     },
     "metadata": {},
     "output_type": "display_data"
    }
   ],
   "source": [
    "Z = dist.Bernoulli(probs=pi).sample(random.PRNGKey(1), sample_shape=(n_samples,))"
   ]
  },
  {
   "cell_type": "code",
   "execution_count": 25,
   "id": "4b8fc868",
   "metadata": {},
   "outputs": [
    {
     "data": {
      "image/png": "[encoded data removed]",
      "text/plain": [
       "<Figure size 1080x216 with 1 Axes>"
      ]
     },
     "metadata": {},
     "output_type": "display_data"
    },
    {
     "data": {
      "application/javascript": [
       "\n",
       "            setTimeout(function() {\n",
       "                var nbb_cell_id = 25;\n",
       "                var nbb_unformatted_code = \"fig = plt.figure(figsize=(15, 3))\\nax = sns.heatmap(\\n    Z.T,\\n    linewidths=0.1,\\n    cbar=False,\\n    cmap=[\\\"white\\\", \\\"black\\\"],\\n    linecolor=\\\"darkgrey\\\",\\n)\\nax.set_ylabel(\\\"Active features\\\")\\nax.set_xlabel(\\\"Samples\\\")\\nax.minorticks_off()\\nplt.show()\";\n",
       "                var nbb_formatted_code = \"fig = plt.figure(figsize=(15, 3))\\nax = sns.heatmap(\\n    Z.T,\\n    linewidths=0.1,\\n    cbar=False,\\n    cmap=[\\\"white\\\", \\\"black\\\"],\\n    linecolor=\\\"darkgrey\\\",\\n)\\nax.set_ylabel(\\\"Active features\\\")\\nax.set_xlabel(\\\"Samples\\\")\\nax.minorticks_off()\\nplt.show()\";\n",
       "                var nbb_cells = Jupyter.notebook.get_cells();\n",
       "                for (var i = 0; i < nbb_cells.length; ++i) {\n",
       "                    if (nbb_cells[i].input_prompt_number == nbb_cell_id) {\n",
       "                        if (nbb_cells[i].get_text() == nbb_unformatted_code) {\n",
       "                             nbb_cells[i].set_text(nbb_formatted_code);\n",
       "                        }\n",
       "                        break;\n",
       "                    }\n",
       "                }\n",
       "            }, 500);\n",
       "            "
      ],
      "text/plain": [
       "<IPython.core.display.Javascript object>"
      ]
     },
     "metadata": {},
     "output_type": "display_data"
    }
   ],
   "source": [
    "fig = plt.figure(figsize=(15, 3))\n",
    "ax = sns.heatmap(\n",
    "    Z.T,\n",
    "    linewidths=0.1,\n",
    "    cbar=False,\n",
    "    cmap=[\"white\", \"black\"],\n",
    "    linecolor=\"darkgrey\",\n",
    ")\n",
    "ax.set_ylabel(\"Active features\")\n",
    "ax.set_xlabel(\"Samples\")\n",
    "ax.minorticks_off()\n",
    "plt.show()"
   ]
  },
  {
   "cell_type": "code",
   "execution_count": 26,
   "id": "63d2161c",
   "metadata": {},
   "outputs": [
    {
     "data": {
      "application/javascript": [
       "\n",
       "            setTimeout(function() {\n",
       "                var nbb_cell_id = 26;\n",
       "                var nbb_unformatted_code = \"Z = dist.Bernoulli(probs=pi).sample(\\n    random.PRNGKey(0), sample_shape=(n_samples,)\\n)\\nfeatures = dist.Normal().sample(random.PRNGKey(0), sample_shape=(K,))\";\n",
       "                var nbb_formatted_code = \"Z = dist.Bernoulli(probs=pi).sample(random.PRNGKey(0), sample_shape=(n_samples,))\\nfeatures = dist.Normal().sample(random.PRNGKey(0), sample_shape=(K,))\";\n",
       "                var nbb_cells = Jupyter.notebook.get_cells();\n",
       "                for (var i = 0; i < nbb_cells.length; ++i) {\n",
       "                    if (nbb_cells[i].input_prompt_number == nbb_cell_id) {\n",
       "                        if (nbb_cells[i].get_text() == nbb_unformatted_code) {\n",
       "                             nbb_cells[i].set_text(nbb_formatted_code);\n",
       "                        }\n",
       "                        break;\n",
       "                    }\n",
       "                }\n",
       "            }, 500);\n",
       "            "
      ],
      "text/plain": [
       "<IPython.core.display.Javascript object>"
      ]
     },
     "metadata": {},
     "output_type": "display_data"
    }
   ],
   "source": [
    "Z = dist.Bernoulli(probs=pi).sample(random.PRNGKey(0), sample_shape=(n_samples,))\n",
    "features = dist.Normal().sample(random.PRNGKey(0), sample_shape=(K,))"
   ]
  },
  {
   "cell_type": "code",
   "execution_count": 27,
   "id": "35637a87",
   "metadata": {},
   "outputs": [
    {
     "data": {
      "application/javascript": [
       "\n",
       "            setTimeout(function() {\n",
       "                var nbb_cell_id = 27;\n",
       "                var nbb_unformatted_code = \"y = Z @ features\";\n",
       "                var nbb_formatted_code = \"y = Z @ features\";\n",
       "                var nbb_cells = Jupyter.notebook.get_cells();\n",
       "                for (var i = 0; i < nbb_cells.length; ++i) {\n",
       "                    if (nbb_cells[i].input_prompt_number == nbb_cell_id) {\n",
       "                        if (nbb_cells[i].get_text() == nbb_unformatted_code) {\n",
       "                             nbb_cells[i].set_text(nbb_formatted_code);\n",
       "                        }\n",
       "                        break;\n",
       "                    }\n",
       "                }\n",
       "            }, 500);\n",
       "            "
      ],
      "text/plain": [
       "<IPython.core.display.Javascript object>"
      ]
     },
     "metadata": {},
     "output_type": "display_data"
    }
   ],
   "source": [
    "y = Z @ features"
   ]
  },
  {
   "cell_type": "code",
   "execution_count": 28,
   "id": "1db9c58a",
   "metadata": {},
   "outputs": [
    {
     "data": {
      "image/png": "[encoded data removed]",
      "text/plain": [
       "<Figure size 432x288 with 1 Axes>"
      ]
     },
     "metadata": {},
     "output_type": "display_data"
    },
    {
     "data": {
      "application/javascript": [
       "\n",
       "            setTimeout(function() {\n",
       "                var nbb_cell_id = 28;\n",
       "                var nbb_unformatted_code = \"df = pd.DataFrame(y, columns=[\\\"y\\\"])\\nsns.histplot(x=\\\"y\\\", data=df, legend=False, bins=30)\\nplt.show()\";\n",
       "                var nbb_formatted_code = \"df = pd.DataFrame(y, columns=[\\\"y\\\"])\\nsns.histplot(x=\\\"y\\\", data=df, legend=False, bins=30)\\nplt.show()\";\n",
       "                var nbb_cells = Jupyter.notebook.get_cells();\n",
       "                for (var i = 0; i < nbb_cells.length; ++i) {\n",
       "                    if (nbb_cells[i].input_prompt_number == nbb_cell_id) {\n",
       "                        if (nbb_cells[i].get_text() == nbb_unformatted_code) {\n",
       "                             nbb_cells[i].set_text(nbb_formatted_code);\n",
       "                        }\n",
       "                        break;\n",
       "                    }\n",
       "                }\n",
       "            }, 500);\n",
       "            "
      ],
      "text/plain": [
       "<IPython.core.display.Javascript object>"
      ]
     },
     "metadata": {},
     "output_type": "display_data"
    }
   ],
   "source": [
    "df = pd.DataFrame(y, columns=[\"y\"])\n",
    "sns.histplot(x=\"y\", data=df, legend=False, bins=30)\n",
    "plt.show()"
   ]
  },
  {
   "cell_type": "code",
   "execution_count": 29,
   "id": "2f948507",
   "metadata": {},
   "outputs": [
    {
     "data": {
      "application/javascript": [
       "\n",
       "            setTimeout(function() {\n",
       "                var nbb_cell_id = 29;\n",
       "                var nbb_unformatted_code = \"import tensorflow_probability as tfp\";\n",
       "                var nbb_formatted_code = \"import tensorflow_probability as tfp\";\n",
       "                var nbb_cells = Jupyter.notebook.get_cells();\n",
       "                for (var i = 0; i < nbb_cells.length; ++i) {\n",
       "                    if (nbb_cells[i].input_prompt_number == nbb_cell_id) {\n",
       "                        if (nbb_cells[i].get_text() == nbb_unformatted_code) {\n",
       "                             nbb_cells[i].set_text(nbb_formatted_code);\n",
       "                        }\n",
       "                        break;\n",
       "                    }\n",
       "                }\n",
       "            }, 500);\n",
       "            "
      ],
      "text/plain": [
       "<IPython.core.display.Javascript object>"
      ]
     },
     "metadata": {},
     "output_type": "display_data"
    }
   ],
   "source": [
    "import tensorflow_probability as tfp"
   ]
  },
  {
   "cell_type": "code",
   "execution_count": 30,
   "id": "dc0b9864",
   "metadata": {},
   "outputs": [
    {
     "data": {
      "application/javascript": [
       "\n",
       "            setTimeout(function() {\n",
       "                var nbb_cell_id = 30;\n",
       "                var nbb_unformatted_code = \"import tensorflow_probability.substrates.jax.distributions as tfp_jax\";\n",
       "                var nbb_formatted_code = \"import tensorflow_probability.substrates.jax.distributions as tfp_jax\";\n",
       "                var nbb_cells = Jupyter.notebook.get_cells();\n",
       "                for (var i = 0; i < nbb_cells.length; ++i) {\n",
       "                    if (nbb_cells[i].input_prompt_number == nbb_cell_id) {\n",
       "                        if (nbb_cells[i].get_text() == nbb_unformatted_code) {\n",
       "                             nbb_cells[i].set_text(nbb_formatted_code);\n",
       "                        }\n",
       "                        break;\n",
       "                    }\n",
       "                }\n",
       "            }, 500);\n",
       "            "
      ],
      "text/plain": [
       "<IPython.core.display.Javascript object>"
      ]
     },
     "metadata": {},
     "output_type": "display_data"
    }
   ],
   "source": [
    "import tensorflow_probability.substrates.jax.distributions as tfp_jax"
   ]
  },
  {
   "cell_type": "code",
   "execution_count": 31,
   "id": "8d7338b3",
   "metadata": {},
   "outputs": [
    {
     "data": {
      "application/javascript": [
       "\n",
       "            setTimeout(function() {\n",
       "                var nbb_cell_id = 31;\n",
       "                var nbb_unformatted_code = \"def prior():\\n    nu = numpyro.sample(\\\"nu\\\", dist.Beta(np.ones(K), 1.0))\\n    pi = numpyro.deterministic(\\\"pi\\\", np.cumprod(nu))\\n\\n    Z = numpyro.sample(\\n        \\\"Z\\\",\\n        tfp_jax.RelaxedBernoulli(0.00001, probs=pi),\\n        sample_shape=(n_samples,),\\n    )\\n\\n    eta = numpyro.sample(\\\"eta\\\", dist.Normal(np.zeros(K), 1.0))\\n\\n    sigma = numpyro.sample(\\\"sigma\\\", dist.HalfNormal(1.0))\\n\\n    return nu, pi, Z, eta, sigma\";\n",
       "                var nbb_formatted_code = \"def prior():\\n    nu = numpyro.sample(\\\"nu\\\", dist.Beta(np.ones(K), 1.0))\\n    pi = numpyro.deterministic(\\\"pi\\\", np.cumprod(nu))\\n\\n    Z = numpyro.sample(\\n        \\\"Z\\\",\\n        tfp_jax.RelaxedBernoulli(0.00001, probs=pi),\\n        sample_shape=(n_samples,),\\n    )\\n\\n    eta = numpyro.sample(\\\"eta\\\", dist.Normal(np.zeros(K), 1.0))\\n\\n    sigma = numpyro.sample(\\\"sigma\\\", dist.HalfNormal(1.0))\\n\\n    return nu, pi, Z, eta, sigma\";\n",
       "                var nbb_cells = Jupyter.notebook.get_cells();\n",
       "                for (var i = 0; i < nbb_cells.length; ++i) {\n",
       "                    if (nbb_cells[i].input_prompt_number == nbb_cell_id) {\n",
       "                        if (nbb_cells[i].get_text() == nbb_unformatted_code) {\n",
       "                             nbb_cells[i].set_text(nbb_formatted_code);\n",
       "                        }\n",
       "                        break;\n",
       "                    }\n",
       "                }\n",
       "            }, 500);\n",
       "            "
      ],
      "text/plain": [
       "<IPython.core.display.Javascript object>"
      ]
     },
     "metadata": {},
     "output_type": "display_data"
    }
   ],
   "source": [
    "def prior():\n",
    "    nu = numpyro.sample(\"nu\", dist.Beta(np.ones(K), 1.0))\n",
    "    pi = numpyro.deterministic(\"pi\", np.cumprod(nu))\n",
    "\n",
    "    Z = numpyro.sample(\n",
    "        \"Z\",\n",
    "        tfp_jax.RelaxedBernoulli(0.00001, probs=pi),\n",
    "        sample_shape=(n_samples,),\n",
    "    )\n",
    "\n",
    "    eta = numpyro.sample(\"eta\", dist.Normal(np.zeros(K), 1.0))\n",
    "\n",
    "    sigma = numpyro.sample(\"sigma\", dist.HalfNormal(1.0))\n",
    "\n",
    "    return nu, pi, Z, eta, sigma"
   ]
  },
  {
   "cell_type": "code",
   "execution_count": 32,
   "id": "94e0d030",
   "metadata": {},
   "outputs": [
    {
     "data": {
      "application/javascript": [
       "\n",
       "            setTimeout(function() {\n",
       "                var nbb_cell_id = 32;\n",
       "                var nbb_unformatted_code = \"def log_likelihood(y, pi, Z, eta, sigma):\\n    mean = Z @ eta\\n    lpdf = dist.Normal(loc=mean, scale=sigma).log_prob(y)\\n    return np.sum(lpdf)\";\n",
       "                var nbb_formatted_code = \"def log_likelihood(y, pi, Z, eta, sigma):\\n    mean = Z @ eta\\n    lpdf = dist.Normal(loc=mean, scale=sigma).log_prob(y)\\n    return np.sum(lpdf)\";\n",
       "                var nbb_cells = Jupyter.notebook.get_cells();\n",
       "                for (var i = 0; i < nbb_cells.length; ++i) {\n",
       "                    if (nbb_cells[i].input_prompt_number == nbb_cell_id) {\n",
       "                        if (nbb_cells[i].get_text() == nbb_unformatted_code) {\n",
       "                             nbb_cells[i].set_text(nbb_formatted_code);\n",
       "                        }\n",
       "                        break;\n",
       "                    }\n",
       "                }\n",
       "            }, 500);\n",
       "            "
      ],
      "text/plain": [
       "<IPython.core.display.Javascript object>"
      ]
     },
     "metadata": {},
     "output_type": "display_data"
    }
   ],
   "source": [
    "def log_likelihood(y, pi, Z, eta, sigma):\n",
    "    mean = Z @ eta\n",
    "    lpdf = dist.Normal(loc=mean, scale=sigma).log_prob(y)\n",
    "    return np.sum(lpdf)"
   ]
  },
  {
   "cell_type": "code",
   "execution_count": 33,
   "id": "2a0f3495",
   "metadata": {},
   "outputs": [
    {
     "data": {
      "application/javascript": [
       "\n",
       "            setTimeout(function() {\n",
       "                var nbb_cell_id = 33;\n",
       "                var nbb_unformatted_code = \"def model():\\n    _, pi, Z, eta, sigma = prior()\\n    numpyro.factor(\\\"likelihood\\\", log_likelihood(y, pi, Z, eta, sigma))\";\n",
       "                var nbb_formatted_code = \"def model():\\n    _, pi, Z, eta, sigma = prior()\\n    numpyro.factor(\\\"likelihood\\\", log_likelihood(y, pi, Z, eta, sigma))\";\n",
       "                var nbb_cells = Jupyter.notebook.get_cells();\n",
       "                for (var i = 0; i < nbb_cells.length; ++i) {\n",
       "                    if (nbb_cells[i].input_prompt_number == nbb_cell_id) {\n",
       "                        if (nbb_cells[i].get_text() == nbb_unformatted_code) {\n",
       "                             nbb_cells[i].set_text(nbb_formatted_code);\n",
       "                        }\n",
       "                        break;\n",
       "                    }\n",
       "                }\n",
       "            }, 500);\n",
       "            "
      ],
      "text/plain": [
       "<IPython.core.display.Javascript object>"
      ]
     },
     "metadata": {},
     "output_type": "display_data"
    }
   ],
   "source": [
    "def model():\n",
    "    _, pi, Z, eta, sigma = prior()\n",
    "    numpyro.factor(\"likelihood\", log_likelihood(y, pi, Z, eta, sigma))"
   ]
  },
  {
   "cell_type": "code",
   "execution_count": 34,
   "id": "f56c93b8",
   "metadata": {},
   "outputs": [
    {
     "data": {
      "application/javascript": [
       "\n",
       "            setTimeout(function() {\n",
       "                var nbb_cell_id = 34;\n",
       "                var nbb_unformatted_code = \"temperature = 0.000001\\nrec_temperature = np.reciprocal(temperature)\";\n",
       "                var nbb_formatted_code = \"temperature = 0.000001\\nrec_temperature = np.reciprocal(temperature)\";\n",
       "                var nbb_cells = Jupyter.notebook.get_cells();\n",
       "                for (var i = 0; i < nbb_cells.length; ++i) {\n",
       "                    if (nbb_cells[i].input_prompt_number == nbb_cell_id) {\n",
       "                        if (nbb_cells[i].get_text() == nbb_unformatted_code) {\n",
       "                             nbb_cells[i].set_text(nbb_formatted_code);\n",
       "                        }\n",
       "                        break;\n",
       "                    }\n",
       "                }\n",
       "            }, 500);\n",
       "            "
      ],
      "text/plain": [
       "<IPython.core.display.Javascript object>"
      ]
     },
     "metadata": {},
     "output_type": "display_data"
    }
   ],
   "source": [
    "temperature = 0.000001\n",
    "rec_temperature = np.reciprocal(temperature)"
   ]
  },
  {
   "cell_type": "code",
   "execution_count": 64,
   "id": "37541815",
   "metadata": {},
   "outputs": [
    {
     "data": {
      "application/javascript": [
       "\n",
       "            setTimeout(function() {\n",
       "                var nbb_cell_id = 64;\n",
       "                var nbb_unformatted_code = \"def guide():\\n    q_nu_concentration1 = numpyro.param(\\n        \\\"nu_concentration1\\\",\\n        init_value=np.ones(K),\\n        constraint=constraints.positive,\\n    )\\n    q_nu_concentration0 = numpyro.param(\\n        \\\"nu_concentration0\\\",\\n        init_value=np.ones(K) * 2.0,\\n        constraint=constraints.positive,\\n    )\\n    q_nu = numpyro.sample(\\n        \\\"nu\\\",\\n        dist.Beta(\\n            concentration1=q_nu_concentration1,\\n            concentration0=q_nu_concentration0,\\n        ),\\n    )\\n\\n    z_logits = numpyro.param(\\n        \\\"z_logits\\\",\\n        init_value=np.tile(np.linspace(2.0, -2.0, K), (n_samples, 1)),\\n    )\\n    Z = numpyro.sample(\\n        \\\"Z\\\",\\n        dist.TransformedDistribution(\\n            dist.Logistic(z_logits * rec_temperature, rec_temperature),\\n            dist.transforms.SigmoidTransform(),\\n        ),\\n    )\\n\\n    q_eta_mu = numpyro.param(\\\"eta_mu\\\", init_value=np.zeros(K))\\n    eta = numpyro.sample(\\\"eta\\\", dist.Normal(q_eta_mu, 1.0))\\n\\n    q_sigma_scale = numpyro.param(\\n        \\\"sigma_scale\\\", init_value=1.0, constrain=constraints.positive\\n    )\\n    q_sigma = numpyro.sample(\\\"sigma\\\", dist.HalfNormal(scale=q_sigma_scale))\";\n",
       "                var nbb_formatted_code = \"def guide():\\n    q_nu_concentration1 = numpyro.param(\\n        \\\"nu_concentration1\\\",\\n        init_value=np.ones(K),\\n        constraint=constraints.positive,\\n    )\\n    q_nu_concentration0 = numpyro.param(\\n        \\\"nu_concentration0\\\",\\n        init_value=np.ones(K) * 2.0,\\n        constraint=constraints.positive,\\n    )\\n    q_nu = numpyro.sample(\\n        \\\"nu\\\",\\n        dist.Beta(\\n            concentration1=q_nu_concentration1,\\n            concentration0=q_nu_concentration0,\\n        ),\\n    )\\n\\n    z_logits = numpyro.param(\\n        \\\"z_logits\\\",\\n        init_value=np.tile(np.linspace(2.0, -2.0, K), (n_samples, 1)),\\n    )\\n    Z = numpyro.sample(\\n        \\\"Z\\\",\\n        dist.TransformedDistribution(\\n            dist.Logistic(z_logits * rec_temperature, rec_temperature),\\n            dist.transforms.SigmoidTransform(),\\n        ),\\n    )\\n\\n    q_eta_mu = numpyro.param(\\\"eta_mu\\\", init_value=np.zeros(K))\\n    eta = numpyro.sample(\\\"eta\\\", dist.Normal(q_eta_mu, 1.0))\\n\\n    q_sigma_scale = numpyro.param(\\n        \\\"sigma_scale\\\", init_value=1.0, constrain=constraints.positive\\n    )\\n    q_sigma = numpyro.sample(\\\"sigma\\\", dist.HalfNormal(scale=q_sigma_scale))\";\n",
       "                var nbb_cells = Jupyter.notebook.get_cells();\n",
       "                for (var i = 0; i < nbb_cells.length; ++i) {\n",
       "                    if (nbb_cells[i].input_prompt_number == nbb_cell_id) {\n",
       "                        if (nbb_cells[i].get_text() == nbb_unformatted_code) {\n",
       "                             nbb_cells[i].set_text(nbb_formatted_code);\n",
       "                        }\n",
       "                        break;\n",
       "                    }\n",
       "                }\n",
       "            }, 500);\n",
       "            "
      ],
      "text/plain": [
       "<IPython.core.display.Javascript object>"
      ]
     },
     "metadata": {},
     "output_type": "display_data"
    }
   ],
   "source": [
    "def guide():\n",
    "    q_nu_concentration1 = numpyro.param(\n",
    "        \"nu_concentration1\",\n",
    "        init_value=np.ones(K),\n",
    "        constraint=constraints.positive,\n",
    "    )\n",
    "    q_nu_concentration0 = numpyro.param(\n",
    "        \"nu_concentration0\",\n",
    "        init_value=np.ones(K) * 2.0,\n",
    "        constraint=constraints.positive,\n",
    "    )\n",
    "    q_nu = numpyro.sample(\n",
    "        \"nu\",\n",
    "        dist.Beta(\n",
    "            concentration1=q_nu_concentration1,\n",
    "            concentration0=q_nu_concentration0,\n",
    "        ),\n",
    "    )\n",
    "\n",
    "    z_logits = numpyro.param(\n",
    "        \"z_logits\",\n",
    "        init_value=np.tile(np.linspace(2.0, -2.0, K), (n_samples, 1)),\n",
    "    )\n",
    "    Z = numpyro.sample(\n",
    "        \"Z\",\n",
    "        dist.TransformedDistribution(\n",
    "            dist.Logistic(z_logits * rec_temperature, rec_temperature),\n",
    "            dist.transforms.SigmoidTransform(),\n",
    "        ),\n",
    "    )\n",
    "\n",
    "    q_eta_mu = numpyro.param(\"eta_mu\", init_value=np.zeros(K))\n",
    "    eta = numpyro.sample(\"eta\", dist.Normal(q_eta_mu, 1.0))\n",
    "\n",
    "    q_sigma_scale = numpyro.param(\n",
    "        \"sigma_scale\", init_value=1.0, constrain=constraints.positive\n",
    "    )\n",
    "    q_sigma = numpyro.sample(\"sigma\", dist.HalfNormal(scale=q_sigma_scale))"
   ]
  },
  {
   "cell_type": "code",
   "execution_count": 65,
   "id": "25cc08dd",
   "metadata": {},
   "outputs": [
    {
     "data": {
      "application/javascript": [
       "\n",
       "            setTimeout(function() {\n",
       "                var nbb_cell_id = 65;\n",
       "                var nbb_unformatted_code = \"from optax import chain, polynomial_schedule, rmsprop, scale_by_schedule, scale_by_rms\";\n",
       "                var nbb_formatted_code = \"from optax import chain, polynomial_schedule, rmsprop, scale_by_schedule, scale_by_rms\";\n",
       "                var nbb_cells = Jupyter.notebook.get_cells();\n",
       "                for (var i = 0; i < nbb_cells.length; ++i) {\n",
       "                    if (nbb_cells[i].input_prompt_number == nbb_cell_id) {\n",
       "                        if (nbb_cells[i].get_text() == nbb_unformatted_code) {\n",
       "                             nbb_cells[i].set_text(nbb_formatted_code);\n",
       "                        }\n",
       "                        break;\n",
       "                    }\n",
       "                }\n",
       "            }, 500);\n",
       "            "
      ],
      "text/plain": [
       "<IPython.core.display.Javascript object>"
      ]
     },
     "metadata": {},
     "output_type": "display_data"
    }
   ],
   "source": [
    "from optax import chain, polynomial_schedule, rmsprop, scale_by_schedule, scale_by_rms"
   ]
  },
  {
   "cell_type": "code",
   "execution_count": 66,
   "id": "da3838ae",
   "metadata": {},
   "outputs": [
    {
     "name": "stderr",
     "output_type": "stream",
     "text": [
      "100%|████| 25000/25000 [01:07<00:00, 370.37it/s, init loss: 1749005952.0000, avg. loss [23751-25000]: 1393071744.0000]\n"
     ]
    },
    {
     "data": {
      "application/javascript": [
       "\n",
       "            setTimeout(function() {\n",
       "                var nbb_cell_id = 66;\n",
       "                var nbb_unformatted_code = \"adam = optim.Adam(0.01)\\nsvi = SVI(model, guide, adam, loss=TraceGraph_ELBO(20))\\nres = svi.run(random.PRNGKey(1), num_steps=25000)\";\n",
       "                var nbb_formatted_code = \"adam = optim.Adam(0.01)\\nsvi = SVI(model, guide, adam, loss=TraceGraph_ELBO(20))\\nres = svi.run(random.PRNGKey(1), num_steps=25000)\";\n",
       "                var nbb_cells = Jupyter.notebook.get_cells();\n",
       "                for (var i = 0; i < nbb_cells.length; ++i) {\n",
       "                    if (nbb_cells[i].input_prompt_number == nbb_cell_id) {\n",
       "                        if (nbb_cells[i].get_text() == nbb_unformatted_code) {\n",
       "                             nbb_cells[i].set_text(nbb_formatted_code);\n",
       "                        }\n",
       "                        break;\n",
       "                    }\n",
       "                }\n",
       "            }, 500);\n",
       "            "
      ],
      "text/plain": [
       "<IPython.core.display.Javascript object>"
      ]
     },
     "metadata": {},
     "output_type": "display_data"
    }
   ],
   "source": [
    "adam = optim.Adam(0.01)\n",
    "svi = SVI(model, guide, adam, loss=TraceGraph_ELBO(20))\n",
    "res = svi.run(random.PRNGKey(1), num_steps=25000)"
   ]
  },
  {
   "cell_type": "code",
   "execution_count": 67,
   "id": "a4b10548",
   "metadata": {},
   "outputs": [
    {
     "data": {
      "text/plain": [
       "DeviceArray([1.7490060e+09, 1.7637457e+09, 1.7394872e+09, ...,\n",
       "             1.3927945e+09, 1.3803978e+09, 1.3874531e+09], dtype=float32)"
      ]
     },
     "execution_count": 67,
     "metadata": {},
     "output_type": "execute_result"
    },
    {
     "data": {
      "application/javascript": [
       "\n",
       "            setTimeout(function() {\n",
       "                var nbb_cell_id = 67;\n",
       "                var nbb_unformatted_code = \"res.losses\";\n",
       "                var nbb_formatted_code = \"res.losses\";\n",
       "                var nbb_cells = Jupyter.notebook.get_cells();\n",
       "                for (var i = 0; i < nbb_cells.length; ++i) {\n",
       "                    if (nbb_cells[i].input_prompt_number == nbb_cell_id) {\n",
       "                        if (nbb_cells[i].get_text() == nbb_unformatted_code) {\n",
       "                             nbb_cells[i].set_text(nbb_formatted_code);\n",
       "                        }\n",
       "                        break;\n",
       "                    }\n",
       "                }\n",
       "            }, 500);\n",
       "            "
      ],
      "text/plain": [
       "<IPython.core.display.Javascript object>"
      ]
     },
     "metadata": {},
     "output_type": "display_data"
    }
   ],
   "source": [
    "res.losses"
   ]
  },
  {
   "cell_type": "code",
   "execution_count": 68,
   "id": "69137c7f",
   "metadata": {},
   "outputs": [
    {
     "data": {
      "text/plain": [
       "DeviceArray([-0.372111  ,  0.2642311 , -0.18252774, -0.7368198 ,\n",
       "             -0.44030386, -0.15214427, -0.6713536 , -0.59086424,\n",
       "              0.73168874,  0.56730247], dtype=float32)"
      ]
     },
     "execution_count": 68,
     "metadata": {},
     "output_type": "execute_result"
    },
    {
     "data": {
      "application/javascript": [
       "\n",
       "            setTimeout(function() {\n",
       "                var nbb_cell_id = 68;\n",
       "                var nbb_unformatted_code = \"features\";\n",
       "                var nbb_formatted_code = \"features\";\n",
       "                var nbb_cells = Jupyter.notebook.get_cells();\n",
       "                for (var i = 0; i < nbb_cells.length; ++i) {\n",
       "                    if (nbb_cells[i].input_prompt_number == nbb_cell_id) {\n",
       "                        if (nbb_cells[i].get_text() == nbb_unformatted_code) {\n",
       "                             nbb_cells[i].set_text(nbb_formatted_code);\n",
       "                        }\n",
       "                        break;\n",
       "                    }\n",
       "                }\n",
       "            }, 500);\n",
       "            "
      ],
      "text/plain": [
       "<IPython.core.display.Javascript object>"
      ]
     },
     "metadata": {},
     "output_type": "display_data"
    }
   ],
   "source": [
    "features"
   ]
  },
  {
   "cell_type": "code",
   "execution_count": 69,
   "id": "89f8c83f",
   "metadata": {},
   "outputs": [
    {
     "data": {
      "text/plain": [
       "DeviceArray([ 0.51426077,  0.1553991 , -0.08521671,  0.03516082,\n",
       "              0.36623764,  0.24850117, -0.14284499, -0.10754778,\n",
       "              0.36995757,  0.37279823], dtype=float32)"
      ]
     },
     "execution_count": 69,
     "metadata": {},
     "output_type": "execute_result"
    },
    {
     "data": {
      "application/javascript": [
       "\n",
       "            setTimeout(function() {\n",
       "                var nbb_cell_id = 69;\n",
       "                var nbb_unformatted_code = \"res.params[\\\"eta_mu\\\"]\";\n",
       "                var nbb_formatted_code = \"res.params[\\\"eta_mu\\\"]\";\n",
       "                var nbb_cells = Jupyter.notebook.get_cells();\n",
       "                for (var i = 0; i < nbb_cells.length; ++i) {\n",
       "                    if (nbb_cells[i].input_prompt_number == nbb_cell_id) {\n",
       "                        if (nbb_cells[i].get_text() == nbb_unformatted_code) {\n",
       "                             nbb_cells[i].set_text(nbb_formatted_code);\n",
       "                        }\n",
       "                        break;\n",
       "                    }\n",
       "                }\n",
       "            }, 500);\n",
       "            "
      ],
      "text/plain": [
       "<IPython.core.display.Javascript object>"
      ]
     },
     "metadata": {},
     "output_type": "display_data"
    }
   ],
   "source": [
    "res.params[\"eta_mu\"]"
   ]
  },
  {
   "cell_type": "code",
   "execution_count": 51,
   "id": "4df186aa",
   "metadata": {},
   "outputs": [
    {
     "data": {
      "text/plain": [
       "DeviceArray(0.00669285, dtype=float32)"
      ]
     },
     "execution_count": 51,
     "metadata": {},
     "output_type": "execute_result"
    },
    {
     "data": {
      "application/javascript": [
       "\n",
       "            setTimeout(function() {\n",
       "                var nbb_cell_id = 51;\n",
       "                var nbb_unformatted_code = \"1 / (1 + np.exp(5))\";\n",
       "                var nbb_formatted_code = \"1 / (1 + np.exp(5))\";\n",
       "                var nbb_cells = Jupyter.notebook.get_cells();\n",
       "                for (var i = 0; i < nbb_cells.length; ++i) {\n",
       "                    if (nbb_cells[i].input_prompt_number == nbb_cell_id) {\n",
       "                        if (nbb_cells[i].get_text() == nbb_unformatted_code) {\n",
       "                             nbb_cells[i].set_text(nbb_formatted_code);\n",
       "                        }\n",
       "                        break;\n",
       "                    }\n",
       "                }\n",
       "            }, 500);\n",
       "            "
      ],
      "text/plain": [
       "<IPython.core.display.Javascript object>"
      ]
     },
     "metadata": {},
     "output_type": "display_data"
    }
   ],
   "source": [
    "1 / (1 + np.exp(5))"
   ]
  },
  {
   "cell_type": "code",
   "execution_count": null,
   "id": "4693cb21",
   "metadata": {},
   "outputs": [],
   "source": []
  }
 ],
 "metadata": {
  "kernelspec": {
   "display_name": "etudes-dev",
   "language": "python",
   "name": "etudes-dev"
  },
  "language_info": {
   "codemirror_mode": {
    "name": "ipython",
    "version": 3
   },
   "file_extension": ".py",
   "mimetype": "text/x-python",
   "name": "python",
   "nbconvert_exporter": "python",
   "pygments_lexer": "ipython3",
   "version": "3.8.12"
  }
 },
 "nbformat": 4,
 "nbformat_minor": 5
}
