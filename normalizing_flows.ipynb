{
 "cells": [
  {
   "cell_type": "markdown",
   "metadata": {},
   "source": [
    "# On normalizing flows\n",
    "\n",
    "\n",
    "- density estimation (i.e., moon data) and sampling\n",
    "- (variational) inference and reparameterization for MCMC (see orig flow paper)\n",
    "\n",
    "- autoregressive flows (transformer and conditioner)\n",
    "- coupling flows (realnvp)\n",
    "- masked autoregressive flows\n",
    "- ffored\n",
    "- inverse autoregressive flows\n",
    "-planar and radial\n",
    " => easy to compute jacobian! \n",
    "\n",
    "- cubic spline flows\n",
    "\n",
    "- references:\n",
    "    - the one blog\n",
    "    - review from papa\n",
    "    - orig papers\n",
    "    - eric jang"
   ]
  },
  {
   "cell_type": "code",
   "execution_count": 1,
   "metadata": {},
   "outputs": [],
   "source": [
    "import pymc4"
   ]
  },
  {
   "cell_type": "markdown",
   "metadata": {},
   "source": [
    "## Normalizing flows\n",
    "\n",
    "explain theory here. change of variables, etc.\n",
    "\n",
    "explain that lower jacobian is good\n",
    "\n",
    "explain how multiple jacobians compuite\n",
    "\n",
    "explain how jacobian is computed"
   ]
  },
  {
   "cell_type": "code",
   "execution_count": 1,
   "metadata": {},
   "outputs": [],
   "source": [
    "## Density estimation, a simple example using TFP (data real nvp data)\n"
   ]
  },
  {
   "cell_type": "markdown",
   "metadata": {},
   "source": [
    "## Variational inference\n",
    "## Density estimation\n",
    "\n",
    "make more complex examples with TFP"
   ]
  },
  {
   "cell_type": "code",
   "execution_count": 46,
   "metadata": {},
   "outputs": [],
   "source": [
    "import tensorflow as tf\n",
    "import tensorflow_probability as tfp\n",
    "\n",
    "from sklearn import cluster, datasets, mixture\n",
    "from sklearn.preprocessing import StandardScaler\n",
    "%matplotlib inline\n",
    "import matplotlib.pyplot as plt\n",
    "\n",
    "tfd = tfp.distributions\n",
    "tfb = tfp.bijectors"
   ]
  },
  {
   "cell_type": "code",
   "execution_count": 2,
   "metadata": {},
   "outputs": [
    {
     "data": {
      "text/plain": [
       "[PhysicalDevice(name='/physical_device:GPU:0', device_type='GPU')]"
      ]
     },
     "execution_count": 2,
     "metadata": {},
     "output_type": "execute_result"
    }
   ],
   "source": [
    "tf.config.list_physical_devices('GPU')"
   ]
  },
  {
   "cell_type": "code",
   "execution_count": 4,
   "metadata": {},
   "outputs": [],
   "source": [
    "import numpy as np\n",
    "n = 2000\n",
    "x2 = np.random.randn(n).astype(dtype=np.float32) * 2.\n",
    "x1 = np.random.randn(n).astype(dtype=np.float32) + (x2 * x2 / 4.)\n",
    "data = np.stack([x1, x2], axis=-1)\n"
   ]
  },
  {
   "cell_type": "code",
   "execution_count": null,
   "metadata": {},
   "outputs": [],
   "source": [
    "n = 1000"
   ]
  },
  {
   "cell_type": "code",
   "execution_count": 13,
   "metadata": {},
   "outputs": [
    {
     "data": {
      "text/plain": [
       "(-2.0, 2.0)"
      ]
     },
     "execution_count": 13,
     "metadata": {},
     "output_type": "execute_result"
    },
    {
     "data": {
      "image/png": "[encoded data removed]",
      "text/plain": [
       "<Figure size 432x288 with 1 Axes>"
      ]
     },
     "metadata": {
      "needs_background": "light"
     },
     "output_type": "display_data"
    }
   ],
   "source": [
    "noisy_moons = datasets.make_moons(n_samples=n_samples, noise=.1)\n",
    "X, y = noisy_moons\n",
    "X = StandardScaler().fit_transform(X)\n",
    "\n",
    "\n",
    "xlim, ylim = [-2, 2], [-2, 2]\n",
    "plt.scatter(X[:, 0], X[:, 1], s=10, color='red')\n",
    "plt.xlim(xlim)\n",
    "plt.ylim(ylim)"
   ]
  },
  {
   "cell_type": "code",
   "execution_count": 141,
   "metadata": {},
   "outputs": [],
   "source": [
    "def make_degrees(p, hidden_dims):\n",
    "    m = [tf.constant(range(1, p + 1))]\n",
    "    for dim in hidden_dims:                \n",
    "        n_min = min(np.min(m[-1]), p - 1)\n",
    "        #degrees = np.random.randint(low=n_min, high=p, size=dim)\n",
    "        degrees = (np.arange(dim) % max(1, p - 1) + min(1, p - 1))\n",
    "        degrees = tf.constant(degrees, dtype=\"int32\")\n",
    "        m.append(degrees)\n",
    "    return m"
   ]
  },
  {
   "cell_type": "code",
   "execution_count": 121,
   "metadata": {},
   "outputs": [],
   "source": [
    "def make_masks(degrees):\n",
    "    masks = [None] * len(degrees)\n",
    "    for i, (ind, outd) in enumerate(zip(degrees[:-1], degrees[1:])):\n",
    "        masks[i] = tf.cast(ind[:, tf.newaxis] <= outd, dtype=\"int32\")        \n",
    "    masks[-1] = tf.cast(degrees[-1][:, np.newaxis] < degrees[0], dtype=\"int32\")\n",
    "    return masks"
   ]
  },
  {
   "cell_type": "code",
   "execution_count": 185,
   "metadata": {},
   "outputs": [],
   "source": [
    "def make_constraint(mask):    \n",
    "    def _constraint(x):\n",
    "        return mask * tf.identity(x)\n",
    "    return _constraint"
   ]
  },
  {
   "cell_type": "code",
   "execution_count": 377,
   "metadata": {},
   "outputs": [],
   "source": [
    "def make_init(mask):\n",
    "    def _init(shape, dtype=None):\n",
    "        return tf.cast(mask, \"float32\") * tf.keras.initializers.GlorotUniform()(shape)\n",
    "    return _init"
   ]
  },
  {
   "cell_type": "code",
   "execution_count": 378,
   "metadata": {},
   "outputs": [],
   "source": [
    "p = 2\n",
    "params = 2\n",
    "hidden_dims = [4, 4]"
   ]
  },
  {
   "cell_type": "code",
   "execution_count": 384,
   "metadata": {},
   "outputs": [],
   "source": [
    "def make_network(p, hidden_dims, params):\n",
    "    masks = make_masks(make_degrees(p, hidden_dims))    \n",
    "    masks[-1] = tf.tile(masks[-1][..., tf.newaxis], [1, 1, params])\n",
    "    masks[-1] = tf.reshape(masks[-1], [masks[-1].shape[0], p * params])\n",
    "    \n",
    "    network =  tf.keras.Sequential([\n",
    "        tf.keras.layers.InputLayer((p,))\n",
    "    ])\n",
    "    for dim, mask in zip(hidden_dims + [p * params], masks):\n",
    "        layer = tf.keras.layers.Dense(\n",
    "            dim,\n",
    "            kernel_constraint=make_masked_constraint(mask),\n",
    "            kernel_initializer=make_init(mask),\n",
    "            activation=tf.nn.leaky_relu)\n",
    "        network.add(layer)    \n",
    "    network.add(tf.keras.layers.Reshape([p, params]))\n",
    "    \n",
    "    return network"
   ]
  },
  {
   "cell_type": "code",
   "execution_count": 385,
   "metadata": {},
   "outputs": [
    {
     "name": "stdout",
     "output_type": "stream",
     "text": [
      "[<tf.Tensor: shape=(2, 4), dtype=int32, numpy=\n",
      "array([[1, 1, 1, 1],\n",
      "       [0, 0, 0, 0]], dtype=int32)>, <tf.Tensor: shape=(4, 2), dtype=int32, numpy=\n",
      "array([[0, 1],\n",
      "       [0, 1],\n",
      "       [0, 1],\n",
      "       [0, 1]], dtype=int32)>]\n",
      "[<tf.Tensor: shape=(2, 4), dtype=int32, numpy=\n",
      "array([[1, 1, 1, 1],\n",
      "       [0, 0, 0, 0]], dtype=int32)>, <tf.Tensor: shape=(4, 4), dtype=int32, numpy=\n",
      "array([[0, 0, 1, 1],\n",
      "       [0, 0, 1, 1],\n",
      "       [0, 0, 1, 1],\n",
      "       [0, 0, 1, 1]], dtype=int32)>]\n"
     ]
    }
   ],
   "source": [
    "network = make_layers(2, [4], 2)"
   ]
  },
  {
   "cell_type": "code",
   "execution_count": 381,
   "metadata": {},
   "outputs": [
    {
     "data": {
      "text/plain": [
       "<tf.Tensor: shape=(5, 2, 2), dtype=float32, numpy=\n",
       "array([[[ 0.        ,  0.        ],\n",
       "        [-0.15768307, -0.01101868]],\n",
       "\n",
       "       [[ 0.        ,  0.        ],\n",
       "        [-0.23938635, -0.016728  ]],\n",
       "\n",
       "       [[ 0.        ,  0.        ],\n",
       "        [-0.12781058, -0.00893123]],\n",
       "\n",
       "       [[ 0.        ,  0.        ],\n",
       "        [ 0.05857328,  0.00509455]],\n",
       "\n",
       "       [[ 0.        ,  0.        ],\n",
       "        [ 0.0964986 ,  0.0083932 ]]], dtype=float32)>"
      ]
     },
     "execution_count": 381,
     "metadata": {},
     "output_type": "execute_result"
    }
   ],
   "source": [
    "network(data)"
   ]
  },
  {
   "cell_type": "code",
   "execution_count": 306,
   "metadata": {},
   "outputs": [
    {
     "data": {
      "text/plain": [
       "[<tf.Variable 'dense_105/kernel:0' shape=(2, 4) dtype=float32, numpy=\n",
       " array([[-0.27668595,  0.7513983 , -0.6500809 , -0.03027487],\n",
       "        [-0.33908415,  0.17353892, -0.69187903, -0.47112536]],\n",
       "       dtype=float32)>,\n",
       " <tf.Variable 'dense_105/bias:0' shape=(4,) dtype=float32, numpy=array([0., 0., 0., 0.], dtype=float32)>,\n",
       " <tf.Variable 'dense_106/kernel:0' shape=(4, 4) dtype=float32, numpy=\n",
       " array([[ 0.10907745,  0.02073228,  0.15648776,  0.3985247 ],\n",
       "        [-0.09262514,  0.81670684, -0.07310176,  0.66671544],\n",
       "        [ 0.720388  ,  0.4259991 ,  0.84626824, -0.56670934],\n",
       "        [ 0.4458149 ,  0.7332917 , -0.57358754,  0.3560118 ]],\n",
       "       dtype=float32)>,\n",
       " <tf.Variable 'dense_106/bias:0' shape=(4,) dtype=float32, numpy=array([0., 0., 0., 0.], dtype=float32)>,\n",
       " <tf.Variable 'dense_107/kernel:0' shape=(4, 4) dtype=float32, numpy=\n",
       " array([[ 0.04139775, -0.18996793, -0.58731306,  0.7198778 ],\n",
       "        [-0.73172086, -0.57082653,  0.12134916,  0.08347064],\n",
       "        [ 0.6305625 ,  0.08949953,  0.64599425, -0.712545  ],\n",
       "        [ 0.4946044 , -0.5751373 ,  0.5263987 , -0.10175103]],\n",
       "       dtype=float32)>,\n",
       " <tf.Variable 'dense_107/bias:0' shape=(4,) dtype=float32, numpy=array([0., 0., 0., 0.], dtype=float32)>]"
      ]
     },
     "execution_count": 306,
     "metadata": {},
     "output_type": "execute_result"
    }
   ],
   "source": [
    "network.trainable_variables"
   ]
  },
  {
   "cell_type": "code",
   "execution_count": 307,
   "metadata": {},
   "outputs": [],
   "source": [
    "n = 2000\n",
    "x2 = np.random.randn(n).astype(dtype=np.float32) * 2.\n",
    "x1 = np.random.randn(n).astype(dtype=np.float32) + (x2 * x2 / 4.)\n",
    "data = np.stack([x1, x2], axis=-1)\n",
    "\n",
    "# Density estimation with MADE.\n",
    "made = tfb.AutoregressiveNetwork(params=2, hidden_units=[4, 4])\n",
    "\n",
    "distribution = tfd.TransformedDistribution(\n",
    "    distribution=tfd.Normal(loc=0., scale=1.),\n",
    "    bijector=tfb.MaskedAutoregressiveFlow(made),\n",
    "    event_shape=[2])\n"
   ]
  },
  {
   "cell_type": "code",
   "execution_count": 308,
   "metadata": {},
   "outputs": [
    {
     "data": {
      "text/plain": [
       "<tf.Tensor: shape=(2000,), dtype=float32, numpy=\n",
       "array([-16.219797 , -12.8678465,  -2.499713 , ...,  -1.9765717,\n",
       "       -16.736002 ,  -2.0409515], dtype=float32)>"
      ]
     },
     "execution_count": 308,
     "metadata": {},
     "output_type": "execute_result"
    }
   ],
   "source": [
    "distribution.log_prob(data)"
   ]
  },
  {
   "cell_type": "code",
   "execution_count": 310,
   "metadata": {},
   "outputs": [],
   "source": [
    "bij = tfb.MaskedAutoregressiveFlow(made)\n"
   ]
  },
  {
   "cell_type": "code",
   "execution_count": 314,
   "metadata": {},
   "outputs": [
    {
     "data": {
      "text/plain": [
       "(<tf.Variable 'dense_108/kernel:0' shape=(2, 4) dtype=float32, numpy=\n",
       " array([[ 0.45917106, -0.5719979 ,  0.5357535 , -0.97801065],\n",
       "        [-0.        , -0.        ,  0.        , -0.        ]],\n",
       "       dtype=float32)>,\n",
       " <tf.Variable 'dense_108/bias:0' shape=(4,) dtype=float32, numpy=array([0., 0., 0., 0.], dtype=float32)>,\n",
       " <tf.Variable 'dense_109/kernel:0' shape=(4, 4) dtype=float32, numpy=\n",
       " array([[-0.10191208, -0.42034867, -0.02775025, -0.71254355],\n",
       "        [-0.14687335,  0.5028265 , -0.07908547, -0.30305618],\n",
       "        [ 0.5112799 , -0.5114329 ,  0.41874105,  0.7199697 ],\n",
       "        [-0.69449437, -0.85607857, -0.4919989 ,  0.7287844 ]],\n",
       "       dtype=float32)>,\n",
       " <tf.Variable 'dense_109/bias:0' shape=(4,) dtype=float32, numpy=array([0., 0., 0., 0.], dtype=float32)>,\n",
       " <tf.Variable 'dense_110/kernel:0' shape=(4, 4) dtype=float32, numpy=\n",
       " array([[-0.        , -0.        , -0.26757646, -0.608544  ],\n",
       "        [ 0.        ,  0.        , -0.06213725, -0.07378978],\n",
       "        [-0.        ,  0.        ,  0.85333806,  0.38321716],\n",
       "        [-0.        ,  0.        ,  0.7201279 ,  0.7490956 ]],\n",
       "       dtype=float32)>,\n",
       " <tf.Variable 'dense_110/bias:0' shape=(4,) dtype=float32, numpy=array([0., 0., 0., 0.], dtype=float32)>)"
      ]
     },
     "execution_count": 314,
     "metadata": {},
     "output_type": "execute_result"
    }
   ],
   "source": [
    "bij.trainable_variables"
   ]
  },
  {
   "cell_type": "code",
   "execution_count": 81,
   "metadata": {},
   "outputs": [],
   "source": [
    "def make_maf(p):\n",
    "    net_init, net_apply = stax.serial(\n",
    "        Dense(512), Relu, Dense(512), Relu, Dense(D))\n",
    "    in_shape = (-1, p // 2)\n",
    "    out_shape, net_params = net_init(rng, in_shape)\n",
    "    \n",
    "    def shift_and_log_scale_fn(net_params, x1):\n",
    "        s = net_apply(net_params, x1)\n",
    "        return np.split(s, 2, axis=1)\n",
    "    \n",
    "    return net_params, shift_and_log_scale_fn"
   ]
  },
  {
   "cell_type": "code",
   "execution_count": 7,
   "metadata": {},
   "outputs": [],
   "source": [
    "base_dist = tfd.MultivariateNormalDiag(loc=tf.zeros([2], tf.float32))"
   ]
  },
  {
   "cell_type": "code",
   "execution_count": 48,
   "metadata": {},
   "outputs": [],
   "source": [
    "class LeakyReLU(tfb.Bijector):\n",
    "    def __init__(self, alpha=0.5, validate_args=False, name=\"leaky_relu\"):\n",
    "        super(LeakyReLU, self).__init__(\n",
    "            forward_min_event_ndims=1, validate_args=validate_args, name=name)\n",
    "        self.alpha = alpha\n",
    "\n",
    "    def _forward(self, x):\n",
    "        return tf.where(tf.greater_equal(x, 0), x, self.alpha * x)\n",
    "\n",
    "    def _inverse(self, y):\n",
    "        return tf.where(tf.greater_equal(y, 0), y, 1. / self.alpha * y)\n",
    "\n",
    "    def _inverse_log_det_jacobian(self, y):\n",
    "\n",
    "        I = tf.ones_like(y)\n",
    "        J_inv = tf.where(tf.greater_equal(y, 0), I, 1.0 / self.alpha * I)\n",
    "        # abs is actually redundant here, since this det Jacobian is > 0\n",
    "        log_abs_det_J_inv = tf.math.log(tf.abs(J_inv))\n",
    "        return tf.reduce_sum(log_abs_det_J_inv, axis=event_dims)"
   ]
  },
  {
   "cell_type": "code",
   "execution_count": 76,
   "metadata": {},
   "outputs": [],
   "source": [
    "bi = tfb.Chain([tfb.Affine(shift=0, \n",
    "                           scale_identity_multiplier=1.),\n",
    "           #\n",
    "           tfb.Affine(scale_identity_multiplier=1.)])"
   ]
  },
  {
   "cell_type": "code",
   "execution_count": 77,
   "metadata": {},
   "outputs": [
    {
     "data": {
      "text/plain": [
       "<tf.Tensor: shape=(), dtype=float32, numpy=0.0>"
      ]
     },
     "execution_count": 77,
     "metadata": {},
     "output_type": "execute_result"
    }
   ],
   "source": [
    "bi.forward_log_det_jacobian(x, 1)"
   ]
  },
  {
   "cell_type": "code",
   "execution_count": 3,
   "metadata": {},
   "outputs": [],
   "source": [
    "import jax.numpy as np\n",
    "from jax import random"
   ]
  },
  {
   "cell_type": "code",
   "execution_count": 73,
   "metadata": {},
   "outputs": [],
   "source": [
    "def sample_n01(N, D = 2):    \n",
    "    return random.normal(rng, (N, D))\n",
    "\n",
    "def log_prob_n01(x):\n",
    "    return np.sum(-np.square(x)/2 - np.log(np.sqrt(2*np.pi)),axis=-1)"
   ]
  },
  {
   "cell_type": "code",
   "execution_count": 75,
   "metadata": {},
   "outputs": [
    {
     "data": {
      "image/png": "[encoded data removed]",
      "text/plain": [
       "<Figure size 432x288 with 1 Axes>"
      ]
     },
     "metadata": {
      "needs_background": "light"
     },
     "output_type": "display_data"
    }
   ],
   "source": [
    "plt.hist(log_prob_n01(X));"
   ]
  },
  {
   "cell_type": "code",
   "execution_count": 319,
   "metadata": {},
   "outputs": [],
   "source": [
    "from jax.experimental import stax\n",
    "from jax import random\n",
    "from jax.experimental.stax import Dense, Relu"
   ]
  },
  {
   "cell_type": "code",
   "execution_count": 320,
   "metadata": {},
   "outputs": [
    {
     "name": "stderr",
     "output_type": "stream",
     "text": [
      "/home/simon/miniconda3/envs/pymc/lib/python3.7/site-packages/jax/lib/xla_bridge.py:125: UserWarning: No GPU/TPU found, falling back to CPU.\n",
      "  warnings.warn('No GPU/TPU found, falling back to CPU.')\n"
     ]
    }
   ],
   "source": [
    "rng = random.PRNGKey(0)"
   ]
  },
  {
   "cell_type": "code",
   "execution_count": 4,
   "metadata": {},
   "outputs": [],
   "source": [
    "import edward2 as ed\n",
    "import numpy as np\n",
    "import tensorflow as tf"
   ]
  },
  {
   "cell_type": "code",
   "execution_count": 91,
   "metadata": {},
   "outputs": [],
   "source": [
    "np.random.seed(1328)\n",
    "batch_size = 2\n",
    "length = 3\n",
    "channels = 5\n",
    "units = 2\n",
    "network = ed.layers.MADE(2, [4],\n",
    "                         input_order='right-to-left',\n",
    "                         activation=tf.nn.relu,\n",
    "                         use_bias=False)\n",
    "inputs = tf.zeros([50, length, 1])"
   ]
  },
  {
   "cell_type": "code",
   "execution_count": 92,
   "metadata": {},
   "outputs": [],
   "source": [
    "s = network(inputs)"
   ]
  },
  {
   "cell_type": "code",
   "execution_count": 93,
   "metadata": {},
   "outputs": [
    {
     "data": {
      "text/plain": [
       "[<tf.Variable 'dense_46/kernel:0' shape=(3, 4) dtype=float32, numpy=\n",
       " array([[ 0.        , -0.        , -0.        , -0.        ],\n",
       "        [-0.        ,  0.68929636, -0.        ,  0.02778322],\n",
       "        [-0.03103018,  0.91377187, -0.6366861 ,  0.827657  ]],\n",
       "       dtype=float32)>,\n",
       " <tf.Variable 'dense_47/kernel:0' shape=(4, 6) dtype=float32, numpy=\n",
       " array([[ 0.6266922 , -0.45900744, -0.26853657,  0.5486729 , -0.        ,\n",
       "         -0.        ],\n",
       "        [-0.01287782,  0.01671875,  0.        ,  0.        , -0.        ,\n",
       "          0.        ],\n",
       "        [ 0.13144398, -0.36654124,  0.07519454, -0.5006738 ,  0.        ,\n",
       "          0.        ],\n",
       "        [ 0.1700257 , -0.67919946,  0.        , -0.        , -0.        ,\n",
       "         -0.        ]], dtype=float32)>]"
      ]
     },
     "execution_count": 93,
     "metadata": {},
     "output_type": "execute_result"
    }
   ],
   "source": [
    "network."
   ]
  },
  {
   "cell_type": "code",
   "execution_count": 328,
   "metadata": {},
   "outputs": [],
   "source": [
    "n = 5\n",
    "x2 = np.random.randn(n).astype(dtype=np.float32) * 2.\n",
    "x1 = np.random.randn(n).astype(dtype=np.float32) + (x2 * x2 / 4.)\n",
    "data = np.stack([x1, x2], axis=-1)"
   ]
  },
  {
   "cell_type": "code",
   "execution_count": 333,
   "metadata": {},
   "outputs": [],
   "source": [
    "made = tfb.AutoregressiveNetwork(params=2, hidden_units=[5], use_bias=False)"
   ]
  },
  {
   "cell_type": "code",
   "execution_count": 334,
   "metadata": {},
   "outputs": [
    {
     "data": {
      "text/plain": [
       "<tf.Tensor: shape=(5, 2, 2), dtype=float32, numpy=\n",
       "array([[[ 0.        ,  0.        ],\n",
       "        [-0.8871505 ,  0.8813934 ]],\n",
       "\n",
       "       [[ 0.        ,  0.        ],\n",
       "        [-1.3468263 ,  1.338086  ]],\n",
       "\n",
       "       [[ 0.        ,  0.        ],\n",
       "        [-0.7190831 ,  0.71441656]],\n",
       "\n",
       "       [[ 0.        ,  0.        ],\n",
       "        [ 0.295628  , -0.2937095 ]],\n",
       "\n",
       "       [[ 0.        ,  0.        ],\n",
       "        [ 0.48704278, -0.48388213]]], dtype=float32)>"
      ]
     },
     "execution_count": 334,
     "metadata": {},
     "output_type": "execute_result"
    }
   ],
   "source": [
    "made(data)"
   ]
  },
  {
   "cell_type": "code",
   "execution_count": null,
   "metadata": {},
   "outputs": [],
   "source": [
    "\n",
    "# Density estimation with MADE.\n",
    "\n",
    "\n",
    "distribution = tfd.TransformedDistribution(\n",
    "    distribution=tfd.Normal(loc=0., scale=1.),\n",
    "    bijector=tfb.MaskedAutoregressiveFlow(made),\n",
    "    event_shape=[2])\n",
    "\n",
    "# Construct and fit model.\n",
    "x_ = tfkl.Input(shape=(2,), dtype=tf.float32)\n",
    "log_prob_ = distribution.log_prob(x_)\n",
    "model = tfk.Model(x_, log_prob_)\n",
    "\n",
    "model.compile(optimizer=tf.optimizers.Adam(),\n",
    "              loss=lambda _, log_prob: -log_prob)\n",
    "\n",
    "batch_size = 25\n",
    "model.fit(x=data,\n",
    "          y=np.zeros((n, 0), dtype=np.float32),\n",
    "          batch_size=batch_size,\n",
    "          epochs=1,\n",
    "          steps_per_epoch=1,  # Usually `n // batch_size`.\n",
    "          shuffle=True,\n",
    "          verbose=True)\n",
    "\n",
    "# Use the fitted distribution.\n",
    "distribution.sample((3, 1))\n",
    "distribution.log_prob(np.ones((3, 2), dtype=np.float32))\n"
   ]
  }
 ],
 "metadata": {
  "kernelspec": {
   "display_name": "Python (pymc)",
   "language": "python",
   "name": "pymc"
  },
  "language_info": {
   "codemirror_mode": {
    "name": "ipython",
    "version": 3
   },
   "file_extension": ".py",
   "mimetype": "text/x-python",
   "name": "python",
   "nbconvert_exporter": "python",
   "pygments_lexer": "ipython3",
   "version": "3.7.6"
  }
 },
 "nbformat": 4,
 "nbformat_minor": 4
}
