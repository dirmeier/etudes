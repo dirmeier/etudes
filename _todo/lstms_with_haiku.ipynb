{
 "cells": [
  {
   "cell_type": "code",
   "execution_count": 1,
   "id": "fba23688",
   "metadata": {},
   "outputs": [],
   "source": [
    "import pandas as pd"
   ]
  },
  {
   "cell_type": "code",
   "execution_count": 68,
   "id": "6f1ad1ad",
   "metadata": {},
   "outputs": [],
   "source": [
    "import jax\n",
    "from jax import vmap\n",
    "import jax.numpy as np\n",
    "import jax.scipy as sp\n",
    "import jax.random as random\n",
    "\n",
    "import numpyro\n",
    "import numpyro.distributions as dist\n",
    "from numpyro.infer import MCMC, NUTS, SVI, Trace_ELBO\n",
    "from numpyro.distributions import constraints"
   ]
  },
  {
   "cell_type": "code",
   "execution_count": 5,
   "id": "aae5c306",
   "metadata": {},
   "outputs": [],
   "source": [
    "import optax\n",
    "import haiku as hk\n",
    "from haiku._src.data_structures import FlatMapping"
   ]
  },
  {
   "cell_type": "code",
   "execution_count": 14,
   "id": "ab7050c9",
   "metadata": {},
   "outputs": [],
   "source": [
    "import matplotlib.pyplot as plt"
   ]
  },
  {
   "cell_type": "code",
   "execution_count": 15,
   "id": "9b9431fd",
   "metadata": {},
   "outputs": [
    {
     "data": {
      "text/html": [
       "<div>\n",
       "<style scoped>\n",
       "    .dataframe tbody tr th:only-of-type {\n",
       "        vertical-align: middle;\n",
       "    }\n",
       "\n",
       "    .dataframe tbody tr th {\n",
       "        vertical-align: top;\n",
       "    }\n",
       "\n",
       "    .dataframe thead th {\n",
       "        text-align: right;\n",
       "    }\n",
       "</style>\n",
       "<table border=\"1\" class=\"dataframe\">\n",
       "  <thead>\n",
       "    <tr style=\"text-align: right;\">\n",
       "      <th></th>\n",
       "      <th>year</th>\n",
       "      <th>dem</th>\n",
       "      <th>rep</th>\n",
       "      <th>region</th>\n",
       "      <th>state</th>\n",
       "      <th>proportion</th>\n",
       "    </tr>\n",
       "  </thead>\n",
       "  <tbody>\n",
       "    <tr>\n",
       "      <th>0</th>\n",
       "      <td>1976</td>\n",
       "      <td>44058</td>\n",
       "      <td>71555</td>\n",
       "      <td>Mountain West</td>\n",
       "      <td>AK</td>\n",
       "      <td>0.381082</td>\n",
       "    </tr>\n",
       "    <tr>\n",
       "      <th>1</th>\n",
       "      <td>1980</td>\n",
       "      <td>41842</td>\n",
       "      <td>86112</td>\n",
       "      <td>Mountain West</td>\n",
       "      <td>AK</td>\n",
       "      <td>0.327008</td>\n",
       "    </tr>\n",
       "    <tr>\n",
       "      <th>2</th>\n",
       "      <td>1984</td>\n",
       "      <td>62007</td>\n",
       "      <td>138377</td>\n",
       "      <td>Mountain West</td>\n",
       "      <td>AK</td>\n",
       "      <td>0.309441</td>\n",
       "    </tr>\n",
       "    <tr>\n",
       "      <th>3</th>\n",
       "      <td>1988</td>\n",
       "      <td>72584</td>\n",
       "      <td>119251</td>\n",
       "      <td>Mountain West</td>\n",
       "      <td>AK</td>\n",
       "      <td>0.378367</td>\n",
       "    </tr>\n",
       "    <tr>\n",
       "      <th>4</th>\n",
       "      <td>1992</td>\n",
       "      <td>78294</td>\n",
       "      <td>102000</td>\n",
       "      <td>Mountain West</td>\n",
       "      <td>AK</td>\n",
       "      <td>0.434257</td>\n",
       "    </tr>\n",
       "    <tr>\n",
       "      <th>...</th>\n",
       "      <td>...</td>\n",
       "      <td>...</td>\n",
       "      <td>...</td>\n",
       "      <td>...</td>\n",
       "      <td>...</td>\n",
       "      <td>...</td>\n",
       "    </tr>\n",
       "    <tr>\n",
       "      <th>545</th>\n",
       "      <td>2000</td>\n",
       "      <td>60481</td>\n",
       "      <td>147947</td>\n",
       "      <td>Mountain West</td>\n",
       "      <td>WY</td>\n",
       "      <td>0.290177</td>\n",
       "    </tr>\n",
       "    <tr>\n",
       "      <th>546</th>\n",
       "      <td>2004</td>\n",
       "      <td>70776</td>\n",
       "      <td>167629</td>\n",
       "      <td>Mountain West</td>\n",
       "      <td>WY</td>\n",
       "      <td>0.296873</td>\n",
       "    </tr>\n",
       "    <tr>\n",
       "      <th>547</th>\n",
       "      <td>2008</td>\n",
       "      <td>82868</td>\n",
       "      <td>164958</td>\n",
       "      <td>Mountain West</td>\n",
       "      <td>WY</td>\n",
       "      <td>0.334380</td>\n",
       "    </tr>\n",
       "    <tr>\n",
       "      <th>548</th>\n",
       "      <td>2012</td>\n",
       "      <td>69286</td>\n",
       "      <td>170962</td>\n",
       "      <td>Mountain West</td>\n",
       "      <td>WY</td>\n",
       "      <td>0.288394</td>\n",
       "    </tr>\n",
       "    <tr>\n",
       "      <th>549</th>\n",
       "      <td>2016</td>\n",
       "      <td>55973</td>\n",
       "      <td>174419</td>\n",
       "      <td>Mountain West</td>\n",
       "      <td>WY</td>\n",
       "      <td>0.242947</td>\n",
       "    </tr>\n",
       "  </tbody>\n",
       "</table>\n",
       "<p>550 rows × 6 columns</p>\n",
       "</div>"
      ],
      "text/plain": [
       "     year    dem     rep         region state  proportion\n",
       "0    1976  44058   71555  Mountain West    AK    0.381082\n",
       "1    1980  41842   86112  Mountain West    AK    0.327008\n",
       "2    1984  62007  138377  Mountain West    AK    0.309441\n",
       "3    1988  72584  119251  Mountain West    AK    0.378367\n",
       "4    1992  78294  102000  Mountain West    AK    0.434257\n",
       "..    ...    ...     ...            ...   ...         ...\n",
       "545  2000  60481  147947  Mountain West    WY    0.290177\n",
       "546  2004  70776  167629  Mountain West    WY    0.296873\n",
       "547  2008  82868  164958  Mountain West    WY    0.334380\n",
       "548  2012  69286  170962  Mountain West    WY    0.288394\n",
       "549  2016  55973  174419  Mountain West    WY    0.242947\n",
       "\n",
       "[550 rows x 6 columns]"
      ]
     },
     "execution_count": 15,
     "metadata": {},
     "output_type": "execute_result"
    }
   ],
   "source": [
    "D = pd.read_csv(\"../data/elections.csv\")\n",
    "D.loc[:, \"proportion\"] = D.dem / (D.dem + D.rep)\n",
    "D"
   ]
  },
  {
   "cell_type": "code",
   "execution_count": 16,
   "id": "faf52df9",
   "metadata": {},
   "outputs": [
    {
     "data": {
      "text/html": [
       "<div>\n",
       "<style scoped>\n",
       "    .dataframe tbody tr th:only-of-type {\n",
       "        vertical-align: middle;\n",
       "    }\n",
       "\n",
       "    .dataframe tbody tr th {\n",
       "        vertical-align: top;\n",
       "    }\n",
       "\n",
       "    .dataframe thead th {\n",
       "        text-align: right;\n",
       "    }\n",
       "</style>\n",
       "<table border=\"1\" class=\"dataframe\">\n",
       "  <thead>\n",
       "    <tr style=\"text-align: right;\">\n",
       "      <th></th>\n",
       "      <th>year</th>\n",
       "      <th>dem</th>\n",
       "      <th>rep</th>\n",
       "      <th>region</th>\n",
       "      <th>state</th>\n",
       "      <th>proportion</th>\n",
       "      <th>year_numerical</th>\n",
       "      <th>region_idxs</th>\n",
       "      <th>state_idxs</th>\n",
       "      <th>time_idxs</th>\n",
       "    </tr>\n",
       "  </thead>\n",
       "  <tbody>\n",
       "    <tr>\n",
       "      <th>154</th>\n",
       "      <td>1976</td>\n",
       "      <td>1014714</td>\n",
       "      <td>1183958</td>\n",
       "      <td>Border South</td>\n",
       "      <td>IN</td>\n",
       "      <td>0.461512</td>\n",
       "      <td>0.0</td>\n",
       "      <td>9</td>\n",
       "      <td>14</td>\n",
       "      <td>0</td>\n",
       "    </tr>\n",
       "    <tr>\n",
       "      <th>155</th>\n",
       "      <td>1980</td>\n",
       "      <td>844197</td>\n",
       "      <td>1255656</td>\n",
       "      <td>Border South</td>\n",
       "      <td>IN</td>\n",
       "      <td>0.402027</td>\n",
       "      <td>4.0</td>\n",
       "      <td>9</td>\n",
       "      <td>14</td>\n",
       "      <td>1</td>\n",
       "    </tr>\n",
       "    <tr>\n",
       "      <th>156</th>\n",
       "      <td>1984</td>\n",
       "      <td>841481</td>\n",
       "      <td>1377230</td>\n",
       "      <td>Border South</td>\n",
       "      <td>IN</td>\n",
       "      <td>0.379266</td>\n",
       "      <td>8.0</td>\n",
       "      <td>9</td>\n",
       "      <td>14</td>\n",
       "      <td>2</td>\n",
       "    </tr>\n",
       "    <tr>\n",
       "      <th>157</th>\n",
       "      <td>1988</td>\n",
       "      <td>860643</td>\n",
       "      <td>1297763</td>\n",
       "      <td>Border South</td>\n",
       "      <td>IN</td>\n",
       "      <td>0.398740</td>\n",
       "      <td>12.0</td>\n",
       "      <td>9</td>\n",
       "      <td>14</td>\n",
       "      <td>3</td>\n",
       "    </tr>\n",
       "    <tr>\n",
       "      <th>158</th>\n",
       "      <td>1992</td>\n",
       "      <td>848420</td>\n",
       "      <td>989375</td>\n",
       "      <td>Border South</td>\n",
       "      <td>IN</td>\n",
       "      <td>0.461651</td>\n",
       "      <td>16.0</td>\n",
       "      <td>9</td>\n",
       "      <td>14</td>\n",
       "      <td>4</td>\n",
       "    </tr>\n",
       "    <tr>\n",
       "      <th>...</th>\n",
       "      <td>...</td>\n",
       "      <td>...</td>\n",
       "      <td>...</td>\n",
       "      <td>...</td>\n",
       "      <td>...</td>\n",
       "      <td>...</td>\n",
       "      <td>...</td>\n",
       "      <td>...</td>\n",
       "      <td>...</td>\n",
       "      <td>...</td>\n",
       "    </tr>\n",
       "    <tr>\n",
       "      <th>512</th>\n",
       "      <td>2000</td>\n",
       "      <td>1247652</td>\n",
       "      <td>1108864</td>\n",
       "      <td>West Coast</td>\n",
       "      <td>WA</td>\n",
       "      <td>0.529448</td>\n",
       "      <td>24.0</td>\n",
       "      <td>3</td>\n",
       "      <td>46</td>\n",
       "      <td>6</td>\n",
       "    </tr>\n",
       "    <tr>\n",
       "      <th>513</th>\n",
       "      <td>2004</td>\n",
       "      <td>1510201</td>\n",
       "      <td>1304894</td>\n",
       "      <td>West Coast</td>\n",
       "      <td>WA</td>\n",
       "      <td>0.536465</td>\n",
       "      <td>28.0</td>\n",
       "      <td>3</td>\n",
       "      <td>46</td>\n",
       "      <td>7</td>\n",
       "    </tr>\n",
       "    <tr>\n",
       "      <th>514</th>\n",
       "      <td>2008</td>\n",
       "      <td>1750848</td>\n",
       "      <td>1229216</td>\n",
       "      <td>West Coast</td>\n",
       "      <td>WA</td>\n",
       "      <td>0.587520</td>\n",
       "      <td>32.0</td>\n",
       "      <td>3</td>\n",
       "      <td>46</td>\n",
       "      <td>8</td>\n",
       "    </tr>\n",
       "    <tr>\n",
       "      <th>515</th>\n",
       "      <td>2012</td>\n",
       "      <td>1755396</td>\n",
       "      <td>1290670</td>\n",
       "      <td>West Coast</td>\n",
       "      <td>WA</td>\n",
       "      <td>0.576283</td>\n",
       "      <td>36.0</td>\n",
       "      <td>3</td>\n",
       "      <td>46</td>\n",
       "      <td>9</td>\n",
       "    </tr>\n",
       "    <tr>\n",
       "      <th>516</th>\n",
       "      <td>2016</td>\n",
       "      <td>1742718</td>\n",
       "      <td>1221747</td>\n",
       "      <td>West Coast</td>\n",
       "      <td>WA</td>\n",
       "      <td>0.587869</td>\n",
       "      <td>40.0</td>\n",
       "      <td>3</td>\n",
       "      <td>46</td>\n",
       "      <td>10</td>\n",
       "    </tr>\n",
       "  </tbody>\n",
       "</table>\n",
       "<p>550 rows × 10 columns</p>\n",
       "</div>"
      ],
      "text/plain": [
       "     year      dem      rep        region state  proportion  year_numerical  \\\n",
       "154  1976  1014714  1183958  Border South    IN    0.461512             0.0   \n",
       "155  1980   844197  1255656  Border South    IN    0.402027             4.0   \n",
       "156  1984   841481  1377230  Border South    IN    0.379266             8.0   \n",
       "157  1988   860643  1297763  Border South    IN    0.398740            12.0   \n",
       "158  1992   848420   989375  Border South    IN    0.461651            16.0   \n",
       "..    ...      ...      ...           ...   ...         ...             ...   \n",
       "512  2000  1247652  1108864    West Coast    WA    0.529448            24.0   \n",
       "513  2004  1510201  1304894    West Coast    WA    0.536465            28.0   \n",
       "514  2008  1750848  1229216    West Coast    WA    0.587520            32.0   \n",
       "515  2012  1755396  1290670    West Coast    WA    0.576283            36.0   \n",
       "516  2016  1742718  1221747    West Coast    WA    0.587869            40.0   \n",
       "\n",
       "     region_idxs  state_idxs  time_idxs  \n",
       "154            9          14          0  \n",
       "155            9          14          1  \n",
       "156            9          14          2  \n",
       "157            9          14          3  \n",
       "158            9          14          4  \n",
       "..           ...         ...        ...  \n",
       "512            3          46          6  \n",
       "513            3          46          7  \n",
       "514            3          46          8  \n",
       "515            3          46          9  \n",
       "516            3          46         10  \n",
       "\n",
       "[550 rows x 10 columns]"
      ]
     },
     "execution_count": 16,
     "metadata": {},
     "output_type": "execute_result"
    }
   ],
   "source": [
    "years = pd.to_datetime(D.year)\n",
    "years = (years - years.min()) / pd.Timedelta(1)\n",
    "\n",
    "D.loc[:, (\"year_numerical\")] = years\n",
    "D.loc[:, (\"region_idxs\")] = D[\"region\"].apply(\n",
    "    lambda x: list(D.region.unique()).index(x)\n",
    ")\n",
    "D.loc[:, (\"state_idxs\")] = D[\"state\"].apply(\n",
    "    lambda x: list(D.state.unique()).index(x)\n",
    ")\n",
    "D.loc[:, (\"time_idxs\")] = D[\"year_numerical\"].apply(\n",
    "    lambda x: list(D.year_numerical.unique()).index(x)\n",
    ")\n",
    "D = D.sort_values([\"region\", \"state\", \"year_numerical\"])\n",
    "D"
   ]
  },
  {
   "cell_type": "code",
   "execution_count": 17,
   "id": "f0d7729a",
   "metadata": {},
   "outputs": [],
   "source": [
    "Y = D[[\"state\", \"year_numerical\", \"proportion\"]].pivot_table(\n",
    "    index=\"state\", values=\"proportion\", columns=\"year_numerical\"\n",
    ")"
   ]
  },
  {
   "cell_type": "code",
   "execution_count": 18,
   "id": "9956e438",
   "metadata": {},
   "outputs": [
    {
     "data": {
      "text/html": [
       "<div>\n",
       "<style scoped>\n",
       "    .dataframe tbody tr th:only-of-type {\n",
       "        vertical-align: middle;\n",
       "    }\n",
       "\n",
       "    .dataframe tbody tr th {\n",
       "        vertical-align: top;\n",
       "    }\n",
       "\n",
       "    .dataframe thead th {\n",
       "        text-align: right;\n",
       "    }\n",
       "</style>\n",
       "<table border=\"1\" class=\"dataframe\">\n",
       "  <thead>\n",
       "    <tr style=\"text-align: right;\">\n",
       "      <th>year_numerical</th>\n",
       "      <th>0.0</th>\n",
       "      <th>4.0</th>\n",
       "      <th>8.0</th>\n",
       "      <th>12.0</th>\n",
       "      <th>16.0</th>\n",
       "      <th>20.0</th>\n",
       "      <th>24.0</th>\n",
       "      <th>28.0</th>\n",
       "      <th>32.0</th>\n",
       "      <th>36.0</th>\n",
       "      <th>40.0</th>\n",
       "    </tr>\n",
       "    <tr>\n",
       "      <th>state</th>\n",
       "      <th></th>\n",
       "      <th></th>\n",
       "      <th></th>\n",
       "      <th></th>\n",
       "      <th></th>\n",
       "      <th></th>\n",
       "      <th></th>\n",
       "      <th></th>\n",
       "      <th></th>\n",
       "      <th></th>\n",
       "      <th></th>\n",
       "    </tr>\n",
       "  </thead>\n",
       "  <tbody>\n",
       "    <tr>\n",
       "      <th>AK</th>\n",
       "      <td>0.381082</td>\n",
       "      <td>0.327008</td>\n",
       "      <td>0.309441</td>\n",
       "      <td>0.378367</td>\n",
       "      <td>0.434257</td>\n",
       "      <td>0.395715</td>\n",
       "      <td>0.320631</td>\n",
       "      <td>0.367737</td>\n",
       "      <td>0.389352</td>\n",
       "      <td>0.426847</td>\n",
       "      <td>0.416143</td>\n",
       "    </tr>\n",
       "    <tr>\n",
       "      <th>AL</th>\n",
       "      <td>0.566667</td>\n",
       "      <td>0.493237</td>\n",
       "      <td>0.387366</td>\n",
       "      <td>0.402544</td>\n",
       "      <td>0.461789</td>\n",
       "      <td>0.462661</td>\n",
       "      <td>0.424145</td>\n",
       "      <td>0.371022</td>\n",
       "      <td>0.391091</td>\n",
       "      <td>0.387838</td>\n",
       "      <td>0.356259</td>\n",
       "    </tr>\n",
       "    <tr>\n",
       "      <th>AR</th>\n",
       "      <td>0.650228</td>\n",
       "      <td>0.496803</td>\n",
       "      <td>0.387724</td>\n",
       "      <td>0.428084</td>\n",
       "      <td>0.599923</td>\n",
       "      <td>0.593528</td>\n",
       "      <td>0.471993</td>\n",
       "      <td>0.450643</td>\n",
       "      <td>0.398283</td>\n",
       "      <td>0.378456</td>\n",
       "      <td>0.357149</td>\n",
       "    </tr>\n",
       "    <tr>\n",
       "      <th>AZ</th>\n",
       "      <td>0.413867</td>\n",
       "      <td>0.317879</td>\n",
       "      <td>0.328833</td>\n",
       "      <td>0.392565</td>\n",
       "      <td>0.486981</td>\n",
       "      <td>0.512238</td>\n",
       "      <td>0.467174</td>\n",
       "      <td>0.447250</td>\n",
       "      <td>0.456861</td>\n",
       "      <td>0.453866</td>\n",
       "      <td>0.481100</td>\n",
       "    </tr>\n",
       "    <tr>\n",
       "      <th>CA</th>\n",
       "      <td>0.490822</td>\n",
       "      <td>0.405291</td>\n",
       "      <td>0.417755</td>\n",
       "      <td>0.481927</td>\n",
       "      <td>0.585167</td>\n",
       "      <td>0.572163</td>\n",
       "      <td>0.562030</td>\n",
       "      <td>0.550413</td>\n",
       "      <td>0.622784</td>\n",
       "      <td>0.618728</td>\n",
       "      <td>0.661282</td>\n",
       "    </tr>\n",
       "  </tbody>\n",
       "</table>\n",
       "</div>"
      ],
      "text/plain": [
       "year_numerical      0.0       4.0       8.0       12.0      16.0      20.0  \\\n",
       "state                                                                        \n",
       "AK              0.381082  0.327008  0.309441  0.378367  0.434257  0.395715   \n",
       "AL              0.566667  0.493237  0.387366  0.402544  0.461789  0.462661   \n",
       "AR              0.650228  0.496803  0.387724  0.428084  0.599923  0.593528   \n",
       "AZ              0.413867  0.317879  0.328833  0.392565  0.486981  0.512238   \n",
       "CA              0.490822  0.405291  0.417755  0.481927  0.585167  0.572163   \n",
       "\n",
       "year_numerical      24.0      28.0      32.0      36.0      40.0  \n",
       "state                                                             \n",
       "AK              0.320631  0.367737  0.389352  0.426847  0.416143  \n",
       "AL              0.424145  0.371022  0.391091  0.387838  0.356259  \n",
       "AR              0.471993  0.450643  0.398283  0.378456  0.357149  \n",
       "AZ              0.467174  0.447250  0.456861  0.453866  0.481100  \n",
       "CA              0.562030  0.550413  0.622784  0.618728  0.661282  "
      ]
     },
     "execution_count": 18,
     "metadata": {},
     "output_type": "execute_result"
    }
   ],
   "source": [
    "Y.head()"
   ]
  },
  {
   "cell_type": "code",
   "execution_count": 19,
   "id": "de4cda83",
   "metadata": {},
   "outputs": [],
   "source": [
    "X = np.tile(np.array(Y.columns), (Y.shape[0], 1))"
   ]
  },
  {
   "cell_type": "code",
   "execution_count": 20,
   "id": "1f9625fc",
   "metadata": {},
   "outputs": [],
   "source": [
    "Y = np.array(Y.values)"
   ]
  },
  {
   "cell_type": "markdown",
   "id": "885690c8",
   "metadata": {},
   "source": [
    "## Implementing an LSTM"
   ]
  },
  {
   "cell_type": "code",
   "execution_count": 21,
   "id": "ce6c7867",
   "metadata": {},
   "outputs": [],
   "source": [
    "def _lstm(x):\n",
    "    module = hk.LSTM(1)    \n",
    "    outs, state = hk.dynamic_unroll(module, x, module.initial_state(1))\n",
    "    return outs"
   ]
  },
  {
   "cell_type": "code",
   "execution_count": 22,
   "id": "0094825b",
   "metadata": {},
   "outputs": [
    {
     "data": {
      "text/plain": [
       "FlatMapping({\n",
       "  'lstm/linear': FlatMapping({\n",
       "                   'w': DeviceArray([[-0.51025134,  0.5771896 , -0.09637077, -0.49400634],\n",
       "                                     [ 0.454539  ,  0.27723938, -1.2919832 , -0.24847537]],            dtype=float32),\n",
       "                   'b': DeviceArray([0., 0., 0., 0.], dtype=float32),\n",
       "                 }),\n",
       "})"
      ]
     },
     "execution_count": 22,
     "metadata": {},
     "output_type": "execute_result"
    }
   ],
   "source": [
    "key = jax.random.PRNGKey(42)\n",
    "\n",
    "model = hk.transform(_lstm)\n",
    "hk_model = hk.without_apply_rng(model)\n",
    "hk_params = hk_model.init(key, X[ None, [0], :].T)\n",
    "hk_params"
   ]
  },
  {
   "cell_type": "code",
   "execution_count": 23,
   "id": "54225426",
   "metadata": {},
   "outputs": [
    {
     "data": {
      "text/plain": [
       "DeviceArray([[[0.0000000e+00, 1.3664528e-02, 1.4810549e-03,\n",
       "               1.0234739e-04, 5.3378062e-06, 2.1170729e-07,\n",
       "               6.2559602e-09, 1.3474957e-10, 2.0783360e-12,\n",
       "               2.2680710e-14, 1.7471644e-16]]], dtype=float32)"
      ]
     },
     "execution_count": 23,
     "metadata": {},
     "output_type": "execute_result"
    }
   ],
   "source": [
    "hk_model.apply(x=X[ None, [0], :].T, params=hk_params).T"
   ]
  },
  {
   "cell_type": "code",
   "execution_count": 24,
   "id": "5c514831",
   "metadata": {},
   "outputs": [],
   "source": [
    "class LSTM(hk.Module):\n",
    "    def __init__(self, name='lstm'):\n",
    "        super().__init__(name=name)\n",
    "        self._w = hk.Linear(4, True, name=\"w\")\n",
    "        self._u = hk.Linear(4, False, name=\"u\")\n",
    "\n",
    "    def __call__(self, x):\n",
    "        outs = [None] * x.shape[-1]\n",
    "        h, c = np.zeros((x.shape[0], 1)), np.zeros((x.shape[0], 1))\n",
    "        for i in range(x.shape[-1]):\n",
    "            o, h, c = self._call(x[:, i, None], h, c)\n",
    "            outs[i] = o\n",
    "        return np.hstack(outs)\n",
    "\n",
    "    def _call(self, x_t, h_t, c_t):                        \n",
    "        iw, gw, fw, ow = np.split(self._w(x_t), indices_or_sections=4, axis=-1)        \n",
    "        iu, gu, fu, ou = np.split(self._u(h_t), indices_or_sections=4, axis=-1)        \n",
    "        i = jax.nn.sigmoid(iw + iu)\n",
    "        f = jax.nn.sigmoid(fw + fu + 1.0)\n",
    "        g = np.tanh(gw + gu)\n",
    "        o = jax.nn.sigmoid(ow + ou)\n",
    "        c = f * c_t + i * g\n",
    "        h =  o * np.tanh(c)\n",
    "        return h, h, c\n",
    "\n",
    "\n",
    "def _lstm(x):\n",
    "    module = LSTM()\n",
    "    return module(x)"
   ]
  },
  {
   "cell_type": "code",
   "execution_count": 25,
   "id": "f1528840",
   "metadata": {},
   "outputs": [
    {
     "data": {
      "text/plain": [
       "FlatMapping({\n",
       "  'lstm/~/w': FlatMapping({\n",
       "                'w': DeviceArray([[-0.5389954,  0.8341133, -0.8763848,  1.3341686]], dtype=float32),\n",
       "                'b': DeviceArray([0., 0., 0., 0.], dtype=float32),\n",
       "              }),\n",
       "  'lstm/~/u': FlatMapping({\n",
       "                'w': DeviceArray([[ 0.6433483 , -0.11852746,  0.88966376, -0.33986157]], dtype=float32),\n",
       "              }),\n",
       "})"
      ]
     },
     "execution_count": 25,
     "metadata": {},
     "output_type": "execute_result"
    }
   ],
   "source": [
    "key = jax.random.PRNGKey(42)\n",
    "\n",
    "model = hk.transform(_lstm)\n",
    "model = hk.without_apply_rng(model)\n",
    "params = model.init(key, X[[0], :])\n",
    "params"
   ]
  },
  {
   "cell_type": "code",
   "execution_count": 26,
   "id": "1f2abb69",
   "metadata": {},
   "outputs": [
    {
     "data": {
      "text/plain": [
       "FlatMapping({\n",
       "  'lstm/~/w': FlatMapping({\n",
       "                'w': DeviceArray([[-0.51025134,  0.5771896 , -0.09637077, -0.49400634]], dtype=float32),\n",
       "                'b': DeviceArray([0., 0., 0., 0.], dtype=float32),\n",
       "              }),\n",
       "  'lstm/~/u': FlatMapping({\n",
       "                'w': DeviceArray([[ 0.454539  ,  0.27723938, -1.2919832 , -0.24847537]], dtype=float32),\n",
       "              }),\n",
       "})"
      ]
     },
     "execution_count": 26,
     "metadata": {},
     "output_type": "execute_result"
    }
   ],
   "source": [
    "w = FlatMapping({\n",
    "    \"w\": hk_params['lstm/linear'][\"w\"][[0], :],\n",
    "    'b': hk_params['lstm/linear'][\"b\"]\n",
    "\n",
    "})\n",
    "u = FlatMapping({\n",
    "    \"w\": hk_params['lstm/linear'][\"w\"][[1], :],\n",
    "})\n",
    "\n",
    "params = FlatMapping({\n",
    "    'lstm/~/w': w,\n",
    "    'lstm/~/u': u,\n",
    "})\n",
    "params"
   ]
  },
  {
   "cell_type": "code",
   "execution_count": 27,
   "id": "1d50aabd",
   "metadata": {},
   "outputs": [
    {
     "data": {
      "text/plain": [
       "DeviceArray([[[0.0000000e+00, 1.3664528e-02, 1.4810549e-03,\n",
       "               1.0234739e-04, 5.3378062e-06, 2.1170729e-07,\n",
       "               6.2559602e-09, 1.3474957e-10, 2.0783360e-12,\n",
       "               2.2680710e-14, 1.7471644e-16]]], dtype=float32)"
      ]
     },
     "execution_count": 27,
     "metadata": {},
     "output_type": "execute_result"
    }
   ],
   "source": [
    "hk_model.apply(x=X[ None, [0], :].T, params=hk_params).T"
   ]
  },
  {
   "cell_type": "code",
   "execution_count": 28,
   "id": "b2c185bc",
   "metadata": {},
   "outputs": [
    {
     "data": {
      "text/plain": [
       "DeviceArray([[0.0000000e+00, 1.3664528e-02, 1.4810549e-03, 1.0234739e-04,\n",
       "              5.3378062e-06, 2.1170729e-07, 6.2559611e-09, 1.3474961e-10,\n",
       "              2.0783364e-12, 2.2680715e-14, 1.7471648e-16]],            dtype=float32)"
      ]
     },
     "execution_count": 28,
     "metadata": {},
     "output_type": "execute_result"
    }
   ],
   "source": [
    "model.apply(x=X[[0], :], params=params)"
   ]
  },
  {
   "cell_type": "markdown",
   "id": "fe0cb5d5",
   "metadata": {},
   "source": [
    "# Implementing an LSTM with a Beta response"
   ]
  },
  {
   "cell_type": "code",
   "execution_count": 29,
   "id": "08f0801a",
   "metadata": {},
   "outputs": [],
   "source": [
    "class BetaLSTM(hk.Module):\n",
    "    def __init__(self, name='beta_lstm'):\n",
    "        super().__init__(name=name)        \n",
    "        self._net = hk.DeepRNN([              \n",
    "            hk.LSTM(128), jax.nn.relu,\n",
    "            hk.LSTM(128), jax.nn.relu,\n",
    "            hk.Linear(1)\n",
    "        ])\n",
    "        self._mu = hk.get_parameter('mu', [], init=np.ones)\n",
    "        self._kappa = hk.get_parameter('kappa', [], init=np.zeros)\n",
    "\n",
    "    def __call__(self, x):\n",
    "        p = x.shape[1]\n",
    "        outs, state = hk.dynamic_unroll(self._net, x, self._net.initial_state(p))\n",
    "        mu = sp.special.expit(self._mu + outs)\n",
    "        kappa = np.exp(self._kappa)\n",
    "        be = dist.Beta(mu * kappa, (1.0 - mu) * kappa)\n",
    "        return be\n",
    "        \n",
    "\n",
    "def _beta_lstm(x):\n",
    "    module = BetaLSTM()\n",
    "    return module(x)"
   ]
  },
  {
   "cell_type": "code",
   "execution_count": 30,
   "id": "36c06321",
   "metadata": {},
   "outputs": [],
   "source": [
    "X = X[None, :, :].T\n",
    "Y = Y[None, :, :].T"
   ]
  },
  {
   "cell_type": "code",
   "execution_count": 31,
   "id": "3526ebc1",
   "metadata": {},
   "outputs": [
    {
     "data": {
      "text/plain": [
       "(11, 50, 1)"
      ]
     },
     "execution_count": 31,
     "metadata": {},
     "output_type": "execute_result"
    }
   ],
   "source": [
    "X.shape"
   ]
  },
  {
   "cell_type": "code",
   "execution_count": 32,
   "id": "f3111fa4",
   "metadata": {},
   "outputs": [],
   "source": [
    "x = X[:, [0], :]\n",
    "y = Y[:, [0], :]"
   ]
  },
  {
   "cell_type": "code",
   "execution_count": 33,
   "id": "f78ea0c4",
   "metadata": {},
   "outputs": [],
   "source": [
    "model = hk.transform(_beta_lstm)\n",
    "model = hk.without_apply_rng(model)\n",
    "\n",
    "key = jax.random.PRNGKey(42)\n",
    "params = model.init(key,  x)"
   ]
  },
  {
   "cell_type": "code",
   "execution_count": 34,
   "id": "8742aa79",
   "metadata": {},
   "outputs": [
    {
     "data": {
      "text/plain": [
       "DeviceArray([[[0.9994723 ]],\n",
       "\n",
       "             [[0.51052564]],\n",
       "\n",
       "             [[0.9996344 ]],\n",
       "\n",
       "             [[0.8655784 ]],\n",
       "\n",
       "             [[0.9635838 ]],\n",
       "\n",
       "             [[0.04255585]],\n",
       "\n",
       "             [[0.3341038 ]],\n",
       "\n",
       "             [[0.7359098 ]],\n",
       "\n",
       "             [[0.33179298]],\n",
       "\n",
       "             [[0.14812946]],\n",
       "\n",
       "             [[0.06516684]]], dtype=float32)"
      ]
     },
     "execution_count": 34,
     "metadata": {},
     "output_type": "execute_result"
    }
   ],
   "source": [
    "beta = model.apply(x=x, params=params)\n",
    "beta.sample(key=key)"
   ]
  },
  {
   "cell_type": "code",
   "execution_count": 35,
   "id": "b61beb45",
   "metadata": {},
   "outputs": [],
   "source": [
    "@jax.jit\n",
    "def nll(params: hk.Params):\n",
    "    beta = model.apply(x=x, params=params)\n",
    "    ll = np.sum(beta.log_prob(y))\n",
    "    return -ll\n",
    "\n",
    "@jax.jit\n",
    "def update(params, opt_state):\n",
    "    val, grads = jax.value_and_grad(nll)(params)  \n",
    "    updates, new_state = optimizer.update(grads, opt_state)\n",
    "    new_params = optax.apply_updates(params, updates)\n",
    "    return new_params, new_state, val"
   ]
  },
  {
   "cell_type": "code",
   "execution_count": 36,
   "id": "958e43dc",
   "metadata": {},
   "outputs": [],
   "source": [
    "optimizer = optax.adam(0.001)\n",
    "opt_state = optimizer.init(params)"
   ]
  },
  {
   "cell_type": "code",
   "execution_count": 37,
   "id": "e37cb19d",
   "metadata": {},
   "outputs": [],
   "source": [
    "nlls = []\n",
    "for step in range(1000):\n",
    "    params, opt_state, val = update(params, opt_state)\n",
    "    nlls.append(float(val))"
   ]
  },
  {
   "cell_type": "code",
   "execution_count": 38,
   "id": "da3beb78",
   "metadata": {},
   "outputs": [
    {
     "data": {
      "text/plain": [
       "[<matplotlib.lines.Line2D at 0x133de4340>]"
      ]
     },
     "execution_count": 38,
     "metadata": {},
     "output_type": "execute_result"
    },
    {
     "data": {
      "image/png": "[encoded data removed]",
      "text/plain": [
       "<Figure size 432x288 with 1 Axes>"
      ]
     },
     "metadata": {
      "needs_background": "light"
     },
     "output_type": "display_data"
    }
   ],
   "source": [
    "plt.plot(nlls)"
   ]
  },
  {
   "cell_type": "code",
   "execution_count": 39,
   "id": "40af8712",
   "metadata": {},
   "outputs": [],
   "source": [
    "beta= model.apply(x=x, params=params)"
   ]
  },
  {
   "cell_type": "code",
   "execution_count": 40,
   "id": "937526fe",
   "metadata": {},
   "outputs": [
    {
     "data": {
      "text/plain": [
       "DeviceArray([[[0.3810817 , 0.32700816, 0.30944088, 0.37836683,\n",
       "               0.4342574 , 0.39571497, 0.32063052, 0.36773717,\n",
       "               0.38935214, 0.4268471 , 0.41614345]]], dtype=float32)"
      ]
     },
     "execution_count": 40,
     "metadata": {},
     "output_type": "execute_result"
    }
   ],
   "source": [
    "y.T"
   ]
  },
  {
   "cell_type": "code",
   "execution_count": 41,
   "id": "d07b23ea",
   "metadata": {},
   "outputs": [
    {
     "data": {
      "text/plain": [
       "DeviceArray([[[0.3793767 , 0.43839943, 0.37851006, 0.44428718,\n",
       "               0.4648255 , 0.44193912, 0.38849303, 0.42976683,\n",
       "               0.43630067, 0.47638878, 0.47168872]]], dtype=float32)"
      ]
     },
     "execution_count": 41,
     "metadata": {},
     "output_type": "execute_result"
    }
   ],
   "source": [
    "np.mean(beta.sample(key, sample_shape=(100,)), axis=0).T"
   ]
  },
  {
   "cell_type": "code",
   "execution_count": null,
   "id": "671878da",
   "metadata": {},
   "outputs": [],
   "source": [
    "optimizer = optax.adam(0.001)\n",
    "opt_state = optimizer.init(params) \n",
    "\n",
    "nlls = []\n",
    "for step in range(1000):\n",
    "    params, opt_state, val = update(params, opt_state)\n",
    "    nlls.append(float(val))"
   ]
  },
  {
   "cell_type": "markdown",
   "id": "98db5882",
   "metadata": {},
   "source": [
    "# Implementing a multivariate BetaLSTM"
   ]
  },
  {
   "cell_type": "code",
   "execution_count": 186,
   "id": "ac150790",
   "metadata": {},
   "outputs": [],
   "source": [
    "class MultivariateBetaLSTM(hk.Module):\n",
    "    def __init__(self, name='beta_lstm'):\n",
    "        super().__init__(name=name)        \n",
    "        self._net = hk.DeepRNN([              \n",
    "            hk.LSTM(64), jax.nn.relu,\n",
    "            hk.LSTM(64), jax.nn.relu,\n",
    "            hk.Linear(1 + 1 + 10)\n",
    "        ])\n",
    "        self._mu = hk.get_parameter('mu', [], init=np.zeros)\n",
    "        self._kappa = hk.get_parameter('kappa', [], init=np.ones)\n",
    "\n",
    "    def __call__(self, x, pr=False):\n",
    "        p = x.shape[1]\n",
    "        outs, _ = hk.dynamic_unroll(self._net, x, self._net.initial_state(p))\n",
    "        \n",
    "        mu, d, v = np.split(outs, [1, 2], axis=-1)\n",
    "        if pr:\n",
    "            print(mu.shape)\n",
    "            print(d.shape)\n",
    "            print(v.shape)\n",
    "        d, v = np.exp(d), v[:, :, None, :]\n",
    "        low_mvn = dist.LowRankMultivariateNormal(\n",
    "            loc=mu, cov_factor=v, cov_diag=d\n",
    "        )\n",
    "        z = low_mvn.sample(key = hk.next_rng_key(), sample_shape=(100, ))\n",
    "        z = np.mean(z, axis=0)\n",
    "        \n",
    "        mu = sp.special.expit(self._mu + z)\n",
    "        kappa = np.exp(self._kappa)\n",
    "        be = dist.Beta(mu * kappa, (1.0 - mu) * kappa)\n",
    "        return be, low_mvn, z\n",
    "\n",
    "def _mvn_beta_lstm(x, pr=False):\n",
    "    module = MultivariateBetaLSTM()\n",
    "    return module(x, pr)"
   ]
  },
  {
   "cell_type": "code",
   "execution_count": 187,
   "id": "8f6afb05",
   "metadata": {},
   "outputs": [],
   "source": [
    "model = hk.transform(_mvn_beta_lstm)\n",
    "key = jax.random.PRNGKey(42)\n",
    "params = model.init(key, x)"
   ]
  },
  {
   "cell_type": "code",
   "execution_count": 179,
   "id": "a313a986",
   "metadata": {},
   "outputs": [
    {
     "data": {
      "text/plain": [
       "(11, 1, 1)"
      ]
     },
     "execution_count": 179,
     "metadata": {},
     "output_type": "execute_result"
    }
   ],
   "source": [
    "X[:, [0], :].shape"
   ]
  },
  {
   "cell_type": "code",
   "execution_count": 180,
   "id": "9f6f7f1f",
   "metadata": {},
   "outputs": [
    {
     "name": "stdout",
     "output_type": "stream",
     "text": [
      "(11, 1, 1)\n",
      "(11, 1, 1)\n",
      "(11, 1, 10)\n"
     ]
    }
   ],
   "source": [
    "beta, _, _ = model.apply(x=X[:, [0], :], pr=True, params=params, rng=key)"
   ]
  },
  {
   "cell_type": "code",
   "execution_count": 181,
   "id": "82158073",
   "metadata": {},
   "outputs": [
    {
     "name": "stdout",
     "output_type": "stream",
     "text": [
      "(11, 2, 1)\n",
      "(11, 2, 1)\n",
      "(11, 2, 10)\n"
     ]
    }
   ],
   "source": [
    "beta, _, _ = model.apply(x=X[:, [0, 1], :], pr=True, params=params, rng=key)"
   ]
  },
  {
   "cell_type": "code",
   "execution_count": 188,
   "id": "bc3abfbe",
   "metadata": {},
   "outputs": [],
   "source": [
    "optimizer = optax.adam(0.001)\n",
    "opt_state = optimizer.init(params)"
   ]
  },
  {
   "cell_type": "code",
   "execution_count": 189,
   "id": "2ca7e796",
   "metadata": {},
   "outputs": [],
   "source": [
    "@jax.jit\n",
    "def nll(params: hk.Params):\n",
    "    beta, low_mvn, z = model.apply(x=x, pr=False, params=params, rng=key)\n",
    "    prior = dist.Normal(loc=x.shape)\n",
    "    ll = np.sum(beta.log_prob(y))\n",
    "    return -ll\n",
    "\n",
    "@jax.jit\n",
    "def update(params, opt_state):\n",
    "    val, grads = jax.value_and_grad(nll)(params)  \n",
    "    updates, new_state = optimizer.update(grads, opt_state)\n",
    "    new_params = optax.apply_updates(params, updates)\n",
    "    return new_params, new_state, val"
   ]
  },
  {
   "cell_type": "code",
   "execution_count": 197,
   "id": "441666cd",
   "metadata": {},
   "outputs": [],
   "source": [
    "nlls = []\n",
    "for step in range(10000):\n",
    "    params, opt_state, val = update(params, opt_state)\n",
    "    nlls.append(float(val))"
   ]
  },
  {
   "cell_type": "code",
   "execution_count": 191,
   "id": "0d568195",
   "metadata": {},
   "outputs": [
    {
     "data": {
      "text/plain": [
       "[<matplotlib.lines.Line2D at 0x1386bfd90>]"
      ]
     },
     "execution_count": 191,
     "metadata": {},
     "output_type": "execute_result"
    },
    {
     "data": {
      "image/png": "[encoded data removed]",
      "text/plain": [
       "<Figure size 432x288 with 1 Axes>"
      ]
     },
     "metadata": {
      "needs_background": "light"
     },
     "output_type": "display_data"
    }
   ],
   "source": [
    "plt.plot(nlls)"
   ]
  },
  {
   "cell_type": "code",
   "execution_count": 192,
   "id": "ffce9433",
   "metadata": {},
   "outputs": [],
   "source": [
    "beta, _, _ = model.apply(x=x, params=params, rng=key)"
   ]
  },
  {
   "cell_type": "code",
   "execution_count": 195,
   "id": "762a1dd1",
   "metadata": {},
   "outputs": [
    {
     "data": {
      "text/plain": [
       "DeviceArray([[[0.3810817 , 0.32700816, 0.30944088, 0.37836683,\n",
       "               0.4342574 , 0.39571497, 0.32063052, 0.36773717,\n",
       "               0.38935214, 0.4268471 , 0.41614345]]], dtype=float32)"
      ]
     },
     "execution_count": 195,
     "metadata": {},
     "output_type": "execute_result"
    }
   ],
   "source": [
    "y.T"
   ]
  },
  {
   "cell_type": "code",
   "execution_count": 196,
   "id": "c7cf81b1",
   "metadata": {},
   "outputs": [
    {
     "data": {
      "text/plain": [
       "DeviceArray([[[0.37724105, 0.3743136 , 0.34024766, 0.40917712,\n",
       "               0.45020893, 0.42757455, 0.34788367, 0.39549652,\n",
       "               0.420634  , 0.45033896, 0.4511397 ]]], dtype=float32)"
      ]
     },
     "execution_count": 196,
     "metadata": {},
     "output_type": "execute_result"
    }
   ],
   "source": [
    "np.mean(beta.sample(key, sample_shape=(100,)), 0).T"
   ]
  },
  {
   "cell_type": "markdown",
   "id": "5ac86c80",
   "metadata": {},
   "source": [
    "# Variational inference"
   ]
  },
  {
   "cell_type": "code",
   "execution_count": 232,
   "id": "149ae2e7",
   "metadata": {},
   "outputs": [],
   "source": [
    "class MultivariateLSTM(hk.Module):\n",
    "    def __init__(self, name='beta_lstm'):\n",
    "        super().__init__(name=name)        \n",
    "        self._net = hk.DeepRNN([              \n",
    "            hk.LSTM(64), jax.nn.relu,\n",
    "            hk.LSTM(64), jax.nn.relu,\n",
    "           hk.Linear(1 + 1 + 10)\n",
    "        ])\n",
    "\n",
    "    def __call__(self, x):\n",
    "        p = x.shape[1]\n",
    "        outs, _ = hk.dynamic_unroll(self._net, x, self._net.initial_state(p))\n",
    "        mu, d, v = np.split(outs, [1, 2], axis=-1)\n",
    "        d, v = np.exp(d), v[:, :, None, :]\n",
    "        return mu, v, d\n",
    "\n",
    "def _mvn_lstm(x):\n",
    "    module = MultivariateLSTM()\n",
    "    return module(x)\n",
    "\n",
    "mvn_lstm = hk.transform(_mvn_lstm)"
   ]
  },
  {
   "cell_type": "code",
   "execution_count": 233,
   "id": "21101ac4",
   "metadata": {},
   "outputs": [],
   "source": [
    "def model(y, x):    \n",
    "    nn = haiku_module(\"nn\", mvn_lstm, x=x)\n",
    "    mu, v, d =  nn(x)\n",
    "    f = numpyro.sample(\"f\", dist.LowRankMultivariateNormal(mu, v, d))\n",
    "    mu = numpyro.deterministic(\"mu\", sp.special.expit(f))\n",
    "    kappa = numpyro.param(\"kappa\", 1.0, constraint=constraints.positive)\n",
    "    numpyro.sample(\n",
    "        \"y\", \n",
    "        dist.Beta(mu * kappa, (1.0 - mu) * kappa),\n",
    "        obs=y\n",
    "    )"
   ]
  },
  {
   "cell_type": "code",
   "execution_count": 234,
   "id": "151e0307",
   "metadata": {},
   "outputs": [],
   "source": [
    "def guide(y, x):    \n",
    "    nn = haiku_module(\"nn\", mvn_lstm, x=x)\n",
    "    mu, v, d =  nn(x)\n",
    "    numpyro.sample(\n",
    "        \"f\", \n",
    "        dist.LowRankMultivariateNormal(mu, v, d)\n",
    "    )"
   ]
  },
  {
   "cell_type": "code",
   "execution_count": 272,
   "id": "dff98418",
   "metadata": {},
   "outputs": [
    {
     "name": "stderr",
     "output_type": "stream",
     "text": [
      "100%|██████████| 10000/10000 [00:31<00:00, 318.80it/s, init loss: 7.3667, avg. loss [9501-10000]: -40.1824]\n"
     ]
    }
   ],
   "source": [
    "optimizer = numpyro.optim.Adam(step_size=0.001)\n",
    "svi = SVI(model, guide, optimizer, loss=Trace_ELBO())\n",
    "nsteps = 10000\n",
    "svi_result = svi.run(key, nsteps, y=y, x=x)"
   ]
  },
  {
   "cell_type": "code",
   "execution_count": 273,
   "id": "67ddcfa3",
   "metadata": {},
   "outputs": [
    {
     "data": {
      "text/plain": [
       "[<matplotlib.lines.Line2D at 0x137daf970>]"
      ]
     },
     "execution_count": 273,
     "metadata": {},
     "output_type": "execute_result"
    },
    {
     "data": {
      "image/png": "[encoded data removed]",
      "text/plain": [
       "<Figure size 432x288 with 1 Axes>"
      ]
     },
     "metadata": {
      "needs_background": "light"
     },
     "output_type": "display_data"
    }
   ],
   "source": [
    "plt.plot(svi_result.losses)"
   ]
  },
  {
   "cell_type": "code",
   "execution_count": 274,
   "id": "f0916cfc",
   "metadata": {},
   "outputs": [],
   "source": [
    "mu, _, _ = mvn_lstm.apply(x=x, params=svi_result.params['nn$params'], rng=key)\n",
    "mu = sp.special.expit(mu)\n",
    "kappa = svi_result.params['kappa']\n",
    "\n",
    "y_hat = dist.Beta(mu * kappa, (1.0 - mu) * kappa).sample(key=key, sample_shape=(100,))"
   ]
  },
  {
   "cell_type": "code",
   "execution_count": 275,
   "id": "8468818f",
   "metadata": {},
   "outputs": [
    {
     "data": {
      "text/plain": [
       "DeviceArray([[[0.38041255, 0.3263239 , 0.30918267, 0.37810475,\n",
       "               0.43371636, 0.39514408, 0.32052362, 0.36798277,\n",
       "               0.38948616, 0.42650607, 0.41585124]]], dtype=float32)"
      ]
     },
     "execution_count": 275,
     "metadata": {},
     "output_type": "execute_result"
    }
   ],
   "source": [
    "np.mean(y_hat, axis=0).T"
   ]
  },
  {
   "cell_type": "code",
   "execution_count": 276,
   "id": "137013d2",
   "metadata": {},
   "outputs": [
    {
     "data": {
      "text/plain": [
       "DeviceArray([[[0.3810817 , 0.32700816, 0.30944088, 0.37836683,\n",
       "               0.4342574 , 0.39571497, 0.32063052, 0.36773717,\n",
       "               0.38935214, 0.4268471 , 0.41614345]]], dtype=float32)"
      ]
     },
     "execution_count": 276,
     "metadata": {},
     "output_type": "execute_result"
    }
   ],
   "source": [
    "y.T"
   ]
  },
  {
   "cell_type": "code",
   "execution_count": null,
   "id": "44f9925e",
   "metadata": {},
   "outputs": [],
   "source": [
    "# high dim"
   ]
  },
  {
   "cell_type": "code",
   "execution_count": 450,
   "id": "721bf457",
   "metadata": {},
   "outputs": [],
   "source": [
    "Y = D[[\"state\", \"year_numerical\", \"proportion\"]].pivot_table(\n",
    "    index=\"state\", values=\"proportion\", columns=\"year_numerical\"\n",
    ")\n",
    "\n",
    "E = np.repeat(np.arange(Y.shape[0]), Y.shape[1]).reshape(Y.shape)\n",
    "X = np.tile(np.array(Y.columns), (1, Y.shape[0], 1))"
   ]
  },
  {
   "cell_type": "code",
   "execution_count": 451,
   "id": "738c9a42",
   "metadata": {},
   "outputs": [
    {
     "data": {
      "text/plain": [
       "(11, 50, 2)"
      ]
     },
     "execution_count": 451,
     "metadata": {},
     "output_type": "execute_result"
    }
   ],
   "source": [
    "xs = []\n",
    "for i in range(X.T.shape[1]):\n",
    "    x = X.T[:, [i], :].flatten()\n",
    "    e = E[i].flatten()\n",
    "    xe = np.vstack([x, e]).T[:, None]\n",
    "    xs.append(xe)\n",
    "X = np.hstack(xs)\n",
    "X.shape"
   ]
  },
  {
   "cell_type": "code",
   "execution_count": null,
   "id": "0f85c656",
   "metadata": {},
   "outputs": [],
   "source": [
    "X[:, [0], :]"
   ]
  },
  {
   "cell_type": "code",
   "execution_count": 452,
   "id": "de95f805",
   "metadata": {},
   "outputs": [
    {
     "data": {
      "text/plain": [
       "(11, 50, 1)"
      ]
     },
     "execution_count": 452,
     "metadata": {},
     "output_type": "execute_result"
    }
   ],
   "source": [
    "Y = np.array(Y.values)\n",
    "Y = Y[None, :, :].T\n",
    "Y.shape"
   ]
  },
  {
   "cell_type": "code",
   "execution_count": 457,
   "id": "e397ab82",
   "metadata": {},
   "outputs": [],
   "source": [
    "class MultivariateLSTM(hk.Module):\n",
    "    def __init__(self, name='beta_lstm'):\n",
    "        super().__init__(name=name)        \n",
    "        self._net = hk.DeepRNN([              \n",
    "            hk.LSTM(64), jax.nn.relu,\n",
    "            hk.LSTM(64), jax.nn.relu,\n",
    "           hk.Linear(1 + 1 + 10)\n",
    "        ])\n",
    "\n",
    "    def __call__(self, x):\n",
    "        p = x.shape[1]\n",
    "        outs, _ = hk.dynamic_unroll(self._net, x, self._net.initial_state(p))\n",
    "        mu, d, v = np.split(outs, [1, 2], axis=-1)\n",
    "        d, v = np.exp(d), v[:, :, None, :]\n",
    "        return mu, v, d\n",
    "\n",
    "def _mvn_lstm(x):\n",
    "    module = MultivariateLSTM()\n",
    "    return module(x)\n",
    "\n",
    "mvn_lstm = hk.transform(_mvn_lstm)"
   ]
  },
  {
   "cell_type": "code",
   "execution_count": 458,
   "id": "409620e4",
   "metadata": {},
   "outputs": [],
   "source": [
    "def model(y, x):    \n",
    "    nn = haiku_module(\"nn\", mvn_lstm, x=x)\n",
    "    mu, v, d =  nn(x)\n",
    "    f = numpyro.sample(\"f\", dist.LowRankMultivariateNormal(mu, v, d))\n",
    "    mu = numpyro.deterministic(\"mu\", sp.special.expit(f))\n",
    "    kappa = numpyro.param(\"kappa\", 1.0, constraint=constraints.positive)\n",
    "    numpyro.sample(\n",
    "        \"y\", \n",
    "        dist.Beta(mu * kappa, (1.0 - mu) * kappa),\n",
    "        obs=y\n",
    "    )"
   ]
  },
  {
   "cell_type": "code",
   "execution_count": 459,
   "id": "29fe61fd",
   "metadata": {},
   "outputs": [],
   "source": [
    "def guide(y, x):    \n",
    "    nn = haiku_module(\"nn\", mvn_lstm, x=x)\n",
    "    mu, v, d =  nn(x)\n",
    "    numpyro.sample(\n",
    "        \"f\", \n",
    "        dist.LowRankMultivariateNormal(mu, v, d)\n",
    "    )"
   ]
  },
  {
   "cell_type": "code",
   "execution_count": 484,
   "id": "b8a421b5",
   "metadata": {},
   "outputs": [
    {
     "name": "stderr",
     "output_type": "stream",
     "text": [
      "100%|██████████| 10000/10000 [02:54<00:00, 57.24it/s, init loss: 396.9684, avg. loss [9501-10000]: -1135.4812]\n"
     ]
    }
   ],
   "source": [
    "optimizer = numpyro.optim.Adam(step_size=0.001)\n",
    "svi = SVI(model, guide, optimizer, loss=Trace_ELBO())\n",
    "nsteps = 10000\n",
    "svi_result = svi.run(key, nsteps, y=Y, x=X)"
   ]
  },
  {
   "cell_type": "code",
   "execution_count": 485,
   "id": "55e484bf",
   "metadata": {},
   "outputs": [
    {
     "data": {
      "text/plain": [
       "[<matplotlib.lines.Line2D at 0x13c65b430>]"
      ]
     },
     "execution_count": 485,
     "metadata": {},
     "output_type": "execute_result"
    },
    {
     "data": {
      "image/png": "[encoded data removed]",
      "text/plain": [
       "<Figure size 432x288 with 1 Axes>"
      ]
     },
     "metadata": {
      "needs_background": "light"
     },
     "output_type": "display_data"
    }
   ],
   "source": [
    "plt.plot(svi_result.losses)"
   ]
  },
  {
   "cell_type": "code",
   "execution_count": 489,
   "id": "aaeef69f",
   "metadata": {},
   "outputs": [],
   "source": [
    "mu, _, _ = mvn_lstm.apply(x=X[:, [7, 8], :], params=svi_result.params['nn$params'], rng=key)\n",
    "mu = sp.special.expit(mu)\n",
    "kappa = svi_result.params['kappa']\n",
    "\n",
    "y_hat = dist.Beta(mu * kappa, (1.0 - mu) * kappa).sample(key=key, sample_shape=(100,))"
   ]
  },
  {
   "cell_type": "code",
   "execution_count": 490,
   "id": "01bb1542",
   "metadata": {},
   "outputs": [
    {
     "data": {
      "text/plain": [
       "DeviceArray([[[0.5116768 , 0.45564407, 0.39077926, 0.44002435,\n",
       "               0.55618805, 0.5876524 , 0.5807626 , 0.5352073 ,\n",
       "               0.62738115, 0.5891144 , 0.5552356 ],\n",
       "              [0.5577751 , 0.43008792, 0.34625408, 0.3930017 ,\n",
       "               0.4893165 , 0.5326221 , 0.50485414, 0.480517  ,\n",
       "               0.50673676, 0.4915682 , 0.48918784]]], dtype=float32)"
      ]
     },
     "execution_count": 490,
     "metadata": {},
     "output_type": "execute_result"
    }
   ],
   "source": [
    "np.mean(y_hat, axis=0).T"
   ]
  },
  {
   "cell_type": "code",
   "execution_count": 491,
   "id": "abcef25d",
   "metadata": {},
   "outputs": [
    {
     "data": {
      "text/plain": [
       "DeviceArray([[[0.5274602 , 0.48733214, 0.40046328, 0.4375881 ,\n",
       "               0.5519799 , 0.5862366 , 0.56740063, 0.53831506,\n",
       "               0.6263814 , 0.59446955, 0.55998623],\n",
       "              [0.526802  , 0.40949237, 0.34667587, 0.38747928,\n",
       "               0.48815218, 0.53154963, 0.4999539 , 0.4747632 ,\n",
       "               0.51417696, 0.50442255, 0.49381164]]], dtype=float32)"
      ]
     },
     "execution_count": 491,
     "metadata": {},
     "output_type": "execute_result"
    }
   ],
   "source": [
    "Y[:, [7, 8], :].T"
   ]
  },
  {
   "cell_type": "code",
   "execution_count": null,
   "id": "fd04387c",
   "metadata": {},
   "outputs": [],
   "source": []
  }
 ],
 "metadata": {
  "kernelspec": {
   "display_name": "Python (etudes-dev)",
   "language": "python",
   "name": "etudes-dev"
  },
  "language_info": {
   "codemirror_mode": {
    "name": "ipython",
    "version": 3
   },
   "file_extension": ".py",
   "mimetype": "text/x-python",
   "name": "python",
   "nbconvert_exporter": "python",
   "pygments_lexer": "ipython3",
   "version": "3.8.10"
  }
 },
 "nbformat": 4,
 "nbformat_minor": 5
}
