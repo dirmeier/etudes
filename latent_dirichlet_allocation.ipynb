{
 "cells": [
  {
   "cell_type": "markdown",
   "metadata": {},
   "source": [
    "# Latent Dirichlet Allocation\n",
    "\n",
    "Latent Dirichlet Allocation (LDA) formulates a hierachical model over collections of discrete data sets, for instance *words*, *documents* and *topics*. Following the [original paper](http://www.jmlr.org/papers/volume3/blei03a/blei03a.pdf) by David Blei:\n",
    "\n",
    "1) every word of a document derives from a finite mixture of topics,\n",
    "\n",
    "2) every topic is derived from an possibly infinite set of topics,\n",
    "\n",
    "3) every document is consists of by several topics.\n",
    "\n",
    "A *word* is the most basic unit of the data set, represented by a categorial variable and belonging to a vocabulary of size $W$. A *document*  $\\mathbf{D}$ is a sequence of $N$ words, i.e. a $N$-dimensional vector of categorical variables.\n",
    "A *corpus* $\\mathbf{C}$ is a collection of $D$ documents, i.e. a binary $(D \\times N)-$dimensional matrix. The goal of LDA is to infer topic probabilities for single words for a set of topics of size $T$.\n",
    "\n",
    "In this notebook we implement a Gibbs sampler for inferring the distribution over the parameters following Kevin Murphy's [book](https://mitpress.mit.edu/books/machine-learning-1) and the [original paper](http://www.jmlr.org/papers/volume3/blei03a/blei03a.pdf)."
   ]
  },
  {
   "cell_type": "markdown",
   "metadata": {},
   "source": [
    "LDA defines the following hierarchical Bayesian model for a corpus of documents:\n",
    "\n",
    "\\begin{align*}\n",
    "\\boldsymbol \\pi_d & \\sim \\text{Dirichlet}_T(\\alpha, \\dots, \\alpha) \\\\\n",
    "\\boldsymbol \\phi_t & \\sim \\text{Dirichlet}_W(\\gamma, \\dots, \\gamma) \\\\\n",
    "z_{di} \\mid \\boldsymbol \\pi_d & \\sim \\text{Categorical}(\\boldsymbol \\pi_d) \\\\\n",
    "x_{di} \\mid z_{di} = t & \\sim \\text{Categorical}(\\boldsymbol \\phi_t)\n",
    "\\end{align*}\n",
    "\n",
    "The variables represent:\n",
    "* $d$ indexes a document\n",
    "* $T$ is the number of different topics\n",
    "* $\\boldsymbol \\pi_d \\in R_+^T$ are probabilities for each topic in document $d$\n",
    "* $t$ indexes a topic\n",
    "* $W$ is the number of different words in the vocabulary\n",
    "* $\\boldsymbol \\phi_t \\in R_+^W$ are probabilities for different words for topic $t$\n",
    "* $i$ indexes the $i$th word in a document $d$\n",
    "* $z_{di}$ is the latent topic of the $i$th word in document $d$\n",
    "* $x_{di}$ is the $i$th word in document $d$"
   ]
  },
  {
   "cell_type": "markdown",
   "metadata": {},
   "source": [
    "This inspires a very simple Gibbs sampler which we can use to infer the probabilities and the latent topics. Following Murphy's book, i.e. equations (27.30), (27.31) and (27.32):\n",
    "\n",
    "1) Compute $P(z_{di} = t \\mid \\dots) \\propto \\exp \\left( \\log \\pi_{dt} + \\log \\phi_{t, x_{di}} \\right)$ and sample topics proportionally from $P(z_{di})$.\n",
    "\n",
    "2) Compute $P(\\boldsymbol \\pi_d \\mid \\dots) = \\text{Dirichlet}\\left(\\left\\{ \\alpha_t + \\sum_i \\mathbb{I}(z_{di} = t )\\right\\} \\right)$\n",
    "\n",
    "3) Compute $P(\\boldsymbol \\phi_t \\mid \\dots) = \\text{Dirichlet}\\left(\\left\\{ \\gamma_w + \\sum_d \\sum_i \\mathbb{I}(x_{di} = w, z_{di} = t) \\right\\} \\right)$\n",
    "\n",
    "where $w$ is a specific word in the vocabulary."
   ]
  },
  {
   "cell_type": "markdown",
   "metadata": {},
   "source": [
    "Let' implement this. First we load a bunch of libraries, we will use."
   ]
  },
  {
   "cell_type": "code",
   "execution_count": 1,
   "metadata": {},
   "outputs": [
    {
     "name": "stderr",
     "output_type": "stream",
     "text": [
      "Warning message:\n",
      "“package ‘dplyr’ was built under R version 3.5.1”"
     ]
    }
   ],
   "source": [
    "library(readr)\n",
    "library(stringr)\n",
    "library(tidyr)\n",
    "library(tokenizers)\n",
    "library(gutenbergr)\n",
    "library(tidytext)\n",
    "library(e1071)\n",
    "suppressMessages(library(MCMCpack))\n",
    "suppressMessages(library(dplyr))\n",
    "suppressMessages(library(ggplot2))"
   ]
  },
  {
   "cell_type": "markdown",
   "metadata": {},
   "source": [
    "We will use some of Aeschylus' works from the Gutenberg corpus. He has four different plays/series:"
   ]
  },
  {
   "cell_type": "code",
   "execution_count": 2,
   "metadata": {},
   "outputs": [
    {
     "data": {
      "text/html": [
       "<table>\n",
       "<thead><tr><th scope=col>gutenberg_id</th><th scope=col>title</th><th scope=col>author</th><th scope=col>gutenberg_author_id</th><th scope=col>language</th><th scope=col>gutenberg_bookshelf</th><th scope=col>rights</th><th scope=col>has_text</th></tr></thead>\n",
       "<tbody>\n",
       "\t<tr><td> 8604                                                                                     </td><td>The House of Atreus; Being the Agamemnon, the Libation bearers, and the Furies            </td><td>Aeschylus                                                                                 </td><td>2825                                                                                      </td><td>en                                                                                        </td><td>Harvard Classics/Classical Antiquity                                                      </td><td>Public domain in the USA.                                                                 </td><td>TRUE                                                                                      </td></tr>\n",
       "\t<tr><td> 8714                                                                                     </td><td>Four Plays of Aeschylus                                                                   </td><td>Aeschylus                                                                                 </td><td>2825                                                                                      </td><td>en                                                                                        </td><td>Classical Antiquity                                                                       </td><td>Public domain in the USA.                                                                 </td><td>TRUE                                                                                      </td></tr>\n",
       "\t<tr><td>14417                                                                                     </td><td>The Agamemnon of Aeschylus\r\n",
       "Translated into English Rhyming Verse with Explanatory Notes</td><td>Aeschylus                                                                                 </td><td>2825                                                                                      </td><td>en                                                                                        </td><td>Classical Antiquity/Harvard Classics                                                      </td><td>Public domain in the USA.                                                                 </td><td>TRUE                                                                                      </td></tr>\n",
       "\t<tr><td>27458                                                                                     </td><td>Aeschylus' Prometheus Bound and the Seven Against Thebes                                  </td><td>Aeschylus                                                                                 </td><td>2825                                                                                      </td><td>en                                                                                        </td><td>NA                                                                                        </td><td>Public domain in the USA.                                                                 </td><td>TRUE                                                                                      </td></tr>\n",
       "</tbody>\n",
       "</table>\n"
      ],
      "text/latex": [
       "\\begin{tabular}{r|llllllll}\n",
       " gutenberg\\_id & title & author & gutenberg\\_author\\_id & language & gutenberg\\_bookshelf & rights & has\\_text\\\\\n",
       "\\hline\n",
       "\t  8604                                                                                      & The House of Atreus; Being the Agamemnon, the Libation bearers, and the Furies             & Aeschylus                                                                                  & 2825                                                                                       & en                                                                                         & Harvard Classics/Classical Antiquity                                                       & Public domain in the USA.                                                                  & TRUE                                                                                      \\\\\n",
       "\t  8714                                                                                      & Four Plays of Aeschylus                                                                    & Aeschylus                                                                                  & 2825                                                                                       & en                                                                                         & Classical Antiquity                                                                        & Public domain in the USA.                                                                  & TRUE                                                                                      \\\\\n",
       "\t 14417                                                                                      & The Agamemnon of Aeschylus\r\n",
       "Translated into English Rhyming Verse with Explanatory Notes & Aeschylus                                                                                  & 2825                                                                                       & en                                                                                         & Classical Antiquity/Harvard Classics                                                       & Public domain in the USA.                                                                  & TRUE                                                                                      \\\\\n",
       "\t 27458                                                                                      & Aeschylus' Prometheus Bound and the Seven Against Thebes                                   & Aeschylus                                                                                  & 2825                                                                                       & en                                                                                         & NA                                                                                         & Public domain in the USA.                                                                  & TRUE                                                                                      \\\\\n",
       "\\end{tabular}\n"
      ],
      "text/markdown": [
       "\n",
       "gutenberg_id | title | author | gutenberg_author_id | language | gutenberg_bookshelf | rights | has_text | \n",
       "|---|---|---|---|\n",
       "|  8604                                                                                      | The House of Atreus; Being the Agamemnon, the Libation bearers, and the Furies             | Aeschylus                                                                                  | 2825                                                                                       | en                                                                                         | Harvard Classics/Classical Antiquity                                                       | Public domain in the USA.                                                                  | TRUE                                                                                       | \n",
       "|  8714                                                                                      | Four Plays of Aeschylus                                                                    | Aeschylus                                                                                  | 2825                                                                                       | en                                                                                         | Classical Antiquity                                                                        | Public domain in the USA.                                                                  | TRUE                                                                                       | \n",
       "| 14417                                                                                      | The Agamemnon of Aeschylus\r\n",
       "Translated into English Rhyming Verse with Explanatory Notes | Aeschylus                                                                                  | 2825                                                                                       | en                                                                                         | Classical Antiquity/Harvard Classics                                                       | Public domain in the USA.                                                                  | TRUE                                                                                       | \n",
       "| 27458                                                                                      | Aeschylus' Prometheus Bound and the Seven Against Thebes                                   | Aeschylus                                                                                  | 2825                                                                                       | en                                                                                         | NA                                                                                         | Public domain in the USA.                                                                  | TRUE                                                                                       | \n",
       "\n",
       "\n"
      ],
      "text/plain": [
       "  gutenberg_id\n",
       "1  8604       \n",
       "2  8714       \n",
       "3 14417       \n",
       "4 27458       \n",
       "  title                                                                                     \n",
       "1 The House of Atreus; Being the Agamemnon, the Libation bearers, and the Furies            \n",
       "2 Four Plays of Aeschylus                                                                   \n",
       "3 The Agamemnon of Aeschylus\\r\\nTranslated into English Rhyming Verse with Explanatory Notes\n",
       "4 Aeschylus' Prometheus Bound and the Seven Against Thebes                                  \n",
       "  author    gutenberg_author_id language gutenberg_bookshelf                 \n",
       "1 Aeschylus 2825                en       Harvard Classics/Classical Antiquity\n",
       "2 Aeschylus 2825                en       Classical Antiquity                 \n",
       "3 Aeschylus 2825                en       Classical Antiquity/Harvard Classics\n",
       "4 Aeschylus 2825                en       NA                                  \n",
       "  rights                    has_text\n",
       "1 Public domain in the USA. TRUE    \n",
       "2 Public domain in the USA. TRUE    \n",
       "3 Public domain in the USA. TRUE    \n",
       "4 Public domain in the USA. TRUE    "
      ]
     },
     "metadata": {},
     "output_type": "display_data"
    }
   ],
   "source": [
    "gutenberg_works(str_detect(author, \"Aeschylus\")) "
   ]
  },
  {
   "cell_type": "markdown",
   "metadata": {},
   "source": [
    "We can easily download the text using `gutenberg_download`:"
   ]
  },
  {
   "cell_type": "code",
   "execution_count": 3,
   "metadata": {},
   "outputs": [
    {
     "name": "stderr",
     "output_type": "stream",
     "text": [
      "Determining mirror for Project Gutenberg from http://www.gutenberg.org/robot/harvest\n",
      "Using mirror http://aleph.gutenberg.org\n"
     ]
    }
   ],
   "source": [
    "books <- gutenberg_works(str_detect(author, \"Aeschylus\")) %>% \n",
    "    pull(gutenberg_id) %>%\n",
    "    gutenberg_download()"
   ]
  },
  {
   "cell_type": "markdown",
   "metadata": {},
   "source": [
    "To make LDA work, we unnest the single words in each document, and take the most five frequent ones per document."
   ]
  },
  {
   "cell_type": "code",
   "execution_count": 4,
   "metadata": {},
   "outputs": [
    {
     "name": "stderr",
     "output_type": "stream",
     "text": [
      "Selecting by count\n"
     ]
    }
   ],
   "source": [
    "highest_wordcount <- books %>%\n",
    "    unnest_tokens(word, text) %>%\n",
    "    group_by(gutenberg_id, word) %>%\n",
    "    summarize(count = n()) %>%\n",
    "    filter(str_length(word) > 5) %>%    \n",
    "    group_by(gutenberg_id) %>%\n",
    "    arrange(desc(count)) %>%\n",
    "    top_n(5) %>%\n",
    "    arrange(gutenberg_id, desc(count)) %>%\n",
    "    select(-count)"
   ]
  },
  {
   "cell_type": "markdown",
   "metadata": {},
   "source": [
    "Then we factorize the words giving them numeric labels, since we consider a word to be a sample from a categorical distribution."
   ]
  },
  {
   "cell_type": "code",
   "execution_count": 5,
   "metadata": {},
   "outputs": [
    {
     "data": {
      "text/html": [
       "<table>\n",
       "<thead><tr><th scope=col>gutenberg_id</th><th scope=col>word</th><th scope=col>idx</th></tr></thead>\n",
       "<tbody>\n",
       "\t<tr><td> 8604       </td><td>chorus      </td><td>2           </td></tr>\n",
       "\t<tr><td> 8604       </td><td>orestes     </td><td>5           </td></tr>\n",
       "\t<tr><td> 8604       </td><td>clytemnestra</td><td>3           </td></tr>\n",
       "\t<tr><td> 8604       </td><td>apollo      </td><td>1           </td></tr>\n",
       "\t<tr><td> 8604       </td><td>electra     </td><td>4           </td></tr>\n",
       "\t<tr><td> 8714       </td><td>chorus      </td><td>2           </td></tr>\n",
       "\t<tr><td> 8714       </td><td>prometheus  </td><td>4           </td></tr>\n",
       "\t<tr><td> 8714       </td><td>xerxes      </td><td>5           </td></tr>\n",
       "\t<tr><td> 8714       </td><td>against     </td><td>1           </td></tr>\n",
       "\t<tr><td> 8714       </td><td>eteocles    </td><td>3           </td></tr>\n",
       "\t<tr><td>14417       </td><td>clytemnestra</td><td>3           </td></tr>\n",
       "\t<tr><td>14417       </td><td>leader      </td><td>4           </td></tr>\n",
       "\t<tr><td>14417       </td><td>cassandra   </td><td>2           </td></tr>\n",
       "\t<tr><td>14417       </td><td>agamemnon   </td><td>1           </td></tr>\n",
       "\t<tr><td>14417       </td><td>through     </td><td>5           </td></tr>\n",
       "\t<tr><td>27458       </td><td>against     </td><td>1           </td></tr>\n",
       "\t<tr><td>27458       </td><td>prometheus  </td><td>5           </td></tr>\n",
       "\t<tr><td>27458       </td><td>jupiter     </td><td>3           </td></tr>\n",
       "\t<tr><td>27458       </td><td>having      </td><td>2           </td></tr>\n",
       "\t<tr><td>27458       </td><td>mortals     </td><td>4           </td></tr>\n",
       "</tbody>\n",
       "</table>\n"
      ],
      "text/latex": [
       "\\begin{tabular}{r|lll}\n",
       " gutenberg\\_id & word & idx\\\\\n",
       "\\hline\n",
       "\t  8604        & chorus       & 2           \\\\\n",
       "\t  8604        & orestes      & 5           \\\\\n",
       "\t  8604        & clytemnestra & 3           \\\\\n",
       "\t  8604        & apollo       & 1           \\\\\n",
       "\t  8604        & electra      & 4           \\\\\n",
       "\t  8714        & chorus       & 2           \\\\\n",
       "\t  8714        & prometheus   & 4           \\\\\n",
       "\t  8714        & xerxes       & 5           \\\\\n",
       "\t  8714        & against      & 1           \\\\\n",
       "\t  8714        & eteocles     & 3           \\\\\n",
       "\t 14417        & clytemnestra & 3           \\\\\n",
       "\t 14417        & leader       & 4           \\\\\n",
       "\t 14417        & cassandra    & 2           \\\\\n",
       "\t 14417        & agamemnon    & 1           \\\\\n",
       "\t 14417        & through      & 5           \\\\\n",
       "\t 27458        & against      & 1           \\\\\n",
       "\t 27458        & prometheus   & 5           \\\\\n",
       "\t 27458        & jupiter      & 3           \\\\\n",
       "\t 27458        & having       & 2           \\\\\n",
       "\t 27458        & mortals      & 4           \\\\\n",
       "\\end{tabular}\n"
      ],
      "text/markdown": [
       "\n",
       "gutenberg_id | word | idx | \n",
       "|---|---|---|---|---|---|---|---|---|---|---|---|---|---|---|---|---|---|---|---|\n",
       "|  8604        | chorus       | 2            | \n",
       "|  8604        | orestes      | 5            | \n",
       "|  8604        | clytemnestra | 3            | \n",
       "|  8604        | apollo       | 1            | \n",
       "|  8604        | electra      | 4            | \n",
       "|  8714        | chorus       | 2            | \n",
       "|  8714        | prometheus   | 4            | \n",
       "|  8714        | xerxes       | 5            | \n",
       "|  8714        | against      | 1            | \n",
       "|  8714        | eteocles     | 3            | \n",
       "| 14417        | clytemnestra | 3            | \n",
       "| 14417        | leader       | 4            | \n",
       "| 14417        | cassandra    | 2            | \n",
       "| 14417        | agamemnon    | 1            | \n",
       "| 14417        | through      | 5            | \n",
       "| 27458        | against      | 1            | \n",
       "| 27458        | prometheus   | 5            | \n",
       "| 27458        | jupiter      | 3            | \n",
       "| 27458        | having       | 2            | \n",
       "| 27458        | mortals      | 4            | \n",
       "\n",
       "\n"
      ],
      "text/plain": [
       "   gutenberg_id word         idx\n",
       "1   8604        chorus       2  \n",
       "2   8604        orestes      5  \n",
       "3   8604        clytemnestra 3  \n",
       "4   8604        apollo       1  \n",
       "5   8604        electra      4  \n",
       "6   8714        chorus       2  \n",
       "7   8714        prometheus   4  \n",
       "8   8714        xerxes       5  \n",
       "9   8714        against      1  \n",
       "10  8714        eteocles     3  \n",
       "11 14417        clytemnestra 3  \n",
       "12 14417        leader       4  \n",
       "13 14417        cassandra    2  \n",
       "14 14417        agamemnon    1  \n",
       "15 14417        through      5  \n",
       "16 27458        against      1  \n",
       "17 27458        prometheus   5  \n",
       "18 27458        jupiter      3  \n",
       "19 27458        having       2  \n",
       "20 27458        mortals      4  "
      ]
     },
     "metadata": {},
     "output_type": "display_data"
    }
   ],
   "source": [
    "highest_wordcount <- highest_wordcount %>%\n",
    "    mutate(idx = factor(word, \n",
    "            levels = sort(unique(word)), \n",
    "            labels = as.character(seq(unique(word)))))\n",
    "highest_wordcount"
   ]
  },
  {
   "cell_type": "markdown",
   "metadata": {},
   "source": [
    "To be able to work with the data, we cast the numeric words as a $N \\times W$ matrix. An element $ij$ in the matrix represents a specific word $w$ in document $i$ at position $j$."
   ]
  },
  {
   "cell_type": "code",
   "execution_count": 6,
   "metadata": {},
   "outputs": [
    {
     "data": {
      "text/html": [
       "<table>\n",
       "<tbody>\n",
       "\t<tr><td>2</td><td>5</td><td>3</td><td>1</td><td>4</td></tr>\n",
       "\t<tr><td>2</td><td>4</td><td>5</td><td>1</td><td>3</td></tr>\n",
       "\t<tr><td>3</td><td>4</td><td>2</td><td>1</td><td>5</td></tr>\n",
       "\t<tr><td>1</td><td>5</td><td>3</td><td>2</td><td>4</td></tr>\n",
       "</tbody>\n",
       "</table>\n"
      ],
      "text/latex": [
       "\\begin{tabular}{lllll}\n",
       "\t 2 & 5 & 3 & 1 & 4\\\\\n",
       "\t 2 & 4 & 5 & 1 & 3\\\\\n",
       "\t 3 & 4 & 2 & 1 & 5\\\\\n",
       "\t 1 & 5 & 3 & 2 & 4\\\\\n",
       "\\end{tabular}\n"
      ],
      "text/markdown": [
       "\n",
       "| 2 | 5 | 3 | 1 | 4 | \n",
       "| 2 | 4 | 5 | 1 | 3 | \n",
       "| 3 | 4 | 2 | 1 | 5 | \n",
       "| 1 | 5 | 3 | 2 | 4 | \n",
       "\n",
       "\n"
      ],
      "text/plain": [
       "     [,1] [,2] [,3] [,4] [,5]\n",
       "[1,] 2    5    3    1    4   \n",
       "[2,] 2    4    5    1    3   \n",
       "[3,] 3    4    2    1    5   \n",
       "[4,] 1    5    3    2    4   "
      ]
     },
     "metadata": {},
     "output_type": "display_data"
    }
   ],
   "source": [
    "X <- matrix(as.integer(highest_wordcount$idx), byrow = T, ncol = 5)\n",
    "X"
   ]
  },
  {
   "cell_type": "markdown",
   "metadata": {},
   "source": [
    "Set number of words and documents from the matrix. Then set the number of topics and hyperparameters."
   ]
  },
  {
   "cell_type": "code",
   "execution_count": 7,
   "metadata": {},
   "outputs": [],
   "source": [
    "n_w <- ncol(X)\n",
    "n_d <- nrow(X)\n",
    "n_t <- 3\n",
    "alpha <- 1\n",
    "gamma <- 1"
   ]
  },
  {
   "cell_type": "markdown",
   "metadata": {},
   "source": [
    "Randomly initialize topics  `Z` for every word, topic probabilities for every document `pis` and word probabilities `phis` for every document."
   ]
  },
  {
   "cell_type": "code",
   "execution_count": 8,
   "metadata": {},
   "outputs": [
    {
     "data": {
      "text/html": [
       "<table>\n",
       "<tbody>\n",
       "\t<tr><td>1</td><td>1</td><td>3</td><td>2</td><td>1</td></tr>\n",
       "\t<tr><td>1</td><td>3</td><td>3</td><td>2</td><td>2</td></tr>\n",
       "\t<tr><td>3</td><td>3</td><td>3</td><td>2</td><td>1</td></tr>\n",
       "\t<tr><td>3</td><td>3</td><td>1</td><td>1</td><td>3</td></tr>\n",
       "</tbody>\n",
       "</table>\n"
      ],
      "text/latex": [
       "\\begin{tabular}{lllll}\n",
       "\t 1 & 1 & 3 & 2 & 1\\\\\n",
       "\t 1 & 3 & 3 & 2 & 2\\\\\n",
       "\t 3 & 3 & 3 & 2 & 1\\\\\n",
       "\t 3 & 3 & 1 & 1 & 3\\\\\n",
       "\\end{tabular}\n"
      ],
      "text/markdown": [
       "\n",
       "| 1 | 1 | 3 | 2 | 1 | \n",
       "| 1 | 3 | 3 | 2 | 2 | \n",
       "| 3 | 3 | 3 | 2 | 1 | \n",
       "| 3 | 3 | 1 | 1 | 3 | \n",
       "\n",
       "\n"
      ],
      "text/plain": [
       "     [,1] [,2] [,3] [,4] [,5]\n",
       "[1,] 1    1    3    2    1   \n",
       "[2,] 1    3    3    2    2   \n",
       "[3,] 3    3    3    2    1   \n",
       "[4,] 3    3    1    1    3   "
      ]
     },
     "metadata": {},
     "output_type": "display_data"
    }
   ],
   "source": [
    "(Z = matrix(rdiscrete(n_d * n_w, rep(1, n_t) / n_t), n_d, n_w))"
   ]
  },
  {
   "cell_type": "code",
   "execution_count": 9,
   "metadata": {},
   "outputs": [
    {
     "data": {
      "text/html": [
       "<table>\n",
       "<tbody>\n",
       "\t<tr><td>0.9302511 </td><td>0.05701714</td><td>0.01273178</td></tr>\n",
       "\t<tr><td>0.3224238 </td><td>0.18612333</td><td>0.49145283</td></tr>\n",
       "\t<tr><td>0.2357121 </td><td>0.68304726</td><td>0.08124062</td></tr>\n",
       "\t<tr><td>0.4506294 </td><td>0.22428531</td><td>0.32508530</td></tr>\n",
       "</tbody>\n",
       "</table>\n"
      ],
      "text/latex": [
       "\\begin{tabular}{lll}\n",
       "\t 0.9302511  & 0.05701714 & 0.01273178\\\\\n",
       "\t 0.3224238  & 0.18612333 & 0.49145283\\\\\n",
       "\t 0.2357121  & 0.68304726 & 0.08124062\\\\\n",
       "\t 0.4506294  & 0.22428531 & 0.32508530\\\\\n",
       "\\end{tabular}\n"
      ],
      "text/markdown": [
       "\n",
       "| 0.9302511  | 0.05701714 | 0.01273178 | \n",
       "| 0.3224238  | 0.18612333 | 0.49145283 | \n",
       "| 0.2357121  | 0.68304726 | 0.08124062 | \n",
       "| 0.4506294  | 0.22428531 | 0.32508530 | \n",
       "\n",
       "\n"
      ],
      "text/plain": [
       "     [,1]      [,2]       [,3]      \n",
       "[1,] 0.9302511 0.05701714 0.01273178\n",
       "[2,] 0.3224238 0.18612333 0.49145283\n",
       "[3,] 0.2357121 0.68304726 0.08124062\n",
       "[4,] 0.4506294 0.22428531 0.32508530"
      ]
     },
     "metadata": {},
     "output_type": "display_data"
    }
   ],
   "source": [
    "(pis <- rdirichlet(n_d, gamma * rep(1, n_t)))"
   ]
  },
  {
   "cell_type": "code",
   "execution_count": 10,
   "metadata": {},
   "outputs": [
    {
     "data": {
      "text/html": [
       "<table>\n",
       "<tbody>\n",
       "\t<tr><td>0.35637527 </td><td>0.1359131  </td><td>0.15128208 </td><td>0.00767479 </td><td>0.348754780</td></tr>\n",
       "\t<tr><td>0.12236014 </td><td>0.6312567  </td><td>0.08802502 </td><td>0.15100464 </td><td>0.007353506</td></tr>\n",
       "\t<tr><td>0.01543302 </td><td>0.1861434  </td><td>0.44063488 </td><td>0.30611614 </td><td>0.051672516</td></tr>\n",
       "</tbody>\n",
       "</table>\n"
      ],
      "text/latex": [
       "\\begin{tabular}{lllll}\n",
       "\t 0.35637527  & 0.1359131   & 0.15128208  & 0.00767479  & 0.348754780\\\\\n",
       "\t 0.12236014  & 0.6312567   & 0.08802502  & 0.15100464  & 0.007353506\\\\\n",
       "\t 0.01543302  & 0.1861434   & 0.44063488  & 0.30611614  & 0.051672516\\\\\n",
       "\\end{tabular}\n"
      ],
      "text/markdown": [
       "\n",
       "| 0.35637527  | 0.1359131   | 0.15128208  | 0.00767479  | 0.348754780 | \n",
       "| 0.12236014  | 0.6312567   | 0.08802502  | 0.15100464  | 0.007353506 | \n",
       "| 0.01543302  | 0.1861434   | 0.44063488  | 0.30611614  | 0.051672516 | \n",
       "\n",
       "\n"
      ],
      "text/plain": [
       "     [,1]       [,2]      [,3]       [,4]       [,5]       \n",
       "[1,] 0.35637527 0.1359131 0.15128208 0.00767479 0.348754780\n",
       "[2,] 0.12236014 0.6312567 0.08802502 0.15100464 0.007353506\n",
       "[3,] 0.01543302 0.1861434 0.44063488 0.30611614 0.051672516"
      ]
     },
     "metadata": {},
     "output_type": "display_data"
    }
   ],
   "source": [
    "(phis <- rdirichlet(n_t, gamma * rep(1, n_w)))"
   ]
  },
  {
   "cell_type": "markdown",
   "metadata": {},
   "source": [
    "Then we use the Gibbs sampler from above to infer the posteriors. I maximize the topic assignments here, such that we get the MAP for them."
   ]
  },
  {
   "cell_type": "code",
   "execution_count": 11,
   "metadata": {},
   "outputs": [],
   "source": [
    "set.seed(23)\n",
    "for (iter in seq(100)) {\n",
    "    # sample from full conditional P(Z_di | ...) according to Murphy eqn. (27.30)\n",
    "    # iterate over all documents and words in documents z_il\n",
    "    for (d in seq(n_d)) {\n",
    "        for (i in seq(n_w)) {\n",
    "            p <- exp(log(pis[d, ]) + log(phis[, X[d, i]]))\n",
    "            p <- p / sum(p)\n",
    "            Z[d, i] <- which.max(rdirichlet(1, p))\n",
    "        }\n",
    "    }\n",
    "    # sample from full conditional P(pi_i | ...) according to Murphy eqn. (27.31)\n",
    "    # iterate over all document probability vectors pi_d\n",
    "    for (d in seq(n_d)) {\n",
    "        # compute the inner sum in (27.31)\n",
    "        n <- sapply(seq(n_t), function(t) sum(Z[d, ] == t))\n",
    "        pis[d, ] <- rdirichlet(1, alpha + n)\n",
    "    }\n",
    "               \n",
    "    # sample from full conditional P(phi_i | ...) according to Murphy eqn. (27.32)\n",
    "    # iterate over all topics\n",
    "    for (t in seq(n_t)) {\n",
    "        n <- rep(0, n_w)\n",
    "        # iterate over all words w\n",
    "        for (w in seq(n_w)) {\n",
    "            # compute inner sums in (27.32)\n",
    "            for (d in seq(n_d)) {\n",
    "                # we could vectorize this loop but that only confuses here I think\n",
    "                for (i in seq(n_w)) {\n",
    "                    n[w] <- n[w] + sum(X[d, i] == w & Z[d, i] == t)\n",
    "                }\n",
    "            }\n",
    "        }\n",
    "        phis[t, ] <- rdirichlet(1, gamma + n)\n",
    "    }\n",
    "}"
   ]
  },
  {
   "cell_type": "markdown",
   "metadata": {},
   "source": [
    "Let's look at the posterior of topic probabilities per document:"
   ]
  },
  {
   "cell_type": "code",
   "execution_count": 12,
   "metadata": {},
   "outputs": [
    {
     "data": {
      "text/html": [
       "<table>\n",
       "<tbody>\n",
       "\t<tr><td>0.2818161 </td><td>0.32844979</td><td>0.3897341 </td></tr>\n",
       "\t<tr><td>0.0440834 </td><td>0.72585345</td><td>0.2300631 </td></tr>\n",
       "\t<tr><td>0.6615493 </td><td>0.08696728</td><td>0.2514834 </td></tr>\n",
       "\t<tr><td>0.3553352 </td><td>0.01899738</td><td>0.6256674 </td></tr>\n",
       "</tbody>\n",
       "</table>\n"
      ],
      "text/latex": [
       "\\begin{tabular}{lll}\n",
       "\t 0.2818161  & 0.32844979 & 0.3897341 \\\\\n",
       "\t 0.0440834  & 0.72585345 & 0.2300631 \\\\\n",
       "\t 0.6615493  & 0.08696728 & 0.2514834 \\\\\n",
       "\t 0.3553352  & 0.01899738 & 0.6256674 \\\\\n",
       "\\end{tabular}\n"
      ],
      "text/markdown": [
       "\n",
       "| 0.2818161  | 0.32844979 | 0.3897341  | \n",
       "| 0.0440834  | 0.72585345 | 0.2300631  | \n",
       "| 0.6615493  | 0.08696728 | 0.2514834  | \n",
       "| 0.3553352  | 0.01899738 | 0.6256674  | \n",
       "\n",
       "\n"
      ],
      "text/plain": [
       "     [,1]      [,2]       [,3]     \n",
       "[1,] 0.2818161 0.32844979 0.3897341\n",
       "[2,] 0.0440834 0.72585345 0.2300631\n",
       "[3,] 0.6615493 0.08696728 0.2514834\n",
       "[4,] 0.3553352 0.01899738 0.6256674"
      ]
     },
     "metadata": {},
     "output_type": "display_data"
    }
   ],
   "source": [
    "pis"
   ]
  },
  {
   "cell_type": "markdown",
   "metadata": {},
   "source": [
    "And the word probabilities per topic:"
   ]
  },
  {
   "cell_type": "code",
   "execution_count": 13,
   "metadata": {},
   "outputs": [
    {
     "data": {
      "text/html": [
       "<table>\n",
       "<tbody>\n",
       "\t<tr><td>0.45056337</td><td>0.04313888</td><td>0.02708967</td><td>0.2670922 </td><td>0.21211588</td></tr>\n",
       "\t<tr><td>0.09159867</td><td>0.05220157</td><td>0.15878013</td><td>0.2966305 </td><td>0.40078912</td></tr>\n",
       "\t<tr><td>0.21627915</td><td>0.34577463</td><td>0.31874386</td><td>0.1159974 </td><td>0.00320497</td></tr>\n",
       "</tbody>\n",
       "</table>\n"
      ],
      "text/latex": [
       "\\begin{tabular}{lllll}\n",
       "\t 0.45056337 & 0.04313888 & 0.02708967 & 0.2670922  & 0.21211588\\\\\n",
       "\t 0.09159867 & 0.05220157 & 0.15878013 & 0.2966305  & 0.40078912\\\\\n",
       "\t 0.21627915 & 0.34577463 & 0.31874386 & 0.1159974  & 0.00320497\\\\\n",
       "\\end{tabular}\n"
      ],
      "text/markdown": [
       "\n",
       "| 0.45056337 | 0.04313888 | 0.02708967 | 0.2670922  | 0.21211588 | \n",
       "| 0.09159867 | 0.05220157 | 0.15878013 | 0.2966305  | 0.40078912 | \n",
       "| 0.21627915 | 0.34577463 | 0.31874386 | 0.1159974  | 0.00320497 | \n",
       "\n",
       "\n"
      ],
      "text/plain": [
       "     [,1]       [,2]       [,3]       [,4]      [,5]      \n",
       "[1,] 0.45056337 0.04313888 0.02708967 0.2670922 0.21211588\n",
       "[2,] 0.09159867 0.05220157 0.15878013 0.2966305 0.40078912\n",
       "[3,] 0.21627915 0.34577463 0.31874386 0.1159974 0.00320497"
      ]
     },
     "metadata": {},
     "output_type": "display_data"
    }
   ],
   "source": [
    "phis"
   ]
  },
  {
   "cell_type": "markdown",
   "metadata": {},
   "source": [
    "Finally, what we are actually interested in, the most probable topics for each word. We add the topics to the single words and plot them."
   ]
  },
  {
   "cell_type": "code",
   "execution_count": 14,
   "metadata": {},
   "outputs": [],
   "source": [
    "highest_wordcount$topic <- as.numeric(t(Z))"
   ]
  },
  {
   "cell_type": "code",
   "execution_count": 15,
   "metadata": {},
   "outputs": [
    {
     "data": {},
     "metadata": {},
     "output_type": "display_data"
    },
    {
     "data": {
      "image/png": "[encoded data removed]",
      "text/plain": [
       "plot without title"
      ]
     },
     "metadata": {},
     "output_type": "display_data"
    }
   ],
   "source": [
    "options(repr.plot.height=3)\n",
    "ggplot(highest_wordcount) +\n",
    "    geom_text(aes(as.factor(idx), as.factor(gutenberg_id), label=word, col=as.factor(topic))) +\n",
    "    theme_void() +\n",
    "    scale_x_discrete(\"Word\") +\n",
    "    scale_y_discrete(\"Document\") +\n",
    "    scale_color_discrete(\"Topic\")"
   ]
  }
 ],
 "metadata": {
  "kernelspec": {
   "display_name": "R",
   "language": "R",
   "name": "ir"
  },
  "language_info": {
   "codemirror_mode": "r",
   "file_extension": ".r",
   "mimetype": "text/x-r-source",
   "name": "R",
   "pygments_lexer": "r",
   "version": "4.0.0"
  }
 },
 "nbformat": 4,
 "nbformat_minor": 2
}
