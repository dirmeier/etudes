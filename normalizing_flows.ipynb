{
 "cells": [
  {
   "cell_type": "markdown",
   "metadata": {},
   "source": [
    "# Normalizing flows with TensorFlow Probability\n",
    "\n",
    "In this notebook we will implement a normalizing flow, the [masked autoregressive flow](http://papers.nips.cc/paper/6828-masked-autoregressive-flow-for-density-estimation), for density estimation using Tensorflow Probability. A useful review on recent trends on normalizing flows can be found [here](https://arxiv.org/abs/1912.02762). Feedback and comments are welcome!"
   ]
  },
  {
   "cell_type": "markdown",
   "metadata": {},
   "source": [
    "## Background\n",
    "\n",
    "Normalizing flows (NFs) transform simple *base distributions* into rich, complex families of distributions that can be used for density estimation, variational inference, reparameterization of MCMC, or data generation. NFs express the distribution of a random vector $\\mathbf{y} \\in \\mathbb{R}^p$ by applying a transformation $f$ to some random vector $\\mathbf{x}$ sampled from $P_X(\\mathbf{x})$:\n",
    "\n",
    "$$\\begin{align}\n",
    "\\mathbf{x} & \\sim P_Y(\\mathbf{x}) \\\\\n",
    "\\mathbf{y} &= f(\\mathbf{x})\n",
    "\\end{align}$$\n",
    "\n",
    "The defining property of normalizing flows is that the transformation $f$ is invertible as well as differentiable. In order for these two properties to hold, $\\mathbf{x}$ must have the same dimensionality as $\\mathbf{y}$. With these conditions, the density of $\\mathbf{y}$ is well-defined and reads as:\n",
    "\n",
    "$$\\begin{align}\n",
    "P_Y(\\mathbf{y}) & = P_X\\left(f^{-1}(\\mathbf{y})\\right)\\left|\\text{det} \\frac{\\partial f^{-1}}{\\partial \\mathbf{y}}\\right| \\\\\n",
    "& = P_X\\left(\\mathbf{x}\\right)  \\left| \\text{det} \\frac{\\partial f}{\\partial \\mathbf{x}}  \\right|^{-1}\n",
    "\\end{align}$$\n",
    "\n",
    "where $\\frac{\\partial f^{-1}}{\\partial \\mathbf{y}}$ is the $p \\times p$-dimensional Jacobian of $f^{-1}$ w.r.t. $\\mathbf{y}$. In practice the transformation $f$ consists of a series of invertible, differentiable functions $f_1, \\dots, f_K$:\n",
    "\n",
    "$$\n",
    "\\mathbf{y} = \\mathbf{x}_K = f_K \\circ \\dots f_2 \\circ f_1(\\mathbf{x}_0)\n",
    "$$\n",
    "\n",
    "The density of this transformation is given by:\n",
    "\n",
    "$$\\begin{align}\n",
    "P_Y(\\mathbf{y}) & = P_X\\left(\\mathbf{x}_0 \\right) \\prod_{k=1}^K \\left| \\text{det} \\frac{\\partial f_k}{\\partial \\mathbf{x}_{k - 1}}  \\right|^{-1}\n",
    "\\end{align}$$\n",
    "\n",
    "Computing the determinant of a Jacobian is cubic in $p$. In order to be able to use NFs in production, we would like to be able to efficiently compute the determinants of the Jacobians. Most approaches to NFs achieve that by constructing transformations which have triangular Jacobians for which the determinants can be computed in linear time."
   ]
  },
  {
   "cell_type": "markdown",
   "metadata": {},
   "source": [
    "[Masked autoregressive flows](http://papers.nips.cc/paper/6828-masked-autoregressive-flow-for-density-estimation) (MAFs) model the transformation of a sample $\\mathbf{x}$ of the base distribution $P_X$ autoregressively as\n",
    "\n",
    "$$\\begin{align}\n",
    "y_i &= f\\left(x_i\\right)\\\\\n",
    "y_i &= x_i  \\exp \\left( \\alpha_i \\right) + \\mu_i \\\\\\\\\n",
    "x_i &= f^{-1}\\left(y_i\\right)\\\\\n",
    "x_i &= \\left(y_i - \\mu_i \\right)  \\exp \\left( -\\alpha_i \\right)\n",
    "\\end{align}$$\n",
    "\n",
    "where $\\mu_i = f_{\\mu_i}\\left( \\mathbf{y}_{1:i-1}  \\right)$ and $\\alpha_i = f_{\\alpha_i}\\left( \\mathbf{y}_{1:i-1}  \\right)$ are two scalar functions. Due to the autoregressive structure the Jacobian of the inverse function $f^{-1}$ is lower triangular:\n",
    "\n",
    "$$\\begin{align}\n",
    "\\frac{\\partial f^{-1}}{\\partial \\mathbf{y}} = \\begin{pmatrix}\n",
    "\\exp(-\\alpha_1)&& \\mathbf{0}\\\\ \n",
    "&\\ddots&\\\\\n",
    "\\frac{\\partial f^{-1}_{2:p}}{\\partial \\mathbf{y}_{1:p}} && \\exp(-\\alpha_{2:p})\n",
    "\\end{pmatrix}\n",
    "\\end{align}$$\n",
    "\n",
    "such that the determinant is merely the product on the diagonal.\n",
    "\n",
    "In order to make $\\mathbf{y}$ have an autoregressive structure, the authors make use of the approach used by [MADE](https://arxiv.org/abs/1502.03509), i.e., an autoencoder that enforces the autoregressive property by multiplying binary masks with the weight matrices of the autoencoder."
   ]
  },
  {
   "cell_type": "markdown",
   "metadata": {},
   "source": [
    "## Implementation\n",
    "\n",
    "In the following we implement the *masked autoregressive flow* and *masked autoregressive distribution estimation* from scratch using TensorFlow Probability. We first load some required libraries."
   ]
  },
  {
   "cell_type": "code",
   "execution_count": 1,
   "metadata": {},
   "outputs": [],
   "source": [
    "import numpy as np\n",
    "import tensorflow as tf\n",
    "import tensorflow_probability as tfp\n",
    "\n",
    "%matplotlib inline\n",
    "import matplotlib.pyplot as plt\n",
    "import seaborn as sns\n",
    "\n",
    "tfk = tf.keras\n",
    "tfkl = tfk.layers\n",
    "tfd = tfp.distributions\n",
    "tfb = tfp.bijectors\n",
    "\n",
    "sns.set_style(\"white\")\n",
    "sns.set_context(\"notebook\")"
   ]
  },
  {
   "cell_type": "markdown",
   "metadata": {},
   "source": [
    "To implement a MAF, we first need to be able to compute the underlying autoencoder MADE. MADE uses binary masks to enforce autoregressive structure. To do that we first need to compute degree vectors which describe the maximum number of inputs an element $y_i$ can have."
   ]
  },
  {
   "cell_type": "code",
   "execution_count": 2,
   "metadata": {},
   "outputs": [],
   "source": [
    "def make_degrees(p, hidden_dims):\n",
    "    m = [tf.constant(range(1, p + 1))]\n",
    "    for dim in hidden_dims:                \n",
    "        n_min = min(np.min(m[-1]), p - 1)\n",
    "        degrees = (np.arange(dim) % max(1, p - 1) + min(1, p - 1))\n",
    "        degrees = tf.constant(degrees, dtype=\"int32\")\n",
    "        m.append(degrees)\n",
    "    return m"
   ]
  },
  {
   "cell_type": "code",
   "execution_count": 3,
   "metadata": {},
   "outputs": [
    {
     "data": {
      "text/plain": [
       "[<tf.Tensor: shape=(2,), dtype=int32, numpy=array([1, 2], dtype=int32)>,\n",
       " <tf.Tensor: shape=(4,), dtype=int32, numpy=array([1, 1, 1, 1], dtype=int32)>,\n",
       " <tf.Tensor: shape=(4,), dtype=int32, numpy=array([1, 1, 1, 1], dtype=int32)>]"
      ]
     },
     "execution_count": 3,
     "metadata": {},
     "output_type": "execute_result"
    }
   ],
   "source": [
    "make_degrees(2, [4, 4])"
   ]
  },
  {
   "cell_type": "markdown",
   "metadata": {},
   "source": [
    "From these we can compute the binary masks. We don't do that exactly as in the original publication for reason explained later."
   ]
  },
  {
   "cell_type": "code",
   "execution_count": 4,
   "metadata": {},
   "outputs": [],
   "source": [
    "def make_masks(degrees):\n",
    "    masks = [None] * len(degrees)\n",
    "    for i, (ind, outd) in enumerate(zip(degrees[:-1], degrees[1:])):\n",
    "        masks[i] = tf.cast(ind[:, tf.newaxis] <= outd, dtype=\"float32\")        \n",
    "    masks[-1] = tf.cast(degrees[-1][:, np.newaxis] < degrees[0], dtype=\"float32\")\n",
    "    return masks"
   ]
  },
  {
   "cell_type": "code",
   "execution_count": 5,
   "metadata": {},
   "outputs": [
    {
     "data": {
      "text/plain": [
       "[<tf.Tensor: shape=(2, 4), dtype=float32, numpy=\n",
       " array([[1., 1., 1., 1.],\n",
       "        [0., 0., 0., 0.]], dtype=float32)>,\n",
       " <tf.Tensor: shape=(4, 4), dtype=float32, numpy=\n",
       " array([[1., 1., 1., 1.],\n",
       "        [1., 1., 1., 1.],\n",
       "        [1., 1., 1., 1.],\n",
       "        [1., 1., 1., 1.]], dtype=float32)>,\n",
       " <tf.Tensor: shape=(4, 2), dtype=float32, numpy=\n",
       " array([[0., 1.],\n",
       "        [0., 1.],\n",
       "        [0., 1.],\n",
       "        [0., 1.]], dtype=float32)>]"
      ]
     },
     "execution_count": 5,
     "metadata": {},
     "output_type": "execute_result"
    }
   ],
   "source": [
    "make_masks(make_degrees(2, [4, 4]))"
   ]
  },
  {
   "cell_type": "markdown",
   "metadata": {},
   "source": [
    "In order to mask a weight matrix, we can use a Dense layer and apply a constraint (hence this way of encoding the mask and not as in the paper)."
   ]
  },
  {
   "cell_type": "code",
   "execution_count": 6,
   "metadata": {},
   "outputs": [],
   "source": [
    "def make_constraint(mask):    \n",
    "    def _constraint(x):\n",
    "        return mask * tf.identity(x)\n",
    "    return _constraint"
   ]
  },
  {
   "cell_type": "markdown",
   "metadata": {},
   "source": [
    "Likewise we initialize a layer using the same mask such that all elements that are being masked are initialized as zero."
   ]
  },
  {
   "cell_type": "code",
   "execution_count": 7,
   "metadata": {},
   "outputs": [],
   "source": [
    "def make_init(mask):\n",
    "    def _init(shape, dtype=None):\n",
    "        return mask * tf.keras.initializers.GlorotUniform(23)(shape)\n",
    "    return _init"
   ]
  },
  {
   "cell_type": "markdown",
   "metadata": {},
   "source": [
    "We build the autoencoder as a sequence of Keras layers. Since we are going to need two parameters for every component, i.e., to compute $y_i$ we need to compute $f_{\\mu_i}\\left(\\mathbf{y}_{1:i-1}\\right)$ and $f_{\\sigma_i}\\left(\\mathbf{y}_{1:i-1}\\right)$, we need the last layer to have $2p$ parameters."
   ]
  },
  {
   "cell_type": "code",
   "execution_count": 8,
   "metadata": {},
   "outputs": [],
   "source": [
    "def make_network(p, hidden_dims, params):\n",
    "    masks = make_masks(make_degrees(p, hidden_dims))    \n",
    "    masks[-1] = tf.tile(masks[-1][..., tf.newaxis], [1, 1, params])\n",
    "    masks[-1] = tf.reshape(masks[-1], [masks[-1].shape[0], p * params])\n",
    "    \n",
    "    network =  tf.keras.Sequential([\n",
    "        tf.keras.layers.InputLayer((p,))\n",
    "    ])\n",
    "    for dim, mask in zip(hidden_dims + [p * params], masks):\n",
    "        layer = tf.keras.layers.Dense(\n",
    "            dim,\n",
    "            kernel_constraint=make_constraint(mask),\n",
    "            kernel_initializer=make_init(mask),\n",
    "            activation=tf.nn.leaky_relu)\n",
    "        network.add(layer)    \n",
    "    network.add(tf.keras.layers.Reshape([p, params]))\n",
    "    \n",
    "    return network"
   ]
  },
  {
   "cell_type": "markdown",
   "metadata": {},
   "source": [
    "Let's test this:"
   ]
  },
  {
   "cell_type": "code",
   "execution_count": 9,
   "metadata": {},
   "outputs": [],
   "source": [
    "network = make_network(2, [5, 5], 2)"
   ]
  },
  {
   "cell_type": "code",
   "execution_count": 10,
   "metadata": {},
   "outputs": [
    {
     "data": {
      "text/plain": [
       "<tf.Tensor: shape=(5, 2, 2), dtype=float32, numpy=\n",
       "array([[[ 0.        ,  0.        ],\n",
       "        [-0.0100405 , -0.11566639]],\n",
       "\n",
       "       [[ 0.        ,  0.        ],\n",
       "        [-0.00342146, -0.03941514]],\n",
       "\n",
       "       [[ 0.        ,  0.        ],\n",
       "        [-0.00443012, -0.05103486]],\n",
       "\n",
       "       [[ 0.        ,  0.        ],\n",
       "        [ 0.01229642,  0.0715711 ]],\n",
       "\n",
       "       [[ 0.        ,  0.        ],\n",
       "        [-0.02501273, -0.2881463 ]]], dtype=float32)>"
      ]
     },
     "execution_count": 10,
     "metadata": {},
     "output_type": "execute_result"
    }
   ],
   "source": [
    "X = tfd.Normal(0.0, 1.0).sample([5, 2])\n",
    "network(X)"
   ]
  },
  {
   "cell_type": "code",
   "execution_count": 11,
   "metadata": {},
   "outputs": [
    {
     "data": {
      "text/plain": [
       "[<tf.Variable 'dense/kernel:0' shape=(2, 5) dtype=float32, numpy=\n",
       " array([[ 0.00807106,  0.19659626, -0.06663984, -0.8803604 , -0.7304889 ],\n",
       "        [ 0.        ,  0.        , -0.        ,  0.        , -0.        ]],\n",
       "       dtype=float32)>,\n",
       " <tf.Variable 'dense/bias:0' shape=(5,) dtype=float32, numpy=array([0., 0., 0., 0., 0.], dtype=float32)>,\n",
       " <tf.Variable 'dense_1/kernel:0' shape=(5, 5) dtype=float32, numpy=\n",
       " array([[ 0.00675279,  0.1644842 , -0.0557549 , -0.7365624 , -0.6111709 ],\n",
       "        [ 0.40250623,  0.05572373, -0.76719   ,  0.49726534, -0.27585092],\n",
       "        [-0.02227771,  0.29146564, -0.28983793, -0.23035765,  0.07482648],\n",
       "        [ 0.7334652 , -0.3744525 ,  0.5454862 ,  0.0286473 , -0.18208629],\n",
       "        [ 0.10813814,  0.31813288, -0.70827246, -0.39120227, -0.32971326]],\n",
       "       dtype=float32)>,\n",
       " <tf.Variable 'dense_1/bias:0' shape=(5,) dtype=float32, numpy=array([0., 0., 0., 0., 0.], dtype=float32)>,\n",
       " <tf.Variable 'dense_2/kernel:0' shape=(5, 4) dtype=float32, numpy=\n",
       " array([[ 0.        ,  0.        , -0.05877084, -0.7764049 ],\n",
       "        [-0.        ,  0.        ,  0.05873793, -0.80868924],\n",
       "        [ 0.        , -0.        , -0.0234828 ,  0.30723178],\n",
       "        [-0.        , -0.        ,  0.07887399,  0.7731402 ],\n",
       "        [-0.        ,  0.        ,  0.03019691, -0.19193578]],\n",
       "       dtype=float32)>,\n",
       " <tf.Variable 'dense_2/bias:0' shape=(4,) dtype=float32, numpy=array([0., 0., 0., 0.], dtype=float32)>]"
      ]
     },
     "execution_count": 11,
     "metadata": {},
     "output_type": "execute_result"
    }
   ],
   "source": [
    "network.trainable_variables"
   ]
  },
  {
   "cell_type": "markdown",
   "metadata": {},
   "source": [
    "In order to implement the normalizing flow, we can use TensorFlow Probability's Bijector API. To do that we create a class that inherits form `tfb.Bijector` and override functions for the forward transformation, its inverse and the determinant of the Jacobian. The inverse is easy to compute in a single pass. To sample from $P_Y$ requires performing $p$ sequential passes."
   ]
  },
  {
   "cell_type": "code",
   "execution_count": 12,
   "metadata": {},
   "outputs": [],
   "source": [
    "class MAF(tfb.Bijector):\n",
    "    def __init__(self, shift_and_log_scale_fn, name=\"maf\"):\n",
    "        super(MAF, self).__init__(forward_min_event_ndims=1, name=name)\n",
    "        self._shift_and_log_scale_fn = shift_and_log_scale_fn\n",
    "        \n",
    "    def _shift_and_log_scale(self, y):\n",
    "        params = self._shift_and_log_scale_fn(y)          \n",
    "        shift, log_scale = tf.unstack(params, num=2, axis=-1)\n",
    "        return shift, log_scale\n",
    "        \n",
    "    def _forward(self, x):\n",
    "        y = tf.zeros_like(x, dtype=tf.float32)\n",
    "        for i in range(x.shape[-1]):            \n",
    "            shift, log_scale = self._shift_and_log_scale(y)            \n",
    "            y = x * tf.math.exp(log_scale) + shift\n",
    "        return y\n",
    "\n",
    "    def _inverse(self, y):\n",
    "        shift, log_scale = self._shift_and_log_scale(y)\n",
    "        return (y - shift) * tf.math.exp(-log_scale)\n",
    "\n",
    "    def _inverse_log_det_jacobian(self, y):\n",
    "        _, log_scale = self._shift_and_log_scale(y)\n",
    "        return -tf.reduce_sum(log_scale, axis=self.forward_min_event_ndims)\n",
    "    "
   ]
  },
  {
   "cell_type": "markdown",
   "metadata": {},
   "source": [
    "That is all. The inverse and the determinant of its Jacobian are computed as described above. Let's test it."
   ]
  },
  {
   "cell_type": "code",
   "execution_count": 13,
   "metadata": {},
   "outputs": [
    {
     "data": {
      "text/plain": [
       "<tf.Tensor: shape=(5, 2), dtype=float32, numpy=\n",
       "array([[-1.0171334 ,  2.3280942 ],\n",
       "       [-0.34660408, -0.26917058],\n",
       "       [-0.44878423, -0.49025437],\n",
       "       [ 0.8056425 , -0.07196853],\n",
       "       [-2.5338662 ,  0.5456896 ]], dtype=float32)>"
      ]
     },
     "execution_count": 13,
     "metadata": {},
     "output_type": "execute_result"
    }
   ],
   "source": [
    "maf = MAF(make_network(2, [5, 5], 2))\n",
    "maf.forward(X)"
   ]
  },
  {
   "cell_type": "markdown",
   "metadata": {},
   "source": [
    "## Density estimation\n",
    "\n",
    "We will first test our MAF to estimate the density of the moon data set. We can sample from the moon density using `sklearn`."
   ]
  },
  {
   "cell_type": "code",
   "execution_count": 14,
   "metadata": {},
   "outputs": [],
   "source": [
    "from sklearn import cluster, datasets, mixture\n",
    "from sklearn.preprocessing import StandardScaler\n",
    "\n",
    "n = 10000\n",
    "X, _ = datasets.make_moons(n_samples=n, noise=.05)\n",
    "X = StandardScaler().fit_transform(X)"
   ]
  },
  {
   "cell_type": "code",
   "execution_count": 15,
   "metadata": {},
   "outputs": [
    {
     "data": {
      "image/png": "[encoded data removed]",
      "text/plain": [
       "<Figure size 432x288 with 1 Axes>"
      ]
     },
     "metadata": {},
     "output_type": "display_data"
    }
   ],
   "source": [
    "ax = sns.scatterplot(X[:, 0], X[:, 1], color=\"black\", marker='.', linewidth=0);\n",
    "sns.despine();"
   ]
  },
  {
   "cell_type": "markdown",
   "metadata": {},
   "source": [
    "We implement the NF by stacking several layers of MAF, i.e. multiple functions $f_i$, followed by a permutation of the components."
   ]
  },
  {
   "cell_type": "code",
   "execution_count": 16,
   "metadata": {},
   "outputs": [],
   "source": [
    "hidden_dim = [512, 512]  \n",
    "layers = 2\n",
    "bijectors = []\n",
    "for i in range(0, layers):\n",
    "    made = make_network(2, hidden_dim, 2)\n",
    "    bijectors.append(MAF(made))\n",
    "    bijectors.append(tfb.Permute(permutation=[1, 0])) \n",
    "    \n",
    "bijectors = tfb.Chain(bijectors=list(reversed(bijectors[:-1])))"
   ]
  },
  {
   "cell_type": "markdown",
   "metadata": {},
   "source": [
    "To sample and be able to compute the log probabilty of a transformation using an NF we wrap the chain of bijectors as `TransformedDistribution` with a standard normal as base distribution."
   ]
  },
  {
   "cell_type": "code",
   "execution_count": 17,
   "metadata": {},
   "outputs": [],
   "source": [
    "distribution = tfd.TransformedDistribution(\n",
    "    distribution=tfd.Normal(loc=0., scale=1.),\n",
    "    bijector=bijectors,\n",
    "    event_shape=[2]\n",
    ")"
   ]
  },
  {
   "cell_type": "markdown",
   "metadata": {},
   "source": [
    "To fit the density, we can again use TensorFlow's API with the negative log likelihood as loss function"
   ]
  },
  {
   "cell_type": "code",
   "execution_count": 18,
   "metadata": {},
   "outputs": [],
   "source": [
    "x_ = tfkl.Input(shape=(2,), dtype=tf.float32)\n",
    "log_prob_ = distribution.log_prob(x_)\n",
    "model = tfk.Model(x_, log_prob_)\n",
    "\n",
    "model.compile(optimizer=tf.optimizers.Adam(), loss=lambda _, log_prob: -log_prob)"
   ]
  },
  {
   "cell_type": "code",
   "execution_count": 19,
   "metadata": {},
   "outputs": [],
   "source": [
    "_ = model.fit(x=X,\n",
    "              y=np.zeros((X.shape[0], 0), dtype=np.float32),\n",
    "              batch_size= X.shape[0],\n",
    "              epochs=3000,\n",
    "              steps_per_epoch=1,\n",
    "              verbose=0,\n",
    "              shuffle=False)"
   ]
  },
  {
   "cell_type": "markdown",
   "metadata": {},
   "source": [
    "Having the weights optimized, we can sample from the distribution and check if the trained model is similar to the moon distribution."
   ]
  },
  {
   "cell_type": "code",
   "execution_count": 20,
   "metadata": {},
   "outputs": [
    {
     "data": {
      "image/png": "[encoded data removed]",
      "text/plain": [
       "<Figure size 432x288 with 1 Axes>"
      ]
     },
     "metadata": {},
     "output_type": "display_data"
    }
   ],
   "source": [
    "samples = distribution.sample(1000)\n",
    "samples = StandardScaler().fit_transform(samples)\n",
    "sns.scatterplot(samples[:, 0], samples[:, 1], color='darkblue', marker='o', linewidth=0);\n",
    "sns.despine();"
   ]
  }
 ],
 "metadata": {
  "kernelspec": {
   "display_name": "Python (pymc)",
   "language": "python",
   "name": "pymc"
  },
  "language_info": {
   "codemirror_mode": {
    "name": "ipython",
    "version": 3
   },
   "file_extension": ".py",
   "mimetype": "text/x-python",
   "name": "python",
   "nbconvert_exporter": "python",
   "pygments_lexer": "ipython3",
   "version": "3.7.6"
  }
 },
 "nbformat": 4,
 "nbformat_minor": 4
}
