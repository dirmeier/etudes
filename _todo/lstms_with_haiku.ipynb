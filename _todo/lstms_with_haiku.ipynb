{
 "cells": [
  {
   "cell_type": "code",
   "execution_count": 59,
   "id": "fba23688",
   "metadata": {},
   "outputs": [],
   "source": [
    "import pandas as pd"
   ]
  },
  {
   "cell_type": "code",
   "execution_count": 60,
   "id": "6f1ad1ad",
   "metadata": {},
   "outputs": [],
   "source": [
    "import jax\n",
    "from jax import vmap\n",
    "import jax.numpy as np\n",
    "import jax.scipy as sp\n",
    "import jax.random as random\n",
    "\n",
    "import numpyro\n",
    "import numpyro.distributions as dist\n",
    "from numpyro.infer import MCMC, NUTS"
   ]
  },
  {
   "cell_type": "code",
   "execution_count": 61,
   "id": "aae5c306",
   "metadata": {},
   "outputs": [],
   "source": [
    "import optax\n",
    "import haiku as hk\n",
    "from haiku._src.data_structures import FlatMapping"
   ]
  },
  {
   "cell_type": "code",
   "execution_count": 62,
   "id": "ab7050c9",
   "metadata": {},
   "outputs": [],
   "source": [
    "import matplotlib.pyplot as plt\n",
    "import seaborn as sns\n",
    "import arviz as az"
   ]
  },
  {
   "cell_type": "code",
   "execution_count": 63,
   "id": "9b9431fd",
   "metadata": {},
   "outputs": [
    {
     "data": {
      "text/html": [
       "<div>\n",
       "<style scoped>\n",
       "    .dataframe tbody tr th:only-of-type {\n",
       "        vertical-align: middle;\n",
       "    }\n",
       "\n",
       "    .dataframe tbody tr th {\n",
       "        vertical-align: top;\n",
       "    }\n",
       "\n",
       "    .dataframe thead th {\n",
       "        text-align: right;\n",
       "    }\n",
       "</style>\n",
       "<table border=\"1\" class=\"dataframe\">\n",
       "  <thead>\n",
       "    <tr style=\"text-align: right;\">\n",
       "      <th></th>\n",
       "      <th>year</th>\n",
       "      <th>dem</th>\n",
       "      <th>rep</th>\n",
       "      <th>region</th>\n",
       "      <th>state</th>\n",
       "      <th>proportion</th>\n",
       "    </tr>\n",
       "  </thead>\n",
       "  <tbody>\n",
       "    <tr>\n",
       "      <th>0</th>\n",
       "      <td>1976</td>\n",
       "      <td>44058</td>\n",
       "      <td>71555</td>\n",
       "      <td>Mountain West</td>\n",
       "      <td>AK</td>\n",
       "      <td>0.381082</td>\n",
       "    </tr>\n",
       "    <tr>\n",
       "      <th>1</th>\n",
       "      <td>1980</td>\n",
       "      <td>41842</td>\n",
       "      <td>86112</td>\n",
       "      <td>Mountain West</td>\n",
       "      <td>AK</td>\n",
       "      <td>0.327008</td>\n",
       "    </tr>\n",
       "    <tr>\n",
       "      <th>2</th>\n",
       "      <td>1984</td>\n",
       "      <td>62007</td>\n",
       "      <td>138377</td>\n",
       "      <td>Mountain West</td>\n",
       "      <td>AK</td>\n",
       "      <td>0.309441</td>\n",
       "    </tr>\n",
       "    <tr>\n",
       "      <th>3</th>\n",
       "      <td>1988</td>\n",
       "      <td>72584</td>\n",
       "      <td>119251</td>\n",
       "      <td>Mountain West</td>\n",
       "      <td>AK</td>\n",
       "      <td>0.378367</td>\n",
       "    </tr>\n",
       "    <tr>\n",
       "      <th>4</th>\n",
       "      <td>1992</td>\n",
       "      <td>78294</td>\n",
       "      <td>102000</td>\n",
       "      <td>Mountain West</td>\n",
       "      <td>AK</td>\n",
       "      <td>0.434257</td>\n",
       "    </tr>\n",
       "    <tr>\n",
       "      <th>...</th>\n",
       "      <td>...</td>\n",
       "      <td>...</td>\n",
       "      <td>...</td>\n",
       "      <td>...</td>\n",
       "      <td>...</td>\n",
       "      <td>...</td>\n",
       "    </tr>\n",
       "    <tr>\n",
       "      <th>545</th>\n",
       "      <td>2000</td>\n",
       "      <td>60481</td>\n",
       "      <td>147947</td>\n",
       "      <td>Mountain West</td>\n",
       "      <td>WY</td>\n",
       "      <td>0.290177</td>\n",
       "    </tr>\n",
       "    <tr>\n",
       "      <th>546</th>\n",
       "      <td>2004</td>\n",
       "      <td>70776</td>\n",
       "      <td>167629</td>\n",
       "      <td>Mountain West</td>\n",
       "      <td>WY</td>\n",
       "      <td>0.296873</td>\n",
       "    </tr>\n",
       "    <tr>\n",
       "      <th>547</th>\n",
       "      <td>2008</td>\n",
       "      <td>82868</td>\n",
       "      <td>164958</td>\n",
       "      <td>Mountain West</td>\n",
       "      <td>WY</td>\n",
       "      <td>0.334380</td>\n",
       "    </tr>\n",
       "    <tr>\n",
       "      <th>548</th>\n",
       "      <td>2012</td>\n",
       "      <td>69286</td>\n",
       "      <td>170962</td>\n",
       "      <td>Mountain West</td>\n",
       "      <td>WY</td>\n",
       "      <td>0.288394</td>\n",
       "    </tr>\n",
       "    <tr>\n",
       "      <th>549</th>\n",
       "      <td>2016</td>\n",
       "      <td>55973</td>\n",
       "      <td>174419</td>\n",
       "      <td>Mountain West</td>\n",
       "      <td>WY</td>\n",
       "      <td>0.242947</td>\n",
       "    </tr>\n",
       "  </tbody>\n",
       "</table>\n",
       "<p>550 rows × 6 columns</p>\n",
       "</div>"
      ],
      "text/plain": [
       "     year    dem     rep         region state  proportion\n",
       "0    1976  44058   71555  Mountain West    AK    0.381082\n",
       "1    1980  41842   86112  Mountain West    AK    0.327008\n",
       "2    1984  62007  138377  Mountain West    AK    0.309441\n",
       "3    1988  72584  119251  Mountain West    AK    0.378367\n",
       "4    1992  78294  102000  Mountain West    AK    0.434257\n",
       "..    ...    ...     ...            ...   ...         ...\n",
       "545  2000  60481  147947  Mountain West    WY    0.290177\n",
       "546  2004  70776  167629  Mountain West    WY    0.296873\n",
       "547  2008  82868  164958  Mountain West    WY    0.334380\n",
       "548  2012  69286  170962  Mountain West    WY    0.288394\n",
       "549  2016  55973  174419  Mountain West    WY    0.242947\n",
       "\n",
       "[550 rows x 6 columns]"
      ]
     },
     "execution_count": 63,
     "metadata": {},
     "output_type": "execute_result"
    }
   ],
   "source": [
    "D = pd.read_csv(\"../data/elections.csv\")\n",
    "D.loc[:, \"proportion\"] = D.dem / (D.dem + D.rep)\n",
    "D"
   ]
  },
  {
   "cell_type": "code",
   "execution_count": 64,
   "id": "faf52df9",
   "metadata": {},
   "outputs": [
    {
     "data": {
      "text/html": [
       "<div>\n",
       "<style scoped>\n",
       "    .dataframe tbody tr th:only-of-type {\n",
       "        vertical-align: middle;\n",
       "    }\n",
       "\n",
       "    .dataframe tbody tr th {\n",
       "        vertical-align: top;\n",
       "    }\n",
       "\n",
       "    .dataframe thead th {\n",
       "        text-align: right;\n",
       "    }\n",
       "</style>\n",
       "<table border=\"1\" class=\"dataframe\">\n",
       "  <thead>\n",
       "    <tr style=\"text-align: right;\">\n",
       "      <th></th>\n",
       "      <th>year</th>\n",
       "      <th>dem</th>\n",
       "      <th>rep</th>\n",
       "      <th>region</th>\n",
       "      <th>state</th>\n",
       "      <th>proportion</th>\n",
       "      <th>year_numerical</th>\n",
       "      <th>region_idxs</th>\n",
       "      <th>state_idxs</th>\n",
       "      <th>time_idxs</th>\n",
       "    </tr>\n",
       "  </thead>\n",
       "  <tbody>\n",
       "    <tr>\n",
       "      <th>154</th>\n",
       "      <td>1976</td>\n",
       "      <td>1014714</td>\n",
       "      <td>1183958</td>\n",
       "      <td>Border South</td>\n",
       "      <td>IN</td>\n",
       "      <td>0.461512</td>\n",
       "      <td>0.0</td>\n",
       "      <td>9</td>\n",
       "      <td>14</td>\n",
       "      <td>0</td>\n",
       "    </tr>\n",
       "    <tr>\n",
       "      <th>155</th>\n",
       "      <td>1980</td>\n",
       "      <td>844197</td>\n",
       "      <td>1255656</td>\n",
       "      <td>Border South</td>\n",
       "      <td>IN</td>\n",
       "      <td>0.402027</td>\n",
       "      <td>4.0</td>\n",
       "      <td>9</td>\n",
       "      <td>14</td>\n",
       "      <td>1</td>\n",
       "    </tr>\n",
       "    <tr>\n",
       "      <th>156</th>\n",
       "      <td>1984</td>\n",
       "      <td>841481</td>\n",
       "      <td>1377230</td>\n",
       "      <td>Border South</td>\n",
       "      <td>IN</td>\n",
       "      <td>0.379266</td>\n",
       "      <td>8.0</td>\n",
       "      <td>9</td>\n",
       "      <td>14</td>\n",
       "      <td>2</td>\n",
       "    </tr>\n",
       "    <tr>\n",
       "      <th>157</th>\n",
       "      <td>1988</td>\n",
       "      <td>860643</td>\n",
       "      <td>1297763</td>\n",
       "      <td>Border South</td>\n",
       "      <td>IN</td>\n",
       "      <td>0.398740</td>\n",
       "      <td>12.0</td>\n",
       "      <td>9</td>\n",
       "      <td>14</td>\n",
       "      <td>3</td>\n",
       "    </tr>\n",
       "    <tr>\n",
       "      <th>158</th>\n",
       "      <td>1992</td>\n",
       "      <td>848420</td>\n",
       "      <td>989375</td>\n",
       "      <td>Border South</td>\n",
       "      <td>IN</td>\n",
       "      <td>0.461651</td>\n",
       "      <td>16.0</td>\n",
       "      <td>9</td>\n",
       "      <td>14</td>\n",
       "      <td>4</td>\n",
       "    </tr>\n",
       "    <tr>\n",
       "      <th>...</th>\n",
       "      <td>...</td>\n",
       "      <td>...</td>\n",
       "      <td>...</td>\n",
       "      <td>...</td>\n",
       "      <td>...</td>\n",
       "      <td>...</td>\n",
       "      <td>...</td>\n",
       "      <td>...</td>\n",
       "      <td>...</td>\n",
       "      <td>...</td>\n",
       "    </tr>\n",
       "    <tr>\n",
       "      <th>512</th>\n",
       "      <td>2000</td>\n",
       "      <td>1247652</td>\n",
       "      <td>1108864</td>\n",
       "      <td>West Coast</td>\n",
       "      <td>WA</td>\n",
       "      <td>0.529448</td>\n",
       "      <td>24.0</td>\n",
       "      <td>3</td>\n",
       "      <td>46</td>\n",
       "      <td>6</td>\n",
       "    </tr>\n",
       "    <tr>\n",
       "      <th>513</th>\n",
       "      <td>2004</td>\n",
       "      <td>1510201</td>\n",
       "      <td>1304894</td>\n",
       "      <td>West Coast</td>\n",
       "      <td>WA</td>\n",
       "      <td>0.536465</td>\n",
       "      <td>28.0</td>\n",
       "      <td>3</td>\n",
       "      <td>46</td>\n",
       "      <td>7</td>\n",
       "    </tr>\n",
       "    <tr>\n",
       "      <th>514</th>\n",
       "      <td>2008</td>\n",
       "      <td>1750848</td>\n",
       "      <td>1229216</td>\n",
       "      <td>West Coast</td>\n",
       "      <td>WA</td>\n",
       "      <td>0.587520</td>\n",
       "      <td>32.0</td>\n",
       "      <td>3</td>\n",
       "      <td>46</td>\n",
       "      <td>8</td>\n",
       "    </tr>\n",
       "    <tr>\n",
       "      <th>515</th>\n",
       "      <td>2012</td>\n",
       "      <td>1755396</td>\n",
       "      <td>1290670</td>\n",
       "      <td>West Coast</td>\n",
       "      <td>WA</td>\n",
       "      <td>0.576283</td>\n",
       "      <td>36.0</td>\n",
       "      <td>3</td>\n",
       "      <td>46</td>\n",
       "      <td>9</td>\n",
       "    </tr>\n",
       "    <tr>\n",
       "      <th>516</th>\n",
       "      <td>2016</td>\n",
       "      <td>1742718</td>\n",
       "      <td>1221747</td>\n",
       "      <td>West Coast</td>\n",
       "      <td>WA</td>\n",
       "      <td>0.587869</td>\n",
       "      <td>40.0</td>\n",
       "      <td>3</td>\n",
       "      <td>46</td>\n",
       "      <td>10</td>\n",
       "    </tr>\n",
       "  </tbody>\n",
       "</table>\n",
       "<p>550 rows × 10 columns</p>\n",
       "</div>"
      ],
      "text/plain": [
       "     year      dem      rep        region state  proportion  year_numerical  \\\n",
       "154  1976  1014714  1183958  Border South    IN    0.461512             0.0   \n",
       "155  1980   844197  1255656  Border South    IN    0.402027             4.0   \n",
       "156  1984   841481  1377230  Border South    IN    0.379266             8.0   \n",
       "157  1988   860643  1297763  Border South    IN    0.398740            12.0   \n",
       "158  1992   848420   989375  Border South    IN    0.461651            16.0   \n",
       "..    ...      ...      ...           ...   ...         ...             ...   \n",
       "512  2000  1247652  1108864    West Coast    WA    0.529448            24.0   \n",
       "513  2004  1510201  1304894    West Coast    WA    0.536465            28.0   \n",
       "514  2008  1750848  1229216    West Coast    WA    0.587520            32.0   \n",
       "515  2012  1755396  1290670    West Coast    WA    0.576283            36.0   \n",
       "516  2016  1742718  1221747    West Coast    WA    0.587869            40.0   \n",
       "\n",
       "     region_idxs  state_idxs  time_idxs  \n",
       "154            9          14          0  \n",
       "155            9          14          1  \n",
       "156            9          14          2  \n",
       "157            9          14          3  \n",
       "158            9          14          4  \n",
       "..           ...         ...        ...  \n",
       "512            3          46          6  \n",
       "513            3          46          7  \n",
       "514            3          46          8  \n",
       "515            3          46          9  \n",
       "516            3          46         10  \n",
       "\n",
       "[550 rows x 10 columns]"
      ]
     },
     "execution_count": 64,
     "metadata": {},
     "output_type": "execute_result"
    }
   ],
   "source": [
    "years = pd.to_datetime(D.year)\n",
    "years = (years - years.min()) / pd.Timedelta(1)\n",
    "\n",
    "D.loc[:, (\"year_numerical\")] = years\n",
    "D.loc[:, (\"region_idxs\")] = D[\"region\"].apply(\n",
    "    lambda x: list(D.region.unique()).index(x)\n",
    ")\n",
    "D.loc[:, (\"state_idxs\")] = D[\"state\"].apply(\n",
    "    lambda x: list(D.state.unique()).index(x)\n",
    ")\n",
    "D.loc[:, (\"time_idxs\")] = D[\"year_numerical\"].apply(\n",
    "    lambda x: list(D.year_numerical.unique()).index(x)\n",
    ")\n",
    "D = D.sort_values([\"region\", \"state\", \"year_numerical\"])\n",
    "D"
   ]
  },
  {
   "cell_type": "code",
   "execution_count": 65,
   "id": "f0d7729a",
   "metadata": {},
   "outputs": [],
   "source": [
    "Y = D[[\"state\", \"year_numerical\", \"proportion\"]].pivot_table(\n",
    "    index=\"state\", values=\"proportion\", columns=\"year_numerical\"\n",
    ")"
   ]
  },
  {
   "cell_type": "code",
   "execution_count": 66,
   "id": "9956e438",
   "metadata": {},
   "outputs": [
    {
     "data": {
      "text/html": [
       "<div>\n",
       "<style scoped>\n",
       "    .dataframe tbody tr th:only-of-type {\n",
       "        vertical-align: middle;\n",
       "    }\n",
       "\n",
       "    .dataframe tbody tr th {\n",
       "        vertical-align: top;\n",
       "    }\n",
       "\n",
       "    .dataframe thead th {\n",
       "        text-align: right;\n",
       "    }\n",
       "</style>\n",
       "<table border=\"1\" class=\"dataframe\">\n",
       "  <thead>\n",
       "    <tr style=\"text-align: right;\">\n",
       "      <th>year_numerical</th>\n",
       "      <th>0.0</th>\n",
       "      <th>4.0</th>\n",
       "      <th>8.0</th>\n",
       "      <th>12.0</th>\n",
       "      <th>16.0</th>\n",
       "      <th>20.0</th>\n",
       "      <th>24.0</th>\n",
       "      <th>28.0</th>\n",
       "      <th>32.0</th>\n",
       "      <th>36.0</th>\n",
       "      <th>40.0</th>\n",
       "    </tr>\n",
       "    <tr>\n",
       "      <th>state</th>\n",
       "      <th></th>\n",
       "      <th></th>\n",
       "      <th></th>\n",
       "      <th></th>\n",
       "      <th></th>\n",
       "      <th></th>\n",
       "      <th></th>\n",
       "      <th></th>\n",
       "      <th></th>\n",
       "      <th></th>\n",
       "      <th></th>\n",
       "    </tr>\n",
       "  </thead>\n",
       "  <tbody>\n",
       "    <tr>\n",
       "      <th>AK</th>\n",
       "      <td>0.381082</td>\n",
       "      <td>0.327008</td>\n",
       "      <td>0.309441</td>\n",
       "      <td>0.378367</td>\n",
       "      <td>0.434257</td>\n",
       "      <td>0.395715</td>\n",
       "      <td>0.320631</td>\n",
       "      <td>0.367737</td>\n",
       "      <td>0.389352</td>\n",
       "      <td>0.426847</td>\n",
       "      <td>0.416143</td>\n",
       "    </tr>\n",
       "    <tr>\n",
       "      <th>AL</th>\n",
       "      <td>0.566667</td>\n",
       "      <td>0.493237</td>\n",
       "      <td>0.387366</td>\n",
       "      <td>0.402544</td>\n",
       "      <td>0.461789</td>\n",
       "      <td>0.462661</td>\n",
       "      <td>0.424145</td>\n",
       "      <td>0.371022</td>\n",
       "      <td>0.391091</td>\n",
       "      <td>0.387838</td>\n",
       "      <td>0.356259</td>\n",
       "    </tr>\n",
       "    <tr>\n",
       "      <th>AR</th>\n",
       "      <td>0.650228</td>\n",
       "      <td>0.496803</td>\n",
       "      <td>0.387724</td>\n",
       "      <td>0.428084</td>\n",
       "      <td>0.599923</td>\n",
       "      <td>0.593528</td>\n",
       "      <td>0.471993</td>\n",
       "      <td>0.450643</td>\n",
       "      <td>0.398283</td>\n",
       "      <td>0.378456</td>\n",
       "      <td>0.357149</td>\n",
       "    </tr>\n",
       "    <tr>\n",
       "      <th>AZ</th>\n",
       "      <td>0.413867</td>\n",
       "      <td>0.317879</td>\n",
       "      <td>0.328833</td>\n",
       "      <td>0.392565</td>\n",
       "      <td>0.486981</td>\n",
       "      <td>0.512238</td>\n",
       "      <td>0.467174</td>\n",
       "      <td>0.447250</td>\n",
       "      <td>0.456861</td>\n",
       "      <td>0.453866</td>\n",
       "      <td>0.481100</td>\n",
       "    </tr>\n",
       "    <tr>\n",
       "      <th>CA</th>\n",
       "      <td>0.490822</td>\n",
       "      <td>0.405291</td>\n",
       "      <td>0.417755</td>\n",
       "      <td>0.481927</td>\n",
       "      <td>0.585167</td>\n",
       "      <td>0.572163</td>\n",
       "      <td>0.562030</td>\n",
       "      <td>0.550413</td>\n",
       "      <td>0.622784</td>\n",
       "      <td>0.618728</td>\n",
       "      <td>0.661282</td>\n",
       "    </tr>\n",
       "  </tbody>\n",
       "</table>\n",
       "</div>"
      ],
      "text/plain": [
       "year_numerical      0.0       4.0       8.0       12.0      16.0      20.0  \\\n",
       "state                                                                        \n",
       "AK              0.381082  0.327008  0.309441  0.378367  0.434257  0.395715   \n",
       "AL              0.566667  0.493237  0.387366  0.402544  0.461789  0.462661   \n",
       "AR              0.650228  0.496803  0.387724  0.428084  0.599923  0.593528   \n",
       "AZ              0.413867  0.317879  0.328833  0.392565  0.486981  0.512238   \n",
       "CA              0.490822  0.405291  0.417755  0.481927  0.585167  0.572163   \n",
       "\n",
       "year_numerical      24.0      28.0      32.0      36.0      40.0  \n",
       "state                                                             \n",
       "AK              0.320631  0.367737  0.389352  0.426847  0.416143  \n",
       "AL              0.424145  0.371022  0.391091  0.387838  0.356259  \n",
       "AR              0.471993  0.450643  0.398283  0.378456  0.357149  \n",
       "AZ              0.467174  0.447250  0.456861  0.453866  0.481100  \n",
       "CA              0.562030  0.550413  0.622784  0.618728  0.661282  "
      ]
     },
     "execution_count": 66,
     "metadata": {},
     "output_type": "execute_result"
    }
   ],
   "source": [
    "Y.head()"
   ]
  },
  {
   "cell_type": "code",
   "execution_count": 67,
   "id": "de4cda83",
   "metadata": {},
   "outputs": [],
   "source": [
    "X = np.tile(np.array(Y.columns), (Y.shape[0], 1))\n",
    "Y = np.array(Y.values)"
   ]
  },
  {
   "cell_type": "code",
   "execution_count": 68,
   "id": "accb3d55",
   "metadata": {},
   "outputs": [
    {
     "data": {
      "text/plain": [
       "(50, 11)"
      ]
     },
     "execution_count": 68,
     "metadata": {},
     "output_type": "execute_result"
    }
   ],
   "source": [
    "Y.shape"
   ]
  },
  {
   "cell_type": "code",
   "execution_count": 69,
   "id": "ce6c7867",
   "metadata": {},
   "outputs": [],
   "source": [
    "def _lstm(x):\n",
    "    module = hk.LSTM(1)    \n",
    "    outs, state = hk.dynamic_unroll(module, x, module.initial_state(1))\n",
    "    return outs"
   ]
  },
  {
   "cell_type": "code",
   "execution_count": 70,
   "id": "5a25374b",
   "metadata": {},
   "outputs": [
    {
     "data": {
      "text/plain": [
       "FlatMapping({\n",
       "  'lstm/linear': FlatMapping({\n",
       "                   'w': DeviceArray([[-0.51025134,  0.5771896 , -0.09637077, -0.49400634],\n",
       "                                     [ 0.454539  ,  0.27723938, -1.2919832 , -0.24847537]],            dtype=float32),\n",
       "                   'b': DeviceArray([0., 0., 0., 0.], dtype=float32),\n",
       "                 }),\n",
       "})"
      ]
     },
     "execution_count": 70,
     "metadata": {},
     "output_type": "execute_result"
    }
   ],
   "source": [
    "key = jax.random.PRNGKey(42)\n",
    "\n",
    "model = hk.transform(_lstm)\n",
    "hk_model = hk.without_apply_rng(model)\n",
    "hk_params = hk_model.init(key, X[ None, [0], :].T)\n",
    "hk_params"
   ]
  },
  {
   "cell_type": "code",
   "execution_count": 71,
   "id": "54225426",
   "metadata": {},
   "outputs": [
    {
     "data": {
      "text/plain": [
       "DeviceArray([[[0.0000000e+00, 1.3664528e-02, 1.4810549e-03,\n",
       "               1.0234739e-04, 5.3378062e-06, 2.1170729e-07,\n",
       "               6.2559602e-09, 1.3474957e-10, 2.0783360e-12,\n",
       "               2.2680710e-14, 1.7471644e-16]]], dtype=float32)"
      ]
     },
     "execution_count": 71,
     "metadata": {},
     "output_type": "execute_result"
    }
   ],
   "source": [
    "hk_model.apply(x=X[ None, [0], :].T, params=hk_params).T"
   ]
  },
  {
   "cell_type": "code",
   "execution_count": 72,
   "id": "5c514831",
   "metadata": {},
   "outputs": [],
   "source": [
    "class LSTM(hk.Module):\n",
    "    def __init__(self, name='lstm'):\n",
    "        super().__init__(name=name)\n",
    "        self._w = hk.Linear(4, True, name=\"w\")\n",
    "        self._u = hk.Linear(4, False, name=\"u\")\n",
    "\n",
    "    def __call__(self, x):\n",
    "        outs = [None] * x.shape[-1]\n",
    "        h, c = np.zeros((x.shape[0], 1)), np.zeros((x.shape[0], 1))\n",
    "        for i in range(x.shape[-1]):\n",
    "            o, h, c = self._call(x[:, i, None], h, c)\n",
    "            outs[i] = o\n",
    "        return np.hstack(outs)\n",
    "\n",
    "    def _call(self, x_t, h_t, c_t):                        \n",
    "        iw, gw, fw, ow = np.split(self._w(x_t), indices_or_sections=4, axis=-1)        \n",
    "        iu, gu, fu, ou = np.split(self._u(h_t), indices_or_sections=4, axis=-1)        \n",
    "        i = jax.nn.sigmoid(iw + iu)\n",
    "        f = jax.nn.sigmoid(fw + fu + 1.0)\n",
    "        g = np.tanh(gw + gu)\n",
    "        o = jax.nn.sigmoid(ow + ou)\n",
    "        c = f * c_t + i * g\n",
    "        h =  o * np.tanh(c)\n",
    "        return h, h, c\n",
    "\n",
    "\n",
    "def _lstm(x):\n",
    "    module = LSTM()\n",
    "    return module(x)"
   ]
  },
  {
   "cell_type": "code",
   "execution_count": 73,
   "id": "f1528840",
   "metadata": {},
   "outputs": [
    {
     "data": {
      "text/plain": [
       "FlatMapping({\n",
       "  'lstm/~/w': FlatMapping({\n",
       "                'w': DeviceArray([[-0.5389954,  0.8341133, -0.8763848,  1.3341686]], dtype=float32),\n",
       "                'b': DeviceArray([0., 0., 0., 0.], dtype=float32),\n",
       "              }),\n",
       "  'lstm/~/u': FlatMapping({\n",
       "                'w': DeviceArray([[ 0.6433483 , -0.11852746,  0.88966376, -0.33986157]], dtype=float32),\n",
       "              }),\n",
       "})"
      ]
     },
     "execution_count": 73,
     "metadata": {},
     "output_type": "execute_result"
    }
   ],
   "source": [
    "key = jax.random.PRNGKey(42)\n",
    "\n",
    "model = hk.transform(_lstm)\n",
    "model = hk.without_apply_rng(model)\n",
    "params = model.init(key, X[[0], :])\n",
    "params"
   ]
  },
  {
   "cell_type": "code",
   "execution_count": 74,
   "id": "1f2abb69",
   "metadata": {},
   "outputs": [
    {
     "data": {
      "text/plain": [
       "FlatMapping({\n",
       "  'lstm/~/w': FlatMapping({\n",
       "                'w': DeviceArray([[-0.51025134,  0.5771896 , -0.09637077, -0.49400634]], dtype=float32),\n",
       "                'b': DeviceArray([0., 0., 0., 0.], dtype=float32),\n",
       "              }),\n",
       "  'lstm/~/u': FlatMapping({\n",
       "                'w': DeviceArray([[ 0.454539  ,  0.27723938, -1.2919832 , -0.24847537]], dtype=float32),\n",
       "              }),\n",
       "})"
      ]
     },
     "execution_count": 74,
     "metadata": {},
     "output_type": "execute_result"
    }
   ],
   "source": [
    "w = FlatMapping({\n",
    "    \"w\": hk_params['lstm/linear'][\"w\"][[0], :],\n",
    "    'b': hk_params['lstm/linear'][\"b\"]\n",
    "\n",
    "})\n",
    "u = FlatMapping({\n",
    "    \"w\": hk_params['lstm/linear'][\"w\"][[1], :],\n",
    "})\n",
    "\n",
    "params = FlatMapping({\n",
    "    'lstm/~/w': w,\n",
    "    'lstm/~/u': u,\n",
    "})\n",
    "params"
   ]
  },
  {
   "cell_type": "code",
   "execution_count": 75,
   "id": "1d50aabd",
   "metadata": {},
   "outputs": [
    {
     "data": {
      "text/plain": [
       "DeviceArray([[[0.0000000e+00, 1.3664528e-02, 1.4810549e-03,\n",
       "               1.0234739e-04, 5.3378062e-06, 2.1170729e-07,\n",
       "               6.2559602e-09, 1.3474957e-10, 2.0783360e-12,\n",
       "               2.2680710e-14, 1.7471644e-16]]], dtype=float32)"
      ]
     },
     "execution_count": 75,
     "metadata": {},
     "output_type": "execute_result"
    }
   ],
   "source": [
    "hk_model.apply(x=X[ None, [0], :].T, params=hk_params).T"
   ]
  },
  {
   "cell_type": "code",
   "execution_count": 76,
   "id": "b2c185bc",
   "metadata": {},
   "outputs": [
    {
     "data": {
      "text/plain": [
       "DeviceArray([[0.0000000e+00, 1.3664528e-02, 1.4810549e-03, 1.0234739e-04,\n",
       "              5.3378062e-06, 2.1170729e-07, 6.2559611e-09, 1.3474961e-10,\n",
       "              2.0783364e-12, 2.2680715e-14, 1.7471648e-16]],            dtype=float32)"
      ]
     },
     "execution_count": 76,
     "metadata": {},
     "output_type": "execute_result"
    }
   ],
   "source": [
    "model.apply(x=X[[0], :], params=params)"
   ]
  },
  {
   "cell_type": "code",
   "execution_count": 77,
   "id": "08f0801a",
   "metadata": {},
   "outputs": [],
   "source": [
    "class BetaLSTM(hk.Module):\n",
    "    def __init__(self, name='beta_lstm'):\n",
    "        super().__init__(name=name)        \n",
    "        self._net = hk.DeepRNN([              \n",
    "            hk.LSTM(128), jax.nn.relu,\n",
    "            hk.LSTM(128), jax.nn.relu,\n",
    "            hk.Linear(1)\n",
    "        ])\n",
    "        self._mu = hk.get_parameter('mu', [], init=np.ones)\n",
    "        self._kappa = hk.get_parameter('kappa', [], init=np.zeros)\n",
    "\n",
    "    def __call__(self, x):\n",
    "        p = x.shape[1]\n",
    "        outs, state = hk.dynamic_unroll(self._net, x, self._net.initial_state(p))\n",
    "        mu = sp.special.expit(self._mu + outs)\n",
    "        kappa = np.exp(self._kappa)\n",
    "        be = dist.Beta(mu * kappa, (1.0 - mu) * kappa)\n",
    "        return be\n",
    "        \n",
    "\n",
    "def _beta_lstm(x):\n",
    "    module = BetaLSTM()\n",
    "    return module(x)"
   ]
  },
  {
   "cell_type": "code",
   "execution_count": 78,
   "id": "36c06321",
   "metadata": {},
   "outputs": [],
   "source": [
    "X = X[None, :, :].T\n",
    "Y = Y[None, :, :].T"
   ]
  },
  {
   "cell_type": "code",
   "execution_count": 79,
   "id": "3526ebc1",
   "metadata": {},
   "outputs": [
    {
     "data": {
      "text/plain": [
       "(11, 50, 1)"
      ]
     },
     "execution_count": 79,
     "metadata": {},
     "output_type": "execute_result"
    }
   ],
   "source": [
    "X.shape"
   ]
  },
  {
   "cell_type": "code",
   "execution_count": 80,
   "id": "f3111fa4",
   "metadata": {},
   "outputs": [],
   "source": [
    "x = X[:, [0], :]"
   ]
  },
  {
   "cell_type": "code",
   "execution_count": 200,
   "id": "f78ea0c4",
   "metadata": {},
   "outputs": [],
   "source": [
    "model = hk.transform(_beta_lstm)\n",
    "model = hk.without_apply_rng(model)\n",
    "\n",
    "key = jax.random.PRNGKey(42)\n",
    "params = model.init(key,  X[:, [0, 1], :])"
   ]
  },
  {
   "cell_type": "code",
   "execution_count": 201,
   "id": "8742aa79",
   "metadata": {},
   "outputs": [
    {
     "data": {
      "text/plain": [
       "DeviceArray([[[0.9994723 ]],\n",
       "\n",
       "             [[0.51052564]],\n",
       "\n",
       "             [[0.9996344 ]],\n",
       "\n",
       "             [[0.8655784 ]],\n",
       "\n",
       "             [[0.9635838 ]],\n",
       "\n",
       "             [[0.04255585]],\n",
       "\n",
       "             [[0.3341038 ]],\n",
       "\n",
       "             [[0.7359098 ]],\n",
       "\n",
       "             [[0.33179298]],\n",
       "\n",
       "             [[0.14812946]],\n",
       "\n",
       "             [[0.06516684]]], dtype=float32)"
      ]
     },
     "execution_count": 201,
     "metadata": {},
     "output_type": "execute_result"
    }
   ],
   "source": [
    "beta = model.apply(x=x, params=params)\n",
    "beta.sample(key=key)"
   ]
  },
  {
   "cell_type": "code",
   "execution_count": 83,
   "id": "641ded1a",
   "metadata": {},
   "outputs": [],
   "source": [
    "@jax.jit\n",
    "def nll(params: hk.Params):\n",
    "    beta = model.apply(x=X, params=params)\n",
    "    ll = np.sum(beta.log_prob(Y))\n",
    "    return -ll"
   ]
  },
  {
   "cell_type": "code",
   "execution_count": 84,
   "id": "b61beb45",
   "metadata": {},
   "outputs": [],
   "source": [
    "@jax.jit\n",
    "def update(params, opt_state):\n",
    "    val, grads = jax.value_and_grad(nll)(params)  \n",
    "    updates, new_state = optimizer.update(grads, opt_state)\n",
    "    new_params = optax.apply_updates(params, updates)\n",
    "    return new_params, new_state, val"
   ]
  },
  {
   "cell_type": "code",
   "execution_count": 85,
   "id": "958e43dc",
   "metadata": {},
   "outputs": [],
   "source": [
    "optimizer = optax.adam(0.001)\n",
    "opt_state = optimizer.init(params)"
   ]
  },
  {
   "cell_type": "code",
   "execution_count": 86,
   "id": "e37cb19d",
   "metadata": {},
   "outputs": [],
   "source": [
    "nlls = []\n",
    "for step in range(1000):\n",
    "    params, opt_state, val = update(params, opt_state)\n",
    "    nlls.append(float(val))"
   ]
  },
  {
   "cell_type": "code",
   "execution_count": 87,
   "id": "da3beb78",
   "metadata": {},
   "outputs": [
    {
     "data": {
      "text/plain": [
       "[<matplotlib.lines.Line2D at 0x14ec6e400>]"
      ]
     },
     "execution_count": 87,
     "metadata": {},
     "output_type": "execute_result"
    },
    {
     "data": {
      "image/png": "[encoded data removed]",
      "text/plain": [
       "<Figure size 432x288 with 1 Axes>"
      ]
     },
     "metadata": {
      "needs_background": "light"
     },
     "output_type": "display_data"
    }
   ],
   "source": [
    "plt.plot(nlls)"
   ]
  },
  {
   "cell_type": "code",
   "execution_count": 88,
   "id": "e83a06e8",
   "metadata": {},
   "outputs": [],
   "source": [
    "beta = model.apply(x=np.vstack([x, x]), params=params)"
   ]
  },
  {
   "cell_type": "code",
   "execution_count": 95,
   "id": "1dfc8b80",
   "metadata": {},
   "outputs": [
    {
     "data": {
      "text/plain": [
       "DeviceArray([[0., 0., 0., 0., 0.],\n",
       "             [0., 0., 0., 0., 0.],\n",
       "             [0., 0., 0., 0., 0.],\n",
       "             [0., 0., 0., 0., 0.],\n",
       "             [0., 0., 0., 0., 0.]], dtype=float32)"
      ]
     },
     "execution_count": 95,
     "metadata": {},
     "output_type": "execute_result"
    }
   ],
   "source": [
    "np.diag(np.zeros(5))"
   ]
  },
  {
   "cell_type": "code",
   "execution_count": 90,
   "id": "6347aedd",
   "metadata": {},
   "outputs": [],
   "source": [
    "y_hat = beta.sample(random.PRNGKey(1), (1000,))"
   ]
  },
  {
   "cell_type": "code",
   "execution_count": null,
   "id": "78e39759",
   "metadata": {},
   "outputs": [],
   "source": [
    "class MultivariateBetaLSTM(hk.Module):\n",
    "    def __init__(self, name='beta_lstm'):\n",
    "        super().__init__(name=name)        \n",
    "        self._net = hk.DeepRNN([              \n",
    "            hk.LSTM(128), jax.nn.relu,\n",
    "            hk.LSTM(128), jax.nn.relu,\n",
    "            hk.Linear(1 + 1 + 10)\n",
    "        ])\n",
    "        #self._mu = hk.get_parameter('mu', [], init=np.ones)\n",
    "        #self._kappa = hk.get_parameter('kappa', [], init=np.zeros)\n",
    "\n",
    "    def __call__(self, x):\n",
    "        p = x.shape[1]\n",
    "        outs, _ = hk.dynamic_unroll(self._net, x, self._net.initial_state(p))\n",
    "        mu, d, v = np.split(outs, [1, 2], axis=-1)\n",
    "        v = v[:, :, None, :]\n",
    "        lmvn = dist.LowRankMultivariateNormal(loc=mu, cov_factor=v, cov_diag=d)\n",
    "        z = lmvn.sample(key = hk.next_rng_key())\n",
    "        return be.sample(key=key)\n",
    "        "
   ]
  },
  {
   "cell_type": "code",
   "execution_count": 478,
   "id": "149ae2e7",
   "metadata": {},
   "outputs": [],
   "source": [
    "class MultivariateBetaLSTM(hk.Module):\n",
    "    def __init__(self, name='beta_lstm'):\n",
    "        super().__init__(name=name)        \n",
    "        self._net = hk.DeepRNN([              \n",
    "            hk.LSTM(128), jax.nn.relu,\n",
    "            hk.LSTM(128), jax.nn.relu,\n",
    "            hk.Linear(1 + 1 + 10)\n",
    "        ])\n",
    "        #self._mu = hk.get_parameter('mu', [], init=np.ones)\n",
    "        #self._kappa = hk.get_parameter('kappa', [], init=np.zeros)\n",
    "\n",
    "    def __call__(self, x):\n",
    "        p = x.shape[1]\n",
    "        outs, _ = hk.dynamic_unroll(self._net, x, self._net.initial_state(p))\n",
    "        mu, d, v = np.split(outs, [1, 2], axis=-1)\n",
    "        v = v[:, :, None, :]\n",
    "        #lmvn = dist.LowRankMultivariateNormal(loc=mu, cov_factor=v, cov_diag=d)\n",
    "        #z = lmvn.sample(key = hk.next_rng_key())\n",
    "        return mu, d, v\n",
    "\n",
    "def _mvn_beta_lstm(x):\n",
    "    module = MultivariateBetaLSTM()\n",
    "    return module(x)"
   ]
  },
  {
   "cell_type": "code",
   "execution_count": null,
   "id": "78865e50",
   "metadata": {},
   "outputs": [],
   "source": [
    "lstm = hk.transform(_mvn_beta_lstm)\n",
    "lstm = hk.without_apply_rng(lstm)\n",
    "\n",
    "def model(y, x):\n",
    "    nn = haiku_module(\"nn\", lstm)\n",
    "    mu, d, v = nn(x)\n",
    "    b = numpyro.sample(\"b\", dist.LowRankMultivariateNormal(loc=mu, cov_factor=v, cov_diag=d))\n",
    "    mu = numpyro.deterministic(\"mu\", sp.special.expit(b))\n",
    "    kappa = numpyro.sample(\"kappa\", )\n",
    "    numpyro.sample(\"y\", dist.Beta(mu, kappa), obs=y)"
   ]
  },
  {
   "cell_type": "code",
   "execution_count": 472,
   "id": "bae1d0da",
   "metadata": {},
   "outputs": [
    {
     "name": "stdout",
     "output_type": "stream",
     "text": [
      "(11, 50, 1)\n",
      "(11, 50, 1)\n",
      "(11, 50, 10)\n",
      "(11, 50, 1, 10)\n"
     ]
    }
   ],
   "source": [
    "\n",
    "\n",
    "key = jax.random.PRNGKey(42)\n",
    "params = model.init(key, X)"
   ]
  },
  {
   "cell_type": "code",
   "execution_count": 474,
   "id": "027097dc",
   "metadata": {},
   "outputs": [
    {
     "name": "stdout",
     "output_type": "stream",
     "text": [
      "(11, 50, 1)\n",
      "(11, 50, 1)\n",
      "(11, 50, 10)\n",
      "(11, 50, 1, 10)\n"
     ]
    }
   ],
   "source": [
    "beta = model.apply(x=X, params=params)"
   ]
  },
  {
   "cell_type": "code",
   "execution_count": 476,
   "id": "2fd3afd5",
   "metadata": {},
   "outputs": [
    {
     "data": {
      "text/plain": [
       "(11, 50, 1)"
      ]
     },
     "execution_count": 476,
     "metadata": {},
     "output_type": "execute_result"
    }
   ],
   "source": [
    "beta.shape"
   ]
  },
  {
   "cell_type": "code",
   "execution_count": 453,
   "id": "9cc67fa8",
   "metadata": {},
   "outputs": [
    {
     "data": {
      "text/plain": [
       "(11, 50, 50)"
      ]
     },
     "execution_count": 453,
     "metadata": {},
     "output_type": "execute_result"
    }
   ],
   "source": [
    "beta.shape"
   ]
  },
  {
   "cell_type": "code",
   "execution_count": null,
   "id": "ccc446b7",
   "metadata": {},
   "outputs": [],
   "source": []
  }
 ],
 "metadata": {
  "kernelspec": {
   "display_name": "Python (art-research-timeseries-dev)",
   "language": "python",
   "name": "art-research-timeseries-dev"
  },
  "language_info": {
   "codemirror_mode": {
    "name": "ipython",
    "version": 3
   },
   "file_extension": ".py",
   "mimetype": "text/x-python",
   "name": "python",
   "nbconvert_exporter": "python",
   "pygments_lexer": "ipython3",
   "version": "3.8.10"
  }
 },
 "nbformat": 4,
 "nbformat_minor": 5
}
