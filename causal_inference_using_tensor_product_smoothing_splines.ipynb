{
 "cells": [
  {
   "cell_type": "markdown",
   "metadata": {},
   "source": [
    "# *Causal inference using tensor-product smoothing splines with structured latent confounders*\n",
    "\n",
    "*Simon Dirmeier <simon.dirmeier @ protonmail com>*<br>\n",
    "*September 2021*"
   ]
  },
  {
   "cell_type": "markdown",
   "metadata": {},
   "source": [
    "While catching up on new literature on causal inference, I discovered a paper for inference of potential outcomes when\n",
    "observations are confounded in a hierarchical way, i.e., when a latent confounding variable is shared among several observations <span>(Witty <i>et al.</i>, (2020))</span>. The paper uses Gaussian processes (GPs) to elegantly model the functional relationships between data and latent variables and, following <span>D'Amour, (2019)</span>, shows that the estimator of the individual treatment effect (ITE) is consistent. Even though consistency of an estimator is a desirable property, for finite data variables of interest are often only weakly identifiable when working with complex nonparametric models (at least in my experience) and the utility of otherwise elegant models for principled statistical data analysis is limited. Unfortunately, the paper neither provides any code to redo the analysis nor shows sampler diagnostics or nor visualizations of posterior distributions.\n",
    "\n",
    "Hence, in this case study, we will first re-implement the proposed model, examine its MCMC diagnostics, and finally propose a model that is both significantly faster to fit and produces easier posterior geometries to sample from. We implement the models in [Stan](https://github.com/stan-dev/stan).\n",
    "\n",
    "**Feedback and comments are welcome!**\n",
    "\n",
    "We load some libraries for inference and working with data first."
   ]
  },
  {
   "cell_type": "code",
   "execution_count": 1,
   "metadata": {
    "tags": [
     "hide"
    ]
   },
   "outputs": [],
   "source": [
    "import sys\n",
    "import warnings \n",
    "import logging\n",
    "\n",
    "def timer(func):\n",
    "    from timeit import default_timer    \n",
    "    def f(*args, **kwargs):\n",
    "        start = default_timer()\n",
    "        res = func(*args, **kwargs)\n",
    "        stop = default_timer()\n",
    "        print(f\"Elapsed time: {stop - start}\")\n",
    "        return res\n",
    "    return f\n",
    "  \n",
    "warnings.filterwarnings('ignore')  \n",
    "logging.basicConfig(level=logging.ERROR, stream=sys.stdout)"
   ]
  },
  {
   "cell_type": "code",
   "execution_count": 2,
   "metadata": {},
   "outputs": [],
   "source": [
    "import os\n",
    "import pandas as pd\n",
    "import numpy as onp\n",
    "\n",
    "import jax\n",
    "from jax import jit\n",
    "import jax.numpy as np\n",
    "import jax.scipy as sp\n",
    "import jax.random as random\n",
    "\n",
    "from cmdstanpy import CmdStanModel\n",
    "\n",
    "import matplotlib.pyplot as plt\n",
    "import seaborn as sns\n",
    "import arviz as az\n",
    "import palettes\n",
    "\n",
    "sns.set_style(\n",
    "    \"ticks\", \n",
    "    {'font.family':'serif', \n",
    "     'font.serif':'Times New Roman'}\n",
    ")\n",
    "palettes.set_theme()"
   ]
  },
  {
   "cell_type": "markdown",
   "metadata": {},
   "source": [
    "## Hierarchical confounding\n",
    "\n",
    "<span>Witty <i>et al.</i> (2020)</span> assume a structural equations model of the following form\n",
    "\n",
    "$$\\begin{align}\n",
    "u_o & \\leftarrow \\epsilon_{u_o} \\\\\n",
    "x_i & \\leftarrow f_X\\left(u_{o = \\text{Pa}(i)},  \\epsilon_{x_i} \\right) \\\\\n",
    "t_i & \\leftarrow f_{T}\\left(u_{o = \\text{Pa}(i)}, x_i, \\epsilon_{t_i} \\right) \\\\\n",
    "y_i & \\leftarrow f_{Y}\\left(u_{o = \\text{Pa}(i)}, x_i, t_i, \\epsilon_{y_i} \\right) \\\\\n",
    "\\end{align}$$\n",
    "\n",
    "where $o =1, \\dots, N_O$ indexes the number of latent confounders $U_o$, $i = 1, \\dots, N_I$ indexes covariables\n",
    "$X_i$, treatments $T_i$ and outcomes $Y_i$ all of which we assume to be univariate for simplicity, but w.l.o.g can also be multivariate.\n",
    "\n",
    "Before we define the model from <span>Witty <i>et al.</i>, 2020</span>, we generate some data to define the problem we are dealing with. We first define the sample sizes, number of latent confounders, dimensionality of $X$ and $U$ and noise variances:"
   ]
  },
  {
   "cell_type": "code",
   "execution_count": 3,
   "metadata": {},
   "outputs": [],
   "source": [
    "N_O = 20\n",
    "N_I = N_O * 10\n",
    "P_X = P_U = 1\n",
    "\n",
    "sigma_u = sigma_x = sigma_tr = sigma_y = 0.1"
   ]
  },
  {
   "cell_type": "code",
   "execution_count": 4,
   "metadata": {},
   "outputs": [],
   "source": [
    "i_to_o = np.repeat(np.arange(N_O), int(N_I / N_O))"
   ]
  },
  {
   "cell_type": "markdown",
   "metadata": {},
   "source": [
    "We then sample data following a synthetic evaluation from the paper."
   ]
  },
  {
   "cell_type": "code",
   "execution_count": 5,
   "metadata": {},
   "outputs": [],
   "source": [
    "rng_key = random.PRNGKey(23)"
   ]
  },
  {
   "cell_type": "code",
   "execution_count": 6,
   "metadata": {},
   "outputs": [],
   "source": [
    "rng_key, sample_key = random.split(rng_key, 2)\n",
    "U = random.multivariate_normal(\n",
    "    sample_key, \n",
    "    mean=np.zeros(P_U),\n",
    "    cov=np.eye(P_U) * sigma_u,\n",
    "    shape=(N_O,)\n",
    ")"
   ]
  },
  {
   "cell_type": "code",
   "execution_count": 7,
   "metadata": {},
   "outputs": [],
   "source": [
    "rng_key, sample_key = random.split(rng_key, 2)\n",
    "X_eps = random.multivariate_normal(\n",
    "    sample_key, \n",
    "    mean=np.zeros(P_X),\n",
    "    cov=np.eye(P_X) * sigma_x,\n",
    "    shape=(N_I,)    \n",
    ")\n",
    "X = U[i_to_o] + X_eps"
   ]
  },
  {
   "cell_type": "code",
   "execution_count": 8,
   "metadata": {},
   "outputs": [],
   "source": [
    "def gt(x, u, i_to_o):\n",
    "    xs = np.sum(x * np.sin(x), axis=1)\n",
    "    us = np.sum(u[i_to_o] * np.sin(u[i_to_o]), axis=1)\n",
    "    return xs - us\n",
    "  \n",
    "rng_key, sample_key = random.split(rng_key, 2)\n",
    "tr_eps = random.normal(\n",
    "    sample_key, \n",
    "    shape=(N_I,)\n",
    ") * sigma_tr\n",
    "tr = gt(X, U, i_to_o) + tr_eps"
   ]
  },
  {
   "cell_type": "code",
   "execution_count": 9,
   "metadata": {},
   "outputs": [],
   "source": [
    "def gy(t, x, u, i_to_o):\n",
    "    ts = t * np.sin(2 * t)\n",
    "    xs = np.sum(x * np.sin(x), axis=1)\n",
    "    us = np.sum(u[i_to_o] * np.sin(u[i_to_o]), axis=1)\n",
    "    return ts + xs + 3 * us\n",
    "  \n",
    "rng_key, sample_key = random.split(rng_key, 2)\n",
    "y_eps = random.normal(\n",
    "    sample_key, \n",
    "    shape=(N_I,)\n",
    ") * sigma_y\n",
    "y = gy(tr, X, U, i_to_o) + y_eps"
   ]
  },
  {
   "cell_type": "markdown",
   "metadata": {},
   "source": [
    "Let's visualize this. Note that the functional relationship between $U$ and any other variable $X, T, Y$ is - similar to a factor model - basically discrete, since $N_O < N_I$."
   ]
  },
  {
   "cell_type": "code",
   "execution_count": 10,
   "metadata": {},
   "outputs": [
    {
     "data": {
      "image/png": "[encoded data removed]",
      "text/plain": [
       "<Figure size 720x720 with 14 Axes>"
      ]
     },
     "metadata": {},
     "output_type": "display_data"
    }
   ],
   "source": [
    "pld = pd.DataFrame(\n",
    "    {\"$U$\": U[i_to_o, 0], \"$X$\": X[:,0], \"$T$\": tr, \"$Y$\": y}\n",
    ")\n",
    "\n",
    "_ = sns.pairplot(\n",
    "    pld,\n",
    "    palette=\"black\",\n",
    "    plot_kws=dict(marker=\"+\", color=\"black\"),\n",
    "    diag_kws=dict(color=\"black\"),\n",
    "    corner=True\n",
    ")\n",
    "plt.show()"
   ]
  },
  {
   "cell_type": "markdown",
   "metadata": {},
   "source": [
    "For Stan, we wrap the data into a dictionary:"
   ]
  },
  {
   "cell_type": "code",
   "execution_count": 11,
   "metadata": {},
   "outputs": [],
   "source": [
    "data = {\n",
    "    \"N_I\": N_I,\n",
    "    \"N_O\": N_O,\n",
    "    \"i_to_o\": onp.asarray(i_to_o + 1),\n",
    "    \"X\": onp.asarray(np.squeeze(X)),\n",
    "    \"tr\": onp.asarray(tr),\n",
    "    \"y\": onp.asarray(y),\n",
    "    \"alpha\": 5.0,\n",
    "    \"beta\": 5.0\n",
    "}"
   ]
  },
  {
   "cell_type": "markdown",
   "metadata": {},
   "source": [
    "In addition, we define a sampling method such that we can time inference of posterior distributions of a model. We sample a total of $3000$ times on two separate chains of which we discard the first $1000$ samples which is usually more than enough for HMC."
   ]
  },
  {
   "cell_type": "code",
   "execution_count": 12,
   "metadata": {},
   "outputs": [],
   "source": [
    "def sample(model, data, iter_warmup=1000, iter_sampling=2000):\n",
    "    return model.sample(\n",
    "        data=data, \n",
    "        iter_warmup=iter_warmup,\n",
    "        iter_sampling=iter_sampling,\n",
    "        chains=2, \n",
    "        parallel_chains=2, \n",
    "        show_progress=False,\n",
    "        seed=23\n",
    "    )"
   ]
  },
  {
   "cell_type": "markdown",
   "metadata": {},
   "source": [
    "We also define a function to compile a model:"
   ]
  },
  {
   "cell_type": "code",
   "execution_count": 13,
   "metadata": {},
   "outputs": [],
   "source": [
    "def compile(model_file):\n",
    "    model = CmdStanModel(stan_file=model_file)\n",
    "    return model"
   ]
  },
  {
   "cell_type": "markdown",
   "metadata": {},
   "source": [
    "## A Gaussian process model\n",
    "\n",
    "<span>Witty <i>et al.</i> (2020)</span> propose a semi-parametric model that models every structural equation using a GP (if I translate this correctly from the paper)\n",
    "\n",
    "\\begin{align}\n",
    "\\rho & \\sim \\text{InvGamma}(5, 5) \\\\\n",
    "\\sigma & \\sim \\text{HalfNormal}(1) \\\\\n",
    "u & \\sim  \\text{MvNormal}(0, \\sigma_U^2 I) \\\\\n",
    "x & \\sim \\text{GP}\\left(0, K_X\\left(u_{o = \\text{Pa}(i)}, u_{o = \\text{Pa}(i)}\\right) + \\sigma_X^2 I \\right) \\\\\n",
    "t & \\sim \\text{GP}\\left(0, K_T\\left(\\left[u_{o = \\text{Pa}(i)}, x_i \\right], \\left[u_{o = \\text{Pa}(i)}, x_i \\right]\\right) + \\sigma_T^2 I \\right) \\\\\n",
    "y & \\sim \\text{GP}\\left(0, K_Y\\left(\\left[u_{o = \\text{Pa}(i)}, x_i, t_i \\right], \\left[u_{o = \\text{Pa}(i)}, x_i, t_i \\right]\\right) + \\sigma_Y^2 I \\right) \\\\\n",
    "\\end{align}\n",
    "\n",
    "where the notation $[a, b]$ concatenates the row-vectors $a$ and $b$ along the same axis and every covariance function $K_k$ is an exponentiated-quadratic covariance function with automatic relevance determination, i.e., for every dimension of a feature vector a separate length-scale is introduced. For instance, $K_X\\left(u_{o = \\text{Pa}(i)}, u_{o = \\text{Pa}(i)}\\right)$ for univariate $u$ and $i$ uses three hyperparamters.\n",
    "\n",
    "On first view, this model seems difficult to fit with common probabilistic languages and Hamiltonian Monte Carlo. \n",
    "The regression of $X$ on $U$ is a Gaussian process latent variable model which is in itself is not trivial to work with, even though to help identify the kernel parameters of $K_X$ statistical strength can be borrowed from the regressions of $T$ and $Y$ onto $U$. In addition, the posterior geometry looks to be challenging to explore due to the high number of positively-constrained parameters and the somewhat awkward covariance structure of $K_X\\left(u_{o = \\text{Pa}(i)}, u_{o = \\text{Pa}(i)}\\right)$. Lastly, for low sample sizes both $u$ and the kernel hyperparameters might be only weakly identified (if at all) which for interpretation of the results is undesirable."
   ]
  },
  {
   "cell_type": "markdown",
   "metadata": {},
   "source": [
    "Let's try to fit this model."
   ]
  },
  {
   "cell_type": "code",
   "execution_count": 14,
   "metadata": {},
   "outputs": [
    {
     "name": "stdout",
     "output_type": "stream",
     "text": [
      "ERROR:cmdstanpy:Chain 1 terminated by signal -2\n",
      " error message:\n",
      "\tInformational Message: The current Metropolis proposal is about to be rejected because of the following issue:\n",
      "Exception: gp_exp_quad_cov: magnitude is inf, but must be positive finite! (in '/home/simon/PROJECTS/_etudes/_models/causal_inference_using_tensor_product_smoothing_splines/gp_model.stan', line 57, column 4 to line 59, column 56)\n",
      "If this warning occurs sporadically, such as for highly constrained variable types like covariance matrices, then the sampler is fine,\n",
      "but if this warning occurs often then your model may be either severely ill-conditioned or misspecified.\n",
      "\n",
      "Informational Message: The current Metropolis proposal is about to be rejected because of the following issue:\n",
      "Exception: cholesky_decompose: Matrix m is not positive definite (in '/home/simon/PROJECTS/_etudes/_models/causal_inference_using_tensor_product_smoothing_splines/gp_model.stan', line 60, column 4 to column 49)\n",
      "If this warning occurs sporadically, such as for highly constrained variable types like covariance matrices, then the sampler is fine,\n",
      "but if this warning occurs often then your model may be either severely ill-conditioned or misspecified.\n",
      "\n",
      "\n",
      "ERROR:cmdstanpy:Chain 2 processing error, non-zero return code 1\n",
      " error message:\n",
      "\tCan't open specified file, \"/tmp/tmpg4_1z6cz/z60vnh48.json\"\n",
      "\n",
      "\n"
     ]
    },
    {
     "ename": "KeyboardInterrupt",
     "evalue": "",
     "output_type": "error",
     "traceback": [
      "\u001b[0;31m---------------------------------------------------------------------------\u001b[0m",
      "\u001b[0;31mKeyboardInterrupt\u001b[0m                         Traceback (most recent call last)",
      "\u001b[0;32m/tmp/ipykernel_45738/932937040.py\u001b[0m in \u001b[0;36m<module>\u001b[0;34m\u001b[0m\n\u001b[1;32m      5\u001b[0m \u001b[0;34m\u001b[0m\u001b[0m\n\u001b[1;32m      6\u001b[0m \u001b[0mmodel\u001b[0m \u001b[0;34m=\u001b[0m \u001b[0mcompile\u001b[0m\u001b[0;34m(\u001b[0m\u001b[0mgp_model_file\u001b[0m\u001b[0;34m)\u001b[0m\u001b[0;34m\u001b[0m\u001b[0;34m\u001b[0m\u001b[0m\n\u001b[0;32m----> 7\u001b[0;31m \u001b[0mfit\u001b[0m \u001b[0;34m=\u001b[0m \u001b[0msample\u001b[0m\u001b[0;34m(\u001b[0m\u001b[0mmodel\u001b[0m\u001b[0;34m,\u001b[0m \u001b[0mdata\u001b[0m\u001b[0;34m)\u001b[0m\u001b[0;34m\u001b[0m\u001b[0;34m\u001b[0m\u001b[0m\n\u001b[0m",
      "\u001b[0;32m/tmp/ipykernel_45738/1548643913.py\u001b[0m in \u001b[0;36msample\u001b[0;34m(model, data, iter_warmup, iter_sampling)\u001b[0m\n\u001b[1;32m      1\u001b[0m \u001b[0;32mdef\u001b[0m \u001b[0msample\u001b[0m\u001b[0;34m(\u001b[0m\u001b[0mmodel\u001b[0m\u001b[0;34m,\u001b[0m \u001b[0mdata\u001b[0m\u001b[0;34m,\u001b[0m \u001b[0miter_warmup\u001b[0m\u001b[0;34m=\u001b[0m\u001b[0;36m1000\u001b[0m\u001b[0;34m,\u001b[0m \u001b[0miter_sampling\u001b[0m\u001b[0;34m=\u001b[0m\u001b[0;36m2000\u001b[0m\u001b[0;34m)\u001b[0m\u001b[0;34m:\u001b[0m\u001b[0;34m\u001b[0m\u001b[0;34m\u001b[0m\u001b[0m\n\u001b[0;32m----> 2\u001b[0;31m     return model.sample(\n\u001b[0m\u001b[1;32m      3\u001b[0m         \u001b[0mdata\u001b[0m\u001b[0;34m=\u001b[0m\u001b[0mdata\u001b[0m\u001b[0;34m,\u001b[0m\u001b[0;34m\u001b[0m\u001b[0;34m\u001b[0m\u001b[0m\n\u001b[1;32m      4\u001b[0m         \u001b[0miter_warmup\u001b[0m\u001b[0;34m=\u001b[0m\u001b[0miter_warmup\u001b[0m\u001b[0;34m,\u001b[0m\u001b[0;34m\u001b[0m\u001b[0;34m\u001b[0m\u001b[0m\n\u001b[1;32m      5\u001b[0m         \u001b[0miter_sampling\u001b[0m\u001b[0;34m=\u001b[0m\u001b[0miter_sampling\u001b[0m\u001b[0;34m,\u001b[0m\u001b[0;34m\u001b[0m\u001b[0;34m\u001b[0m\u001b[0m\n",
      "\u001b[0;32m~/miniconda3/envs/etudes-dev/lib/python3.8/site-packages/cmdstanpy/model.py\u001b[0m in \u001b[0;36msample\u001b[0;34m(self, data, chains, parallel_chains, threads_per_chain, seed, chain_ids, inits, iter_warmup, iter_sampling, save_warmup, thin, max_treedepth, metric, step_size, adapt_engaged, adapt_delta, adapt_init_phase, adapt_metric_window, adapt_step_size, fixed_param, output_dir, sig_figs, save_diagnostics, save_profile, show_progress, refresh)\u001b[0m\n\u001b[1;32m    869\u001b[0m                         )\n\u001b[1;32m    870\u001b[0m                         \u001b[0mall_pbars\u001b[0m\u001b[0;34m.\u001b[0m\u001b[0mappend\u001b[0m\u001b[0;34m(\u001b[0m\u001b[0mpbar\u001b[0m\u001b[0;34m)\u001b[0m\u001b[0;34m\u001b[0m\u001b[0;34m\u001b[0m\u001b[0m\n\u001b[0;32m--> 871\u001b[0;31m                     \u001b[0mexecutor\u001b[0m\u001b[0;34m.\u001b[0m\u001b[0msubmit\u001b[0m\u001b[0;34m(\u001b[0m\u001b[0mself\u001b[0m\u001b[0;34m.\u001b[0m\u001b[0m_run_cmdstan\u001b[0m\u001b[0;34m,\u001b[0m \u001b[0mrunset\u001b[0m\u001b[0;34m,\u001b[0m \u001b[0mi\u001b[0m\u001b[0;34m,\u001b[0m \u001b[0mpbar\u001b[0m\u001b[0;34m)\u001b[0m\u001b[0;34m\u001b[0m\u001b[0;34m\u001b[0m\u001b[0m\n\u001b[0m\u001b[1;32m    872\u001b[0m \u001b[0;34m\u001b[0m\u001b[0m\n\u001b[1;32m    873\u001b[0m             \u001b[0;31m# Closing all progress bars\u001b[0m\u001b[0;34m\u001b[0m\u001b[0;34m\u001b[0m\u001b[0;34m\u001b[0m\u001b[0m\n",
      "\u001b[0;32m~/miniconda3/envs/etudes-dev/lib/python3.8/concurrent/futures/_base.py\u001b[0m in \u001b[0;36m__exit__\u001b[0;34m(self, exc_type, exc_val, exc_tb)\u001b[0m\n\u001b[1;32m    642\u001b[0m \u001b[0;34m\u001b[0m\u001b[0m\n\u001b[1;32m    643\u001b[0m     \u001b[0;32mdef\u001b[0m \u001b[0m__exit__\u001b[0m\u001b[0;34m(\u001b[0m\u001b[0mself\u001b[0m\u001b[0;34m,\u001b[0m \u001b[0mexc_type\u001b[0m\u001b[0;34m,\u001b[0m \u001b[0mexc_val\u001b[0m\u001b[0;34m,\u001b[0m \u001b[0mexc_tb\u001b[0m\u001b[0;34m)\u001b[0m\u001b[0;34m:\u001b[0m\u001b[0;34m\u001b[0m\u001b[0;34m\u001b[0m\u001b[0m\n\u001b[0;32m--> 644\u001b[0;31m         \u001b[0mself\u001b[0m\u001b[0;34m.\u001b[0m\u001b[0mshutdown\u001b[0m\u001b[0;34m(\u001b[0m\u001b[0mwait\u001b[0m\u001b[0;34m=\u001b[0m\u001b[0;32mTrue\u001b[0m\u001b[0;34m)\u001b[0m\u001b[0;34m\u001b[0m\u001b[0;34m\u001b[0m\u001b[0m\n\u001b[0m\u001b[1;32m    645\u001b[0m         \u001b[0;32mreturn\u001b[0m \u001b[0;32mFalse\u001b[0m\u001b[0;34m\u001b[0m\u001b[0;34m\u001b[0m\u001b[0m\n\u001b[1;32m    646\u001b[0m \u001b[0;34m\u001b[0m\u001b[0m\n",
      "\u001b[0;32m~/miniconda3/envs/etudes-dev/lib/python3.8/concurrent/futures/thread.py\u001b[0m in \u001b[0;36mshutdown\u001b[0;34m(self, wait)\u001b[0m\n\u001b[1;32m    234\u001b[0m         \u001b[0;32mif\u001b[0m \u001b[0mwait\u001b[0m\u001b[0;34m:\u001b[0m\u001b[0;34m\u001b[0m\u001b[0;34m\u001b[0m\u001b[0m\n\u001b[1;32m    235\u001b[0m             \u001b[0;32mfor\u001b[0m \u001b[0mt\u001b[0m \u001b[0;32min\u001b[0m \u001b[0mself\u001b[0m\u001b[0;34m.\u001b[0m\u001b[0m_threads\u001b[0m\u001b[0;34m:\u001b[0m\u001b[0;34m\u001b[0m\u001b[0;34m\u001b[0m\u001b[0m\n\u001b[0;32m--> 236\u001b[0;31m                 \u001b[0mt\u001b[0m\u001b[0;34m.\u001b[0m\u001b[0mjoin\u001b[0m\u001b[0;34m(\u001b[0m\u001b[0;34m)\u001b[0m\u001b[0;34m\u001b[0m\u001b[0;34m\u001b[0m\u001b[0m\n\u001b[0m\u001b[1;32m    237\u001b[0m     \u001b[0mshutdown\u001b[0m\u001b[0;34m.\u001b[0m\u001b[0m__doc__\u001b[0m \u001b[0;34m=\u001b[0m \u001b[0m_base\u001b[0m\u001b[0;34m.\u001b[0m\u001b[0mExecutor\u001b[0m\u001b[0;34m.\u001b[0m\u001b[0mshutdown\u001b[0m\u001b[0;34m.\u001b[0m\u001b[0m__doc__\u001b[0m\u001b[0;34m\u001b[0m\u001b[0;34m\u001b[0m\u001b[0m\n",
      "\u001b[0;32m~/miniconda3/envs/etudes-dev/lib/python3.8/threading.py\u001b[0m in \u001b[0;36mjoin\u001b[0;34m(self, timeout)\u001b[0m\n\u001b[1;32m   1009\u001b[0m \u001b[0;34m\u001b[0m\u001b[0m\n\u001b[1;32m   1010\u001b[0m         \u001b[0;32mif\u001b[0m \u001b[0mtimeout\u001b[0m \u001b[0;32mis\u001b[0m \u001b[0;32mNone\u001b[0m\u001b[0;34m:\u001b[0m\u001b[0;34m\u001b[0m\u001b[0;34m\u001b[0m\u001b[0m\n\u001b[0;32m-> 1011\u001b[0;31m             \u001b[0mself\u001b[0m\u001b[0;34m.\u001b[0m\u001b[0m_wait_for_tstate_lock\u001b[0m\u001b[0;34m(\u001b[0m\u001b[0;34m)\u001b[0m\u001b[0;34m\u001b[0m\u001b[0;34m\u001b[0m\u001b[0m\n\u001b[0m\u001b[1;32m   1012\u001b[0m         \u001b[0;32melse\u001b[0m\u001b[0;34m:\u001b[0m\u001b[0;34m\u001b[0m\u001b[0;34m\u001b[0m\u001b[0m\n\u001b[1;32m   1013\u001b[0m             \u001b[0;31m# the behavior of a negative timeout isn't documented, but\u001b[0m\u001b[0;34m\u001b[0m\u001b[0;34m\u001b[0m\u001b[0;34m\u001b[0m\u001b[0m\n",
      "\u001b[0;32m~/miniconda3/envs/etudes-dev/lib/python3.8/threading.py\u001b[0m in \u001b[0;36m_wait_for_tstate_lock\u001b[0;34m(self, block, timeout)\u001b[0m\n\u001b[1;32m   1025\u001b[0m         \u001b[0;32mif\u001b[0m \u001b[0mlock\u001b[0m \u001b[0;32mis\u001b[0m \u001b[0;32mNone\u001b[0m\u001b[0;34m:\u001b[0m  \u001b[0;31m# already determined that the C code is done\u001b[0m\u001b[0;34m\u001b[0m\u001b[0;34m\u001b[0m\u001b[0m\n\u001b[1;32m   1026\u001b[0m             \u001b[0;32massert\u001b[0m \u001b[0mself\u001b[0m\u001b[0;34m.\u001b[0m\u001b[0m_is_stopped\u001b[0m\u001b[0;34m\u001b[0m\u001b[0;34m\u001b[0m\u001b[0m\n\u001b[0;32m-> 1027\u001b[0;31m         \u001b[0;32melif\u001b[0m \u001b[0mlock\u001b[0m\u001b[0;34m.\u001b[0m\u001b[0macquire\u001b[0m\u001b[0;34m(\u001b[0m\u001b[0mblock\u001b[0m\u001b[0;34m,\u001b[0m \u001b[0mtimeout\u001b[0m\u001b[0;34m)\u001b[0m\u001b[0;34m:\u001b[0m\u001b[0;34m\u001b[0m\u001b[0;34m\u001b[0m\u001b[0m\n\u001b[0m\u001b[1;32m   1028\u001b[0m             \u001b[0mlock\u001b[0m\u001b[0;34m.\u001b[0m\u001b[0mrelease\u001b[0m\u001b[0;34m(\u001b[0m\u001b[0;34m)\u001b[0m\u001b[0;34m\u001b[0m\u001b[0;34m\u001b[0m\u001b[0m\n\u001b[1;32m   1029\u001b[0m             \u001b[0mself\u001b[0m\u001b[0;34m.\u001b[0m\u001b[0m_stop\u001b[0m\u001b[0;34m(\u001b[0m\u001b[0;34m)\u001b[0m\u001b[0;34m\u001b[0m\u001b[0;34m\u001b[0m\u001b[0m\n",
      "\u001b[0;31mKeyboardInterrupt\u001b[0m: "
     ]
    }
   ],
   "source": [
    "models_folder = \"_models/causal_inference_using_tensor_product_smoothing_splines\"\n",
    "gp_model_file = os.path.join(\n",
    "    models_folder, \"gp_model.stan\"\n",
    ")\n",
    "\n",
    "model = compile(gp_model_file)\n",
    "fit = sample(model, data)"
   ]
  },
  {
   "cell_type": "markdown",
   "metadata": {},
   "source": [
    "The fit was tremendously slow which is usually a sign of a very unfavourable posterior geometry. Let's have a look at posterior diagnostics."
   ]
  },
  {
   "cell_type": "code",
   "execution_count": null,
   "metadata": {},
   "outputs": [],
   "source": [
    "print(fit.diagnose())"
   ]
  },
  {
   "cell_type": "markdown",
   "metadata": {},
   "source": [
    "Let's also have a look at the energy plot and a trace plot of $U$ and $\\sigma_U$."
   ]
  },
  {
   "cell_type": "code",
   "execution_count": null,
   "metadata": {},
   "outputs": [],
   "source": [
    "posterior_az = az.from_cmdstanpy(fit)\n",
    "\n",
    "_, ax = plt.subplots(figsize=(8, 3))\n",
    "_ = az.plot_energy(\n",
    "    posterior_az,\n",
    "    ax=ax, \n",
    "    fill_color=[\"#233B43\", \"darkgrey\"]\n",
    ");\n",
    "_ = ax.legend(title=\"\", bbox_to_anchor=(1.2, 0.5))\n",
    "plt.show()"
   ]
  },
  {
   "cell_type": "code",
   "execution_count": null,
   "metadata": {},
   "outputs": [],
   "source": [
    "_, axes = plt.subplots(ncols=2, nrows=2, figsize=(12, 8))\n",
    "_ = az.plot_trace(\n",
    "    posterior_az,\n",
    "    axes=axes,\n",
    "    var_names=[\"u_scale\", \"U\"],\n",
    "    chain_prop={\"color\": palettes.discrete_qualitative_colors(2)}\n",
    ")\n",
    "plt.show()"
   ]
  },
  {
   "cell_type": "markdown",
   "metadata": {},
   "source": [
    "The MCMC diagnostics are worrisome. Not only did the chains not mix, the effective sample size of some parameters is approximately one. We could just sample longer chains, increase the `tree-depth` or decrease `adapt-delta`, but this model seems too pathological to fit successfully (at least for this data set).\n",
    "\n",
    "I assume the low effective sample size when using HMC was one of the reasons why the authors used an elliptical slice sampler for the confounders. They note however: \"*[the model] tends to underestimate the uncertainty in [the counterfactual] estimates. In other words, the posterior density on the ground-truth counterfactual is sometimes low, despite the fact that the mean estimate is close to the ground-truth relative to the baselines. We suspect that this is partially attributable to inaccuracies resulting from our approximate inference procedure*\". Hence, it might very well be that their sampling scheme produces the same pathological result (which warrants the question why they didn't include diagnostics given that the model seems either ill-defined or at least hard to work with in practice, and given that there are apparently *inaccuracies resulting from our approximate inference procedure*)."
   ]
  },
  {
   "cell_type": "markdown",
   "metadata": {},
   "source": [
    "## A second GP model\n",
    "\n",
    "The inference of $U$ seems to be problematic. Let's try a simpler model, where we replace the GP regression of $X$ on $U$ with a single linear predictor:\n",
    "\n",
    "$$\\begin{align}\n",
    "\\rho & \\sim \\text{InvGamma}(5, 5) \\\\\n",
    "\\sigma & \\sim \\text{HalfNormal}(1) \\\\\n",
    "u & \\sim \\text{MvNormal}(0, \\sigma_U^2 I) \\\\\n",
    "\\beta & \\sim  \\text{Normal}(0, 1) \\\\\n",
    "x_i & \\sim \\text{Normal}\\left(u_{o = \\text{Pa}(i)}\\beta, \\sigma_X^2 \\right) \\\\\n",
    "t & \\sim \\text{GP}\\left(0, K_T\\left(\\left[u_{o = \\text{Pa}(i)}, x_i \\right], \\left[u_{o = \\text{Pa}(i)}, x_i \\right]\\right) + \\sigma_T^2 I \\right) \\\\\n",
    "y & \\sim \\text{GP}\\left(0, K_Y\\left(\\left[u_{o = \\text{Pa}(i)}, x_i, t_i \\right], \\left[u_{o = \\text{Pa}(i)}, x_i, t_i \\right]\\right) + \\sigma_Y^2 I \\right) \\\\\n",
    "\\end{align}$$\n",
    "\n",
    "This change is somewhat sensible. This $N_O < N_I$ we cannot really estimate a smooth function anyway."
   ]
  },
  {
   "cell_type": "markdown",
   "metadata": {},
   "source": [
    "Let's try fitting this model."
   ]
  },
  {
   "cell_type": "code",
   "execution_count": null,
   "metadata": {},
   "outputs": [],
   "source": [
    "gplinear_model_file = os.path.join(\n",
    "    models_folder, \"gp+linear_model.stan\"\n",
    ")\n",
    "\n",
    "model = compile(gplinear_model_file)\n",
    "fit = sample(model, data)"
   ]
  },
  {
   "cell_type": "markdown",
   "metadata": {},
   "source": [
    "The fit was a bit faster. What are the diagnostics saying?"
   ]
  },
  {
   "cell_type": "code",
   "execution_count": null,
   "metadata": {},
   "outputs": [],
   "source": [
    "print(fit.diagnose())"
   ]
  },
  {
   "cell_type": "code",
   "execution_count": null,
   "metadata": {},
   "outputs": [],
   "source": [
    "posterior_az = az.from_cmdstanpy(fit)\n",
    "\n",
    "_, ax = plt.subplots(figsize=(8, 3))\n",
    "_ = az.plot_energy(posterior_az, ax=ax, fill_color=[\"#233B43\", \"darkgrey\"]);\n",
    "_ = ax.legend(title=\"\", bbox_to_anchor=(1.2, 0.5))\n",
    "plt.show()"
   ]
  },
  {
   "cell_type": "markdown",
   "metadata": {},
   "source": [
    "The chains still don't seem to converge. The effective sample sizes are worrisome, too. Apparently the GP hyperparameter still do not allow efficiently exploring the posterior manifold."
   ]
  },
  {
   "cell_type": "markdown",
   "metadata": {},
   "source": [
    "## A tensor-product spline model\n",
    "\n",
    "Both models seem to be too hard to sample from to make work in practice and draw statistically reliable conclusions for decision making. As a final approach we simplify the model one more time and replace all functional GP relationships with smoothing splines. Since the regressions $f: U, X \\rightarrow T$ and $f: U, X, T \\rightarrow Y$ use vectorial inputs, we will use a tensor-product smoothing spline <span>(Wood (2006))</span> based on B-spline bases. \n",
    "\n",
    "A spline with of order $m + 1$ with $K$ parameters can be represented as a linear combination of B-spline bases as\n",
    "\n",
    "$$\\begin{equation}\n",
    "f(x) = \\sum_i^K \\alpha_i B_{i, m}(x)\n",
    "\\end{equation}$$\n",
    "\n",
    "where $B_i^m$ are defined recursively via\n",
    "\n",
    "$$\\begin{equation}\n",
    "B_{i, 1}(x) = \\begin{cases}\n",
    "    1 & \\text{if } k_i \\le x < k_{i + 1}\\\\\n",
    "    0 & \\text{otherwise}\n",
    "\\end{cases}\n",
    "\\end{equation}$$\n",
    "\n",
    "and\n",
    "\n",
    "$$\\begin{equation}\n",
    "B_{i, m}(x)_ = \\frac{x - k_i}{k_{i + m + 1} - k_i} B_{i, m - 1}(x) + \\frac{k_{i + m + 2} - x}{k_{i + m + 2} - k_{i + 1}} B_{i + 1, m - 1}(x)\n",
    "\\end{equation}$$\n",
    "\n",
    "To define a B-spline basis with $K$ parameters and order $m + 1$ we will need to define a $K + m + 2$-dimensional vector of knots $k$ (which in practice can be a bit annoying). \n",
    "As Milad Kharratzadeh notes in his [spline case study](https://mc-stan.org/users/documentation/case-studies/splines_in_stan.html), we should define an extended knot sequence to cover the whole span of the knots, but for this case-study we follow the description in <span>Wood (2017)</span> to avoid confusion.\n",
    "\n",
    "To build a B-spline basis in Stan we consequently need to implement this recursive definition. Since this definition only handles univariate inputs, we will use a tensor-product basis over multiple variables. \n",
    "Following <span>Wood (2006)</span>, the constructions of a tensor-product basis starts by constructing low-rank bases $B^V$ for every variable $V$. We then define a tensor-product spline over a set of variables as\n",
    "\n",
    "$$\\begin{equation}\n",
    "f(x, y; \\alpha) = \\sum_k^K \\sum_l^L \\alpha_{kl} B^X_{k,m} B^Y_{l,m}\n",
    "\\end{equation}$$\n",
    "We can extend this construction further for a third variable\n",
    "\n",
    "$$\\begin{equation}\n",
    "f(x, y, z; \\alpha) = \\sum_k^K \\sum_l^L \\sum_j^J \\alpha_{klj} B^X_{k,m} B^Y_{l,m}  B^Z_{j,m}\n",
    "\\end{equation}$$\n",
    "\n",
    "This construction is all we need to define a smooth functions over the three variables. For our model, we will use B-spline bases which are not necessarily low-rank. However, by regularize adjacent pairs of coefficients $\\alpha$ to control the wiggliness of the basis function (see <span>Wood (2017)</span> who explains this way better). "
   ]
  },
  {
   "cell_type": "markdown",
   "metadata": {},
   "source": [
    "Let's test these two models. First we simulate data and fit a conventional B-spline."
   ]
  },
  {
   "cell_type": "code",
   "execution_count": null,
   "metadata": {
    "tags": [
     "hide"
    ]
   },
   "outputs": [],
   "source": [
    "tn = 100\n",
    "tx = np.linspace(-3, 2, tn)\n",
    "ty_mean  = 2 * np.sin(tx)\n",
    "ty = ty_mean + random.normal(\n",
    "  random.PRNGKey(0), shape=(tn,)\n",
    ") * 0.25\n",
    "\n",
    "tdata = {\n",
    "    \"N\": tn,\n",
    "    \"X\": onp.asarray(tx),\n",
    "    \"y\": onp.asarray(ty),\n",
    "    \"degree\": 2,\n",
    "    \"n_knots\": 6,\n",
    "    \"knots\": onp.linspace(-4, 4, 6)\n",
    "}\n",
    "\n",
    "tps_file = os.path.join(models_folder, \"b_spline.stan\")\n",
    "model = compile(tps_file)\n",
    "fit = model.sample(data=tdata, chains=2)\n",
    "ty_star = np.mean(fit.draws_pd(vars=\"y_hat\").values, axis=0)\n",
    "\n",
    "_, ax = plt.subplots(figsize=(8, 3))\n",
    "_ = ax.scatter(tx, ty, marker=\"+\", color=\"black\")\n",
    "_ = ax.plot(\n",
    "    tx,\n",
    "    ty_star, \n",
    "    color=palettes.discrete_qualitative_colors(4)[2]\n",
    ")\n",
    "plt.show()"
   ]
  },
  {
   "cell_type": "markdown",
   "metadata": {},
   "source": [
    "Then we simulate a regression model with two covariables and fit a tensor-product smoother with B-spline bases."
   ]
  },
  {
   "cell_type": "code",
   "execution_count": null,
   "metadata": {
    "tags": [
     "hide"
    ]
   },
   "outputs": [],
   "source": [
    "tn = 100\n",
    "tx1 = np.linspace(-3, 2, tn)\n",
    "tx2 = np.linspace(3, -2, tn)\n",
    "ty_mean  = tx1 * np.sin(tx1) - np.cos(tx2)\n",
    "ty = ty_mean + random.normal(\n",
    "  random.PRNGKey(0), shape=(tn,)\n",
    ") * 0.25\n",
    "\n",
    "tdata = {\n",
    "    \"N\": tn,\n",
    "    \"X\": onp.asarray(np.vstack([tx1, tx2])).T,\n",
    "    \"y\": onp.asarray(ty),\n",
    "    \"degree\": 2,\n",
    "    \"n_knots\": 6,\n",
    "    \"x1_knots\": onp.linspace(-4, 4, 6),\n",
    "    \"x2_knots\": onp.linspace(-4, 4, 6)\n",
    "}\n",
    "\n",
    "tps_file = os.path.join(models_folder, \"tp_spline.stan\")\n",
    "model = compile(tps_file)\n",
    "fit = model.sample(data=tdata, chains=2)\n",
    "ty_star = np.mean(fit.draws_pd(vars=\"y_hat\").values, axis=0)\n",
    "\n",
    "_, axes = plt.subplots(figsize=(12, 4), ncols=2)\n",
    "for i, (ax, tx) in enumerate(zip(axes, [tx1, tx2])):\n",
    "    _ = axes[i].scatter(tx, ty, marker=\"+\", color=\"black\")\n",
    "    _ = axes[i].plot(\n",
    "        tx,\n",
    "        ty_star, \n",
    "        color=palettes.discrete_qualitative_colors(4)[2]\n",
    "    )\n",
    "plt.show()"
   ]
  },
  {
   "cell_type": "markdown",
   "metadata": {},
   "source": [
    "This worked nicely! The fit is not as good as with a Gaussian process but easy to fit. "
   ]
  },
  {
   "cell_type": "markdown",
   "metadata": {},
   "source": [
    "Replacing the GPs in our causal structural model with smoothing splines yields the following generative model:\n",
    "\n",
    "\\begin{align}\n",
    "\\sigma & \\sim \\text{HalfNormal}(1.0) \\\\\n",
    "u & \\sim  \\text{MvNormal}(0, \\sigma_U^2 I) \\\\\n",
    "\\beta_X & \\sim  \\text{Normal}(0, 1) \\\\\n",
    "x_i & \\sim \\text{Normal}\\left(u_{o = \\text{Pa}(i)}\\beta_X, \\sigma_X^2 \\right) \\\\\n",
    "\\beta_{T0} & \\sim \\text{Normal}(0, 1) \\\\\n",
    "\\beta_{Ti} & \\sim \\text{Normal}(\\beta_{T,i-1}, \\sigma_{\\beta_T}) \\\\\n",
    "t_i & \\sim \\text{Normal}\\left(f\\left(u_{o = \\text{Pa}(i)}, x_i\\right)^T \\beta_T, \\sigma_T^2 I \\right) \\\\\n",
    "\\beta_{Y0} & \\sim \\text{Normal}(0, 1) \\\\\n",
    "\\beta_{Yi} & \\sim \\text{Normal}(\\beta_{Y,i-1}, \\sigma_{\\beta_Y}) \\\\\n",
    "y_i & \\sim \\text{Normal}\\left(f\\left(u_{o = \\text{Pa}(i)}, x_i, t_i\\right)^T \\beta_Y, \\sigma_Y^2 I \\right) \\\\\n",
    "\\end{align}"
   ]
  },
  {
   "cell_type": "markdown",
   "metadata": {},
   "source": [
    "where $f(\\dots; \\dots)$ are penalized tensor-product smoothers with B-spline bases as defined above.\n",
    "\n",
    "Before fitting this, we need to define the order of the spline, or equivalently its degree, and a sequence of knots for every variable. For $X$ we can just use quantiles. For $U$ which is latent we use quantiles of a normal with standard deviation $2$ which should cover the entire domain of the posterior. For $T$ which is the treatment, we want to make counterfactual predictions when we increase the treatment in the next steps. Hence we compute the quantiles on all values of $T$ and th $T + 1$. This is arguably a bit awkward, but we need to make sure to cover the entire domain to have a well defined spline basis.\n",
    "We choose a degree of $d=2$, since the pair plots of the data above suggest approximately quadratic relationship (at least since we assume to not know the data generating process)."
   ]
  },
  {
   "cell_type": "code",
   "execution_count": null,
   "metadata": {},
   "outputs": [],
   "source": [
    "data[\"degree\"] = 2\n",
    "data[\"n_knots\"] = 6\n",
    "\n",
    "quantiles = np.linspace(0.001, 0.999, data[\"n_knots\"])\n",
    "u_knots = sp.stats.norm.ppf(loc=0, scale=2, q=quantiles)\n",
    "x_knots = np.quantile(X, q=quantiles)\n",
    "tr_knots = np.quantile(np.concatenate([tr, tr + 1]), q=quantiles)\n",
    "\n",
    "data[\"u_knots\"] = onp.asarray(u_knots)\n",
    "data[\"x_knots\"] = onp.asarray(x_knots)\n",
    "data[\"tr_knots\"] = onp.asarray(tr_knots)"
   ]
  },
  {
   "cell_type": "markdown",
   "metadata": {},
   "source": [
    "We can now fit the model"
   ]
  },
  {
   "cell_type": "code",
   "execution_count": null,
   "metadata": {},
   "outputs": [],
   "source": [
    "tps_model_file = os.path.join(models_folder, \"tps_model.stan\")\n",
    "\n",
    "model = compile(tps_model_file)\n",
    "fit = sample(model, data)"
   ]
  },
  {
   "cell_type": "markdown",
   "metadata": {},
   "source": [
    "The fit is significantly faster. Let's have a look at some diagnostics."
   ]
  },
  {
   "cell_type": "code",
   "execution_count": null,
   "metadata": {},
   "outputs": [],
   "source": [
    "print(fit.diagnose())"
   ]
  },
  {
   "cell_type": "markdown",
   "metadata": {},
   "source": [
    "Diagnostics look excellent."
   ]
  },
  {
   "cell_type": "code",
   "execution_count": null,
   "metadata": {},
   "outputs": [],
   "source": [
    "fit.summary()"
   ]
  },
  {
   "cell_type": "markdown",
   "metadata": {},
   "source": [
    "Let's also look at some plots."
   ]
  },
  {
   "cell_type": "code",
   "execution_count": null,
   "metadata": {},
   "outputs": [],
   "source": [
    "posterior_az = az.from_cmdstanpy(fit)\n",
    "\n",
    "_, ax = plt.subplots(figsize=(8, 3))\n",
    "_ = az.plot_energy(\n",
    "    posterior_az, \n",
    "    ax=ax,\n",
    "    fill_color=[\"#233B43\", \"darkgrey\"]\n",
    ");\n",
    "_ = ax.legend(title=\"\", bbox_to_anchor=(1.2, 0.5))\n",
    "plt.show()"
   ]
  },
  {
   "cell_type": "code",
   "execution_count": null,
   "metadata": {},
   "outputs": [],
   "source": [
    "_, axes = plt.subplots(ncols=2, nrows=2, figsize=(12, 8))\n",
    "_ = az.plot_trace(\n",
    "    posterior_az,\n",
    "    axes=axes,\n",
    "    var_names=[\"u_scale\", \"U\"],\n",
    "    chain_prop={\"color\": palettes.discrete_qualitative_colors(2)}\n",
    ")\n",
    "plt.show()"
   ]
  },
  {
   "cell_type": "markdown",
   "metadata": {},
   "source": [
    "With Stan we can generate simulations from the posterior predictive. Below, we simulated predictive ITE values using the posterior samples as defined in the paper."
   ]
  },
  {
   "cell_type": "code",
   "execution_count": null,
   "metadata": {},
   "outputs": [],
   "source": [
    "ite = gy(tr + 1, X, U, i_to_o) - y\n",
    "\n",
    "ite_star = fit.draws_pd(vars=\"ite\")\n",
    "ite_star = np.quantile(\n",
    "  ite_star.values,\n",
    "  axis=0, \n",
    "  q=np.array([0.05, 0.1, 0.25, 0.5, 0.75, 0.90, 0.95])\n",
    ")\n",
    "\n",
    "_, ax = plt.subplots(figsize=(8, 3))\n",
    "_ = sns.histplot(ite, color=\"#233B43\", ax=ax, stat=\"density\", bins=30)\n",
    "for i in range(ite_star.shape[0]):\n",
    "    _ = sns.kdeplot(\n",
    "        ite_star[i, :],\n",
    "        color=palettes.discrete_qualitative_colors(3)[2],\n",
    "        ax=ax\n",
    "    )\n",
    "plt.show()"
   ]
  },
  {
   "cell_type": "markdown",
   "metadata": {},
   "source": [
    "## License\n",
    "\n",
    "<a rel=\"license\" href=\"http://creativecommons.org/licenses/by-nc/4.0/\"><img align=\"left\" alt=\"Creative Commons License\" style=\"border-width:0\" src=\"https://i.creativecommons.org/l/by-nc/4.0/88x31.png\" /></a> <br><br>\n",
    "\n",
    "The case study is licensed under a <a rel=\"license\" href=\"http://creativecommons.org/licenses/by-nc/4.0/\">Creative Commons Attribution-NonCommercial 4.0 International License</a>."
   ]
  },
  {
   "cell_type": "markdown",
   "metadata": {},
   "source": [
    "## Session info"
   ]
  },
  {
   "cell_type": "code",
   "execution_count": null,
   "metadata": {},
   "outputs": [],
   "source": [
    "import session_info\n",
    "session_info.show(html=False)"
   ]
  },
  {
   "cell_type": "markdown",
   "metadata": {},
   "source": [
    "## Stan files"
   ]
  },
  {
   "cell_type": "code",
   "execution_count": null,
   "metadata": {},
   "outputs": [],
   "source": [
    "print(open(os.path.join(models_folder, \"functions.stan\"), \"r\").read())"
   ]
  },
  {
   "cell_type": "code",
   "execution_count": null,
   "metadata": {},
   "outputs": [],
   "source": [
    "print(open(tps_model_file, \"r\").read())"
   ]
  },
  {
   "cell_type": "markdown",
   "metadata": {},
   "source": [
    "# References\n",
    "\n",
    "D’Amour, Alexander. 2019. “On Multi-Cause Causal Inference with Unobserved Confounding: Counterexamples, Impossibility, and Alternatives.” arXiv Preprint arXiv:1902.10286.\n",
    "\n",
    "Witty, Sam, Kenta Takatsu, David Jensen, and Vikash Mansinghka. 2020. “Causal Inference Using Gaussian Processes with Structured Latent Confounders.” In International Conference on Machine Learning, 10313–23. PMLR.\n",
    "\n",
    "Wood, Simon N. 2006. “Low-Rank Scale-Invariant Tensor Product Smooths for Generalized Additive Mixed Models.” Biometrics 62 (4): 1025–36.\n",
    "\n",
    "Wood, Simon N. 2017. Generalized Additive Models: An Introduction with R. CRC press."
   ]
  }
 ],
 "metadata": {
  "kernelspec": {
   "display_name": "etudes-dev",
   "language": "python",
   "name": "etudes-dev"
  },
  "language_info": {
   "codemirror_mode": {
    "name": "ipython",
    "version": 3
   },
   "file_extension": ".py",
   "mimetype": "text/x-python",
   "name": "python",
   "nbconvert_exporter": "python",
   "pygments_lexer": "ipython3",
   "version": "3.8.12"
  }
 },
 "nbformat": 4,
 "nbformat_minor": 4
}
