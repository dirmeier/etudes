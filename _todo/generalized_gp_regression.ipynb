{
 "cells": [
  {
   "cell_type": "code",
   "execution_count": 1,
   "id": "global-science",
   "metadata": {},
   "outputs": [],
   "source": [
    "import numpy as np\n",
    "import scipy as sp\n",
    "import scipy.stats as st\n",
    "\n",
    "import tensorflow as tf\n",
    "import tensorflow_probability as tfp\n",
    "from tensorflow_probability import distributions as tfd\n",
    "\n",
    "import pymc3 as pm\n",
    "import pystan as stan\n",
    "\n",
    "import gpflow\n",
    "from gpflow.ci_utils import ci_niter\n",
    "from gpflow import set_trainable\n",
    "\n",
    "import arviz as az\n",
    "\n",
    "%matplotlib inline\n",
    "import matplotlib.cm as cmap\n",
    "import matplotlib.pyplot as plt\n",
    "\n",
    "az.style.use([\"arviz-white\", \"arviz-bluish\"])"
   ]
  },
  {
   "cell_type": "code",
   "execution_count": 2,
   "id": "cross-sheriff",
   "metadata": {},
   "outputs": [
    {
     "data": {
      "application/javascript": [
       "\n",
       "            setTimeout(function() {\n",
       "                var nbb_cell_id = 2;\n",
       "                var nbb_unformatted_code = \"%load_ext nb_black\";\n",
       "                var nbb_formatted_code = \"%load_ext nb_black\";\n",
       "                var nbb_cells = Jupyter.notebook.get_cells();\n",
       "                for (var i = 0; i < nbb_cells.length; ++i) {\n",
       "                    if (nbb_cells[i].input_prompt_number == nbb_cell_id) {\n",
       "                        if (nbb_cells[i].get_text() == nbb_unformatted_code) {\n",
       "                             nbb_cells[i].set_text(nbb_formatted_code);\n",
       "                        }\n",
       "                        break;\n",
       "                    }\n",
       "                }\n",
       "            }, 500);\n",
       "            "
      ],
      "text/plain": [
       "<IPython.core.display.Javascript object>"
      ]
     },
     "metadata": {},
     "output_type": "display_data"
    }
   ],
   "source": [
    "%load_ext nb_black"
   ]
  },
  {
   "cell_type": "code",
   "execution_count": 3,
   "id": "mexican-friendship",
   "metadata": {},
   "outputs": [
    {
     "data": {
      "application/javascript": [
       "\n",
       "            setTimeout(function() {\n",
       "                var nbb_cell_id = 3;\n",
       "                var nbb_unformatted_code = \"n = 100\\nrho = 0.2\\nalpha = 2.0\";\n",
       "                var nbb_formatted_code = \"n = 100\\nrho = 0.2\\nalpha = 2.0\";\n",
       "                var nbb_cells = Jupyter.notebook.get_cells();\n",
       "                for (var i = 0; i < nbb_cells.length; ++i) {\n",
       "                    if (nbb_cells[i].input_prompt_number == nbb_cell_id) {\n",
       "                        if (nbb_cells[i].get_text() == nbb_unformatted_code) {\n",
       "                             nbb_cells[i].set_text(nbb_formatted_code);\n",
       "                        }\n",
       "                        break;\n",
       "                    }\n",
       "                }\n",
       "            }, 500);\n",
       "            "
      ],
      "text/plain": [
       "<IPython.core.display.Javascript object>"
      ]
     },
     "metadata": {},
     "output_type": "display_data"
    }
   ],
   "source": [
    "n = 100\n",
    "rho = 0.2\n",
    "alpha = 2.0"
   ]
  },
  {
   "cell_type": "code",
   "execution_count": 4,
   "id": "elect-canyon",
   "metadata": {},
   "outputs": [
    {
     "data": {
      "application/javascript": [
       "\n",
       "            setTimeout(function() {\n",
       "                var nbb_cell_id = 4;\n",
       "                var nbb_unformatted_code = \"x = np.linspace(-1, 1, n)[:, None]\";\n",
       "                var nbb_formatted_code = \"x = np.linspace(-1, 1, n)[:, None]\";\n",
       "                var nbb_cells = Jupyter.notebook.get_cells();\n",
       "                for (var i = 0; i < nbb_cells.length; ++i) {\n",
       "                    if (nbb_cells[i].input_prompt_number == nbb_cell_id) {\n",
       "                        if (nbb_cells[i].get_text() == nbb_unformatted_code) {\n",
       "                             nbb_cells[i].set_text(nbb_formatted_code);\n",
       "                        }\n",
       "                        break;\n",
       "                    }\n",
       "                }\n",
       "            }, 500);\n",
       "            "
      ],
      "text/plain": [
       "<IPython.core.display.Javascript object>"
      ]
     },
     "metadata": {},
     "output_type": "display_data"
    }
   ],
   "source": [
    "x = np.linspace(-1, 1, n)[:, None]"
   ]
  },
  {
   "cell_type": "code",
   "execution_count": 5,
   "id": "supreme-raising",
   "metadata": {},
   "outputs": [
    {
     "name": "stderr",
     "output_type": "stream",
     "text": [
      "INFO:filelock:Lock 140346243233584 acquired on /home/simon/.theano/compiledir_Linux-5.8--generic-x86_64-with-glibc2.10-x86_64-3.8.6-64/.lock\n",
      "INFO:filelock:Lock 140346243233584 released on /home/simon/.theano/compiledir_Linux-5.8--generic-x86_64-with-glibc2.10-x86_64-3.8.6-64/.lock\n",
      "INFO:filelock:Lock 140346239268560 acquired on /home/simon/.theano/compiledir_Linux-5.8--generic-x86_64-with-glibc2.10-x86_64-3.8.6-64/.lock\n",
      "INFO:filelock:Lock 140346239268560 released on /home/simon/.theano/compiledir_Linux-5.8--generic-x86_64-with-glibc2.10-x86_64-3.8.6-64/.lock\n",
      "INFO:filelock:Lock 140346239270816 acquired on /home/simon/.theano/compiledir_Linux-5.8--generic-x86_64-with-glibc2.10-x86_64-3.8.6-64/.lock\n",
      "INFO:filelock:Lock 140346239270816 released on /home/simon/.theano/compiledir_Linux-5.8--generic-x86_64-with-glibc2.10-x86_64-3.8.6-64/.lock\n",
      "INFO:filelock:Lock 140346239352944 acquired on /home/simon/.theano/compiledir_Linux-5.8--generic-x86_64-with-glibc2.10-x86_64-3.8.6-64/.lock\n",
      "INFO:filelock:Lock 140346239352944 released on /home/simon/.theano/compiledir_Linux-5.8--generic-x86_64-with-glibc2.10-x86_64-3.8.6-64/.lock\n",
      "INFO:filelock:Lock 140346239341232 acquired on /home/simon/.theano/compiledir_Linux-5.8--generic-x86_64-with-glibc2.10-x86_64-3.8.6-64/.lock\n",
      "INFO:filelock:Lock 140346239341232 released on /home/simon/.theano/compiledir_Linux-5.8--generic-x86_64-with-glibc2.10-x86_64-3.8.6-64/.lock\n",
      "INFO:filelock:Lock 140346239368400 acquired on /home/simon/.theano/compiledir_Linux-5.8--generic-x86_64-with-glibc2.10-x86_64-3.8.6-64/.lock\n",
      "INFO:filelock:Lock 140346239368400 released on /home/simon/.theano/compiledir_Linux-5.8--generic-x86_64-with-glibc2.10-x86_64-3.8.6-64/.lock\n",
      "INFO:filelock:Lock 140346239375008 acquired on /home/simon/.theano/compiledir_Linux-5.8--generic-x86_64-with-glibc2.10-x86_64-3.8.6-64/.lock\n",
      "INFO:filelock:Lock 140346239375008 released on /home/simon/.theano/compiledir_Linux-5.8--generic-x86_64-with-glibc2.10-x86_64-3.8.6-64/.lock\n",
      "INFO:filelock:Lock 140346239430224 acquired on /home/simon/.theano/compiledir_Linux-5.8--generic-x86_64-with-glibc2.10-x86_64-3.8.6-64/.lock\n",
      "INFO:filelock:Lock 140346239430224 released on /home/simon/.theano/compiledir_Linux-5.8--generic-x86_64-with-glibc2.10-x86_64-3.8.6-64/.lock\n",
      "INFO:filelock:Lock 140346239418272 acquired on /home/simon/.theano/compiledir_Linux-5.8--generic-x86_64-with-glibc2.10-x86_64-3.8.6-64/.lock\n",
      "INFO:filelock:Lock 140346239418272 released on /home/simon/.theano/compiledir_Linux-5.8--generic-x86_64-with-glibc2.10-x86_64-3.8.6-64/.lock\n",
      "INFO:filelock:Lock 140346239504096 acquired on /home/simon/.theano/compiledir_Linux-5.8--generic-x86_64-with-glibc2.10-x86_64-3.8.6-64/.lock\n",
      "INFO:filelock:Lock 140346239504096 released on /home/simon/.theano/compiledir_Linux-5.8--generic-x86_64-with-glibc2.10-x86_64-3.8.6-64/.lock\n",
      "INFO:filelock:Lock 140346239369280 acquired on /home/simon/.theano/compiledir_Linux-5.8--generic-x86_64-with-glibc2.10-x86_64-3.8.6-64/.lock\n",
      "INFO:filelock:Lock 140346239369280 released on /home/simon/.theano/compiledir_Linux-5.8--generic-x86_64-with-glibc2.10-x86_64-3.8.6-64/.lock\n"
     ]
    },
    {
     "data": {
      "application/javascript": [
       "\n",
       "            setTimeout(function() {\n",
       "                var nbb_cell_id = 5;\n",
       "                var nbb_unformatted_code = \"cov = alpha ** 2 * pm.gp.cov.ExpQuad(1, rho)\\nK = cov(x).eval()\";\n",
       "                var nbb_formatted_code = \"cov = alpha ** 2 * pm.gp.cov.ExpQuad(1, rho)\\nK = cov(x).eval()\";\n",
       "                var nbb_cells = Jupyter.notebook.get_cells();\n",
       "                for (var i = 0; i < nbb_cells.length; ++i) {\n",
       "                    if (nbb_cells[i].input_prompt_number == nbb_cell_id) {\n",
       "                        if (nbb_cells[i].get_text() == nbb_unformatted_code) {\n",
       "                             nbb_cells[i].set_text(nbb_formatted_code);\n",
       "                        }\n",
       "                        break;\n",
       "                    }\n",
       "                }\n",
       "            }, 500);\n",
       "            "
      ],
      "text/plain": [
       "<IPython.core.display.Javascript object>"
      ]
     },
     "metadata": {},
     "output_type": "display_data"
    }
   ],
   "source": [
    "cov = alpha ** 2 * pm.gp.cov.ExpQuad(1, rho)\n",
    "K = cov(x).eval()"
   ]
  },
  {
   "cell_type": "code",
   "execution_count": 11,
   "id": "dying-screening",
   "metadata": {},
   "outputs": [
    {
     "data": {
      "application/javascript": [
       "\n",
       "            setTimeout(function() {\n",
       "                var nbb_cell_id = 11;\n",
       "                var nbb_unformatted_code = \"np.random.seed(2)\\ntf.random.set_seed(123)\";\n",
       "                var nbb_formatted_code = \"np.random.seed(2)\\ntf.random.set_seed(123)\";\n",
       "                var nbb_cells = Jupyter.notebook.get_cells();\n",
       "                for (var i = 0; i < nbb_cells.length; ++i) {\n",
       "                    if (nbb_cells[i].input_prompt_number == nbb_cell_id) {\n",
       "                        if (nbb_cells[i].get_text() == nbb_unformatted_code) {\n",
       "                             nbb_cells[i].set_text(nbb_formatted_code);\n",
       "                        }\n",
       "                        break;\n",
       "                    }\n",
       "                }\n",
       "            }, 500);\n",
       "            "
      ],
      "text/plain": [
       "<IPython.core.display.Javascript object>"
      ]
     },
     "metadata": {},
     "output_type": "display_data"
    }
   ],
   "source": [
    "np.random.seed(2)\n",
    "tf.random.set_seed(123)"
   ]
  },
  {
   "cell_type": "code",
   "execution_count": 12,
   "id": "detailed-teens",
   "metadata": {},
   "outputs": [
    {
     "data": {
      "application/javascript": [
       "\n",
       "            setTimeout(function() {\n",
       "                var nbb_cell_id = 12;\n",
       "                var nbb_unformatted_code = \"f = st.multivariate_normal.rvs(cov=K)\\nrate = sp.special.expit(f)\\ny = st.bernoulli.rvs(rate, loc=0, size=n, random_state=None)\";\n",
       "                var nbb_formatted_code = \"f = st.multivariate_normal.rvs(cov=K)\\nrate = sp.special.expit(f)\\ny = st.bernoulli.rvs(rate, loc=0, size=n, random_state=None)\";\n",
       "                var nbb_cells = Jupyter.notebook.get_cells();\n",
       "                for (var i = 0; i < nbb_cells.length; ++i) {\n",
       "                    if (nbb_cells[i].input_prompt_number == nbb_cell_id) {\n",
       "                        if (nbb_cells[i].get_text() == nbb_unformatted_code) {\n",
       "                             nbb_cells[i].set_text(nbb_formatted_code);\n",
       "                        }\n",
       "                        break;\n",
       "                    }\n",
       "                }\n",
       "            }, 500);\n",
       "            "
      ],
      "text/plain": [
       "<IPython.core.display.Javascript object>"
      ]
     },
     "metadata": {},
     "output_type": "display_data"
    }
   ],
   "source": [
    "f = st.multivariate_normal.rvs(cov=K)\n",
    "rate = sp.special.expit(f)\n",
    "y = st.bernoulli.rvs(rate, loc=0, size=n, random_state=None)"
   ]
  },
  {
   "cell_type": "code",
   "execution_count": 8,
   "id": "renewable-drunk",
   "metadata": {},
   "outputs": [
    {
     "data": {
      "image/png": "[encoded data removed]",
      "text/plain": [
       "<Figure size 600x300 with 1 Axes>"
      ]
     },
     "metadata": {},
     "output_type": "display_data"
    },
    {
     "data": {
      "application/javascript": [
       "\n",
       "            setTimeout(function() {\n",
       "                var nbb_cell_id = 8;\n",
       "                var nbb_unformatted_code = \"fig, ax = plt.subplots(figsize=(6, 3))\\nplt.scatter(x, y, color=\\\"black\\\")\\nplt.plot(x, rate, color=\\\"darkblue\\\")\\nax.spines[\\\"right\\\"].set_visible(False)\\nax.spines[\\\"top\\\"].set_visible(False)\\nplt.show()\";\n",
       "                var nbb_formatted_code = \"fig, ax = plt.subplots(figsize=(6, 3))\\nplt.scatter(x, y, color=\\\"black\\\")\\nplt.plot(x, rate, color=\\\"darkblue\\\")\\nax.spines[\\\"right\\\"].set_visible(False)\\nax.spines[\\\"top\\\"].set_visible(False)\\nplt.show()\";\n",
       "                var nbb_cells = Jupyter.notebook.get_cells();\n",
       "                for (var i = 0; i < nbb_cells.length; ++i) {\n",
       "                    if (nbb_cells[i].input_prompt_number == nbb_cell_id) {\n",
       "                        if (nbb_cells[i].get_text() == nbb_unformatted_code) {\n",
       "                             nbb_cells[i].set_text(nbb_formatted_code);\n",
       "                        }\n",
       "                        break;\n",
       "                    }\n",
       "                }\n",
       "            }, 500);\n",
       "            "
      ],
      "text/plain": [
       "<IPython.core.display.Javascript object>"
      ]
     },
     "metadata": {},
     "output_type": "display_data"
    }
   ],
   "source": [
    "fig, ax = plt.subplots(figsize=(6, 3))\n",
    "plt.scatter(x, y, color=\"black\")\n",
    "plt.plot(x, rate, color=\"darkblue\")\n",
    "ax.spines[\"right\"].set_visible(False)\n",
    "ax.spines[\"top\"].set_visible(False)\n",
    "plt.show()"
   ]
  },
  {
   "cell_type": "code",
   "execution_count": 9,
   "id": "retained-compilation",
   "metadata": {},
   "outputs": [
    {
     "data": {
      "application/javascript": [
       "\n",
       "            setTimeout(function() {\n",
       "                var nbb_cell_id = 9;\n",
       "                var nbb_unformatted_code = \"dat = {\\\"N\\\": n, \\\"x\\\": x.flatten(), \\\"y\\\": y.flatten(), \\\"alpha\\\": alpha, \\\"rho\\\": rho}\";\n",
       "                var nbb_formatted_code = \"dat = {\\\"N\\\": n, \\\"x\\\": x.flatten(), \\\"y\\\": y.flatten(), \\\"alpha\\\": alpha, \\\"rho\\\": rho}\";\n",
       "                var nbb_cells = Jupyter.notebook.get_cells();\n",
       "                for (var i = 0; i < nbb_cells.length; ++i) {\n",
       "                    if (nbb_cells[i].input_prompt_number == nbb_cell_id) {\n",
       "                        if (nbb_cells[i].get_text() == nbb_unformatted_code) {\n",
       "                             nbb_cells[i].set_text(nbb_formatted_code);\n",
       "                        }\n",
       "                        break;\n",
       "                    }\n",
       "                }\n",
       "            }, 500);\n",
       "            "
      ],
      "text/plain": [
       "<IPython.core.display.Javascript object>"
      ]
     },
     "metadata": {},
     "output_type": "display_data"
    }
   ],
   "source": [
    "dat = {\"N\": n, \"x\": x.flatten(), \"y\": y.flatten(), \"alpha\": alpha, \"rho\": rho}"
   ]
  },
  {
   "cell_type": "code",
   "execution_count": 10,
   "id": "stylish-illinois",
   "metadata": {},
   "outputs": [
    {
     "name": "stderr",
     "output_type": "stream",
     "text": [
      "INFO:pystan:COMPILING THE C++ CODE FOR MODEL anon_model_d5bff401a9002f8e3e646a97d8fa76ec NOW.\n"
     ]
    },
    {
     "data": {
      "application/javascript": [
       "\n",
       "            setTimeout(function() {\n",
       "                var nbb_cell_id = 10;\n",
       "                var nbb_unformatted_code = \"sm = stan.StanModel(file=\\\"./_models/generalized_gpr.stan\\\")\";\n",
       "                var nbb_formatted_code = \"sm = stan.StanModel(file=\\\"./_models/generalized_gpr.stan\\\")\";\n",
       "                var nbb_cells = Jupyter.notebook.get_cells();\n",
       "                for (var i = 0; i < nbb_cells.length; ++i) {\n",
       "                    if (nbb_cells[i].input_prompt_number == nbb_cell_id) {\n",
       "                        if (nbb_cells[i].get_text() == nbb_unformatted_code) {\n",
       "                             nbb_cells[i].set_text(nbb_formatted_code);\n",
       "                        }\n",
       "                        break;\n",
       "                    }\n",
       "                }\n",
       "            }, 500);\n",
       "            "
      ],
      "text/plain": [
       "<IPython.core.display.Javascript object>"
      ]
     },
     "metadata": {},
     "output_type": "display_data"
    }
   ],
   "source": [
    "sm = stan.StanModel(file=\"./_models/generalized_gpr.stan\")"
   ]
  },
  {
   "cell_type": "code",
   "execution_count": 11,
   "id": "liable-luxury",
   "metadata": {},
   "outputs": [
    {
     "data": {
      "application/javascript": [
       "\n",
       "            setTimeout(function() {\n",
       "                var nbb_cell_id = 11;\n",
       "                var nbb_unformatted_code = \"fit = sm.sampling(data=dat, chains=4)\";\n",
       "                var nbb_formatted_code = \"fit = sm.sampling(data=dat, chains=4)\";\n",
       "                var nbb_cells = Jupyter.notebook.get_cells();\n",
       "                for (var i = 0; i < nbb_cells.length; ++i) {\n",
       "                    if (nbb_cells[i].input_prompt_number == nbb_cell_id) {\n",
       "                        if (nbb_cells[i].get_text() == nbb_unformatted_code) {\n",
       "                             nbb_cells[i].set_text(nbb_formatted_code);\n",
       "                        }\n",
       "                        break;\n",
       "                    }\n",
       "                }\n",
       "            }, 500);\n",
       "            "
      ],
      "text/plain": [
       "<IPython.core.display.Javascript object>"
      ]
     },
     "metadata": {},
     "output_type": "display_data"
    }
   ],
   "source": [
    "fit = sm.sampling(data=dat, chains=4)"
   ]
  },
  {
   "cell_type": "code",
   "execution_count": 12,
   "id": "careful-editor",
   "metadata": {},
   "outputs": [
    {
     "name": "stderr",
     "output_type": "stream",
     "text": [
      "WARNING:pystan:Truncated summary with the 'fit.__repr__' method. For the full summary use 'print(fit)'\n"
     ]
    },
    {
     "data": {
      "text/plain": [
       "\n",
       "Warning: Shown data is truncated to 100 parameters\n",
       "For the full summary use 'print(fit)'\n",
       "\n",
       "Inference for Stan model: anon_model_d5bff401a9002f8e3e646a97d8fa76ec.\n",
       "4 chains, each with iter=2000; warmup=1000; thin=1; \n",
       "post-warmup draws per chain=1000, total post-warmup draws=4000.\n",
       "\n",
       "               mean se_mean     sd   2.5%    25%    50%    75%  97.5%  n_eff   Rhat\n",
       "f_tilde[1]    -1.03  7.4e-3    0.5  -2.06  -1.37  -1.01  -0.69   -0.1   4563    1.0\n",
       "f_tilde[2]     1.03    0.01   0.79  -0.51   0.51   1.02   1.55   2.62   4213    1.0\n",
       "f_tilde[3]     1.14    0.01   0.87  -0.57   0.56   1.12   1.73   2.86   5635    1.0\n",
       "f_tilde[4]     0.69    0.01   0.87  -0.97    0.1   0.68   1.29   2.36   6828    1.0\n",
       "f_tilde[5]     0.38    0.01   0.91   -1.4  -0.23   0.37   0.97   2.18   5172    1.0\n",
       "f_tilde[6]      0.2    0.01   0.95  -1.64  -0.41   0.19   0.84   2.06   7434    1.0\n",
       "f_tilde[7]     0.27    0.01   0.92  -1.53  -0.36   0.27    0.9   2.02   7862    1.0\n",
       "f_tilde[8]     0.25    0.01   0.99  -1.72  -0.43   0.26   0.92   2.14   7640    1.0\n",
       "f_tilde[9]     0.32    0.01   0.94  -1.51   -0.3   0.31   0.95   2.19   6463    1.0\n",
       "f_tilde[10]    0.42    0.01   0.95  -1.47  -0.23   0.43   1.07   2.32   6127    1.0\n",
       "f_tilde[11]     0.4    0.01   0.93  -1.44  -0.21   0.39   1.03   2.21   7819    1.0\n",
       "f_tilde[12]     0.4    0.01   0.98  -1.52  -0.26   0.42   1.06   2.29   6197    1.0\n",
       "f_tilde[13]    0.46    0.01   0.95  -1.34  -0.19   0.45   1.12   2.39   7754    1.0\n",
       "f_tilde[14]    0.45    0.01   0.95   -1.4  -0.18   0.45   1.08   2.33   5668    1.0\n",
       "f_tilde[15]    0.39    0.01   0.97  -1.51  -0.25   0.38   1.04   2.25   7536    1.0\n",
       "f_tilde[16]    0.29    0.01   0.95  -1.56  -0.35   0.28   0.96   2.14   5908    1.0\n",
       "f_tilde[17]    0.26    0.01   0.98  -1.65  -0.41   0.24   0.93   2.23   6963    1.0\n",
       "f_tilde[18]    0.14    0.01   0.95   -1.7   -0.5   0.14   0.78   1.99   7320    1.0\n",
       "f_tilde[19]    0.02    0.01   0.99  -1.99  -0.64   0.03   0.69   1.98   6424    1.0\n",
       "f_tilde[20]    -0.1    0.01   0.96   -2.0  -0.76   -0.1   0.54   1.77   6939    1.0\n",
       "f_tilde[21]    -0.2    0.01   0.96  -2.11  -0.84   -0.2   0.44   1.68   6291    1.0\n",
       "f_tilde[22]   -0.29    0.01   0.95  -2.15  -0.95  -0.29   0.35    1.6   6674    1.0\n",
       "f_tilde[23]   -0.38    0.01   0.98  -2.29  -1.04  -0.39   0.27   1.61   6872    1.0\n",
       "f_tilde[24]   -0.49    0.01   0.94  -2.31  -1.13   -0.5   0.16   1.33   6627    1.0\n",
       "f_tilde[25]   -0.56    0.01   0.99  -2.55  -1.21  -0.54   0.11   1.37   6444    1.0\n",
       "f_tilde[26]   -0.59    0.01   0.99  -2.55  -1.24  -0.59   0.07   1.33   5901    1.0\n",
       "f_tilde[27]   -0.62    0.01   0.99   -2.6  -1.27  -0.62   0.05   1.34   6260    1.0\n",
       "f_tilde[28]   -0.62    0.01   0.96  -2.55  -1.26  -0.59   0.02   1.18   6545    1.0\n",
       "f_tilde[29]    -0.6    0.01   0.94  -2.43  -1.24  -0.61   0.02   1.26   7088    1.0\n",
       "f_tilde[30]   -0.59    0.01   0.98  -2.53  -1.22  -0.58   0.04   1.36   8148    1.0\n",
       "f_tilde[31]   -0.57    0.01   0.96  -2.49  -1.21  -0.55   0.09   1.31   7735    1.0\n",
       "f_tilde[32]    -0.5    0.01   1.02  -2.44  -1.18  -0.53   0.19   1.51   7195    1.0\n",
       "f_tilde[33]   -0.44    0.01   0.96   -2.3  -1.09  -0.47   0.22   1.44   6616    1.0\n",
       "f_tilde[34]   -0.38    0.01   0.98  -2.32  -1.05  -0.37   0.29   1.52   6625    1.0\n",
       "f_tilde[35]   -0.35    0.01   0.96   -2.2   -1.0  -0.36   0.29   1.57   6545    1.0\n",
       "f_tilde[36]   -0.28    0.01   0.96  -2.14  -0.92   -0.3   0.35   1.66   5856    1.0\n",
       "f_tilde[37]   -0.26    0.01   0.97  -2.19  -0.93  -0.24   0.41   1.65   7174    1.0\n",
       "f_tilde[38]   -0.19    0.01   0.97  -2.04  -0.85  -0.19   0.45   1.72   6138    1.0\n",
       "f_tilde[39]   -0.12    0.01    1.0  -2.09  -0.81  -0.11   0.56   1.81   6332    1.0\n",
       "f_tilde[40]   -0.06    0.01   0.94   -1.9  -0.71  -0.06   0.58   1.77   5873    1.0\n",
       "f_tilde[41]   -0.03    0.01   0.97  -1.96  -0.68  -0.02   0.62   1.86   6928    1.0\n",
       "f_tilde[42]  7.2e-3    0.01   0.98  -1.93  -0.64   0.03   0.67   1.94   7954    1.0\n",
       "f_tilde[43]    0.02    0.01   0.96  -1.88  -0.62   0.02   0.67   1.89   7570    1.0\n",
       "f_tilde[44]    0.05    0.01   0.98  -1.84  -0.63   0.04   0.72   1.97   6226    1.0\n",
       "f_tilde[45]    0.06    0.01   0.94  -1.75  -0.56   0.06    0.7   1.88   7921    1.0\n",
       "f_tilde[46]    0.11    0.01   0.96  -1.83  -0.53   0.13   0.74   1.97   7171    1.0\n",
       "f_tilde[47]    0.08    0.01   0.94  -1.73  -0.53   0.07    0.7   1.93   6582    1.0\n",
       "f_tilde[48]    0.07    0.01   0.99  -1.91  -0.61   0.08   0.75   2.02   6773    1.0\n",
       "f_tilde[49]    0.05    0.01   0.98  -1.94  -0.58   0.05   0.71    2.0   6818    1.0\n",
       "f_tilde[50]    0.06    0.01   0.96  -1.86  -0.58   0.06    0.7   1.95   6645    1.0\n",
       "f_tilde[51]    0.05    0.01   0.96  -1.84  -0.61   0.05   0.71   1.92   7381    1.0\n",
       "f_tilde[52]    0.07    0.01   0.97   -1.8  -0.62   0.06   0.73   1.97   7932    1.0\n",
       "f_tilde[53]    0.09    0.01   0.95  -1.79  -0.55   0.09   0.72   1.99   6390    1.0\n",
       "f_tilde[54]    0.08    0.01   0.96  -1.82  -0.59   0.09   0.73   1.98   7271    1.0\n",
       "f_tilde[55]    0.11    0.01   0.96  -1.77  -0.55   0.11   0.77   1.98   7422    1.0\n",
       "f_tilde[56]    0.13    0.01   0.96  -1.77  -0.53   0.12   0.79   2.02   6347    1.0\n",
       "f_tilde[57]     0.2    0.01   0.95  -1.72   -0.4    0.2   0.82   2.08   6740    1.0\n",
       "f_tilde[58]    0.21    0.01   0.94  -1.66  -0.43   0.22   0.84   2.07   6025    1.0\n",
       "f_tilde[59]    0.27    0.01    1.0  -1.71  -0.41   0.27   0.94   2.19   8174    1.0\n",
       "f_tilde[60]    0.32    0.01   0.96  -1.61  -0.31   0.34   0.97   2.18   7150    1.0\n",
       "f_tilde[61]    0.34    0.01   0.96  -1.55   -0.3   0.33   0.96   2.31   7188    1.0\n",
       "f_tilde[62]    0.36    0.01   0.96  -1.55  -0.28   0.35   1.01   2.22   6917    1.0\n",
       "f_tilde[63]    0.43    0.01   0.98  -1.49  -0.24   0.44   1.08   2.31   8543    1.0\n",
       "f_tilde[64]    0.43    0.01   0.98   -1.5  -0.22   0.42   1.06   2.36   7481    1.0\n",
       "f_tilde[65]    0.44    0.01   0.95  -1.45  -0.19   0.42   1.05   2.32   6824    1.0\n",
       "f_tilde[66]    0.45    0.01   0.97  -1.38   -0.2   0.46   1.09   2.37   7183    1.0\n",
       "f_tilde[67]    0.46    0.01    1.0  -1.51  -0.21   0.46   1.13   2.41   7335    1.0\n",
       "f_tilde[68]    0.44    0.01    1.0  -1.57  -0.22   0.45   1.12   2.42   7043    1.0\n",
       "f_tilde[69]    0.45    0.01   0.99  -1.53  -0.22   0.43   1.11   2.42   7728    1.0\n",
       "f_tilde[70]    0.45    0.01   0.98  -1.47  -0.21   0.45   1.11   2.37   6974    1.0\n",
       "f_tilde[71]    0.43    0.01   0.98  -1.47  -0.25   0.45   1.11   2.33   7945    1.0\n",
       "f_tilde[72]    0.45    0.01   0.98  -1.45  -0.22   0.44   1.12   2.41   6953    1.0\n",
       "f_tilde[73]     0.4    0.01   0.99  -1.51  -0.29    0.4   1.08   2.36   6425    1.0\n",
       "f_tilde[74]     0.4    0.01   0.97   -1.5  -0.26   0.39   1.08   2.28   6419    1.0\n",
       "f_tilde[75]    0.37    0.01    1.0  -1.66   -0.3   0.37   1.03   2.35   6707    1.0\n",
       "f_tilde[76]    0.36    0.01   0.97  -1.56  -0.29   0.35   1.01   2.23   6072    1.0\n",
       "f_tilde[77]    0.34    0.01   0.99  -1.58  -0.34   0.34   1.02   2.28   7652    1.0\n",
       "f_tilde[78]    0.32    0.01   0.98  -1.59  -0.34   0.32   0.99   2.28   7491    1.0\n",
       "f_tilde[79]    0.29    0.01   0.96  -1.57  -0.38    0.3   0.94   2.19   6913    1.0\n",
       "f_tilde[80]    0.26    0.01    1.0  -1.72  -0.41   0.26   0.93    2.3   6850    1.0\n",
       "f_tilde[81]    0.24    0.01   0.98  -1.66  -0.44   0.24    0.9   2.14   7807    1.0\n",
       "f_tilde[82]     0.2    0.01   0.98  -1.72  -0.47    0.2   0.86   2.13   8050    1.0\n",
       "f_tilde[83]    0.16    0.01   0.99  -1.77  -0.48   0.16    0.8   2.14   7481    1.0\n",
       "f_tilde[84]    0.16    0.01   0.98  -1.76   -0.5   0.18   0.81    2.1   7669    1.0\n",
       "f_tilde[85]    0.11    0.01   0.98  -1.79  -0.56   0.11   0.78   2.04   7724    1.0\n",
       "f_tilde[86]     0.1    0.01   0.98  -1.83  -0.58   0.07   0.77    2.0   7806    1.0\n",
       "f_tilde[87]    0.07    0.01   0.99  -1.86  -0.58   0.08   0.72   2.08   7124    1.0\n",
       "f_tilde[88]    0.07    0.01   0.96  -1.77  -0.61   0.06   0.74   1.96   7515    1.0\n",
       "f_tilde[89]    0.07    0.01   1.01  -1.86  -0.62   0.06   0.77   2.09   7986    1.0\n",
       "f_tilde[90]    0.02    0.01   1.04  -1.96  -0.71   0.01   0.73   2.07  10496    1.0\n",
       "f_tilde[91]  9.3e-3    0.01   1.01  -2.02  -0.66 6.6e-3    0.7   1.94   6652    1.0\n",
       "f_tilde[92]    0.01    0.01   0.97  -1.88  -0.64   0.01   0.69    1.9   9208    1.0\n",
       "f_tilde[93]    0.02    0.01   0.98  -1.91  -0.63   0.01   0.67    2.0   7426    1.0\n",
       "f_tilde[94]    0.02    0.01    1.0  -1.91  -0.65 9.8e-3   0.73   1.89   6741    1.0\n",
       "f_tilde[95]  6.5e-4    0.01   1.01  -2.06  -0.66 5.8e-4   0.66    2.0   7168    1.0\n",
       "f_tilde[96] -2.7e-3    0.01   0.99   -1.9  -0.66 2.2e-3   0.65   1.91   7630    1.0\n",
       "f_tilde[97]   -0.01    0.01   0.98  -1.86  -0.68  -0.02   0.65   1.91   7420    1.0\n",
       "f_tilde[98]  9.7e-3    0.01    1.0  -1.95  -0.67 9.3e-3   0.68   1.96   9193    1.0\n",
       "f_tilde[99] -5.2e-3    0.01   0.95  -1.86  -0.66 1.7e-3   0.64   1.86   8063    1.0\n",
       "lp__         -81.43    0.17    7.1 -96.56  -86.0 -81.06  -76.5 -68.41   1687    1.0\n",
       "\n",
       "Samples were drawn using NUTS at Wed Feb  3 21:10:14 2021.\n",
       "For each parameter, n_eff is a crude measure of effective sample size,\n",
       "and Rhat is the potential scale reduction factor on split chains (at \n",
       "convergence, Rhat=1)."
      ]
     },
     "execution_count": 12,
     "metadata": {},
     "output_type": "execute_result"
    },
    {
     "data": {
      "application/javascript": [
       "\n",
       "            setTimeout(function() {\n",
       "                var nbb_cell_id = 12;\n",
       "                var nbb_unformatted_code = \"fit\";\n",
       "                var nbb_formatted_code = \"fit\";\n",
       "                var nbb_cells = Jupyter.notebook.get_cells();\n",
       "                for (var i = 0; i < nbb_cells.length; ++i) {\n",
       "                    if (nbb_cells[i].input_prompt_number == nbb_cell_id) {\n",
       "                        if (nbb_cells[i].get_text() == nbb_unformatted_code) {\n",
       "                             nbb_cells[i].set_text(nbb_formatted_code);\n",
       "                        }\n",
       "                        break;\n",
       "                    }\n",
       "                }\n",
       "            }, 500);\n",
       "            "
      ],
      "text/plain": [
       "<IPython.core.display.Javascript object>"
      ]
     },
     "metadata": {},
     "output_type": "display_data"
    }
   ],
   "source": [
    "fit"
   ]
  },
  {
   "cell_type": "code",
   "execution_count": 13,
   "id": "smaller-recorder",
   "metadata": {},
   "outputs": [
    {
     "data": {
      "application/javascript": [
       "\n",
       "            setTimeout(function() {\n",
       "                var nbb_cell_id = 13;\n",
       "                var nbb_unformatted_code = \"extr = fit.extract()\\nf_tildes = extr[\\\"f_tilde\\\"]\";\n",
       "                var nbb_formatted_code = \"extr = fit.extract()\\nf_tildes = extr[\\\"f_tilde\\\"]\";\n",
       "                var nbb_cells = Jupyter.notebook.get_cells();\n",
       "                for (var i = 0; i < nbb_cells.length; ++i) {\n",
       "                    if (nbb_cells[i].input_prompt_number == nbb_cell_id) {\n",
       "                        if (nbb_cells[i].get_text() == nbb_unformatted_code) {\n",
       "                             nbb_cells[i].set_text(nbb_formatted_code);\n",
       "                        }\n",
       "                        break;\n",
       "                    }\n",
       "                }\n",
       "            }, 500);\n",
       "            "
      ],
      "text/plain": [
       "<IPython.core.display.Javascript object>"
      ]
     },
     "metadata": {},
     "output_type": "display_data"
    }
   ],
   "source": [
    "extr = fit.extract()\n",
    "f_tildes = extr[\"f_tilde\"]"
   ]
  },
  {
   "cell_type": "code",
   "execution_count": 14,
   "id": "charitable-cursor",
   "metadata": {},
   "outputs": [
    {
     "data": {
      "application/javascript": [
       "\n",
       "            setTimeout(function() {\n",
       "                var nbb_cell_id = 14;\n",
       "                var nbb_unformatted_code = \"m = len(f_tildes)\\np_fs = [None] * m\\nfor i, p_f_tilde in enumerate(f_tildes):\\n    p_cov = alpha ** 2 * pm.gp.cov.ExpQuad(1, rho)\\n    p_K = p_cov(x).eval()\\n    p_L_K = sp.linalg.cholesky(p_K + np.eye(n) * 0.00001, lower=True)\\n    p_f = p_L_K @ p_f_tilde\\n    p_fs[i] = p_f\\n    if i == m - 1:\\n        break\\np_fs = np.vstack(p_fs)\";\n",
       "                var nbb_formatted_code = \"m = len(f_tildes)\\np_fs = [None] * m\\nfor i, p_f_tilde in enumerate(f_tildes):\\n    p_cov = alpha ** 2 * pm.gp.cov.ExpQuad(1, rho)\\n    p_K = p_cov(x).eval()\\n    p_L_K = sp.linalg.cholesky(p_K + np.eye(n) * 0.00001, lower=True)\\n    p_f = p_L_K @ p_f_tilde\\n    p_fs[i] = p_f\\n    if i == m - 1:\\n        break\\np_fs = np.vstack(p_fs)\";\n",
       "                var nbb_cells = Jupyter.notebook.get_cells();\n",
       "                for (var i = 0; i < nbb_cells.length; ++i) {\n",
       "                    if (nbb_cells[i].input_prompt_number == nbb_cell_id) {\n",
       "                        if (nbb_cells[i].get_text() == nbb_unformatted_code) {\n",
       "                             nbb_cells[i].set_text(nbb_formatted_code);\n",
       "                        }\n",
       "                        break;\n",
       "                    }\n",
       "                }\n",
       "            }, 500);\n",
       "            "
      ],
      "text/plain": [
       "<IPython.core.display.Javascript object>"
      ]
     },
     "metadata": {},
     "output_type": "display_data"
    }
   ],
   "source": [
    "m = len(f_tildes)\n",
    "p_fs = [None] * m\n",
    "for i, p_f_tilde in enumerate(f_tildes):\n",
    "    p_cov = alpha ** 2 * pm.gp.cov.ExpQuad(1, rho)\n",
    "    p_K = p_cov(x).eval()\n",
    "    p_L_K = sp.linalg.cholesky(p_K + np.eye(n) * 0.00001, lower=True)\n",
    "    p_f = p_L_K @ p_f_tilde\n",
    "    p_fs[i] = p_f\n",
    "    if i == m - 1:\n",
    "        break\n",
    "p_fs = np.vstack(p_fs)"
   ]
  },
  {
   "cell_type": "code",
   "execution_count": 24,
   "id": "reflected-philippines",
   "metadata": {},
   "outputs": [
    {
     "data": {
      "application/javascript": [
       "\n",
       "            setTimeout(function() {\n",
       "                var nbb_cell_id = 24;\n",
       "                var nbb_unformatted_code = \"fquantiles = sp.special.expit(np.quantile(p_fs, q=[0.05, 0.95], axis=0))\\nfmean = sp.special.expit(np.mean(p_fs, axis=0))\";\n",
       "                var nbb_formatted_code = \"fquantiles = sp.special.expit(np.quantile(p_fs, q=[0.05, 0.95], axis=0))\\nfmean = sp.special.expit(np.mean(p_fs, axis=0))\";\n",
       "                var nbb_cells = Jupyter.notebook.get_cells();\n",
       "                for (var i = 0; i < nbb_cells.length; ++i) {\n",
       "                    if (nbb_cells[i].input_prompt_number == nbb_cell_id) {\n",
       "                        if (nbb_cells[i].get_text() == nbb_unformatted_code) {\n",
       "                             nbb_cells[i].set_text(nbb_formatted_code);\n",
       "                        }\n",
       "                        break;\n",
       "                    }\n",
       "                }\n",
       "            }, 500);\n",
       "            "
      ],
      "text/plain": [
       "<IPython.core.display.Javascript object>"
      ]
     },
     "metadata": {},
     "output_type": "display_data"
    }
   ],
   "source": [
    "fquantiles = sp.special.expit(np.quantile(p_fs, q=[0.05, 0.95], axis=0))\n",
    "fmean = sp.special.expit(np.mean(p_fs, axis=0))"
   ]
  },
  {
   "cell_type": "code",
   "execution_count": 25,
   "id": "minute-microphone",
   "metadata": {},
   "outputs": [
    {
     "data": {
      "image/png": "[encoded data removed]",
      "text/plain": [
       "<Figure size 600x300 with 1 Axes>"
      ]
     },
     "metadata": {},
     "output_type": "display_data"
    },
    {
     "data": {
      "application/javascript": [
       "\n",
       "            setTimeout(function() {\n",
       "                var nbb_cell_id = 25;\n",
       "                var nbb_unformatted_code = \"fig, ax = plt.subplots(figsize=(6, 3))\\nplt.scatter(x, y, color=\\\"black\\\")\\nplt.plot(x, fmean, color=\\\"blue\\\", linestyle=\\\"dashed\\\")\\nax.fill_between(\\n    x.flatten(),\\n    fquantiles[1, :],\\n    fquantiles[0, :],\\n    color=\\\"#004787\\\",\\n    alpha=0.2,\\n    label=\\\"Posterior interval\\\",\\n)\\n\\n\\nax.spines[\\\"right\\\"].set_visible(False)\\nax.spines[\\\"top\\\"].set_visible(False)\\nplt.show()\";\n",
       "                var nbb_formatted_code = \"fig, ax = plt.subplots(figsize=(6, 3))\\nplt.scatter(x, y, color=\\\"black\\\")\\nplt.plot(x, fmean, color=\\\"blue\\\", linestyle=\\\"dashed\\\")\\nax.fill_between(\\n    x.flatten(),\\n    fquantiles[1, :],\\n    fquantiles[0, :],\\n    color=\\\"#004787\\\",\\n    alpha=0.2,\\n    label=\\\"Posterior interval\\\",\\n)\\n\\n\\nax.spines[\\\"right\\\"].set_visible(False)\\nax.spines[\\\"top\\\"].set_visible(False)\\nplt.show()\";\n",
       "                var nbb_cells = Jupyter.notebook.get_cells();\n",
       "                for (var i = 0; i < nbb_cells.length; ++i) {\n",
       "                    if (nbb_cells[i].input_prompt_number == nbb_cell_id) {\n",
       "                        if (nbb_cells[i].get_text() == nbb_unformatted_code) {\n",
       "                             nbb_cells[i].set_text(nbb_formatted_code);\n",
       "                        }\n",
       "                        break;\n",
       "                    }\n",
       "                }\n",
       "            }, 500);\n",
       "            "
      ],
      "text/plain": [
       "<IPython.core.display.Javascript object>"
      ]
     },
     "metadata": {},
     "output_type": "display_data"
    }
   ],
   "source": [
    "fig, ax = plt.subplots(figsize=(6, 3))\n",
    "plt.scatter(x, y, color=\"black\")\n",
    "plt.plot(x, fmean, color=\"blue\", linestyle=\"dashed\")\n",
    "ax.fill_between(\n",
    "    x.flatten(),\n",
    "    fquantiles[1, :],\n",
    "    fquantiles[0, :],\n",
    "    color=\"#004787\",\n",
    "    alpha=0.2,\n",
    "    label=\"Posterior interval\",\n",
    ")\n",
    "\n",
    "\n",
    "ax.spines[\"right\"].set_visible(False)\n",
    "ax.spines[\"top\"].set_visible(False)\n",
    "plt.show()"
   ]
  },
  {
   "cell_type": "code",
   "execution_count": 17,
   "id": "peripheral-friday",
   "metadata": {},
   "outputs": [
    {
     "data": {
      "application/javascript": [
       "\n",
       "            setTimeout(function() {\n",
       "                var nbb_cell_id = 17;\n",
       "                var nbb_unformatted_code = \"np.random.choice(42)\\n\\nn_new = 5\\nidxs_new = np.random.choice(n, n_new, replace=False)\\nx_new = x[idxs_new]\\ny_new = y[idxs_new]\";\n",
       "                var nbb_formatted_code = \"np.random.choice(42)\\n\\nn_new = 5\\nidxs_new = np.random.choice(n, n_new, replace=False)\\nx_new = x[idxs_new]\\ny_new = y[idxs_new]\";\n",
       "                var nbb_cells = Jupyter.notebook.get_cells();\n",
       "                for (var i = 0; i < nbb_cells.length; ++i) {\n",
       "                    if (nbb_cells[i].input_prompt_number == nbb_cell_id) {\n",
       "                        if (nbb_cells[i].get_text() == nbb_unformatted_code) {\n",
       "                             nbb_cells[i].set_text(nbb_formatted_code);\n",
       "                        }\n",
       "                        break;\n",
       "                    }\n",
       "                }\n",
       "            }, 500);\n",
       "            "
      ],
      "text/plain": [
       "<IPython.core.display.Javascript object>"
      ]
     },
     "metadata": {},
     "output_type": "display_data"
    }
   ],
   "source": [
    "np.random.choice(42)\n",
    "\n",
    "n_new = 5\n",
    "idxs_new = np.random.choice(n, n_new, replace=False)\n",
    "x_new = x[idxs_new]\n",
    "y_new = y[idxs_new]"
   ]
  },
  {
   "cell_type": "code",
   "execution_count": 18,
   "id": "miniature-reference",
   "metadata": {},
   "outputs": [
    {
     "data": {
      "application/javascript": [
       "\n",
       "            setTimeout(function() {\n",
       "                var nbb_cell_id = 18;\n",
       "                var nbb_unformatted_code = \"dat_new = {\\n    \\\"N\\\": n,\\n    \\\"x\\\": x.flatten(),\\n    \\\"y\\\": y.flatten(),\\n    \\\"alpha\\\": alpha,\\n    \\\"rho\\\": rho,\\n    \\\"N_new\\\": n_new,\\n    \\\"x_new\\\": x_new.flatten(),\\n}\";\n",
       "                var nbb_formatted_code = \"dat_new = {\\n    \\\"N\\\": n,\\n    \\\"x\\\": x.flatten(),\\n    \\\"y\\\": y.flatten(),\\n    \\\"alpha\\\": alpha,\\n    \\\"rho\\\": rho,\\n    \\\"N_new\\\": n_new,\\n    \\\"x_new\\\": x_new.flatten(),\\n}\";\n",
       "                var nbb_cells = Jupyter.notebook.get_cells();\n",
       "                for (var i = 0; i < nbb_cells.length; ++i) {\n",
       "                    if (nbb_cells[i].input_prompt_number == nbb_cell_id) {\n",
       "                        if (nbb_cells[i].get_text() == nbb_unformatted_code) {\n",
       "                             nbb_cells[i].set_text(nbb_formatted_code);\n",
       "                        }\n",
       "                        break;\n",
       "                    }\n",
       "                }\n",
       "            }, 500);\n",
       "            "
      ],
      "text/plain": [
       "<IPython.core.display.Javascript object>"
      ]
     },
     "metadata": {},
     "output_type": "display_data"
    }
   ],
   "source": [
    "dat_new = {\n",
    "    \"N\": n,\n",
    "    \"x\": x.flatten(),\n",
    "    \"y\": y.flatten(),\n",
    "    \"alpha\": alpha,\n",
    "    \"rho\": rho,\n",
    "    \"N_new\": n_new,\n",
    "    \"x_new\": x_new.flatten(),\n",
    "}"
   ]
  },
  {
   "cell_type": "code",
   "execution_count": 19,
   "id": "lesser-shock",
   "metadata": {},
   "outputs": [
    {
     "name": "stderr",
     "output_type": "stream",
     "text": [
      "INFO:pystan:COMPILING THE C++ CODE FOR MODEL anon_model_7bbdc0ddcb8e57f05ee14c274b1ada1c NOW.\n"
     ]
    },
    {
     "data": {
      "application/javascript": [
       "\n",
       "            setTimeout(function() {\n",
       "                var nbb_cell_id = 19;\n",
       "                var nbb_unformatted_code = \"sm = stan.StanModel(file=\\\"./_models/generalized_gpr_predict.stan\\\")\";\n",
       "                var nbb_formatted_code = \"sm = stan.StanModel(file=\\\"./_models/generalized_gpr_predict.stan\\\")\";\n",
       "                var nbb_cells = Jupyter.notebook.get_cells();\n",
       "                for (var i = 0; i < nbb_cells.length; ++i) {\n",
       "                    if (nbb_cells[i].input_prompt_number == nbb_cell_id) {\n",
       "                        if (nbb_cells[i].get_text() == nbb_unformatted_code) {\n",
       "                             nbb_cells[i].set_text(nbb_formatted_code);\n",
       "                        }\n",
       "                        break;\n",
       "                    }\n",
       "                }\n",
       "            }, 500);\n",
       "            "
      ],
      "text/plain": [
       "<IPython.core.display.Javascript object>"
      ]
     },
     "metadata": {},
     "output_type": "display_data"
    }
   ],
   "source": [
    "sm = stan.StanModel(file=\"./_models/generalized_gpr_predict.stan\")"
   ]
  },
  {
   "cell_type": "code",
   "execution_count": 20,
   "id": "limited-doctrine",
   "metadata": {},
   "outputs": [
    {
     "data": {
      "application/javascript": [
       "\n",
       "            setTimeout(function() {\n",
       "                var nbb_cell_id = 20;\n",
       "                var nbb_unformatted_code = \"pred_fit = sm.sampling(data=dat_new, chains=2)\";\n",
       "                var nbb_formatted_code = \"pred_fit = sm.sampling(data=dat_new, chains=2)\";\n",
       "                var nbb_cells = Jupyter.notebook.get_cells();\n",
       "                for (var i = 0; i < nbb_cells.length; ++i) {\n",
       "                    if (nbb_cells[i].input_prompt_number == nbb_cell_id) {\n",
       "                        if (nbb_cells[i].get_text() == nbb_unformatted_code) {\n",
       "                             nbb_cells[i].set_text(nbb_formatted_code);\n",
       "                        }\n",
       "                        break;\n",
       "                    }\n",
       "                }\n",
       "            }, 500);\n",
       "            "
      ],
      "text/plain": [
       "<IPython.core.display.Javascript object>"
      ]
     },
     "metadata": {},
     "output_type": "display_data"
    }
   ],
   "source": [
    "pred_fit = sm.sampling(data=dat_new, chains=2)"
   ]
  },
  {
   "cell_type": "code",
   "execution_count": 21,
   "id": "demonstrated-radical",
   "metadata": {},
   "outputs": [
    {
     "data": {
      "application/javascript": [
       "\n",
       "            setTimeout(function() {\n",
       "                var nbb_cell_id = 21;\n",
       "                var nbb_unformatted_code = \"extr = pred_fit.extract()\\ny_new_hat = extr[\\\"y_new\\\"]\";\n",
       "                var nbb_formatted_code = \"extr = pred_fit.extract()\\ny_new_hat = extr[\\\"y_new\\\"]\";\n",
       "                var nbb_cells = Jupyter.notebook.get_cells();\n",
       "                for (var i = 0; i < nbb_cells.length; ++i) {\n",
       "                    if (nbb_cells[i].input_prompt_number == nbb_cell_id) {\n",
       "                        if (nbb_cells[i].get_text() == nbb_unformatted_code) {\n",
       "                             nbb_cells[i].set_text(nbb_formatted_code);\n",
       "                        }\n",
       "                        break;\n",
       "                    }\n",
       "                }\n",
       "            }, 500);\n",
       "            "
      ],
      "text/plain": [
       "<IPython.core.display.Javascript object>"
      ]
     },
     "metadata": {},
     "output_type": "display_data"
    }
   ],
   "source": [
    "extr = pred_fit.extract()\n",
    "y_new_hat = extr[\"y_new\"]"
   ]
  },
  {
   "cell_type": "code",
   "execution_count": 22,
   "id": "narrative-exercise",
   "metadata": {},
   "outputs": [
    {
     "data": {
      "application/javascript": [
       "\n",
       "            setTimeout(function() {\n",
       "                var nbb_cell_id = 22;\n",
       "                var nbb_unformatted_code = \"y_new_hat_mean = np.mean(y_new_hat, axis=0)\";\n",
       "                var nbb_formatted_code = \"y_new_hat_mean = np.mean(y_new_hat, axis=0)\";\n",
       "                var nbb_cells = Jupyter.notebook.get_cells();\n",
       "                for (var i = 0; i < nbb_cells.length; ++i) {\n",
       "                    if (nbb_cells[i].input_prompt_number == nbb_cell_id) {\n",
       "                        if (nbb_cells[i].get_text() == nbb_unformatted_code) {\n",
       "                             nbb_cells[i].set_text(nbb_formatted_code);\n",
       "                        }\n",
       "                        break;\n",
       "                    }\n",
       "                }\n",
       "            }, 500);\n",
       "            "
      ],
      "text/plain": [
       "<IPython.core.display.Javascript object>"
      ]
     },
     "metadata": {},
     "output_type": "display_data"
    }
   ],
   "source": [
    "y_new_hat_mean = np.mean(y_new_hat, axis=0)"
   ]
  },
  {
   "cell_type": "code",
   "execution_count": 23,
   "id": "arbitrary-volunteer",
   "metadata": {},
   "outputs": [
    {
     "data": {
      "image/png": "[encoded data removed]",
      "text/plain": [
       "<Figure size 600x300 with 1 Axes>"
      ]
     },
     "metadata": {},
     "output_type": "display_data"
    },
    {
     "data": {
      "application/javascript": [
       "\n",
       "            setTimeout(function() {\n",
       "                var nbb_cell_id = 23;\n",
       "                var nbb_unformatted_code = \"fig, ax = plt.subplots(figsize=(6, 3))\\nplt.scatter(x_new, y_new_hat_mean, color=\\\"red\\\")\\nplt.scatter(x_new, y_new, color=\\\"black\\\", marker=\\\".\\\")\\nplt.plot(x, fmean, color=\\\"blue\\\", linestyle=\\\"dashed\\\")\\nax.fill_between(\\n    x.flatten(),\\n    fquantiles[1, :],\\n    fquantiles[0, :],\\n    color=\\\"#004787\\\",\\n    alpha=0.2,\\n    label=\\\"Posterior interval\\\",\\n)\\n\\n\\nax.spines[\\\"right\\\"].set_visible(False)\\nax.spines[\\\"top\\\"].set_visible(False)\\nplt.show()\";\n",
       "                var nbb_formatted_code = \"fig, ax = plt.subplots(figsize=(6, 3))\\nplt.scatter(x_new, y_new_hat_mean, color=\\\"red\\\")\\nplt.scatter(x_new, y_new, color=\\\"black\\\", marker=\\\".\\\")\\nplt.plot(x, fmean, color=\\\"blue\\\", linestyle=\\\"dashed\\\")\\nax.fill_between(\\n    x.flatten(),\\n    fquantiles[1, :],\\n    fquantiles[0, :],\\n    color=\\\"#004787\\\",\\n    alpha=0.2,\\n    label=\\\"Posterior interval\\\",\\n)\\n\\n\\nax.spines[\\\"right\\\"].set_visible(False)\\nax.spines[\\\"top\\\"].set_visible(False)\\nplt.show()\";\n",
       "                var nbb_cells = Jupyter.notebook.get_cells();\n",
       "                for (var i = 0; i < nbb_cells.length; ++i) {\n",
       "                    if (nbb_cells[i].input_prompt_number == nbb_cell_id) {\n",
       "                        if (nbb_cells[i].get_text() == nbb_unformatted_code) {\n",
       "                             nbb_cells[i].set_text(nbb_formatted_code);\n",
       "                        }\n",
       "                        break;\n",
       "                    }\n",
       "                }\n",
       "            }, 500);\n",
       "            "
      ],
      "text/plain": [
       "<IPython.core.display.Javascript object>"
      ]
     },
     "metadata": {},
     "output_type": "display_data"
    }
   ],
   "source": [
    "fig, ax = plt.subplots(figsize=(6, 3))\n",
    "plt.scatter(x_new, y_new_hat_mean, color=\"red\")\n",
    "plt.scatter(x_new, y_new, color=\"black\", marker=\".\")\n",
    "plt.plot(x, fmean, color=\"blue\", linestyle=\"dashed\")\n",
    "ax.fill_between(\n",
    "    x.flatten(),\n",
    "    fquantiles[1, :],\n",
    "    fquantiles[0, :],\n",
    "    color=\"#004787\",\n",
    "    alpha=0.2,\n",
    "    label=\"Posterior interval\",\n",
    ")\n",
    "\n",
    "\n",
    "ax.spines[\"right\"].set_visible(False)\n",
    "ax.spines[\"top\"].set_visible(False)\n",
    "plt.show()\n"
   ]
  },
  {
   "cell_type": "code",
   "execution_count": 21,
   "id": "prepared-carol",
   "metadata": {},
   "outputs": [
    {
     "data": {
      "application/javascript": [
       "\n",
       "            setTimeout(function() {\n",
       "                var nbb_cell_id = 21;\n",
       "                var nbb_unformatted_code = \"import numpy as np\\nimport matplotlib.pyplot as plt\\nimport tensorflow as tf\\nimport tensorflow_probability as tfp\\nfrom tensorflow_probability import distributions as tfd\\n\\nimport gpflow\\nfrom gpflow.ci_utils import ci_niter\\nfrom gpflow import set_trainable\\n\\ngpflow.config.set_default_float(np.float64)\\ngpflow.config.set_default_jitter(1e-4)\\ngpflow.config.set_default_summary_fmt(\\\"notebook\\\")\\n# convert to float64 for tfp to play nicely with gpflow in 64\\nf64 = gpflow.utilities.to_default_float\\n\\ntf.random.set_seed(123)\\n\\n\\n%matplotlib inline\";\n",
       "                var nbb_formatted_code = \"import numpy as np\\nimport matplotlib.pyplot as plt\\nimport tensorflow as tf\\nimport tensorflow_probability as tfp\\nfrom tensorflow_probability import distributions as tfd\\n\\nimport gpflow\\nfrom gpflow.ci_utils import ci_niter\\nfrom gpflow import set_trainable\\n\\ngpflow.config.set_default_float(np.float64)\\ngpflow.config.set_default_jitter(1e-4)\\ngpflow.config.set_default_summary_fmt(\\\"notebook\\\")\\n# convert to float64 for tfp to play nicely with gpflow in 64\\nf64 = gpflow.utilities.to_default_float\\n\\ntf.random.set_seed(123)\\n\\n\\n%matplotlib inline\";\n",
       "                var nbb_cells = Jupyter.notebook.get_cells();\n",
       "                for (var i = 0; i < nbb_cells.length; ++i) {\n",
       "                    if (nbb_cells[i].input_prompt_number == nbb_cell_id) {\n",
       "                        if (nbb_cells[i].get_text() == nbb_unformatted_code) {\n",
       "                             nbb_cells[i].set_text(nbb_formatted_code);\n",
       "                        }\n",
       "                        break;\n",
       "                    }\n",
       "                }\n",
       "            }, 500);\n",
       "            "
      ],
      "text/plain": [
       "<IPython.core.display.Javascript object>"
      ]
     },
     "metadata": {},
     "output_type": "display_data"
    }
   ],
   "source": [
    "import numpy as np\n",
    "import matplotlib.pyplot as plt\n",
    "import tensorflow as tf\n",
    "import tensorflow_probability as tfp\n",
    "from tensorflow_probability import distributions as tfd\n",
    "\n",
    "import gpflow\n",
    "from gpflow.ci_utils import ci_niter\n",
    "from gpflow import set_trainable\n",
    "\n",
    "gpflow.config.set_default_float(np.float64)\n",
    "gpflow.config.set_default_jitter(1e-4)\n",
    "gpflow.config.set_default_summary_fmt(\"notebook\")\n",
    "# convert to float64 for tfp to play nicely with gpflow in 64\n",
    "f64 = gpflow.utilities.to_default_float\n",
    "\n",
    "tf.random.set_seed(123)\n",
    "\n",
    "\n",
    "%matplotlib inline"
   ]
  },
  {
   "cell_type": "code",
   "execution_count": 46,
   "id": "younger-recipient",
   "metadata": {},
   "outputs": [
    {
     "data": {
      "image/png": "[encoded data removed]",
      "text/plain": [
       "<Figure size 432x288 with 1 Axes>"
      ]
     },
     "metadata": {
      "needs_background": "light"
     },
     "output_type": "display_data"
    },
    {
     "data": {
      "application/javascript": [
       "\n",
       "            setTimeout(function() {\n",
       "                var nbb_cell_id = 46;\n",
       "                var nbb_unformatted_code = \"rng = np.random.RandomState(14)\\n\\nX = np.linspace(-3, 3, 20)\\nY = rng.binomial(n=1, p=sp.special.expit(np.sin(X) ** 2))\\n\\nplt.figure()\\nplt.plot(X, Y, \\\"x\\\")\\nplt.xlabel(\\\"input $X$\\\")\\nplt.ylabel(\\\"output $Y$\\\")\\nplt.title(\\\"toy dataset\\\")\\nplt.show()\\n\\ndata = (X[:, None], Y[:, None])\";\n",
       "                var nbb_formatted_code = \"rng = np.random.RandomState(14)\\n\\nX = np.linspace(-3, 3, 20)\\nY = rng.binomial(n=1, p=sp.special.expit(np.sin(X) ** 2))\\n\\nplt.figure()\\nplt.plot(X, Y, \\\"x\\\")\\nplt.xlabel(\\\"input $X$\\\")\\nplt.ylabel(\\\"output $Y$\\\")\\nplt.title(\\\"toy dataset\\\")\\nplt.show()\\n\\ndata = (X[:, None], Y[:, None])\";\n",
       "                var nbb_cells = Jupyter.notebook.get_cells();\n",
       "                for (var i = 0; i < nbb_cells.length; ++i) {\n",
       "                    if (nbb_cells[i].input_prompt_number == nbb_cell_id) {\n",
       "                        if (nbb_cells[i].get_text() == nbb_unformatted_code) {\n",
       "                             nbb_cells[i].set_text(nbb_formatted_code);\n",
       "                        }\n",
       "                        break;\n",
       "                    }\n",
       "                }\n",
       "            }, 500);\n",
       "            "
      ],
      "text/plain": [
       "<IPython.core.display.Javascript object>"
      ]
     },
     "metadata": {},
     "output_type": "display_data"
    }
   ],
   "source": [
    "rng = np.random.RandomState(14)\n",
    "\n",
    "X = np.linspace(-3, 3, 20)\n",
    "Y = rng.binomial(n=1, p=sp.special.expit(np.sin(X) ** 2))\n",
    "\n",
    "plt.figure()\n",
    "plt.plot(X, Y, \"x\")\n",
    "plt.xlabel(\"input $X$\")\n",
    "plt.ylabel(\"output $Y$\")\n",
    "plt.title(\"toy dataset\")\n",
    "plt.show()\n",
    "\n",
    "data = (X[:, None], Y[:, None])"
   ]
  },
  {
   "cell_type": "code",
   "execution_count": 47,
   "id": "consolidated-stretch",
   "metadata": {},
   "outputs": [
    {
     "data": {
      "application/javascript": [
       "\n",
       "            setTimeout(function() {\n",
       "                var nbb_cell_id = 47;\n",
       "                var nbb_unformatted_code = \"kernel = gpflow.kernels.Matern32()\\nlikelihood = gpflow.likelihoods.Bernoulli()\\nmodel = gpflow.models.GPMC(data, kernel, likelihood)\";\n",
       "                var nbb_formatted_code = \"kernel = gpflow.kernels.Matern32()\\nlikelihood = gpflow.likelihoods.Bernoulli()\\nmodel = gpflow.models.GPMC(data, kernel, likelihood)\";\n",
       "                var nbb_cells = Jupyter.notebook.get_cells();\n",
       "                for (var i = 0; i < nbb_cells.length; ++i) {\n",
       "                    if (nbb_cells[i].input_prompt_number == nbb_cell_id) {\n",
       "                        if (nbb_cells[i].get_text() == nbb_unformatted_code) {\n",
       "                             nbb_cells[i].set_text(nbb_formatted_code);\n",
       "                        }\n",
       "                        break;\n",
       "                    }\n",
       "                }\n",
       "            }, 500);\n",
       "            "
      ],
      "text/plain": [
       "<IPython.core.display.Javascript object>"
      ]
     },
     "metadata": {},
     "output_type": "display_data"
    }
   ],
   "source": [
    "kernel = gpflow.kernels.Matern32()\n",
    "likelihood = gpflow.likelihoods.Bernoulli()\n",
    "model = gpflow.models.GPMC(data, kernel, likelihood)"
   ]
  },
  {
   "cell_type": "code",
   "execution_count": 48,
   "id": "pacific-gather",
   "metadata": {},
   "outputs": [
    {
     "data": {
      "text/html": [
       "<table>\n",
       "<thead>\n",
       "<tr><th>name                    </th><th>class    </th><th>transform  </th><th>prior  </th><th>trainable  </th><th>shape  </th><th>dtype  </th><th>value  </th></tr>\n",
       "</thead>\n",
       "<tbody>\n",
       "<tr><td>GPMC.kernel.variance    </td><td>Parameter</td><td>Softplus   </td><td>Gamma  </td><td>True       </td><td>()     </td><td>float64</td><td>1.0    </td></tr>\n",
       "<tr><td>GPMC.kernel.lengthscales</td><td>Parameter</td><td>Softplus   </td><td>Gamma  </td><td>True       </td><td>()     </td><td>float64</td><td>1.0    </td></tr>\n",
       "<tr><td>GPMC.V                  </td><td>Parameter</td><td>Identity   </td><td>Normal </td><td>True       </td><td>(20, 1)</td><td>float64</td><td>[[0....</td></tr>\n",
       "</tbody>\n",
       "</table>"
      ],
      "text/plain": [
       "<IPython.core.display.HTML object>"
      ]
     },
     "metadata": {},
     "output_type": "display_data"
    },
    {
     "data": {
      "application/javascript": [
       "\n",
       "            setTimeout(function() {\n",
       "                var nbb_cell_id = 48;\n",
       "                var nbb_unformatted_code = \"model.kernel.lengthscales.prior = tfd.Gamma(f64(1.0), f64(1.0))\\nmodel.kernel.variance.prior = tfd.Gamma(f64(1.0), f64(1.0))\\ngpflow.utilities.print_summary(model)\";\n",
       "                var nbb_formatted_code = \"model.kernel.lengthscales.prior = tfd.Gamma(f64(1.0), f64(1.0))\\nmodel.kernel.variance.prior = tfd.Gamma(f64(1.0), f64(1.0))\\ngpflow.utilities.print_summary(model)\";\n",
       "                var nbb_cells = Jupyter.notebook.get_cells();\n",
       "                for (var i = 0; i < nbb_cells.length; ++i) {\n",
       "                    if (nbb_cells[i].input_prompt_number == nbb_cell_id) {\n",
       "                        if (nbb_cells[i].get_text() == nbb_unformatted_code) {\n",
       "                             nbb_cells[i].set_text(nbb_formatted_code);\n",
       "                        }\n",
       "                        break;\n",
       "                    }\n",
       "                }\n",
       "            }, 500);\n",
       "            "
      ],
      "text/plain": [
       "<IPython.core.display.Javascript object>"
      ]
     },
     "metadata": {},
     "output_type": "display_data"
    }
   ],
   "source": [
    "model.kernel.lengthscales.prior = tfd.Gamma(f64(1.0), f64(1.0))\n",
    "model.kernel.variance.prior = tfd.Gamma(f64(1.0), f64(1.0))\n",
    "gpflow.utilities.print_summary(model)"
   ]
  },
  {
   "cell_type": "code",
   "execution_count": 49,
   "id": "registered-protocol",
   "metadata": {},
   "outputs": [
    {
     "data": {
      "application/javascript": [
       "\n",
       "            setTimeout(function() {\n",
       "                var nbb_cell_id = 49;\n",
       "                var nbb_unformatted_code = \"num_burnin_steps = ci_niter(60)\\nnum_samples = ci_niter(100)\\n\\n# Note that here we need model.trainable_parameters, not trainable_variables - only parameters can have priors!\\nhmc_helper = gpflow.optimizers.SamplingHelper(\\n    model.log_posterior_density, model.trainable_parameters\\n)\\n\\nhmc = tfp.mcmc.HamiltonianMonteCarlo(\\n    target_log_prob_fn=hmc_helper.target_log_prob_fn,\\n    num_leapfrog_steps=10,\\n    step_size=0.01,\\n)\\n\\nadaptive_hmc = tfp.mcmc.SimpleStepSizeAdaptation(\\n    hmc, num_adaptation_steps=10, target_accept_prob=f64(0.75), adaptation_rate=0.1\\n)\";\n",
       "                var nbb_formatted_code = \"num_burnin_steps = ci_niter(60)\\nnum_samples = ci_niter(100)\\n\\n# Note that here we need model.trainable_parameters, not trainable_variables - only parameters can have priors!\\nhmc_helper = gpflow.optimizers.SamplingHelper(\\n    model.log_posterior_density, model.trainable_parameters\\n)\\n\\nhmc = tfp.mcmc.HamiltonianMonteCarlo(\\n    target_log_prob_fn=hmc_helper.target_log_prob_fn,\\n    num_leapfrog_steps=10,\\n    step_size=0.01,\\n)\\n\\nadaptive_hmc = tfp.mcmc.SimpleStepSizeAdaptation(\\n    hmc, num_adaptation_steps=10, target_accept_prob=f64(0.75), adaptation_rate=0.1\\n)\";\n",
       "                var nbb_cells = Jupyter.notebook.get_cells();\n",
       "                for (var i = 0; i < nbb_cells.length; ++i) {\n",
       "                    if (nbb_cells[i].input_prompt_number == nbb_cell_id) {\n",
       "                        if (nbb_cells[i].get_text() == nbb_unformatted_code) {\n",
       "                             nbb_cells[i].set_text(nbb_formatted_code);\n",
       "                        }\n",
       "                        break;\n",
       "                    }\n",
       "                }\n",
       "            }, 500);\n",
       "            "
      ],
      "text/plain": [
       "<IPython.core.display.Javascript object>"
      ]
     },
     "metadata": {},
     "output_type": "display_data"
    }
   ],
   "source": [
    "num_burnin_steps = ci_niter(60)\n",
    "num_samples = ci_niter(100)\n",
    "\n",
    "# Note that here we need model.trainable_parameters, not trainable_variables - only parameters can have priors!\n",
    "hmc_helper = gpflow.optimizers.SamplingHelper(\n",
    "    model.log_posterior_density, model.trainable_parameters\n",
    ")\n",
    "\n",
    "hmc = tfp.mcmc.HamiltonianMonteCarlo(\n",
    "    target_log_prob_fn=hmc_helper.target_log_prob_fn,\n",
    "    num_leapfrog_steps=10,\n",
    "    step_size=0.01,\n",
    ")\n",
    "\n",
    "adaptive_hmc = tfp.mcmc.SimpleStepSizeAdaptation(\n",
    "    hmc, num_adaptation_steps=10, target_accept_prob=f64(0.75), adaptation_rate=0.1\n",
    ")"
   ]
  },
  {
   "cell_type": "code",
   "execution_count": 50,
   "id": "racial-convergence",
   "metadata": {},
   "outputs": [
    {
     "data": {
      "application/javascript": [
       "\n",
       "            setTimeout(function() {\n",
       "                var nbb_cell_id = 50;\n",
       "                var nbb_unformatted_code = \"@tf.function\\ndef run_chain_fn():\\n    return tfp.mcmc.sample_chain(\\n        num_results=num_samples,\\n        num_burnin_steps=num_burnin_steps,\\n        current_state=hmc_helper.current_state,\\n        kernel=adaptive_hmc,\\n        trace_fn=lambda _, pkr: pkr.inner_results.is_accepted,\\n    )\\n\\n\\nsamples, _ = run_chain_fn()\";\n",
       "                var nbb_formatted_code = \"@tf.function\\ndef run_chain_fn():\\n    return tfp.mcmc.sample_chain(\\n        num_results=num_samples,\\n        num_burnin_steps=num_burnin_steps,\\n        current_state=hmc_helper.current_state,\\n        kernel=adaptive_hmc,\\n        trace_fn=lambda _, pkr: pkr.inner_results.is_accepted,\\n    )\\n\\n\\nsamples, _ = run_chain_fn()\";\n",
       "                var nbb_cells = Jupyter.notebook.get_cells();\n",
       "                for (var i = 0; i < nbb_cells.length; ++i) {\n",
       "                    if (nbb_cells[i].input_prompt_number == nbb_cell_id) {\n",
       "                        if (nbb_cells[i].get_text() == nbb_unformatted_code) {\n",
       "                             nbb_cells[i].set_text(nbb_formatted_code);\n",
       "                        }\n",
       "                        break;\n",
       "                    }\n",
       "                }\n",
       "            }, 500);\n",
       "            "
      ],
      "text/plain": [
       "<IPython.core.display.Javascript object>"
      ]
     },
     "metadata": {},
     "output_type": "display_data"
    }
   ],
   "source": [
    "@tf.function\n",
    "def run_chain_fn():\n",
    "    return tfp.mcmc.sample_chain(\n",
    "        num_results=num_samples,\n",
    "        num_burnin_steps=num_burnin_steps,\n",
    "        current_state=hmc_helper.current_state,\n",
    "        kernel=adaptive_hmc,\n",
    "        trace_fn=lambda _, pkr: pkr.inner_results.is_accepted,\n",
    "    )\n",
    "\n",
    "\n",
    "samples, _ = run_chain_fn()"
   ]
  },
  {
   "cell_type": "code",
   "execution_count": 51,
   "id": "personal-boost",
   "metadata": {},
   "outputs": [
    {
     "data": {
      "application/javascript": [
       "\n",
       "            setTimeout(function() {\n",
       "                var nbb_cell_id = 51;\n",
       "                var nbb_unformatted_code = \"parameter_samples = hmc_helper.convert_to_constrained_values(samples)\\nparam_to_name = {\\n    param: name for name, param in gpflow.utilities.parameter_dict(model).items()\\n}\";\n",
       "                var nbb_formatted_code = \"parameter_samples = hmc_helper.convert_to_constrained_values(samples)\\nparam_to_name = {\\n    param: name for name, param in gpflow.utilities.parameter_dict(model).items()\\n}\";\n",
       "                var nbb_cells = Jupyter.notebook.get_cells();\n",
       "                for (var i = 0; i < nbb_cells.length; ++i) {\n",
       "                    if (nbb_cells[i].input_prompt_number == nbb_cell_id) {\n",
       "                        if (nbb_cells[i].get_text() == nbb_unformatted_code) {\n",
       "                             nbb_cells[i].set_text(nbb_formatted_code);\n",
       "                        }\n",
       "                        break;\n",
       "                    }\n",
       "                }\n",
       "            }, 500);\n",
       "            "
      ],
      "text/plain": [
       "<IPython.core.display.Javascript object>"
      ]
     },
     "metadata": {},
     "output_type": "display_data"
    }
   ],
   "source": [
    "parameter_samples = hmc_helper.convert_to_constrained_values(samples)\n",
    "param_to_name = {\n",
    "    param: name for name, param in gpflow.utilities.parameter_dict(model).items()\n",
    "}"
   ]
  },
  {
   "cell_type": "code",
   "execution_count": 57,
   "id": "chinese-voluntary",
   "metadata": {},
   "outputs": [
    {
     "data": {
      "application/javascript": [
       "\n",
       "            setTimeout(function() {\n",
       "                var nbb_cell_id = 57;\n",
       "                var nbb_unformatted_code = \"Xtest = np.linspace(-1, 1, 100)[:, None]\\nf_samples = []\\n\\nfor i in range(num_samples):\\n    # Note that hmc_helper.current_state contains the unconstrained variables\\n    for var, var_samples in zip(hmc_helper.current_state, samples):\\n        var.assign(var_samples[i])\\n    f = model.predict_f_samples(Xtest, 5)\\n    f_samples.append(f)\\nf_samples = np.vstack(f_samples)\";\n",
       "                var nbb_formatted_code = \"Xtest = np.linspace(-1, 1, 100)[:, None]\\nf_samples = []\\n\\nfor i in range(num_samples):\\n    # Note that hmc_helper.current_state contains the unconstrained variables\\n    for var, var_samples in zip(hmc_helper.current_state, samples):\\n        var.assign(var_samples[i])\\n    f = model.predict_f_samples(Xtest, 5)\\n    f_samples.append(f)\\nf_samples = np.vstack(f_samples)\";\n",
       "                var nbb_cells = Jupyter.notebook.get_cells();\n",
       "                for (var i = 0; i < nbb_cells.length; ++i) {\n",
       "                    if (nbb_cells[i].input_prompt_number == nbb_cell_id) {\n",
       "                        if (nbb_cells[i].get_text() == nbb_unformatted_code) {\n",
       "                             nbb_cells[i].set_text(nbb_formatted_code);\n",
       "                        }\n",
       "                        break;\n",
       "                    }\n",
       "                }\n",
       "            }, 500);\n",
       "            "
      ],
      "text/plain": [
       "<IPython.core.display.Javascript object>"
      ]
     },
     "metadata": {},
     "output_type": "display_data"
    }
   ],
   "source": [
    "Xtest = np.linspace(-1, 1, 100)[:, None]\n",
    "f_samples = []\n",
    "\n",
    "for i in range(num_samples):\n",
    "    # Note that hmc_helper.current_state contains the unconstrained variables\n",
    "    for var, var_samples in zip(hmc_helper.current_state, samples):\n",
    "        var.assign(var_samples[i])\n",
    "    f = model.predict_f_samples(Xtest, 5)\n",
    "    f_samples.append(f)\n",
    "f_samples = np.vstack(f_samples)"
   ]
  },
  {
   "cell_type": "code",
   "execution_count": 58,
   "id": "smart-buffer",
   "metadata": {},
   "outputs": [
    {
     "data": {
      "image/png": "[encoded data removed]",
      "text/plain": [
       "<Figure size 432x288 with 1 Axes>"
      ]
     },
     "metadata": {
      "needs_background": "light"
     },
     "output_type": "display_data"
    },
    {
     "data": {
      "application/javascript": [
       "\n",
       "            setTimeout(function() {\n",
       "                var nbb_cell_id = 58;\n",
       "                var nbb_unformatted_code = \"rate_samples = sp.special.expit(f_samples[:, :, 0])\\n\\n(line,) = plt.plot(Xtest, np.mean(rate_samples, 0), lw=2)\\nplt.fill_between(\\n    Xtest[:, 0],\\n    np.percentile(rate_samples, 5, axis=0),\\n    np.percentile(rate_samples, 95, axis=0),\\n    color=line.get_color(),\\n    alpha=0.2,\\n)\\n\\nplt.plot(X, Y, \\\"kx\\\", mew=2)\\n_ = plt.ylim(-0.1, np.max(np.percentile(rate_samples, 95, axis=0)))\";\n",
       "                var nbb_formatted_code = \"rate_samples = sp.special.expit(f_samples[:, :, 0])\\n\\n(line,) = plt.plot(Xtest, np.mean(rate_samples, 0), lw=2)\\nplt.fill_between(\\n    Xtest[:, 0],\\n    np.percentile(rate_samples, 5, axis=0),\\n    np.percentile(rate_samples, 95, axis=0),\\n    color=line.get_color(),\\n    alpha=0.2,\\n)\\n\\nplt.plot(X, Y, \\\"kx\\\", mew=2)\\n_ = plt.ylim(-0.1, np.max(np.percentile(rate_samples, 95, axis=0)))\";\n",
       "                var nbb_cells = Jupyter.notebook.get_cells();\n",
       "                for (var i = 0; i < nbb_cells.length; ++i) {\n",
       "                    if (nbb_cells[i].input_prompt_number == nbb_cell_id) {\n",
       "                        if (nbb_cells[i].get_text() == nbb_unformatted_code) {\n",
       "                             nbb_cells[i].set_text(nbb_formatted_code);\n",
       "                        }\n",
       "                        break;\n",
       "                    }\n",
       "                }\n",
       "            }, 500);\n",
       "            "
      ],
      "text/plain": [
       "<IPython.core.display.Javascript object>"
      ]
     },
     "metadata": {},
     "output_type": "display_data"
    }
   ],
   "source": [
    "rate_samples = sp.special.expit(f_samples[:, :, 0])\n",
    "\n",
    "(line,) = plt.plot(Xtest, np.mean(rate_samples, 0), lw=2)\n",
    "plt.fill_between(\n",
    "    Xtest[:, 0],\n",
    "    np.percentile(rate_samples, 5, axis=0),\n",
    "    np.percentile(rate_samples, 95, axis=0),\n",
    "    color=line.get_color(),\n",
    "    alpha=0.2,\n",
    ")\n",
    "\n",
    "plt.plot(X, Y, \"kx\", mew=2)\n",
    "_ = plt.ylim(-0.1, np.max(np.percentile(rate_samples, 95, axis=0)))"
   ]
  },
  {
   "cell_type": "code",
   "execution_count": null,
   "id": "transsexual-distributor",
   "metadata": {},
   "outputs": [],
   "source": []
  }
 ],
 "metadata": {
  "kernelspec": {
   "display_name": "Python (pymc3)",
   "language": "python",
   "name": "myenv"
  },
  "language_info": {
   "codemirror_mode": {
    "name": "ipython",
    "version": 3
   },
   "file_extension": ".py",
   "mimetype": "text/x-python",
   "name": "python",
   "nbconvert_exporter": "python",
   "pygments_lexer": "ipython3",
   "version": "3.8.6"
  }
 },
 "nbformat": 4,
 "nbformat_minor": 5
}
