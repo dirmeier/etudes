{
 "cells": [
  {
   "cell_type": "markdown",
   "id": "operational-federation",
   "metadata": {},
   "source": [
    "# The basics of Bayesian optimization\n",
    "\n",
    "Many real-world problems involve optimization of functions which are difficult, or costly, to evaluate. For instance, in deep learning, finding the optimal hyperparameters and architecture of a neural network is a cumbersome process that should ideally be automated with as little fuction evaluations (i.e. training the networks) as possible.\n",
    "\n",
    "For problems like these, Bayesian optimization (BO) offers a unifying framework where the function to evaluate is approximated using a surrogate model, for instance a Gaussian process. In this notebook, we introduce the basics of BO."
   ]
  },
  {
   "cell_type": "markdown",
   "id": "musical-brooklyn",
   "metadata": {},
   "source": [
    "We load some libraries first."
   ]
  },
  {
   "cell_type": "code",
   "execution_count": 1,
   "id": "future-nelson",
   "metadata": {},
   "outputs": [],
   "source": [
    "suppressMessages({    \n",
    "    library(tidyverse)    \n",
    "    library(colorspace)    \n",
    "    library(rstan)\n",
    "    library(bayesplot)\n",
    "})\n",
    "\n",
    "set.seed(23)"
   ]
  },
  {
   "cell_type": "code",
   "execution_count": 35,
   "id": "every-french",
   "metadata": {},
   "outputs": [],
   "source": [
    "scatterplot <- function(\n",
    "    x.true, y.true, f_star=NULL, f_star_var=NULL, data=NULL) {\n",
    "    df <- data.frame(x=x.true, y=y.true)\n",
    "   \n",
    "    g <- ggplot() +       \n",
    "        theme(axis.line.x = element_line(color=\"black\", size = .25),\n",
    "              axis.line.y = element_line(color=\"black\", size = .25))\n",
    "\n",
    "    if (!is.null(f_star) && !is.null(f_star_var)) {\n",
    "        df_star <- data.frame(\n",
    "            x=x.true,\n",
    "            y=f_star, \n",
    "            lower=f_star - sqrt(f_star_var), \n",
    "            upper=f_star + sqrt(f_star_var))\n",
    "        g <- g + \n",
    "            geom_ribbon(data=df_star, aes(x, ymin = lower, ymax = upper, fill=\"#DCBCBC\")) +             \n",
    "            geom_line(data=df_star, aes(x, y, color=\"darkred\"))\n",
    "    }\n",
    "    if (!is.null(data)) {\n",
    "        g <- g + geom_point(data=data, aes(x, y, color=\"darkred\")) \n",
    "    }\n",
    "    \n",
    "    g + \n",
    "     geom_line(data=df, aes(x, y, color=\"darkgrey\")) +\n",
    "     scale_color_manual(\n",
    "            breaks = c(\"darkgrey\", \"darkred\", \"black\"), \n",
    "            labels = c(\"Function to optimize\", \"Posterior\", \"Acquisition function\"),\n",
    "            values = c(\"darkgrey\", \"darkred\", \"black\")\n",
    "        ) +\n",
    "        scale_fill_manual(\n",
    "            breaks = c(\"lightgrey\", \"darkred\", \"#DCBCBC\"),\n",
    "            values = c(\"lightgrey\", \"darkred\", \"#DCBCBC\")\n",
    "        ) +\n",
    "    labs(color = \"Legend\") +\n",
    "    guides(fill=FALSE)\n",
    "}"
   ]
  },
  {
   "cell_type": "markdown",
   "id": "tight-physics",
   "metadata": {},
   "source": [
    "Usually the function to maximize is difficult/infeasible to query and the number of functions evaluations and we want to minimize the number as much as possible. In this example, we demonstration BO on the example function below."
   ]
  },
  {
   "cell_type": "code",
   "execution_count": 3,
   "id": "waiting-growth",
   "metadata": {},
   "outputs": [],
   "source": [
    "f <- function(x) cos(4 * x) + exp(-(x ** 2) / 2)"
   ]
  },
  {
   "cell_type": "markdown",
   "id": "opponent-market",
   "metadata": {},
   "source": [
    "Without loss of generality, we constrain the optimization on a set of $n$ points in the interval $x \\in [-5, 5]$, such that we don't need to write to much boilerplate code."
   ]
  },
  {
   "cell_type": "code",
   "execution_count": 4,
   "id": "actual-omega",
   "metadata": {},
   "outputs": [],
   "source": [
    "n <- 1000\n",
    "\n",
    "x.init = seq(-5, 5, length.out = n)\n",
    "y.init = f(x.init)"
   ]
  },
  {
   "cell_type": "markdown",
   "id": "extended-brazilian",
   "metadata": {},
   "source": [
    "Below is the function to optimize:"
   ]
  },
  {
   "cell_type": "code",
   "execution_count": 13,
   "id": "motivated-congo",
   "metadata": {},
   "outputs": [
    {
     "data": {
      "image/png": "[encoded data removed]",
      "text/plain": [
       "plot without title"
      ]
     },
     "metadata": {
      "image/png": {
       "height": 420,
       "width": 420
      }
     },
     "output_type": "display_data"
    }
   ],
   "source": [
    "scatterplot(x.init, y.init)"
   ]
  },
  {
   "cell_type": "markdown",
   "id": "intimate-pakistan",
   "metadata": {},
   "source": [
    "To optimize this function, we define functions to fit a surrogate model and make a predict using the model fit. We use Stan to implement the surrogate model for which we use a Gaussian process."
   ]
  },
  {
   "cell_type": "code",
   "execution_count": 14,
   "id": "beginning-priority",
   "metadata": {},
   "outputs": [
    {
     "name": "stdout",
     "output_type": "stream",
     "text": [
      "data {\n",
      "\tint<lower=1> N;\t\n",
      "\treal x[N];\n",
      "\tvector[N] y;\n",
      "\n",
      "\tint<lower=1> N_star;\n",
      "\treal x_star[N_star];\n",
      "\n",
      "\treal<lower=0> rho;\n",
      "\treal<lower=0> alpha;\n",
      "\treal<lower=0> sigma;\n",
      "}\n",
      "\n",
      "parameters {}\n",
      "\n",
      "model {}\n",
      "\n",
      "generated quantities {\n",
      "\tvector[N_star] f_star;\n",
      "\tvector[N_star] f_star_cov;\t\n",
      "\n",
      "    {\n",
      "      matrix[N, N] K =  cov_exp_quad(x, alpha, rho)\n",
      "                         + diag_matrix(rep_vector(square(sigma), N));\n",
      "      matrix[N, N] L_K = cholesky_decompose(K);\n",
      "\n",
      "      vector[N] L_K_div_y = mdivide_left_tri_low(L_K, y);\n",
      "      vector[N] K_div_y = mdivide_right_tri_low(L_K_div_y', L_K)';\n",
      "      \n",
      "      matrix[N, N_star] k_x_x_star = cov_exp_quad(x, x_star, alpha, rho);\n",
      "      \n",
      "     \n",
      "      matrix[N, N_star] v_pred = mdivide_left_tri_low(L_K, k_x_x_star);\n",
      "      matrix[N_star, N_star] cov_f2 = cov_exp_quad(x_star, alpha, rho) - v_pred' * v_pred\n",
      "\t\t+ diag_matrix(rep_vector(1e-10, N_star));\n",
      "\n",
      "\t\tf_star = (k_x_x_star' * K_div_y);\n",
      "\t\tf_star_cov = diagonal(cov_f2);\n",
      "\t}\n",
      "\n",
      "}\n"
     ]
    }
   ],
   "source": [
    "surrogate.model.file <- \"_models/bo-surrogate.stan\"\n",
    "cat(readLines(surrogate.model.file), sep=\"\\n\")"
   ]
  },
  {
   "cell_type": "code",
   "execution_count": 54,
   "id": "framed-opposition",
   "metadata": {},
   "outputs": [],
   "source": [
    "gp <- stan_model(file = surrogate.model.file)"
   ]
  },
  {
   "cell_type": "code",
   "execution_count": 83,
   "id": "white-friendship",
   "metadata": {},
   "outputs": [],
   "source": [
    "predict.gp <- function(gp, x, y, x.star) {\n",
    "    dat <- list(\n",
    "        N=length(x),\n",
    "        x=as.vector(x),\n",
    "        y=as.vector(y),\n",
    "        N_star=length(x.star),\n",
    "        x_star=x.star,\n",
    "        rho=1,\n",
    "        alpha=1,\n",
    "        sigma=1\n",
    "    )\n",
    "    \n",
    "    pred <- rstan::sampling(gp, dat, chains=1, algorithm=\"Fixed_param\", iter=1)\n",
    "\n",
    "    ext <- rstan::extract(pred)\n",
    "    f.star <- as.vector(ext$f_star)\n",
    "    f.star.var <- as.vector(ext$f_star_cov)\n",
    "    \n",
    "    \n",
    "    list(f.star, f.star.var)\n",
    "}"
   ]
  },
  {
   "cell_type": "code",
   "execution_count": 69,
   "id": "three-vision",
   "metadata": {},
   "outputs": [
    {
     "name": "stdout",
     "output_type": "stream",
     "text": [
      "\n",
      "SAMPLING FOR MODEL 'bo-surrogate' NOW (CHAIN 1).\n",
      "Chain 1: Iteration: 1 / 1 [100%]  (Sampling)\n",
      "Chain 1: \n",
      "Chain 1:  Elapsed Time: 0 seconds (Warm-up)\n",
      "Chain 1:                0.023694 seconds (Sampling)\n",
      "Chain 1:                0.023694 seconds (Total)\n",
      "Chain 1: \n"
     ]
    }
   ],
   "source": [
    ". <- predict.gp(gp, x.init[1:2], y.init[1:2], x.init)"
   ]
  },
  {
   "cell_type": "markdown",
   "id": "common-morgan",
   "metadata": {},
   "source": [
    "As acquisition function we use the upper confidence bound."
   ]
  },
  {
   "cell_type": "code",
   "execution_count": 27,
   "id": "entertaining-violence",
   "metadata": {},
   "outputs": [],
   "source": [
    "acquisition.function <- function(gp, x.d, y.d, x.init, conf) {\n",
    "    preds <- predict.gp(gp, x.d, y.d, x.init)\n",
    "    f.star <- preds[[1]]\n",
    "    f.star.var <- preds[[2]]\n",
    "    ucb <- f.star + conf * sqrt(f.star.var)\n",
    "    ucb\n",
    "}"
   ]
  },
  {
   "cell_type": "markdown",
   "id": "comparative-campaign",
   "metadata": {},
   "source": [
    "Finally, we define a function that proposes the next point to evaluate."
   ]
  },
  {
   "cell_type": "code",
   "execution_count": 28,
   "id": "unlike-drill",
   "metadata": {},
   "outputs": [],
   "source": [
    "acquire <- function(x.d, y.d, x.init, conf=2.0) {\n",
    "    preds <- predict.gp(gp, x.d, y.d, x.init)\n",
    "    f.hat <- preds[[1]]\n",
    "    f.star.var <- preds[[2]]\n",
    "\n",
    "    ucb <- acquisition.function(gp, x.d, y.d, x.init, conf)\n",
    "    x.next <- x.init[which.max(ucb)]\n",
    "    list(x.next=x.next, ucb=ucb, f.hat=f.hat, f.star.var=f.star.var)\n",
    "}    "
   ]
  },
  {
   "cell_type": "markdown",
   "id": "copyrighted-blanket",
   "metadata": {},
   "source": [
    "We start with a random point on the interval defined above and query it against the function that we want to evaluate"
   ]
  },
  {
   "cell_type": "code",
   "execution_count": 89,
   "id": "accredited-theorem",
   "metadata": {},
   "outputs": [],
   "source": [
    "set.seed(23)\n",
    "\n",
    "x.d <- runif(2, -5, 5)\n",
    "y.d <- f(x.d)"
   ]
  },
  {
   "cell_type": "markdown",
   "id": "eligible-butler",
   "metadata": {},
   "source": [
    "Then we train the surrogate model, and use the aquisition function to propose a new point."
   ]
  },
  {
   "cell_type": "code",
   "execution_count": 92,
   "id": "color-presentation",
   "metadata": {},
   "outputs": [
    {
     "name": "stdout",
     "output_type": "stream",
     "text": [
      "\n",
      "SAMPLING FOR MODEL 'bo-surrogate' NOW (CHAIN 1).\n",
      "Chain 1: Iteration: 1 / 1 [100%]  (Sampling)\n",
      "Chain 1: \n",
      "Chain 1:  Elapsed Time: 0 seconds (Warm-up)\n",
      "Chain 1:                0.023207 seconds (Sampling)\n",
      "Chain 1:                0.023207 seconds (Total)\n",
      "Chain 1: \n",
      "\n",
      "SAMPLING FOR MODEL 'bo-surrogate' NOW (CHAIN 1).\n",
      "Chain 1: Iteration: 1 / 1 [100%]  (Sampling)\n",
      "Chain 1: \n",
      "Chain 1:  Elapsed Time: 0 seconds (Warm-up)\n",
      "Chain 1:                0.02356 seconds (Sampling)\n",
      "Chain 1:                0.02356 seconds (Total)\n",
      "Chain 1: \n"
     ]
    }
   ],
   "source": [
    "iter <- acquire(x.d, y.d, x.init)\n",
    "x.n <- iter$x.next\n",
    "ucb <- iter$ucb\n",
    "f.star <- iter$f.star\n",
    "f.star.var <- iter$f.star.var"
   ]
  },
  {
   "cell_type": "code",
   "execution_count": 93,
   "id": "assured-carter",
   "metadata": {},
   "outputs": [
    {
     "data": {
      "image/png": "[encoded data removed]",
      "text/plain": [
       "plot without title"
      ]
     },
     "metadata": {
      "image/png": {
       "height": 420,
       "width": 420
      }
     },
     "output_type": "display_data"
    }
   ],
   "source": [
    "g <- scatterplot(x.init, y.init, f.star, f.star.var, data=data.frame(x=x.d, y=y.d))\n",
    "g + geom_line(data=data.frame(x=x.init, y=ucb), aes(x, y, color=\"black\")) +\n",
    "    geom_point(data=data.frame(x=x.n, y=max(ucb)), aes(x, y))"
   ]
  },
  {
   "cell_type": "code",
   "execution_count": 98,
   "id": "meaningful-phone",
   "metadata": {},
   "outputs": [],
   "source": [
    "y.n <- f(x.n)\n",
    "x.d <- c(x.d, x.n)\n",
    "y.d <- c(y.d, y.n)"
   ]
  },
  {
   "cell_type": "code",
   "execution_count": 101,
   "id": "original-intro",
   "metadata": {},
   "outputs": [
    {
     "name": "stdout",
     "output_type": "stream",
     "text": [
      "\n",
      "SAMPLING FOR MODEL 'bo-surrogate' NOW (CHAIN 1).\n",
      "Chain 1: Iteration: 1 / 1 [100%]  (Sampling)\n",
      "Chain 1: \n",
      "Chain 1:  Elapsed Time: 0 seconds (Warm-up)\n",
      "Chain 1:                0.023108 seconds (Sampling)\n",
      "Chain 1:                0.023108 seconds (Total)\n",
      "Chain 1: \n",
      "\n",
      "SAMPLING FOR MODEL 'bo-surrogate' NOW (CHAIN 1).\n",
      "Chain 1: Iteration: 1 / 1 [100%]  (Sampling)\n",
      "Chain 1: \n",
      "Chain 1:  Elapsed Time: 0 seconds (Warm-up)\n",
      "Chain 1:                0.022231 seconds (Sampling)\n",
      "Chain 1:                0.022231 seconds (Total)\n",
      "Chain 1: \n"
     ]
    }
   ],
   "source": [
    "iter <- acquire(x.d, y.d, x.init)"
   ]
  },
  {
   "cell_type": "code",
   "execution_count": 102,
   "id": "viral-japanese",
   "metadata": {},
   "outputs": [],
   "source": [
    "x.n <- iter$x.next\n",
    "ucb <- iter$ucb\n",
    "f.star <- iter$f.star\n",
    "f.star.var <- iter$f.star.v"
   ]
  },
  {
   "cell_type": "code",
   "execution_count": 103,
   "id": "indirect-research",
   "metadata": {},
   "outputs": [
    {
     "data": {
      "image/png": "[encoded data removed]",
      "text/plain": [
       "plot without title"
      ]
     },
     "metadata": {
      "image/png": {
       "height": 420,
       "width": 420
      }
     },
     "output_type": "display_data"
    }
   ],
   "source": [
    "g <- scatterplot(x.init, y.init, f.star, f.star.var, data=data.frame(x=x.d, y=y.d))\n",
    "g + geom_line(data=data.frame(x=x.init, y=ucb), aes(x, y, color=\"black\")) +\n",
    "    geom_point(data=data.frame(x=x.n, y=max(ucb)), aes(x, y))"
   ]
  },
  {
   "cell_type": "code",
   "execution_count": 106,
   "id": "spiritual-joyce",
   "metadata": {},
   "outputs": [],
   "source": [
    "y.n <- f(x.n)\n",
    "x.d <- c(x.d, x.n)\n",
    "y.d <- c(y.d, y.n)"
   ]
  },
  {
   "cell_type": "code",
   "execution_count": 107,
   "id": "complicated-swedish",
   "metadata": {},
   "outputs": [
    {
     "name": "stdout",
     "output_type": "stream",
     "text": [
      "\n",
      "SAMPLING FOR MODEL 'bo-surrogate' NOW (CHAIN 1).\n",
      "Chain 1: Iteration: 1 / 1 [100%]  (Sampling)\n",
      "Chain 1: \n",
      "Chain 1:  Elapsed Time: 0 seconds (Warm-up)\n",
      "Chain 1:                0.02298 seconds (Sampling)\n",
      "Chain 1:                0.02298 seconds (Total)\n",
      "Chain 1: \n",
      "\n",
      "SAMPLING FOR MODEL 'bo-surrogate' NOW (CHAIN 1).\n",
      "Chain 1: Iteration: 1 / 1 [100%]  (Sampling)\n",
      "Chain 1: \n",
      "Chain 1:  Elapsed Time: 0 seconds (Warm-up)\n",
      "Chain 1:                0.021686 seconds (Sampling)\n",
      "Chain 1:                0.021686 seconds (Total)\n",
      "Chain 1: \n"
     ]
    }
   ],
   "source": [
    "iter <- acquire(x.d, y.d, x.init)"
   ]
  },
  {
   "cell_type": "code",
   "execution_count": 108,
   "id": "continental-dubai",
   "metadata": {},
   "outputs": [],
   "source": [
    "x.n <- iter$x.next\n",
    "ucb <- iter$ucb\n",
    "f.star <- iter$f.star\n",
    "f.star.var <- iter$f.star.v"
   ]
  },
  {
   "cell_type": "code",
   "execution_count": 109,
   "id": "outside-street",
   "metadata": {},
   "outputs": [
    {
     "data": {
      "image/png": "[encoded data removed]",
      "text/plain": [
       "plot without title"
      ]
     },
     "metadata": {
      "image/png": {
       "height": 420,
       "width": 420
      }
     },
     "output_type": "display_data"
    }
   ],
   "source": [
    "g <- scatterplot(x.init, y.init, f.star, f.star.var, data=data.frame(x=x.d, y=y.d))\n",
    "g + geom_line(data=data.frame(x=x.init, y=ucb), aes(x, y, color=\"black\")) +\n",
    "    geom_point(data=data.frame(x=x.n, y=max(ucb)), aes(x, y))"
   ]
  },
  {
   "cell_type": "code",
   "execution_count": 121,
   "id": "incorrect-shark",
   "metadata": {},
   "outputs": [
    {
     "name": "stdout",
     "output_type": "stream",
     "text": [
      "\n",
      "SAMPLING FOR MODEL 'bo-surrogate' NOW (CHAIN 1).\n",
      "Chain 1: Iteration: 1 / 1 [100%]  (Sampling)\n",
      "Chain 1: \n",
      "Chain 1:  Elapsed Time: 0 seconds (Warm-up)\n",
      "Chain 1:                0.028519 seconds (Sampling)\n",
      "Chain 1:                0.028519 seconds (Total)\n",
      "Chain 1: \n",
      "\n",
      "SAMPLING FOR MODEL 'bo-surrogate' NOW (CHAIN 1).\n",
      "Chain 1: Iteration: 1 / 1 [100%]  (Sampling)\n",
      "Chain 1: \n",
      "Chain 1:  Elapsed Time: 0 seconds (Warm-up)\n",
      "Chain 1:                0.028569 seconds (Sampling)\n",
      "Chain 1:                0.028569 seconds (Total)\n",
      "Chain 1: \n",
      "\n",
      "SAMPLING FOR MODEL 'bo-surrogate' NOW (CHAIN 1).\n",
      "Chain 1: Iteration: 1 / 1 [100%]  (Sampling)\n",
      "Chain 1: \n",
      "Chain 1:  Elapsed Time: 0 seconds (Warm-up)\n",
      "Chain 1:                0.028508 seconds (Sampling)\n",
      "Chain 1:                0.028508 seconds (Total)\n",
      "Chain 1: \n",
      "\n",
      "SAMPLING FOR MODEL 'bo-surrogate' NOW (CHAIN 1).\n",
      "Chain 1: Iteration: 1 / 1 [100%]  (Sampling)\n",
      "Chain 1: \n",
      "Chain 1:  Elapsed Time: 0 seconds (Warm-up)\n",
      "Chain 1:                0.029689 seconds (Sampling)\n",
      "Chain 1:                0.029689 seconds (Total)\n",
      "Chain 1: \n",
      "\n",
      "SAMPLING FOR MODEL 'bo-surrogate' NOW (CHAIN 1).\n",
      "Chain 1: Iteration: 1 / 1 [100%]  (Sampling)\n",
      "Chain 1: \n",
      "Chain 1:  Elapsed Time: 0 seconds (Warm-up)\n",
      "Chain 1:                0.028445 seconds (Sampling)\n",
      "Chain 1:                0.028445 seconds (Total)\n",
      "Chain 1: \n",
      "\n",
      "SAMPLING FOR MODEL 'bo-surrogate' NOW (CHAIN 1).\n",
      "Chain 1: Iteration: 1 / 1 [100%]  (Sampling)\n",
      "Chain 1: \n",
      "Chain 1:  Elapsed Time: 0 seconds (Warm-up)\n",
      "Chain 1:                0.028636 seconds (Sampling)\n",
      "Chain 1:                0.028636 seconds (Total)\n",
      "Chain 1: \n",
      "\n",
      "SAMPLING FOR MODEL 'bo-surrogate' NOW (CHAIN 1).\n",
      "Chain 1: Iteration: 1 / 1 [100%]  (Sampling)\n",
      "Chain 1: \n",
      "Chain 1:  Elapsed Time: 0 seconds (Warm-up)\n",
      "Chain 1:                0.028781 seconds (Sampling)\n",
      "Chain 1:                0.028781 seconds (Total)\n",
      "Chain 1: \n",
      "\n",
      "SAMPLING FOR MODEL 'bo-surrogate' NOW (CHAIN 1).\n",
      "Chain 1: Iteration: 1 / 1 [100%]  (Sampling)\n",
      "Chain 1: \n",
      "Chain 1:  Elapsed Time: 0 seconds (Warm-up)\n",
      "Chain 1:                0.028598 seconds (Sampling)\n",
      "Chain 1:                0.028598 seconds (Total)\n",
      "Chain 1: \n",
      "\n",
      "SAMPLING FOR MODEL 'bo-surrogate' NOW (CHAIN 1).\n",
      "Chain 1: Iteration: 1 / 1 [100%]  (Sampling)\n",
      "Chain 1: \n",
      "Chain 1:  Elapsed Time: 0 seconds (Warm-up)\n",
      "Chain 1:                0.028457 seconds (Sampling)\n",
      "Chain 1:                0.028457 seconds (Total)\n",
      "Chain 1: \n",
      "\n",
      "SAMPLING FOR MODEL 'bo-surrogate' NOW (CHAIN 1).\n",
      "Chain 1: Iteration: 1 / 1 [100%]  (Sampling)\n",
      "Chain 1: \n",
      "Chain 1:  Elapsed Time: 0 seconds (Warm-up)\n",
      "Chain 1:                0.028596 seconds (Sampling)\n",
      "Chain 1:                0.028596 seconds (Total)\n",
      "Chain 1: \n",
      "\n",
      "SAMPLING FOR MODEL 'bo-surrogate' NOW (CHAIN 1).\n",
      "Chain 1: Iteration: 1 / 1 [100%]  (Sampling)\n",
      "Chain 1: \n",
      "Chain 1:  Elapsed Time: 0 seconds (Warm-up)\n",
      "Chain 1:                0.02906 seconds (Sampling)\n",
      "Chain 1:                0.02906 seconds (Total)\n",
      "Chain 1: \n",
      "\n",
      "SAMPLING FOR MODEL 'bo-surrogate' NOW (CHAIN 1).\n",
      "Chain 1: Iteration: 1 / 1 [100%]  (Sampling)\n",
      "Chain 1: \n",
      "Chain 1:  Elapsed Time: 0 seconds (Warm-up)\n",
      "Chain 1:                0.028745 seconds (Sampling)\n",
      "Chain 1:                0.028745 seconds (Total)\n",
      "Chain 1: \n",
      "\n",
      "SAMPLING FOR MODEL 'bo-surrogate' NOW (CHAIN 1).\n",
      "Chain 1: Iteration: 1 / 1 [100%]  (Sampling)\n",
      "Chain 1: \n",
      "Chain 1:  Elapsed Time: 0 seconds (Warm-up)\n",
      "Chain 1:                0.028898 seconds (Sampling)\n",
      "Chain 1:                0.028898 seconds (Total)\n",
      "Chain 1: \n",
      "\n",
      "SAMPLING FOR MODEL 'bo-surrogate' NOW (CHAIN 1).\n",
      "Chain 1: Iteration: 1 / 1 [100%]  (Sampling)\n",
      "Chain 1: \n",
      "Chain 1:  Elapsed Time: 0 seconds (Warm-up)\n",
      "Chain 1:                0.0349 seconds (Sampling)\n",
      "Chain 1:                0.0349 seconds (Total)\n",
      "Chain 1: \n",
      "\n",
      "SAMPLING FOR MODEL 'bo-surrogate' NOW (CHAIN 1).\n",
      "Chain 1: Iteration: 1 / 1 [100%]  (Sampling)\n",
      "Chain 1: \n",
      "Chain 1:  Elapsed Time: 0 seconds (Warm-up)\n",
      "Chain 1:                0.029093 seconds (Sampling)\n",
      "Chain 1:                0.029093 seconds (Total)\n",
      "Chain 1: \n",
      "\n",
      "SAMPLING FOR MODEL 'bo-surrogate' NOW (CHAIN 1).\n",
      "Chain 1: Iteration: 1 / 1 [100%]  (Sampling)\n",
      "Chain 1: \n",
      "Chain 1:  Elapsed Time: 0 seconds (Warm-up)\n",
      "Chain 1:                0.029047 seconds (Sampling)\n",
      "Chain 1:                0.029047 seconds (Total)\n",
      "Chain 1: \n",
      "\n",
      "SAMPLING FOR MODEL 'bo-surrogate' NOW (CHAIN 1).\n",
      "Chain 1: Iteration: 1 / 1 [100%]  (Sampling)\n",
      "Chain 1: \n",
      "Chain 1:  Elapsed Time: 0 seconds (Warm-up)\n",
      "Chain 1:                0.029246 seconds (Sampling)\n",
      "Chain 1:                0.029246 seconds (Total)\n",
      "Chain 1: \n",
      "\n",
      "SAMPLING FOR MODEL 'bo-surrogate' NOW (CHAIN 1).\n",
      "Chain 1: Iteration: 1 / 1 [100%]  (Sampling)\n",
      "Chain 1: \n",
      "Chain 1:  Elapsed Time: 0 seconds (Warm-up)\n",
      "Chain 1:                0.029335 seconds (Sampling)\n",
      "Chain 1:                0.029335 seconds (Total)\n",
      "Chain 1: \n",
      "\n",
      "SAMPLING FOR MODEL 'bo-surrogate' NOW (CHAIN 1).\n",
      "Chain 1: Iteration: 1 / 1 [100%]  (Sampling)\n",
      "Chain 1: \n",
      "Chain 1:  Elapsed Time: 0 seconds (Warm-up)\n",
      "Chain 1:                0.029189 seconds (Sampling)\n",
      "Chain 1:                0.029189 seconds (Total)\n",
      "Chain 1: \n",
      "\n",
      "SAMPLING FOR MODEL 'bo-surrogate' NOW (CHAIN 1).\n",
      "Chain 1: Iteration: 1 / 1 [100%]  (Sampling)\n",
      "Chain 1: \n",
      "Chain 1:  Elapsed Time: 0 seconds (Warm-up)\n",
      "Chain 1:                0.030352 seconds (Sampling)\n",
      "Chain 1:                0.030352 seconds (Total)\n",
      "Chain 1: \n"
     ]
    }
   ],
   "source": [
    "for (i in seq(10)) {\n",
    "    y.n <- f(x.n)\n",
    "    x.d <- c(x.d, x.n)\n",
    "    y.d <- c(y.d, y.n)\n",
    "    iter <- acquire(x.d, y.d, x.init)\n",
    "    x.n <- iter$x.next\n",
    "}"
   ]
  },
  {
   "cell_type": "code",
   "execution_count": 122,
   "id": "liquid-hobby",
   "metadata": {},
   "outputs": [],
   "source": [
    "ucb <- iter$ucb\n",
    "f.star <- iter$f.star\n",
    "f.star.var <- iter$f.star.v"
   ]
  },
  {
   "cell_type": "code",
   "execution_count": 123,
   "id": "equipped-needle",
   "metadata": {},
   "outputs": [
    {
     "data": {
      "image/png": "[encoded data removed]",
      "text/plain": [
       "plot without title"
      ]
     },
     "metadata": {
      "image/png": {
       "height": 420,
       "width": 420
      }
     },
     "output_type": "display_data"
    }
   ],
   "source": [
    "g <- scatterplot(x.init, y.init, f.star, f.star.var, data=data.frame(x=x.d, y=y.d))\n",
    "g + geom_line(data=data.frame(x=x.init, y=ucb), aes(x, y, color=\"black\")) +\n",
    "    geom_point(data=data.frame(x=x.n, y=max(ucb)), aes(x, y))"
   ]
  },
  {
   "cell_type": "markdown",
   "id": "initial-princeton",
   "metadata": {},
   "source": [
    "## Batch Bayesian optimization\n",
    "\n",
    "In cases where we want to query multiple points at once, we need to come up with another strategy. One way to do that is, to propose a new point, then penalize the acquisition function around the region of the proposed point, and then propose another point by using the penalized acquisition function.\n",
    "\n",
    "Below we demonstrate the proposed method by [Gonzales *et al.*](http://proceedings.mlr.press/v51/gonzalez16a.pdf)."
   ]
  },
  {
   "cell_type": "markdown",
   "id": "sweet-serial",
   "metadata": {},
   "source": [
    "First we define some required functions."
   ]
  },
  {
   "cell_type": "code",
   "execution_count": 125,
   "id": "dressed-botswana",
   "metadata": {},
   "outputs": [],
   "source": [
    "m <- function(gp, x.init) {\n",
    "    pred <- predict.gp(gp, x.init)\n",
    "    y.hat <- pred[[1]]\n",
    "    max(y.hat)\n",
    "}"
   ]
  },
  {
   "cell_type": "markdown",
   "id": "compressed-measurement",
   "metadata": {},
   "source": [
    "We approximate the gradient of the posterior predictive mean using finite differences."
   ]
  },
  {
   "cell_type": "code",
   "execution_count": 127,
   "id": "organic-conference",
   "metadata": {},
   "outputs": [],
   "source": [
    "posterior.gradient <- function(gp, x.init) {\n",
    "    h <- 0.00000000001\n",
    "    y.hat <- predict.gp(gp, x.init)[[1]]\n",
    "    y.h.hat <- predict.gp(gp, x.init + h)[[1]]\n",
    "    y.hat.grad = (y.h.hat - y.hat) / h\n",
    "    \n",
    "    list(y.hat=y.hat, y.h.hat=y.h.hat)\n",
    "}"
   ]
  },
  {
   "cell_type": "code",
   "execution_count": 128,
   "id": "peripheral-heaven",
   "metadata": {},
   "outputs": [],
   "source": [
    "lipschitz <- function(gp, x.init) {\n",
    "    y.hat.grad <- posterior.gradient(gp, x.init)[[2]]\n",
    "    max(sqrt(y.hat.grad ** 2))\n",
    "}\n",
    "    "
   ]
  },
  {
   "cell_type": "markdown",
   "id": "multiple-combat",
   "metadata": {},
   "source": [
    "The function $\\phi$ penalizes the acquisiation function around a point $\\mathbf{x}_j$."
   ]
  },
  {
   "cell_type": "code",
   "execution_count": null,
   "id": "exposed-gilbert",
   "metadata": {},
   "outputs": [],
   "source": [
    "phi <- function(gp, x, x.j, L, M) {\n",
    "    y_hat, y_hat_var = predict_gp(gp, np.atleast_2d(x_j))\n",
    "    dist = distance.cdist(np.atleast_2d(x), np.atleast_2d(x_j))\n",
    "\n",
    "    z = (L * dist - M + y_hat) / (np.sqrt(2 * y_hat_var))\n",
    "    z = 0.5 * sp.special.erfc(-z)\n",
    "    z\n",
    "}"
   ]
  }
 ],
 "metadata": {
  "kernelspec": {
   "display_name": "R",
   "language": "R",
   "name": "ir"
  },
  "language_info": {
   "codemirror_mode": "r",
   "file_extension": ".r",
   "mimetype": "text/x-r-source",
   "name": "R",
   "pygments_lexer": "r",
   "version": "4.0.2"
  }
 },
 "nbformat": 4,
 "nbformat_minor": 5
}
