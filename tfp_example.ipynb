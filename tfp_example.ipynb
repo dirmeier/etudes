{
 "cells": [
  {
   "cell_type": "code",
   "execution_count": 2,
   "metadata": {},
   "outputs": [],
   "source": [
    "import os\n",
    "import sys\n",
    "import numpy as np\n",
    "\n",
    "import matplotlib as mpl\n",
    "mpl.use(\"Agg\")\n",
    "\n",
    "import tensorflow_probability as tfp\n",
    "from tensorflow_probability import edward2 as ed\n",
    "import tensorflow as tf\n"
   ]
  },
  {
   "cell_type": "code",
   "execution_count": 23,
   "metadata": {},
   "outputs": [],
   "source": [
    "m = 3.5\n",
    "c = 2\n",
    "\n",
    "M = 100\n",
    "xmin = 0.\n",
    "xmax = 10.\n",
    "stepsize = (xmax-xmin)/M\n",
    "x = np.arange(xmin, xmax, stepsize)\n",
    "\n",
    "def straight_line(x, m, c):\n",
    "    return m*x + c\n",
    "\n",
    "sigma = 0.5\n",
    "data = straight_line(x, m, c) + sigma * np.random.randn(M)"
   ]
  },
  {
   "cell_type": "code",
   "execution_count": 34,
   "metadata": {},
   "outputs": [],
   "source": [
    "cmin, cmax = -10., 10.\n",
    "mmu = 0.\n",
    "msigma = 10.\n",
    "\n",
    "# create a log-likelihood function\n",
    "def log_likelihood(x, cmin, mmu, msigma, sigma):\n",
    "    m = ed.Normal(loc=mmu, scale=msigma, name=\"m\")\n",
    "    c = ed.Poisson(cmin, name=\"c\")\n",
    "    y = ed.Normal(loc=(m*x + c), scale=sigma, name=\"y\")\n",
    "    return y\n",
    "\n",
    " \n",
    "qm = tf.random_normal(shape=[], mean=mmu, stddev=msigma, dtype=tf.float32)\n",
    "qc = tf.random_poisson(shape=[], lam=10, dtype=tf.int32)"
   ]
  },
  {
   "cell_type": "code",
   "execution_count": 35,
   "metadata": {},
   "outputs": [],
   "source": [
    "x = tf.convert_to_tensor(x, dtype=tf.float32)\n",
    "data = tf.convert_to_tensor(data, dtype=tf.float32)"
   ]
  },
  {
   "cell_type": "code",
   "execution_count": 36,
   "metadata": {},
   "outputs": [],
   "source": [
    "log_joint = ed.make_log_joint_fn(log_likelihood)"
   ]
  },
  {
   "cell_type": "code",
   "execution_count": 39,
   "metadata": {},
   "outputs": [
    {
     "ename": "TypeError",
     "evalue": "__init__() got an unexpected keyword argument 'target_log_prob_fn'",
     "output_type": "error",
     "traceback": [
      "\u001b[0;31m---------------------------------------------------------------------------\u001b[0m",
      "\u001b[0;31mTypeError\u001b[0m                                 Traceback (most recent call last)",
      "\u001b[0;32m<ipython-input-39-a2506da8f85b>\u001b[0m in \u001b[0;36m<module>\u001b[0;34m\u001b[0m\n\u001b[1;32m     11\u001b[0m     \u001b[0mtarget_log_prob_fn\u001b[0m\u001b[0;34m=\u001b[0m\u001b[0mtarget_log_prob_fn\u001b[0m\u001b[0;34m,\u001b[0m\u001b[0;34m\u001b[0m\u001b[0;34m\u001b[0m\u001b[0m\n\u001b[1;32m     12\u001b[0m     \u001b[0mstep_size\u001b[0m\u001b[0;34m=\u001b[0m\u001b[0;36m0.01\u001b[0m\u001b[0;34m,\u001b[0m\u001b[0;34m\u001b[0m\u001b[0;34m\u001b[0m\u001b[0m\n\u001b[0;32m---> 13\u001b[0;31m     num_leapfrog_steps=5)\n\u001b[0m\u001b[1;32m     14\u001b[0m \u001b[0;34m\u001b[0m\u001b[0m\n\u001b[1;32m     15\u001b[0m states, kernel_results = tfp.mcmc.sample_chain(\n",
      "\u001b[0;31mTypeError\u001b[0m: __init__() got an unexpected keyword argument 'target_log_prob_fn'"
     ]
    }
   ],
   "source": [
    "def target_log_prob_fn(m, c):\n",
    "    \"\"\"Target log-probability as a function of states.\"\"\"\n",
    "    return log_joint(x, cmin, mmu, msigma, sigma, m=m, c=c,\n",
    "                     y=data)\n",
    "\n",
    "Nsamples = 2000\n",
    "Nburn = 2000\n",
    "\n",
    "# set up Hamiltonian MC\n",
    "hmc_kernel = tfp.mcmc.MetropolisHastings(\n",
    "    target_log_prob_fn=target_log_prob_fn,\n",
    "    step_size=0.01,\n",
    "    num_leapfrog_steps=5)\n",
    "\n",
    "states, kernel_results = tfp.mcmc.sample_chain(\n",
    "    num_results=Nsamples,\n",
    "    current_state=[qm, qc],\n",
    "    kernel=hmc_kernel,\n",
    "    num_burnin_steps=Nburn)"
   ]
  },
  {
   "cell_type": "code",
   "execution_count": 22,
   "metadata": {},
   "outputs": [
    {
     "name": "stdout",
     "output_type": "stream",
     "text": [
      "Acceptance rate: 0.0\n",
      "[[ 3.2864695 -5.240934 ]\n",
      " [ 3.2864695 -5.240934 ]\n",
      " [ 3.2864695 -5.240934 ]\n",
      " ...\n",
      " [ 3.2864695 -5.240934 ]\n",
      " [ 3.2864695 -5.240934 ]\n",
      " [ 3.2864695 -5.240934 ]]\n"
     ]
    }
   ],
   "source": [
    "with tf.Session() as sess:\n",
    "    states, is_accepted_ = sess.run([states, kernel_results.is_accepted])\n",
    "    accepted = np.sum(is_accepted_)\n",
    "    print(\"Acceptance rate: {}\".format(accepted / Nsamples))\n",
    "\n",
    "results = dict(zip(['m', 'c'], states))\n",
    "\n",
    "postsamples = np.vstack((results['m'], results['c'])).T\n",
    "print(postsamples)"
   ]
  },
  {
   "cell_type": "code",
   "execution_count": null,
   "metadata": {},
   "outputs": [],
   "source": []
  }
 ],
 "metadata": {
  "kernelspec": {
   "display_name": "Python (TF)",
   "language": "python",
   "name": "python3"
  },
  "language_info": {
   "codemirror_mode": {
    "name": "ipython",
    "version": 3
   },
   "file_extension": ".py",
   "mimetype": "text/x-python",
   "name": "python",
   "nbconvert_exporter": "python",
   "pygments_lexer": "ipython3",
   "version": "3.6.7"
  }
 },
 "nbformat": 4,
 "nbformat_minor": 2
}
