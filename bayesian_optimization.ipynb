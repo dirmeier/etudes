{
 "cells": [
  {
   "cell_type": "markdown",
   "id": "operational-federation",
   "metadata": {},
   "source": [
    "# The basics of Bayesian optimization\n",
    "\n",
    "Many real-world problems involve optimization of functions which are difficult, or costly, to evaluate. For instance, in deep learning, finding the optimal hyperparameters and architecture of a neural network is a cumbersome process that should ideally be automated with as little fuction evaluations (i.e. training the networks) as possible.\n",
    "\n",
    "For problems like these, Bayesian optimization (BO) offers a unifying framework where the function to evaluate is approximated using a surrogate model, for instance a Gaussian process. In this notebook, we introduce the basics of BO."
   ]
  },
  {
   "cell_type": "markdown",
   "id": "musical-brooklyn",
   "metadata": {},
   "source": [
    "We load some libraries first."
   ]
  },
  {
   "cell_type": "code",
   "execution_count": 32,
   "id": "future-nelson",
   "metadata": {},
   "outputs": [],
   "source": [
    "suppressMessages({    \n",
    "    library(tidyverse)    \n",
    "    library(colorspace)    \n",
    "    library(rstan)\n",
    "    library(bayesplot)\n",
    "})\n",
    "\n",
    "set.seed(23)"
   ]
  },
  {
   "cell_type": "code",
   "execution_count": 227,
   "id": "every-french",
   "metadata": {},
   "outputs": [],
   "source": [
    "scatterplot <- function(\n",
    "    x.true, y.true, f_star=NULL, f_star_var=NULL, data=NULL) {\n",
    "    df <- data.frame(x=x.true, y=y.true)\n",
    "   \n",
    "    g <- ggplot() +\n",
    "        geom_point(data=df, aes(x, y, color=\"lightgrey\"), pch=\"x\") +\n",
    "        theme(axis.line.x = element_line(color=\"black\", size = .25),\n",
    "              axis.line.y = element_line(color=\"black\", size = .25))\n",
    "\n",
    "    if (!is.null(f_star) && !is.null(f_star_var)) {\n",
    "        df_star <- data.frame(\n",
    "            x=x.true,\n",
    "            y=f_star, \n",
    "            lower=f_star - sqrt(f_star_var), \n",
    "            upper=f_star + sqrt(f_star_var))\n",
    "        g <- g + \n",
    "            geom_ribbon(data=df_star, aes(x, ymin = lower, ymax = upper, fill=\"#DCBCBC\")) +             \n",
    "            geom_line(data=df_star, aes(x, y, color=\"darkred\"))\n",
    "    }\n",
    "    if (!is.null(data)) {\n",
    "        g <- g + geom_point(data=data, aes(x, y, color=\"darkred\")) \n",
    "    }\n",
    "    \n",
    "    g + scale_color_manual(\n",
    "            breaks = c(\"lightgrey\", \"darkred\", \"black\"), \n",
    "            labels = c(\"Function to optimize\", \"Posterior\", \"Acquisition function\"),\n",
    "            values = c(\"lightgrey\", \"darkred\", \"black\")\n",
    "        ) +\n",
    "        scale_fill_manual(\n",
    "            breaks = c(\"lightgrey\", \"darkred\", \"#DCBCBC\"),\n",
    "            values = c(\"lightgrey\", \"darkred\", \"#DCBCBC\")\n",
    "        ) +\n",
    "    labs(color = \"Legend\") +\n",
    "    guides(fill=FALSE)\n",
    "}"
   ]
  },
  {
   "cell_type": "markdown",
   "id": "tight-physics",
   "metadata": {},
   "source": [
    "Usually the function to maximize is difficult/infeasible to query and the number of functions evaluations and we want to minimize the number as much as possible. In this example, we demonstration BO on the example function below."
   ]
  },
  {
   "cell_type": "code",
   "execution_count": 3,
   "id": "waiting-growth",
   "metadata": {},
   "outputs": [],
   "source": [
    "f <- function(x) cos(4 * x) + exp(-(x ** 2) / 2)"
   ]
  },
  {
   "cell_type": "markdown",
   "id": "opponent-market",
   "metadata": {},
   "source": [
    "Without loss of generality, we constrain the optimization on a set of $n$ points in the interval $x \\in [-5, 5]$, such that we don't need to write to much boilerplate code."
   ]
  },
  {
   "cell_type": "code",
   "execution_count": 4,
   "id": "actual-omega",
   "metadata": {},
   "outputs": [],
   "source": [
    "n <- 1000\n",
    "\n",
    "x.init = seq(-5, 5, length.out = n)\n",
    "y.init = f(x.init)"
   ]
  },
  {
   "cell_type": "markdown",
   "id": "extended-brazilian",
   "metadata": {},
   "source": [
    "Below is the function to optimize:"
   ]
  },
  {
   "cell_type": "code",
   "execution_count": 33,
   "id": "motivated-congo",
   "metadata": {},
   "outputs": [
    {
     "data": {
      "image/png": "[encoded data removed]",
      "text/plain": [
       "plot without title"
      ]
     },
     "metadata": {
      "image/png": {
       "height": 240,
       "width": 480
      }
     },
     "output_type": "display_data"
    }
   ],
   "source": [
    "scatterplot(x.init, y.init)"
   ]
  },
  {
   "cell_type": "markdown",
   "id": "intimate-pakistan",
   "metadata": {},
   "source": [
    "To optimize this function, we define functions to fit a surrogate model and make a predict using the model fit. We use Stan to implement the surrogate model for which we use a Gaussian process."
   ]
  },
  {
   "cell_type": "code",
   "execution_count": 36,
   "id": "beginning-priority",
   "metadata": {},
   "outputs": [
    {
     "name": "stdout",
     "output_type": "stream",
     "text": [
      "functions {\n",
      "  vector gp_pred_rng(real[] x_star,\n",
      "                     vector y, real[] x,\n",
      "                     real alpha, real rho, real sigma) {\n",
      " \treal delta = 1e-10;\n",
      "    int N = size(y);\n",
      "    int N_star = size(x_star);\n",
      "    \n",
      "    vector[N_star] f2;\n",
      "    {\n",
      "      matrix[N, N] K =  cov_exp_quad(x1, alpha, rho)\n",
      "                         + diag_matrix(rep_vector(square(sigma), N));\n",
      "      matrix[N, N] L_K = cholesky_decompose(K);\n",
      "\n",
      "      vector[N] L_K_div_y1 = mdivide_left_tri_low(L_K, y1);\n",
      "      vector[N] K_div_y1 = mdivide_right_tri_low(L_K_div_y1', L_K)';\n",
      "      \n",
      "      matrix[N, N_star] k_x1_x2 = cov_exp_quad(x1, x2, alpha, rho);\n",
      "      vector[N_star] f2_mu = (k_x1_x2' * K_div_y1);\n",
      "     \n",
      "      matrix[N, N_star] v_pred = mdivide_left_tri_low(L_K, k_x1_x2);\n",
      "      matrix[N_star, N_star] cov_f2 =   cov_exp_quad(x2, alpha, rho) - v_pred' * v_pred\n",
      "                              + diag_matrix(rep_vector(delta, N_star));\n",
      "\n",
      "      f2 = multi_normal_rng(f2_mu, cov_f2);\n",
      "    }\n",
      "\n",
      "    return f2;\n",
      "  }\n",
      "}\n",
      "\n",
      "data {\n",
      "\tint<lower=1> N;\t\n",
      "\treal x[N];\n",
      "\tvector[N] y;\n",
      "\n",
      "\tint<lower=1> N_star;\n",
      "\treal x_star[N_star];\n",
      "\n",
      "\treal<lower=0> rho;\n",
      "\treal<lower=0> alpha;\n",
      "\treal<lower=0> sigma;\n",
      "}\n",
      "\n",
      "parameters {}\n",
      "\n",
      "model {}\n",
      "\n",
      "generated quantities {\n",
      "\tvector[n_star] f_star = gp_pred_rng(x_star, y, x, alpha, rho, sigma);  \n",
      "}\n"
     ]
    }
   ],
   "source": [
    "surrogate.model.file <- \"_models/bo-surrogate.stan\"\n",
    "cat(readLines(surrogate.model.file), sep=\"\\n\")"
   ]
  },
  {
   "cell_type": "code",
   "execution_count": 60,
   "id": "framed-opposition",
   "metadata": {},
   "outputs": [],
   "source": [
    "gp <- stan_model(file = surrogate.model.file)"
   ]
  },
  {
   "cell_type": "code",
   "execution_count": 162,
   "id": "white-friendship",
   "metadata": {},
   "outputs": [],
   "source": [
    "predict.gp <- function(gp, x, y, x.star) {\n",
    "    dat <- list(\n",
    "        N=length(x),\n",
    "        x=as.vector(x),\n",
    "        y=as.vector(y),\n",
    "        N_star=length(x.star),\n",
    "        x_star=x.star,\n",
    "        rho=1,\n",
    "        alpha=1,\n",
    "        sigma=1\n",
    "    )\n",
    "    \n",
    "    pred <- rstan::sampling(gp, dat, chains=1, algorithm=\"Fixed_param\", iter=1)\n",
    "\n",
    "    ext <- rstan::extract(pred)\n",
    "    f.star <- as.vector(ext$f_star)\n",
    "    f.star_var <- as.vector(ext$f_star_cov)\n",
    "    \n",
    "    \n",
    "    list(f.star, f_star_var)\n",
    "}"
   ]
  },
  {
   "cell_type": "markdown",
   "id": "common-morgan",
   "metadata": {},
   "source": [
    "As acquisition function we use the upper confidence bound."
   ]
  },
  {
   "cell_type": "code",
   "execution_count": 147,
   "id": "entertaining-violence",
   "metadata": {},
   "outputs": [],
   "source": [
    "acquisition.function <- function(gp, x.d, y.d, x.init, conf) {\n",
    "    preds <- predict.gp(gp, x.d, y.d, x.init)\n",
    "    f.star <- preds[[1]]\n",
    "    f.star_var <- preds[[2]]\n",
    "    ucb <- f.star + conf * sqrt(f.star_var)\n",
    "    ucb\n",
    "}"
   ]
  },
  {
   "cell_type": "markdown",
   "id": "comparative-campaign",
   "metadata": {},
   "source": [
    "Finally, we define a function that proposes the next point to evaluate."
   ]
  },
  {
   "cell_type": "code",
   "execution_count": 148,
   "id": "unlike-drill",
   "metadata": {},
   "outputs": [],
   "source": [
    "acquire <- function(x.d, y.d, x.init, conf=2.0) {\n",
    "    preds <- predict.gp(gp, x.d, y.d, x.init)\n",
    "    f.hat <- preds[[1]]\n",
    "    f.star_var <- preds[[2]]\n",
    "\n",
    "    ucb <- acquisition.function(gp, x.d, y.d, x.init, conf)\n",
    "    x.next <- x.init[which.max(ucb)]\n",
    "    list(x.next=x.next, ucb=ucb, f.hat=f.hat, f.star_var=f.star_var)\n",
    "}    "
   ]
  },
  {
   "cell_type": "markdown",
   "id": "copyrighted-blanket",
   "metadata": {},
   "source": [
    "We start with a random point on the interval defined above and query it against the function that we want to evaluate"
   ]
  },
  {
   "cell_type": "code",
   "execution_count": 245,
   "id": "accredited-theorem",
   "metadata": {},
   "outputs": [],
   "source": [
    "set.seed(23)\n",
    "\n",
    "x.d <- runif(2, -5, 5)\n",
    "y.d <- f(x.d)"
   ]
  },
  {
   "cell_type": "markdown",
   "id": "eligible-butler",
   "metadata": {},
   "source": [
    "Then we train the surrogate model, and use the aquisition function to propose a new point."
   ]
  },
  {
   "cell_type": "code",
   "execution_count": 246,
   "id": "color-presentation",
   "metadata": {},
   "outputs": [
    {
     "name": "stdout",
     "output_type": "stream",
     "text": [
      "\n",
      "SAMPLING FOR MODEL 'bo-surrogate' NOW (CHAIN 1).\n",
      "Chain 1: Iteration: 1 / 1 [100%]  (Sampling)\n",
      "Chain 1: \n",
      "Chain 1:  Elapsed Time: 0 seconds (Warm-up)\n",
      "Chain 1:                0.021996 seconds (Sampling)\n",
      "Chain 1:                0.021996 seconds (Total)\n",
      "Chain 1: \n",
      "\n",
      "SAMPLING FOR MODEL 'bo-surrogate' NOW (CHAIN 1).\n",
      "Chain 1: Iteration: 1 / 1 [100%]  (Sampling)\n",
      "Chain 1: \n",
      "Chain 1:  Elapsed Time: 0 seconds (Warm-up)\n",
      "Chain 1:                0.021744 seconds (Sampling)\n",
      "Chain 1:                0.021744 seconds (Total)\n",
      "Chain 1: \n"
     ]
    }
   ],
   "source": [
    "iter <- acquire(x.d, y.d, x.init)\n",
    "x.n <- iter$x.next\n",
    "ucb <- iter$ucb\n",
    "f.star <- iter$f.hat\n",
    "f.star.var <- iter$f.star_var"
   ]
  },
  {
   "cell_type": "code",
   "execution_count": 247,
   "id": "assured-carter",
   "metadata": {},
   "outputs": [
    {
     "data": {
      "image/png": "[encoded data removed]",
      "text/plain": [
       "plot without title"
      ]
     },
     "metadata": {
      "image/png": {
       "height": 240,
       "width": 480
      }
     },
     "output_type": "display_data"
    }
   ],
   "source": [
    "g <- scatterplot(x.init, y.init, f.star, f.star.var, data=data.frame(x=x.d, y=y.d))\n",
    "g + geom_line(data=data.frame(x=x.init, y=ucb), aes(x, y, color=\"black\")) +\n",
    "    geom_point(data=data.frame(x=x.n, y=max(ucb)), aes(x, y))"
   ]
  },
  {
   "cell_type": "code",
   "execution_count": null,
   "id": "choice-platinum",
   "metadata": {},
   "outputs": [],
   "source": []
  },
  {
   "cell_type": "code",
   "execution_count": 226,
   "id": "meaningful-phone",
   "metadata": {},
   "outputs": [],
   "source": [
    "y_n = f(x_n)\n",
    "\n",
    "x_d = np.vstack([x_d, x_n])\n",
    "y_d = np.vstack([y_d, y_n])\n",
    "x_n, acqs, y_hat, y_hat_var = acquire(x_d, y_d, x_init)\n",
    "\n",
    "fig, ax = plot(x_init, y_init, y_hat, y_hat_var, xy_n=[x_d, y_d])\n",
    "plt.plot(x_init, acqs, color=\"darkblue\", label=\"Acquisition function\")\n",
    "plt.scatter(\n",
    "    x_n, np.max(acqs), color=\"darkblue\", label=\"Maximum of acquisition function\"\n",
    ")\n",
    "ax.legend(loc=\"center left\", bbox_to_anchor=(1, 0.5))\n",
    "plt.show()"
   ]
  },
  {
   "cell_type": "code",
   "execution_count": null,
   "id": "viral-japanese",
   "metadata": {},
   "outputs": [],
   "source": []
  }
 ],
 "metadata": {
  "kernelspec": {
   "display_name": "R",
   "language": "R",
   "name": "ir"
  },
  "language_info": {
   "codemirror_mode": "r",
   "file_extension": ".r",
   "mimetype": "text/x-r-source",
   "name": "R",
   "pygments_lexer": "r",
   "version": "4.0.2"
  }
 },
 "nbformat": 4,
 "nbformat_minor": 5
}
