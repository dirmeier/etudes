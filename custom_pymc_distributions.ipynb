{
 "cells": [
  {
   "cell_type": "code",
   "execution_count": 1,
   "metadata": {},
   "outputs": [],
   "source": [
    "from matplotlib import pyplot as plt\n",
    "import numpy as np\n",
    "import pymc3 as pm\n",
    "import scipy as sp\n",
    "import seaborn as sns\n",
    "from theano import tensor as tt\n",
    "import pandas as pd"
   ]
  },
  {
   "cell_type": "code",
   "execution_count": 3,
   "metadata": {},
   "outputs": [],
   "source": [
    "class Error(pm.Discrete):\n",
    "    def __init__(theta, alpha, beta, *args, **kwargs):\n",
    "        super(Error, self).__init(*args, **kwargs)\n",
    "        self.theta = theta\n",
    "        self.alpha = alpha\n",
    "        self.beta = beta\n",
    "\n",
    "    def random(self, point=None, size=None):        \n",
    "        return 1\n",
    "\n",
    "    def logp(self, value):        \n",
    "        return 0"
   ]
  },
  {
   "cell_type": "code",
   "execution_count": 4,
   "metadata": {},
   "outputs": [],
   "source": [
    "def stick_breaking(beta):\n",
    "    p = tt.concatenate([[1], tt.extra_ops.cumprod(1 - beta)[:-1]])\n",
    "    return beta * p"
   ]
  },
  {
   "cell_type": "code",
   "execution_count": null,
   "metadata": {},
   "outputs": [],
   "source": [
    "with pm.Model() as model:\n",
    "    alpha = pm.Gamma('alpha', 1., 1.)\n",
    "    beta = pm.Beta('beta', 1., alpha, shape=K)\n",
    "    w = pm.Deterministic('w', stick_breaking(beta))\n",
    "\n",
    "    tau = pm.Gamma('tau', 1., 1., shape=K)\n",
    "    lambda_ = pm.Uniform('lambda', 0, 5, shape=K)\n",
    "    mu = pm.Normal('mu', 0, tau=lambda_ * tau, shape=K)\n",
    "    obs = pm.Mixture('obs', w, mu, tau=lambda_ * tau,\n",
    "                           observed=old_faithful_df.std_waiting.values)\n"
   ]
  }
 ],
 "metadata": {
  "kernelspec": {
   "display_name": "Python (ML)",
   "language": "python",
   "name": "ml"
  },
  "language_info": {
   "codemirror_mode": {
    "name": "ipython",
    "version": 3
   },
   "file_extension": ".py",
   "mimetype": "text/x-python",
   "name": "python",
   "nbconvert_exporter": "python",
   "pygments_lexer": "ipython3",
   "version": "3.6.8"
  }
 },
 "nbformat": 4,
 "nbformat_minor": 2
}
