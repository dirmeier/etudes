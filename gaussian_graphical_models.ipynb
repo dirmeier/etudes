{
 "cells": [
  {
   "cell_type": "markdown",
   "metadata": {},
   "source": [
    "# Gaussian graphical models\n",
    "\n",
    "Here, we implement the *graphical Lasso* for sparse precision matrix estimation of a Gaussian graphical model. The [graphical Lasso](https://cran.r-project.org/web/packages/glasso/index.html) was [published here](https://academic.oup.com/biostatistics/article/9/3/432/224260) by Friedman, Hastie and Tibshirani."
   ]
  },
  {
   "cell_type": "markdown",
   "metadata": {},
   "source": [
    "In Gaussian graphical models the underlying joint distribution of a random vector $Y$ is a multivariate Gaussian:\n",
    "\n",
    "\\begin{align} P(\\mathbf{y}) & \\propto \\exp \\left( -\\frac{1}{2} \\mathbf{y}^T \\boldsymbol \\Lambda \\mathbf{y} + (\\boldsymbol \\Lambda \\boldsymbol \\mu)^T \\mathbf{y} \\right), \n",
    "\\end{align}\n",
    "\n",
    "where $\\boldsymbol \\Lambda$ is the precision matrix and $\\boldsymbol \\mu$ the mean vector of the Gaussian. The undirected graph that encodes the conditional independence relations is in the Gaussian case naturally interpreted, since an existing edge $e_{ij}$ encodes that the partial correlation $\\Lambda_{ij} \\ne 0$. That means: \n",
    "\n",
    "$$ Y_i \\ \\bot \\ Y_j \\ \\mid Y_{-ij} \\Leftrightarrow \\Lambda_{ij} = 0.$$"
   ]
  },
  {
   "cell_type": "markdown",
   "metadata": {},
   "source": [
    "In order to estimate $\\boldsymbol \\Lambda$ we set up the semi-definite program: the graphical Lasso. The graphical Lasso tries to maximize the following $\\ell_1$-regularized log-likelihood: $$ \\log \\det \\boldsymbol \\Lambda - \\text{tr}(S \\boldsymbol \\Lambda) - \\alpha || \\boldsymbol \\Lambda ||_1 $$"
   ]
  },
  {
   "cell_type": "markdown",
   "metadata": {},
   "source": [
    "Let's implement this. First we load some libraries."
   ]
  },
  {
   "cell_type": "code",
   "execution_count": 1,
   "metadata": {},
   "outputs": [
    {
     "name": "stderr",
     "output_type": "stream",
     "text": [
      "Loading required package: Matrix\n",
      "Loading required package: foreach\n",
      "Loaded glmnet 2.0-16\n",
      "\n",
      "\n",
      "Attaching package: ‘dplyr’\n",
      "\n",
      "The following object is masked from ‘package:MASS’:\n",
      "\n",
      "    select\n",
      "\n",
      "The following objects are masked from ‘package:stats’:\n",
      "\n",
      "    filter, lag\n",
      "\n",
      "The following objects are masked from ‘package:base’:\n",
      "\n",
      "    intersect, setdiff, setequal, union\n",
      "\n"
     ]
    }
   ],
   "source": [
    "library(glmnet)\n",
    "library(MASS)\n",
    "library(Matrix)\n",
    "library(ggplot2)\n",
    "library(reshape2)\n",
    "library(dplyr)\n",
    "library(colorspace)"
   ]
  },
  {
   "cell_type": "markdown",
   "metadata": {},
   "source": [
    "Set up some constants like the number of samples $n$, the number of covariates $p$, the regulariztion parameter $\\lambda$ and a maximal number of iterations."
   ]
  },
  {
   "cell_type": "code",
   "execution_count": 2,
   "metadata": {},
   "outputs": [],
   "source": [
    "n <- 1000\n",
    "p <- 10\n",
    "lambda <- .1\n",
    "maxit <- 100"
   ]
  },
  {
   "cell_type": "markdown",
   "metadata": {},
   "source": [
    "Create the precision matrix $\\boldsymbol \\Lambda$."
   ]
  },
  {
   "cell_type": "code",
   "execution_count": 3,
   "metadata": {},
   "outputs": [],
   "source": [
    "set.seed(1)\n",
    "A <- rsparsematrix(p, p, 0.15, rand.x = rnorm)\n",
    "Lambda <- A %*% t(A) + 0.05 * diag(p)"
   ]
  },
  {
   "cell_type": "markdown",
   "metadata": {},
   "source": [
    "Create the covariance matrix $\\boldsymbol \\Sigma = \\boldsymbol \\Lambda^{-1}$."
   ]
  },
  {
   "cell_type": "code",
   "execution_count": 4,
   "metadata": {},
   "outputs": [],
   "source": [
    "Sigma <- as.matrix(solve(Lambda))\n",
    "Sigma <- Sigma / max(Sigma)"
   ]
  },
  {
   "cell_type": "markdown",
   "metadata": {},
   "source": [
    "Create an artificial data-set."
   ]
  },
  {
   "cell_type": "code",
   "execution_count": 5,
   "metadata": {},
   "outputs": [],
   "source": [
    "X <- MASS::mvrnorm(n, rep(0, p), Sigma)"
   ]
  },
  {
   "cell_type": "markdown",
   "metadata": {},
   "source": [
    ".. and finally this is the implementation of the graphical Lasso. It is rather easy to implement. It basically requires subsetting the current estimate of the covariance matrix $\\boldsymbol W$ and the empirical covariance $\\boldsymbol S$ and then fitting of a LASSO-model to these. We then update our estimated covariance matrix $\\boldsymbol W$. In addition we estimate a precision matrix $\\boldsymbol P = \\hat{\\boldsymbol \\Lambda}$. The original implementation is slightly different, I believe.\n",
    "\n",
    "For computing the LASSO itself, we use `glmnet`. We could implement this ourselves, too, but for efficiency and speed this suffices. For anyone interested: LASSO computes a soft-thresholded (normalized) estimate of the partial residual with every iteration and is thus not too hard to implement."
   ]
  },
  {
   "cell_type": "code",
   "execution_count": 6,
   "metadata": {},
   "outputs": [],
   "source": [
    "S <- cov(X)\n",
    "W <- S + lambda*diag(p)\n",
    "P <- diag(p)\n",
    "for (i in seq(maxit)) \n",
    "{\n",
    "    for (pi in seq(p)) \n",
    "    {\n",
    "        # Get submatrices W and S\n",
    "        W_11 <- W[-pi, -pi]\n",
    "        S_12 <- S[pi, -pi]\n",
    "        # Lasso\n",
    "        beta <- as.vector(\n",
    "            glmnet(W_11, S_12, lambda = lambda, alpha = 1)$beta\n",
    "        )\n",
    "        # update W\n",
    "        W[pi, -pi] <- W[-pi, pi] <- W_11 %*% beta\n",
    "        # update precision\n",
    "        P[pi, pi] <- 1 / (W[pi, pi] - W[-pi, pi] %*% beta)\n",
    "        P[-pi, pi] <- P[pi, -pi] <- -P[pi, pi] * beta\n",
    "    }\n",
    "}"
   ]
  },
  {
   "cell_type": "markdown",
   "metadata": {},
   "source": [
    "Let's plot what we got."
   ]
  },
  {
   "cell_type": "code",
   "execution_count": 7,
   "metadata": {},
   "outputs": [],
   "source": [
    "W     <- cbind(Type=\"Estimated Covariance\", reshape2::melt(W))\n",
    "Sigma <- cbind(Type=\"True Covariance\", reshape2::melt(Sigma))"
   ]
  },
  {
   "cell_type": "code",
   "execution_count": 8,
   "metadata": {},
   "outputs": [
    {
     "data": {},
     "metadata": {},
     "output_type": "display_data"
    },
    {
     "data": {
      "image/png": "[encoded data removed]",
      "text/plain": [
       "plot without title"
      ]
     },
     "metadata": {},
     "output_type": "display_data"
    }
   ],
   "source": [
    "options(repr.plot.width=8, repr.plot.height=3)\n",
    "rbind(W, Sigma) %>%\n",
    "    ggplot() +\n",
    "    geom_tile(aes(Var1, Var2, fill=value), color=\"black\") +\n",
    "    scale_fill_continuous_diverging(name=\"Covariance\", mid=0) +\n",
    "    facet_grid(. ~ Type) +\n",
    "    scale_x_continuous(\"\", expand=c(0,0)) +\n",
    "    scale_y_continuous(\"\", expand=c(0,0)) +\n",
    "    theme_minimal() +\n",
    "    theme(axis.text = element_blank(),\n",
    "          axis.ticks = element_blank())"
   ]
  },
  {
   "cell_type": "markdown",
   "metadata": {},
   "source": [
    "Doesn't look to bad, but we have dealt with a very easy scenario with a lot of data and hardly any regularization needed."
   ]
  }
 ],
 "metadata": {
  "kernelspec": {
   "display_name": "R",
   "language": "R",
   "name": "ir"
  },
  "language_info": {
   "codemirror_mode": "r",
   "file_extension": ".r",
   "mimetype": "text/x-r-source",
   "name": "R",
   "pygments_lexer": "r",
   "version": "4.0.0"
  }
 },
 "nbformat": 4,
 "nbformat_minor": 2
}
