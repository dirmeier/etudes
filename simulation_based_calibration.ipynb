{
 "cells": [
  {
   "cell_type": "markdown",
   "metadata": {},
   "source": [
    "# Simulation-based calibration\n",
    "\n",
    "\n",
    "[Simulation-based calibration](https://arxiv.org/abs/1804.06788) (SBC) is a method for visually validating Bayesian inferences. SBC is useful for detection of either misspecified models, inaccurate computation or bugs in the \n",
    "implementation of a probabilistic program.\n",
    "\n",
    "Consider a generative model:\n",
    "\n",
    "\\begin{align}\n",
    "\\tilde{\\theta} & \\sim P(\\theta) \\\\\n",
    "\\tilde{y} & \\sim P(y \\mid \\tilde{\\theta}) \\\\\n",
    "\\{ \\theta_1, \\dots, \\theta_L \\} & \\sim P(\\theta \\mid \\tilde{y})\n",
    "\\end{align}\n",
    "\n",
    "Integrating the posterior samples (if they are correct) over the joint distributions gives us back the prior\n",
    "\n",
    "\\begin{align}\n",
    "\\tilde{\\theta} & \\sim P(\\theta) \\\\\n",
    "\\tilde{y} & \\sim P(y \\mid \\tilde{\\theta}) \\\\\n",
    "\\{ \\theta_1, \\dots, \\theta_L \\} & \\sim P(\\theta \\mid \\tilde{y})\n",
    "\\end{align}"
   ]
  },
  {
   "cell_type": "code",
   "execution_count": null,
   "metadata": {},
   "outputs": [],
   "source": []
  }
 ],
 "metadata": {
  "kernelspec": {
   "display_name": "R 3.5",
   "language": "R",
   "name": "ir35"
  },
  "language_info": {
   "codemirror_mode": "r",
   "file_extension": ".r",
   "mimetype": "text/x-r-source",
   "name": "R",
   "pygments_lexer": "r",
   "version": "3.5.1"
  }
 },
 "nbformat": 4,
 "nbformat_minor": 2
}
