{
 "cells": [
  {
   "cell_type": "code",
   "execution_count": 2,
   "metadata": {},
   "outputs": [],
   "source": [
    "import matplotlib.pyplot as plt\n",
    "import numpy as np\n",
    "import seaborn as sns\n",
    "\n",
    "import tensorflow as tf\n",
    "import tensorflow_probability as tfp\n",
    "from tensorflow_probability import edward2 as ed\n",
    "import warnings"
   ]
  },
  {
   "cell_type": "code",
   "execution_count": 4,
   "metadata": {},
   "outputs": [],
   "source": [
    "import numpy as np\n",
    "import tensorflow as tf\n",
    "from tensorflow_probability.python.distributions import distribution\n",
    "from tensorflow_probability.python.internal import distribution_util\n",
    "from tensorflow_probability.python.internal import dtype_util\n",
    "from tensorflow_probability.python.internal import reparameterization"
   ]
  },
  {
   "cell_type": "code",
   "execution_count": 16,
   "metadata": {},
   "outputs": [],
   "source": [
    "class Constant(distribution.Distribution):\n",
    "    def __init__(self, name=\"Constant\"):        \n",
    "        super(Constant, self).__init__(name=name, \n",
    "                                       dtype=tf.float64,\n",
    "                                       validate_args=False,\n",
    "                                       allow_nan_stats=True,\n",
    "                                       reparameterization_type=reparameterization.NOT_REPARAMETERIZED)\n",
    "\n",
    "    def _log_prob(self, x):\n",
    "        return 0\n",
    "\n",
    "    def _log_cdf(self, x):\n",
    "        return 0\n",
    "    \n",
    "    def _sample_n(self, n, seed=None):\n",
    "        return tf.zeros(shape=n)"
   ]
  },
  {
   "cell_type": "code",
   "execution_count": 87,
   "metadata": {},
   "outputs": [],
   "source": [
    "def model():\n",
    "    x = ed.RandomVariable(Constant())\n",
    "    y = ed.Normal(x, 1, name=\"y\")"
   ]
  },
  {
   "cell_type": "code",
   "execution_count": 88,
   "metadata": {},
   "outputs": [],
   "source": [
    "def joint(x, y):\n",
    "    log_joint =  ed.make_log_joint_fn(model) \n",
    "    return log_joint(x=x, y=y)"
   ]
  },
  {
   "cell_type": "code",
   "execution_count": 92,
   "metadata": {},
   "outputs": [
    {
     "ename": "TypeError",
     "evalue": "__init__() missing 1 required positional argument: 'target_log_prob_fn'",
     "output_type": "error",
     "traceback": [
      "\u001b[0;31m---------------------------------------------------------------------------\u001b[0m",
      "\u001b[0;31mTypeError\u001b[0m                                 Traceback (most recent call last)",
      "\u001b[0;32m<ipython-input-92-d21a3ac94d4d>\u001b[0m in \u001b[0;36m<module>\u001b[0;34m\u001b[0m\n\u001b[1;32m      9\u001b[0m         \u001b[0mtf\u001b[0m\u001b[0;34m.\u001b[0m\u001b[0mzeros\u001b[0m\u001b[0;34m(\u001b[0m\u001b[0;34m[\u001b[0m\u001b[0;34m]\u001b[0m\u001b[0;34m,\u001b[0m \u001b[0mname\u001b[0m\u001b[0;34m=\u001b[0m\u001b[0;34m'y1'\u001b[0m\u001b[0;34m)\u001b[0m\u001b[0;34m\u001b[0m\u001b[0;34m\u001b[0m\u001b[0m\n\u001b[1;32m     10\u001b[0m     ],\n\u001b[0;32m---> 11\u001b[0;31m     kernel=tfp.mcmc.RandomWalkMetropolis())\n\u001b[0m",
      "\u001b[0;31mTypeError\u001b[0m: __init__() missing 1 required positional argument: 'target_log_prob_fn'"
     ]
    }
   ],
   "source": [
    "num_results = 5000\n",
    "num_burnin_steps = 3000\n",
    "\n",
    "states, kernel_results = tfp.mcmc.sample_chain(\n",
    "    num_results=num_results,\n",
    "    num_burnin_steps=num_burnin_steps,\n",
    "    current_state=[\n",
    "        tf.zeros([], name='x1'),\n",
    "        tf.zeros([], name='y1')\n",
    "    ],\n",
    "    kernel=tfp.mcmc.Me())"
   ]
  },
  {
   "cell_type": "code",
   "execution_count": 72,
   "metadata": {},
   "outputs": [
    {
     "name": "stderr",
     "output_type": "stream",
     "text": [
      "/home/simon/miniconda3/envs/tensorflow/lib/python3.6/site-packages/numpy/lib/type_check.py:546: DeprecationWarning: np.asscalar(a) is deprecated since NumPy v1.16, use a.item() instead\n",
      "  'a.item() instead', DeprecationWarning, stacklevel=1)\n"
     ]
    }
   ],
   "source": [
    "states, kernel_results = tfp.mcmc.sample_chain(\n",
    "    num_results=100,\n",
    "    num_burnin_steps=100,\n",
    "    current_state=[\n",
    "        tf.zeros([], name='init_avg_effect')\n",
    "    ],\n",
    "    kernel=tfp.mcmc.MetropolisHastings(\n",
    "    tfp.mcmc.UncalibratedHamiltonianMonteCarlo(\n",
    "        target_log_prob_fn=lambda x: -x - x**2,\n",
    "        step_size=0.1,\n",
    "        num_leapfrog_steps=3)))"
   ]
  },
  {
   "cell_type": "code",
   "execution_count": 73,
   "metadata": {},
   "outputs": [],
   "source": [
    "init_avg_effect  = states"
   ]
  },
  {
   "cell_type": "code",
   "execution_count": 74,
   "metadata": {},
   "outputs": [],
   "source": [
    "with tf.Session() as sess:\n",
    "  [\n",
    "         init_avg_effect_,\n",
    "      is_accepted_,\n",
    "  ] = sess.run([\n",
    "      init_avg_effect,     \n",
    "      kernel_results.is_accepted\n",
    "  ])"
   ]
  },
  {
   "cell_type": "code",
   "execution_count": 75,
   "metadata": {},
   "outputs": [
    {
     "data": {
      "text/plain": [
       "[array([-0.57153326, -0.42169446, -0.21875943, -0.21651788, -0.5240787 ,\n",
       "        -0.61782634, -0.6855886 , -0.8629459 , -1.3405784 , -1.0971452 ,\n",
       "        -1.2420467 , -0.86934066, -0.49931645, -0.3757949 ,  0.11800686,\n",
       "         0.1409323 , -0.05767936, -0.13410403, -0.22536881, -0.4676463 ,\n",
       "        -0.140457  , -0.11303421, -0.12927218, -0.3607694 ,  0.2757895 ,\n",
       "         0.42137575, -0.37745687, -0.25776744, -0.01182785, -0.2177423 ,\n",
       "        -0.496884  , -0.15023685, -0.69865286, -0.9575068 , -0.9502926 ,\n",
       "        -0.76831824, -0.72301507, -0.6610129 , -0.5886413 , -0.61074877,\n",
       "        -0.68204176, -0.5844968 , -0.41008902, -0.64495814, -1.0563143 ,\n",
       "        -0.83192503, -0.97529376, -0.6941219 ,  0.15230492,  0.07676874,\n",
       "         0.37041733,  0.0668562 ,  0.06954142,  0.298021  ,  0.1578378 ,\n",
       "         0.61161387,  0.59987307,  0.62318325,  1.0484128 ,  0.6270744 ,\n",
       "         0.5257303 ,  0.7160263 ,  0.92825025,  0.30353218,  0.1072963 ,\n",
       "         0.23547137,  0.5468046 ,  0.7477072 ,  0.63639635,  0.6389134 ,\n",
       "         0.6913882 ,  0.95902246,  0.9432884 ,  0.90223646,  0.76901066,\n",
       "         0.31832314, -0.03734111, -0.7177789 , -0.88708955, -0.82478046,\n",
       "        -1.0193828 , -0.41618043, -0.18494272, -0.34948176, -0.31008548,\n",
       "         0.15902507, -0.08299393,  0.36488253,  0.46603093,  0.28256467,\n",
       "        -0.10532239, -0.07753916, -0.35576117, -0.14753994,  0.07697917,\n",
       "        -0.5942727 , -0.50005853, -0.46088856, -0.37762332, -0.44082987],\n",
       "       dtype=float32)]"
      ]
     },
     "execution_count": 75,
     "metadata": {},
     "output_type": "execute_result"
    }
   ],
   "source": [
    "init_avg_effect_"
   ]
  },
  {
   "cell_type": "code",
   "execution_count": null,
   "metadata": {},
   "outputs": [],
   "source": []
  }
 ],
 "metadata": {
  "kernelspec": {
   "display_name": "Python (TF)",
   "language": "python",
   "name": "python3"
  },
  "language_info": {
   "codemirror_mode": {
    "name": "ipython",
    "version": 3
   },
   "file_extension": ".py",
   "mimetype": "text/x-python",
   "name": "python",
   "nbconvert_exporter": "python",
   "pygments_lexer": "ipython3",
   "version": "3.6.7"
  }
 },
 "nbformat": 4,
 "nbformat_minor": 2
}
